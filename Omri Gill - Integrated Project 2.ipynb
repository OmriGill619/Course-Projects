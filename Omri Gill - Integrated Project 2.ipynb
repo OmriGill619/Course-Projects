{
 "cells": [
  {
   "cell_type": "markdown",
   "metadata": {},
   "source": [
    "Hello!\n",
    "My name is Ekaterina. I'm happy to review your project today.\n",
    "When I will see mistake at the first time, I will just point it out. I let you find it and fix it by \n",
    "yourself. I'm trying to prepare you to work as an Data Analyst. SO, at a real job, your team lead \n",
    "will do the same. But if you can't handle this task yet, I will give you a more accurate hint at the \n",
    "next iteration.\n",
    "You will find my comments below - please do not move, modify or delete them.\n",
    "You can find my comments in green, yellow or red boxes like this:\n",
    "<div class=\"alert alert-block alert-success\"> <b>Reviewer's comment</b> <a \n",
    "class=\"tocSkip\"></a>\n",
    "Success. Everything is done succesfully. </div>\n",
    "<div class=\"alert alert-block alert-warning\"> <b>Reviewer's comment</b> <a \n",
    "class=\"tocSkip\"></a>\n",
    "Remarks. Some recommendations. </div>\n",
    "<div class=\"alert alert-block alert-danger\">\n",
    "<b>Reviewer's comment</b> <a class=\"tocSkip\"></a>\n",
    "Needs fixing. The block requires some corrections. Work can't be accepted with the red \n",
    "comments. </div>\n",
    "You can answer me by using this:\n",
    "<div class=\"alert alert-block alert-info\"> <b>Student answer.</b> <a class=\"tocSkip\"></a> \n",
    "</div>\n",
    "\n",
    "\n",
    "**Keep in mind that the project will be accepted only when all the “red” issues are resolved.**"
   ]
  },
  {
   "cell_type": "markdown",
   "metadata": {},
   "source": [
    "<div class=\"alert alert-block alert-success\">\n",
    "    \n",
    "<b>**General feedback**</b> <a class=\"tocSkip\"></a>\n",
    "    \n",
    "1 Thank you for submitting your project!\n",
    "\n",
    "2 There are things you've done great, here is what I liked most:\n",
    "- good graphs in a consistent style.\n",
    "- you have always followed the steps described in the task.\n",
    "- nice primary data preprocessing\n",
    "\n",
    "\n",
    "<span class=\"text-danger\"> \n",
    "    \n",
    "3 There are important issues that need to be solved:\n",
    "    \n",
    "  - check data for duplicates\n",
    "  - create funnel graphs\n",
    "  - use statistical z-test for checking the results of AB-test\n",
    "</span>\n",
    "    \n",
    "I've left some other comments throughout the text, but in general the project is good and I have no doubt you'll make it perfect by the next iteration. Good luck!\n",
    "</div>"
   ]
  },
  {
   "cell_type": "markdown",
   "metadata": {},
   "source": [
    "<div class=\"alert alert-block alert-success\">\n",
    "    \n",
    "<b>**General feedback v2**</b> <a class=\"tocSkip\"></a>\n",
    "    \n",
    "Your corrections look great, you've improved your work significantly!\n",
    "\n",
    "<span class=\"text-danger\"> \n",
    "However, I have just one tiny correction to help you with\n",
    "- it remains for us to calculate the results of the AB test, given that we conducted a multiple comparison.\n",
    "</span>\n",
    "    \n",
    "One more time and you'll have it!\n",
    "</div>"
   ]
  },
  {
   "cell_type": "markdown",
   "metadata": {},
   "source": [
    "<div class=\"alert alert-block alert-success\">\n",
    "    \n",
    "<b>**General feedback v3**</b> <a class=\"tocSkip\"></a>\n",
    "    \n",
    "Thank you for your corrections!\n",
    "    \n",
    "Your project has passed code review.\n",
    "    \n",
    "Keep up the good work, and good luck on the next sprint!\n",
    "</div>"
   ]
  },
  {
   "cell_type": "markdown",
   "metadata": {},
   "source": [
    "<div class=\"alert alert-info\"; style=\"border-left: 7px solid blue\">\n",
    "<b>Student's comment</b>\n",
    "    \n",
    "**Integrated Project 2 - Student Project**"
   ]
  },
  {
   "cell_type": "markdown",
   "metadata": {},
   "source": [
    "<div class=\"alert alert-info\"; style=\"border-left: 7px solid blue\">\n",
    "<b>Student's comment</b>\n",
    "    \n",
    "**Project Description:**\n",
    "\n",
    "You work at a startup that sells food products. You need to investigate user behavior for the company's app.\n",
    "\n",
    "First study the sales funnel. Find out how users reach the purchase stage. How many users actually make it to this stage? How many get stuck at previous stages? Which stages in particular?\n",
    "\n",
    "Then look at the results of an A/A/B test. (Read on for more information about A/A/B testing.) The designers would like to change the fonts for the entire app, but the managers are afraid the users might find the new design intimidating. They decide to make a decision based on the results of an A/A/B test.\n",
    "\n",
    "The users are split into three groups: two control groups get the old fonts and one test group gets the new ones. Find out which set of fonts produces better results.\n",
    "\n",
    "Creating two A groups has certain advantages. We can make it a principle that we will only be confident in the accuracy of our testing when the two control groups are similar. If there are significant differences between the A groups, this can help us uncover factors that may be distorting the results. Comparing control groups also tells us how much time and data we'll need when running further tests.\n",
    "\n",
    "You'll be using the same dataset for general analytics and for A/A/B analysis. In real projects, experiments are constantly being conducted. Analysts study the quality of an app using general data, without paying attention to whether users are participating in experiments."
   ]
  },
  {
   "cell_type": "markdown",
   "metadata": {},
   "source": [
    "<div class=\"alert alert-block alert-success\"> <b>Reviewer's comment</b> <a \n",
    "class=\"tocSkip\"></a>\n",
    "Good project description </div>"
   ]
  },
  {
   "cell_type": "markdown",
   "metadata": {},
   "source": [
    "<div class=\"alert alert-info\"; style=\"border-left: 7px solid blue\">\n",
    "<b>Student's comment</b>\n",
    "    \n",
    "**Instructions for completing the project:**\n",
    "    \n",
    "**Step 1. Open the data file and read the general information**"
   ]
  },
  {
   "cell_type": "code",
   "execution_count": 114,
   "metadata": {},
   "outputs": [],
   "source": [
    "import pandas as pd\n",
    "import numpy as np\n",
    "import math\n",
    "import seaborn as sns\n",
    "from matplotlib import pyplot as plt\n",
    "import datetime as dt\n",
    "import scipy.stats as stats\n",
    "from scipy.stats import ttest_ind\n",
    "from scipy import stats as st\n",
    "import matplotlib.pyplot as plt\n",
    "import datetime as dt\n",
    "from collections import Counter"
   ]
  },
  {
   "cell_type": "code",
   "execution_count": 115,
   "metadata": {},
   "outputs": [
    {
     "name": "stdout",
     "output_type": "stream",
     "text": [
      "<class 'pandas.core.frame.DataFrame'>\n",
      "RangeIndex: 244126 entries, 0 to 244125\n",
      "Data columns (total 1 columns):\n",
      " #   Column                                       Non-Null Count   Dtype \n",
      "---  ------                                       --------------   ----- \n",
      " 0   EventName\tDeviceIDHash\tEventTimestamp\tExpId  244126 non-null  object\n",
      "dtypes: object(1)\n",
      "memory usage: 1.9+ MB\n"
     ]
    }
   ],
   "source": [
    "data = pd.read_csv('/datasets/logs_exp_us.csv')\n",
    "pd.set_option('display.max_colwidth', None)\n",
    "data.info()"
   ]
  },
  {
   "cell_type": "code",
   "execution_count": 116,
   "metadata": {},
   "outputs": [
    {
     "data": {
      "text/html": [
       "<div>\n",
       "<style scoped>\n",
       "    .dataframe tbody tr th:only-of-type {\n",
       "        vertical-align: middle;\n",
       "    }\n",
       "\n",
       "    .dataframe tbody tr th {\n",
       "        vertical-align: top;\n",
       "    }\n",
       "\n",
       "    .dataframe thead th {\n",
       "        text-align: right;\n",
       "    }\n",
       "</style>\n",
       "<table border=\"1\" class=\"dataframe\">\n",
       "  <thead>\n",
       "    <tr style=\"text-align: right;\">\n",
       "      <th></th>\n",
       "      <th>EventName\\tDeviceIDHash\\tEventTimestamp\\tExpId</th>\n",
       "    </tr>\n",
       "  </thead>\n",
       "  <tbody>\n",
       "    <tr>\n",
       "      <th>0</th>\n",
       "      <td>MainScreenAppear\\t4575588528974610257\\t1564029816\\t246</td>\n",
       "    </tr>\n",
       "    <tr>\n",
       "      <th>1</th>\n",
       "      <td>MainScreenAppear\\t7416695313311560658\\t1564053102\\t246</td>\n",
       "    </tr>\n",
       "    <tr>\n",
       "      <th>2</th>\n",
       "      <td>PaymentScreenSuccessful\\t3518123091307005509\\t1564054127\\t248</td>\n",
       "    </tr>\n",
       "    <tr>\n",
       "      <th>3</th>\n",
       "      <td>CartScreenAppear\\t3518123091307005509\\t1564054127\\t248</td>\n",
       "    </tr>\n",
       "    <tr>\n",
       "      <th>4</th>\n",
       "      <td>PaymentScreenSuccessful\\t6217807653094995999\\t1564055322\\t248</td>\n",
       "    </tr>\n",
       "    <tr>\n",
       "      <th>...</th>\n",
       "      <td>...</td>\n",
       "    </tr>\n",
       "    <tr>\n",
       "      <th>244121</th>\n",
       "      <td>MainScreenAppear\\t4599628364049201812\\t1565212345\\t247</td>\n",
       "    </tr>\n",
       "    <tr>\n",
       "      <th>244122</th>\n",
       "      <td>MainScreenAppear\\t5849806612437486590\\t1565212439\\t246</td>\n",
       "    </tr>\n",
       "    <tr>\n",
       "      <th>244123</th>\n",
       "      <td>MainScreenAppear\\t5746969938801999050\\t1565212483\\t246</td>\n",
       "    </tr>\n",
       "    <tr>\n",
       "      <th>244124</th>\n",
       "      <td>MainScreenAppear\\t5746969938801999050\\t1565212498\\t246</td>\n",
       "    </tr>\n",
       "    <tr>\n",
       "      <th>244125</th>\n",
       "      <td>OffersScreenAppear\\t5746969938801999050\\t1565212517\\t246</td>\n",
       "    </tr>\n",
       "  </tbody>\n",
       "</table>\n",
       "<p>244126 rows × 1 columns</p>\n",
       "</div>"
      ],
      "text/plain": [
       "                       EventName\\tDeviceIDHash\\tEventTimestamp\\tExpId\n",
       "0              MainScreenAppear\\t4575588528974610257\\t1564029816\\t246\n",
       "1              MainScreenAppear\\t7416695313311560658\\t1564053102\\t246\n",
       "2       PaymentScreenSuccessful\\t3518123091307005509\\t1564054127\\t248\n",
       "3              CartScreenAppear\\t3518123091307005509\\t1564054127\\t248\n",
       "4       PaymentScreenSuccessful\\t6217807653094995999\\t1564055322\\t248\n",
       "...                                                               ...\n",
       "244121         MainScreenAppear\\t4599628364049201812\\t1565212345\\t247\n",
       "244122         MainScreenAppear\\t5849806612437486590\\t1565212439\\t246\n",
       "244123         MainScreenAppear\\t5746969938801999050\\t1565212483\\t246\n",
       "244124         MainScreenAppear\\t5746969938801999050\\t1565212498\\t246\n",
       "244125       OffersScreenAppear\\t5746969938801999050\\t1565212517\\t246\n",
       "\n",
       "[244126 rows x 1 columns]"
      ]
     },
     "execution_count": 116,
     "metadata": {},
     "output_type": "execute_result"
    }
   ],
   "source": [
    "data"
   ]
  },
  {
   "cell_type": "markdown",
   "metadata": {},
   "source": [
    "<div class=\"alert alert-info\"; style=\"border-left: 7px solid blue\">\n",
    "<b>Student's comment</b>\n",
    "    \n",
    "**Instructions for completing the project:**\n",
    "    \n",
    "**Step 2. Prepare the data for analysis**\n",
    " \n",
    "* Rename the columns in a way that's convenient for you.\n",
    "    \n",
    "* Check for missing values and data types. Correct the data if needed.\n",
    "    \n",
    "* Add a date and time column and a separate column for dates."
   ]
  },
  {
   "cell_type": "markdown",
   "metadata": {},
   "source": [
    "<div class=\"alert alert-info\"; style=\"border-left: 7px solid blue\">\n",
    "<b>Student's comment</b>\n",
    "    \n",
    "Our first step for preparing the data would be to separate all the data from 1 column into 4 columns."
   ]
  },
  {
   "cell_type": "code",
   "execution_count": 117,
   "metadata": {},
   "outputs": [
    {
     "data": {
      "text/html": [
       "<div>\n",
       "<style scoped>\n",
       "    .dataframe tbody tr th:only-of-type {\n",
       "        vertical-align: middle;\n",
       "    }\n",
       "\n",
       "    .dataframe tbody tr th {\n",
       "        vertical-align: top;\n",
       "    }\n",
       "\n",
       "    .dataframe thead th {\n",
       "        text-align: right;\n",
       "    }\n",
       "</style>\n",
       "<table border=\"1\" class=\"dataframe\">\n",
       "  <thead>\n",
       "    <tr style=\"text-align: right;\">\n",
       "      <th></th>\n",
       "      <th>event_name</th>\n",
       "      <th>device_id_hash</th>\n",
       "      <th>event_timestamp</th>\n",
       "      <th>exp_id</th>\n",
       "    </tr>\n",
       "  </thead>\n",
       "  <tbody>\n",
       "    <tr>\n",
       "      <th>0</th>\n",
       "      <td>MainScreenAppear</td>\n",
       "      <td>4575588528974610257</td>\n",
       "      <td>1564029816</td>\n",
       "      <td>246</td>\n",
       "    </tr>\n",
       "    <tr>\n",
       "      <th>1</th>\n",
       "      <td>MainScreenAppear</td>\n",
       "      <td>7416695313311560658</td>\n",
       "      <td>1564053102</td>\n",
       "      <td>246</td>\n",
       "    </tr>\n",
       "    <tr>\n",
       "      <th>2</th>\n",
       "      <td>PaymentScreenSuccessful</td>\n",
       "      <td>3518123091307005509</td>\n",
       "      <td>1564054127</td>\n",
       "      <td>248</td>\n",
       "    </tr>\n",
       "    <tr>\n",
       "      <th>3</th>\n",
       "      <td>CartScreenAppear</td>\n",
       "      <td>3518123091307005509</td>\n",
       "      <td>1564054127</td>\n",
       "      <td>248</td>\n",
       "    </tr>\n",
       "    <tr>\n",
       "      <th>4</th>\n",
       "      <td>PaymentScreenSuccessful</td>\n",
       "      <td>6217807653094995999</td>\n",
       "      <td>1564055322</td>\n",
       "      <td>248</td>\n",
       "    </tr>\n",
       "    <tr>\n",
       "      <th>...</th>\n",
       "      <td>...</td>\n",
       "      <td>...</td>\n",
       "      <td>...</td>\n",
       "      <td>...</td>\n",
       "    </tr>\n",
       "    <tr>\n",
       "      <th>244121</th>\n",
       "      <td>MainScreenAppear</td>\n",
       "      <td>4599628364049201812</td>\n",
       "      <td>1565212345</td>\n",
       "      <td>247</td>\n",
       "    </tr>\n",
       "    <tr>\n",
       "      <th>244122</th>\n",
       "      <td>MainScreenAppear</td>\n",
       "      <td>5849806612437486590</td>\n",
       "      <td>1565212439</td>\n",
       "      <td>246</td>\n",
       "    </tr>\n",
       "    <tr>\n",
       "      <th>244123</th>\n",
       "      <td>MainScreenAppear</td>\n",
       "      <td>5746969938801999050</td>\n",
       "      <td>1565212483</td>\n",
       "      <td>246</td>\n",
       "    </tr>\n",
       "    <tr>\n",
       "      <th>244124</th>\n",
       "      <td>MainScreenAppear</td>\n",
       "      <td>5746969938801999050</td>\n",
       "      <td>1565212498</td>\n",
       "      <td>246</td>\n",
       "    </tr>\n",
       "    <tr>\n",
       "      <th>244125</th>\n",
       "      <td>OffersScreenAppear</td>\n",
       "      <td>5746969938801999050</td>\n",
       "      <td>1565212517</td>\n",
       "      <td>246</td>\n",
       "    </tr>\n",
       "  </tbody>\n",
       "</table>\n",
       "<p>244126 rows × 4 columns</p>\n",
       "</div>"
      ],
      "text/plain": [
       "                     event_name       device_id_hash event_timestamp exp_id\n",
       "0              MainScreenAppear  4575588528974610257      1564029816    246\n",
       "1              MainScreenAppear  7416695313311560658      1564053102    246\n",
       "2       PaymentScreenSuccessful  3518123091307005509      1564054127    248\n",
       "3              CartScreenAppear  3518123091307005509      1564054127    248\n",
       "4       PaymentScreenSuccessful  6217807653094995999      1564055322    248\n",
       "...                         ...                  ...             ...    ...\n",
       "244121         MainScreenAppear  4599628364049201812      1565212345    247\n",
       "244122         MainScreenAppear  5849806612437486590      1565212439    246\n",
       "244123         MainScreenAppear  5746969938801999050      1565212483    246\n",
       "244124         MainScreenAppear  5746969938801999050      1565212498    246\n",
       "244125       OffersScreenAppear  5746969938801999050      1565212517    246\n",
       "\n",
       "[244126 rows x 4 columns]"
      ]
     },
     "execution_count": 117,
     "metadata": {},
     "output_type": "execute_result"
    }
   ],
   "source": [
    "data['Data'] = data['EventName\\tDeviceIDHash\\tEventTimestamp\\tExpId']\n",
    "\n",
    "split_data = data['Data'].str.split('\\t', n=3, expand=True)\n",
    "split_data.columns = ['event_name', 'device_id_hash', 'event_timestamp', 'exp_id']\n",
    "new_df = pd.concat([split_data], axis=1)\n",
    "new_df"
   ]
  },
  {
   "cell_type": "markdown",
   "metadata": {},
   "source": [
    "<div class=\"alert alert-block alert-warning\"> <b>Reviewer's comment</b> <a \n",
    "class=\"tocSkip\"></a>\n",
    "It's great that you separated the data by columns. However, this can be done more simply. Tabs were used as a separator when recording. So when opening csv we use this separator\n",
    "    \n",
    "    pd.read_csv('/datasets/logs_exp_us.csv',sep='\\t')\n",
    "    \n",
    "    \n",
    "\n",
    "\n",
    "</div>"
   ]
  },
  {
   "cell_type": "code",
   "execution_count": 118,
   "metadata": {},
   "outputs": [
    {
     "data": {
      "text/plain": [
       "0         1564029816\n",
       "1         1564053102\n",
       "2         1564054127\n",
       "3         1564054127\n",
       "4         1564055322\n",
       "             ...    \n",
       "244121    1565212345\n",
       "244122    1565212439\n",
       "244123    1565212483\n",
       "244124    1565212498\n",
       "244125    1565212517\n",
       "Name: event_timestamp, Length: 244126, dtype: object"
      ]
     },
     "execution_count": 118,
     "metadata": {},
     "output_type": "execute_result"
    }
   ],
   "source": [
    "new_df['event_timestamp']"
   ]
  },
  {
   "cell_type": "markdown",
   "metadata": {},
   "source": [
    "<div class=\"alert alert-info\"; style=\"border-left: 7px solid blue\">\n",
    "<b>Student's comment</b>\n",
    "    \n",
    "Now we can work on changing the column types."
   ]
  },
  {
   "cell_type": "code",
   "execution_count": 119,
   "metadata": {},
   "outputs": [
    {
     "name": "stdout",
     "output_type": "stream",
     "text": [
      "<class 'pandas.core.frame.DataFrame'>\n",
      "RangeIndex: 244126 entries, 0 to 244125\n",
      "Data columns (total 4 columns):\n",
      " #   Column           Non-Null Count   Dtype \n",
      "---  ------           --------------   ----- \n",
      " 0   event_name       244126 non-null  object\n",
      " 1   device_id_hash   244126 non-null  object\n",
      " 2   event_timestamp  244126 non-null  object\n",
      " 3   exp_id           244126 non-null  object\n",
      "dtypes: object(4)\n",
      "memory usage: 7.5+ MB\n"
     ]
    }
   ],
   "source": [
    "new_df.info()"
   ]
  },
  {
   "cell_type": "code",
   "execution_count": 120,
   "metadata": {},
   "outputs": [],
   "source": [
    "new_df['device_id_hash'] = new_df['device_id_hash'].astype('int64')\n",
    "new_df['exp_id'] = new_df['exp_id'].astype('int64')\n",
    "new_df['event_timestamp'] = pd.to_datetime(new_df['event_timestamp'], unit='s')"
   ]
  },
  {
   "cell_type": "code",
   "execution_count": 121,
   "metadata": {},
   "outputs": [
    {
     "name": "stdout",
     "output_type": "stream",
     "text": [
      "<class 'pandas.core.frame.DataFrame'>\n",
      "RangeIndex: 244126 entries, 0 to 244125\n",
      "Data columns (total 4 columns):\n",
      " #   Column           Non-Null Count   Dtype         \n",
      "---  ------           --------------   -----         \n",
      " 0   event_name       244126 non-null  object        \n",
      " 1   device_id_hash   244126 non-null  int64         \n",
      " 2   event_timestamp  244126 non-null  datetime64[ns]\n",
      " 3   exp_id           244126 non-null  int64         \n",
      "dtypes: datetime64[ns](1), int64(2), object(1)\n",
      "memory usage: 7.5+ MB\n"
     ]
    }
   ],
   "source": [
    "new_df.info()"
   ]
  },
  {
   "cell_type": "markdown",
   "metadata": {},
   "source": [
    "<div class=\"alert alert-block alert-success\"> <b>Reviewer's comment</b> <a \n",
    "class=\"tocSkip\"></a>\n",
    "Excellent type conversion </div>"
   ]
  },
  {
   "cell_type": "code",
   "execution_count": 122,
   "metadata": {},
   "outputs": [
    {
     "data": {
      "text/html": [
       "<div>\n",
       "<style scoped>\n",
       "    .dataframe tbody tr th:only-of-type {\n",
       "        vertical-align: middle;\n",
       "    }\n",
       "\n",
       "    .dataframe tbody tr th {\n",
       "        vertical-align: top;\n",
       "    }\n",
       "\n",
       "    .dataframe thead th {\n",
       "        text-align: right;\n",
       "    }\n",
       "</style>\n",
       "<table border=\"1\" class=\"dataframe\">\n",
       "  <thead>\n",
       "    <tr style=\"text-align: right;\">\n",
       "      <th></th>\n",
       "      <th>event_name</th>\n",
       "      <th>user_id</th>\n",
       "      <th>event_timestamp</th>\n",
       "      <th>group_id</th>\n",
       "    </tr>\n",
       "  </thead>\n",
       "  <tbody>\n",
       "    <tr>\n",
       "      <th>0</th>\n",
       "      <td>MainScreenAppear</td>\n",
       "      <td>4575588528974610257</td>\n",
       "      <td>2019-07-25 04:43:36</td>\n",
       "      <td>246</td>\n",
       "    </tr>\n",
       "    <tr>\n",
       "      <th>1</th>\n",
       "      <td>MainScreenAppear</td>\n",
       "      <td>7416695313311560658</td>\n",
       "      <td>2019-07-25 11:11:42</td>\n",
       "      <td>246</td>\n",
       "    </tr>\n",
       "    <tr>\n",
       "      <th>2</th>\n",
       "      <td>PaymentScreenSuccessful</td>\n",
       "      <td>3518123091307005509</td>\n",
       "      <td>2019-07-25 11:28:47</td>\n",
       "      <td>248</td>\n",
       "    </tr>\n",
       "    <tr>\n",
       "      <th>3</th>\n",
       "      <td>CartScreenAppear</td>\n",
       "      <td>3518123091307005509</td>\n",
       "      <td>2019-07-25 11:28:47</td>\n",
       "      <td>248</td>\n",
       "    </tr>\n",
       "    <tr>\n",
       "      <th>4</th>\n",
       "      <td>PaymentScreenSuccessful</td>\n",
       "      <td>6217807653094995999</td>\n",
       "      <td>2019-07-25 11:48:42</td>\n",
       "      <td>248</td>\n",
       "    </tr>\n",
       "    <tr>\n",
       "      <th>...</th>\n",
       "      <td>...</td>\n",
       "      <td>...</td>\n",
       "      <td>...</td>\n",
       "      <td>...</td>\n",
       "    </tr>\n",
       "    <tr>\n",
       "      <th>244121</th>\n",
       "      <td>MainScreenAppear</td>\n",
       "      <td>4599628364049201812</td>\n",
       "      <td>2019-08-07 21:12:25</td>\n",
       "      <td>247</td>\n",
       "    </tr>\n",
       "    <tr>\n",
       "      <th>244122</th>\n",
       "      <td>MainScreenAppear</td>\n",
       "      <td>5849806612437486590</td>\n",
       "      <td>2019-08-07 21:13:59</td>\n",
       "      <td>246</td>\n",
       "    </tr>\n",
       "    <tr>\n",
       "      <th>244123</th>\n",
       "      <td>MainScreenAppear</td>\n",
       "      <td>5746969938801999050</td>\n",
       "      <td>2019-08-07 21:14:43</td>\n",
       "      <td>246</td>\n",
       "    </tr>\n",
       "    <tr>\n",
       "      <th>244124</th>\n",
       "      <td>MainScreenAppear</td>\n",
       "      <td>5746969938801999050</td>\n",
       "      <td>2019-08-07 21:14:58</td>\n",
       "      <td>246</td>\n",
       "    </tr>\n",
       "    <tr>\n",
       "      <th>244125</th>\n",
       "      <td>OffersScreenAppear</td>\n",
       "      <td>5746969938801999050</td>\n",
       "      <td>2019-08-07 21:15:17</td>\n",
       "      <td>246</td>\n",
       "    </tr>\n",
       "  </tbody>\n",
       "</table>\n",
       "<p>244126 rows × 4 columns</p>\n",
       "</div>"
      ],
      "text/plain": [
       "                     event_name              user_id     event_timestamp  \\\n",
       "0              MainScreenAppear  4575588528974610257 2019-07-25 04:43:36   \n",
       "1              MainScreenAppear  7416695313311560658 2019-07-25 11:11:42   \n",
       "2       PaymentScreenSuccessful  3518123091307005509 2019-07-25 11:28:47   \n",
       "3              CartScreenAppear  3518123091307005509 2019-07-25 11:28:47   \n",
       "4       PaymentScreenSuccessful  6217807653094995999 2019-07-25 11:48:42   \n",
       "...                         ...                  ...                 ...   \n",
       "244121         MainScreenAppear  4599628364049201812 2019-08-07 21:12:25   \n",
       "244122         MainScreenAppear  5849806612437486590 2019-08-07 21:13:59   \n",
       "244123         MainScreenAppear  5746969938801999050 2019-08-07 21:14:43   \n",
       "244124         MainScreenAppear  5746969938801999050 2019-08-07 21:14:58   \n",
       "244125       OffersScreenAppear  5746969938801999050 2019-08-07 21:15:17   \n",
       "\n",
       "        group_id  \n",
       "0            246  \n",
       "1            246  \n",
       "2            248  \n",
       "3            248  \n",
       "4            248  \n",
       "...          ...  \n",
       "244121       247  \n",
       "244122       246  \n",
       "244123       246  \n",
       "244124       246  \n",
       "244125       246  \n",
       "\n",
       "[244126 rows x 4 columns]"
      ]
     },
     "execution_count": 122,
     "metadata": {},
     "output_type": "execute_result"
    }
   ],
   "source": [
    "new_df = new_df.rename(columns={'device_id_hash': 'user_id', 'exp_id':'group_id'})\n",
    "new_df"
   ]
  },
  {
   "cell_type": "markdown",
   "metadata": {},
   "source": [
    "<div class=\"alert alert-info\"; style=\"border-left: 7px solid blue\">\n",
    "<b>Student's comment</b>\n",
    "    \n",
    "Now that all our columns have the appropriate type and some clearer names, we can continue."
   ]
  },
  {
   "cell_type": "code",
   "execution_count": 123,
   "metadata": {},
   "outputs": [
    {
     "data": {
      "text/plain": [
       "event_name         0\n",
       "user_id            0\n",
       "event_timestamp    0\n",
       "group_id           0\n",
       "dtype: int64"
      ]
     },
     "execution_count": 123,
     "metadata": {},
     "output_type": "execute_result"
    }
   ],
   "source": [
    "new_df.isna().sum()"
   ]
  },
  {
   "cell_type": "markdown",
   "metadata": {},
   "source": [
    "<div class=\"alert alert-info\"; style=\"border-left: 7px solid blue\">\n",
    "<b>Student's comment</b>\n",
    "    \n",
    "No missing values."
   ]
  },
  {
   "cell_type": "code",
   "execution_count": 124,
   "metadata": {},
   "outputs": [
    {
     "name": "stdout",
     "output_type": "stream",
     "text": [
      "<class 'pandas.core.frame.DataFrame'>\n",
      "RangeIndex: 244126 entries, 0 to 244125\n",
      "Data columns (total 5 columns):\n",
      " #   Column           Non-Null Count   Dtype         \n",
      "---  ------           --------------   -----         \n",
      " 0   event_name       244126 non-null  object        \n",
      " 1   user_id          244126 non-null  int64         \n",
      " 2   event_timestamp  244126 non-null  datetime64[ns]\n",
      " 3   group_id         244126 non-null  int64         \n",
      " 4   date             244126 non-null  datetime64[ns]\n",
      "dtypes: datetime64[ns](2), int64(2), object(1)\n",
      "memory usage: 9.3+ MB\n"
     ]
    }
   ],
   "source": [
    "new_df['date'] = new_df['event_timestamp'].dt.date\n",
    "new_df['date'] = pd.to_datetime(new_df['date'])\n",
    "new_df.info()"
   ]
  },
  {
   "cell_type": "code",
   "execution_count": 125,
   "metadata": {
    "scrolled": true
   },
   "outputs": [
    {
     "data": {
      "text/html": [
       "<div>\n",
       "<style scoped>\n",
       "    .dataframe tbody tr th:only-of-type {\n",
       "        vertical-align: middle;\n",
       "    }\n",
       "\n",
       "    .dataframe tbody tr th {\n",
       "        vertical-align: top;\n",
       "    }\n",
       "\n",
       "    .dataframe thead th {\n",
       "        text-align: right;\n",
       "    }\n",
       "</style>\n",
       "<table border=\"1\" class=\"dataframe\">\n",
       "  <thead>\n",
       "    <tr style=\"text-align: right;\">\n",
       "      <th></th>\n",
       "      <th>event_name</th>\n",
       "      <th>user_id</th>\n",
       "      <th>event_timestamp</th>\n",
       "      <th>group_id</th>\n",
       "      <th>date</th>\n",
       "    </tr>\n",
       "  </thead>\n",
       "  <tbody>\n",
       "    <tr>\n",
       "      <th>0</th>\n",
       "      <td>MainScreenAppear</td>\n",
       "      <td>4575588528974610257</td>\n",
       "      <td>2019-07-25 04:43:36</td>\n",
       "      <td>246</td>\n",
       "      <td>2019-07-25</td>\n",
       "    </tr>\n",
       "    <tr>\n",
       "      <th>1</th>\n",
       "      <td>MainScreenAppear</td>\n",
       "      <td>7416695313311560658</td>\n",
       "      <td>2019-07-25 11:11:42</td>\n",
       "      <td>246</td>\n",
       "      <td>2019-07-25</td>\n",
       "    </tr>\n",
       "    <tr>\n",
       "      <th>2</th>\n",
       "      <td>PaymentScreenSuccessful</td>\n",
       "      <td>3518123091307005509</td>\n",
       "      <td>2019-07-25 11:28:47</td>\n",
       "      <td>248</td>\n",
       "      <td>2019-07-25</td>\n",
       "    </tr>\n",
       "    <tr>\n",
       "      <th>3</th>\n",
       "      <td>CartScreenAppear</td>\n",
       "      <td>3518123091307005509</td>\n",
       "      <td>2019-07-25 11:28:47</td>\n",
       "      <td>248</td>\n",
       "      <td>2019-07-25</td>\n",
       "    </tr>\n",
       "    <tr>\n",
       "      <th>4</th>\n",
       "      <td>PaymentScreenSuccessful</td>\n",
       "      <td>6217807653094995999</td>\n",
       "      <td>2019-07-25 11:48:42</td>\n",
       "      <td>248</td>\n",
       "      <td>2019-07-25</td>\n",
       "    </tr>\n",
       "    <tr>\n",
       "      <th>...</th>\n",
       "      <td>...</td>\n",
       "      <td>...</td>\n",
       "      <td>...</td>\n",
       "      <td>...</td>\n",
       "      <td>...</td>\n",
       "    </tr>\n",
       "    <tr>\n",
       "      <th>244121</th>\n",
       "      <td>MainScreenAppear</td>\n",
       "      <td>4599628364049201812</td>\n",
       "      <td>2019-08-07 21:12:25</td>\n",
       "      <td>247</td>\n",
       "      <td>2019-08-07</td>\n",
       "    </tr>\n",
       "    <tr>\n",
       "      <th>244122</th>\n",
       "      <td>MainScreenAppear</td>\n",
       "      <td>5849806612437486590</td>\n",
       "      <td>2019-08-07 21:13:59</td>\n",
       "      <td>246</td>\n",
       "      <td>2019-08-07</td>\n",
       "    </tr>\n",
       "    <tr>\n",
       "      <th>244123</th>\n",
       "      <td>MainScreenAppear</td>\n",
       "      <td>5746969938801999050</td>\n",
       "      <td>2019-08-07 21:14:43</td>\n",
       "      <td>246</td>\n",
       "      <td>2019-08-07</td>\n",
       "    </tr>\n",
       "    <tr>\n",
       "      <th>244124</th>\n",
       "      <td>MainScreenAppear</td>\n",
       "      <td>5746969938801999050</td>\n",
       "      <td>2019-08-07 21:14:58</td>\n",
       "      <td>246</td>\n",
       "      <td>2019-08-07</td>\n",
       "    </tr>\n",
       "    <tr>\n",
       "      <th>244125</th>\n",
       "      <td>OffersScreenAppear</td>\n",
       "      <td>5746969938801999050</td>\n",
       "      <td>2019-08-07 21:15:17</td>\n",
       "      <td>246</td>\n",
       "      <td>2019-08-07</td>\n",
       "    </tr>\n",
       "  </tbody>\n",
       "</table>\n",
       "<p>244126 rows × 5 columns</p>\n",
       "</div>"
      ],
      "text/plain": [
       "                     event_name              user_id     event_timestamp  \\\n",
       "0              MainScreenAppear  4575588528974610257 2019-07-25 04:43:36   \n",
       "1              MainScreenAppear  7416695313311560658 2019-07-25 11:11:42   \n",
       "2       PaymentScreenSuccessful  3518123091307005509 2019-07-25 11:28:47   \n",
       "3              CartScreenAppear  3518123091307005509 2019-07-25 11:28:47   \n",
       "4       PaymentScreenSuccessful  6217807653094995999 2019-07-25 11:48:42   \n",
       "...                         ...                  ...                 ...   \n",
       "244121         MainScreenAppear  4599628364049201812 2019-08-07 21:12:25   \n",
       "244122         MainScreenAppear  5849806612437486590 2019-08-07 21:13:59   \n",
       "244123         MainScreenAppear  5746969938801999050 2019-08-07 21:14:43   \n",
       "244124         MainScreenAppear  5746969938801999050 2019-08-07 21:14:58   \n",
       "244125       OffersScreenAppear  5746969938801999050 2019-08-07 21:15:17   \n",
       "\n",
       "        group_id       date  \n",
       "0            246 2019-07-25  \n",
       "1            246 2019-07-25  \n",
       "2            248 2019-07-25  \n",
       "3            248 2019-07-25  \n",
       "4            248 2019-07-25  \n",
       "...          ...        ...  \n",
       "244121       247 2019-08-07  \n",
       "244122       246 2019-08-07  \n",
       "244123       246 2019-08-07  \n",
       "244124       246 2019-08-07  \n",
       "244125       246 2019-08-07  \n",
       "\n",
       "[244126 rows x 5 columns]"
      ]
     },
     "execution_count": 125,
     "metadata": {},
     "output_type": "execute_result"
    }
   ],
   "source": [
    "new_df"
   ]
  },
  {
   "cell_type": "markdown",
   "metadata": {},
   "source": [
    "<div class=\"alert alert-block alert-danger\">\n",
    "<b>Reviewer's comment</b> <a class=\"tocSkip\"></a>\n",
    "    \n",
    "~~Please add a check for duplicates in this step~~\n",
    "</div>"
   ]
  },
  {
   "cell_type": "code",
   "execution_count": 126,
   "metadata": {},
   "outputs": [
    {
     "data": {
      "text/plain": [
       "413"
      ]
     },
     "execution_count": 126,
     "metadata": {},
     "output_type": "execute_result"
    }
   ],
   "source": [
    "new_df.duplicated().sum()"
   ]
  },
  {
   "cell_type": "markdown",
   "metadata": {},
   "source": [
    "<div class=\"alert alert-info\"; style=\"border-left: 7px solid blue\">\n",
    "<b>Student's comment</b>\n",
    "    \n",
    "We have 413 duplicates. We will drop the duplicate rows, since it is not possible for the same user to perform the same action at the same date and time."
   ]
  },
  {
   "cell_type": "code",
   "execution_count": 127,
   "metadata": {},
   "outputs": [],
   "source": [
    "new_df = new_df.drop_duplicates()"
   ]
  },
  {
   "cell_type": "markdown",
   "metadata": {},
   "source": [
    "<div class=\"alert alert-block alert-success\"> <b>Reviewer's comment v2</b> <a \n",
    "class=\"tocSkip\"></a>\n",
    "Done </div>"
   ]
  },
  {
   "cell_type": "markdown",
   "metadata": {},
   "source": [
    "<div class=\"alert alert-info\"; style=\"border-left: 7px solid blue\">\n",
    "<b>Student's comment</b>\n",
    "    \n",
    "**Instructions for completing the project:**\n",
    "    \n",
    "**Step 3. Study and check the data**\n",
    " \n",
    "* How many events are in the logs?\n",
    "    \n",
    "* How many users are in the logs?\n",
    "    \n",
    "* What's the average number of events per user?\n",
    "    \n",
    "* What period of time does the data cover? Find the maximum and the minimum date. Plot a histogram by date and time. Can you be sure that you have equally complete data for the entire period? Older events could end up in some users' logs for technical reasons, and this could skew the overall picture. Find the moment at which the data starts to be complete and ignore the earlier section. What period does the data actually represent?\n",
    "    \n",
    "* Did you lose many events and users when excluding the older data?\n",
    "    \n",
    "* Make sure you have users from all three experimental groups."
   ]
  },
  {
   "cell_type": "code",
   "execution_count": 128,
   "metadata": {},
   "outputs": [
    {
     "data": {
      "text/plain": [
       "5"
      ]
     },
     "execution_count": 128,
     "metadata": {},
     "output_type": "execute_result"
    }
   ],
   "source": [
    "new_df['event_name'].nunique()"
   ]
  },
  {
   "cell_type": "markdown",
   "metadata": {},
   "source": [
    "<div class=\"alert alert-info\"; style=\"border-left: 7px solid blue\">\n",
    "<b>Student's comment</b>\n",
    "    \n",
    "There are 5 different events in the logs."
   ]
  },
  {
   "cell_type": "code",
   "execution_count": 129,
   "metadata": {},
   "outputs": [
    {
     "data": {
      "text/plain": [
       "7551"
      ]
     },
     "execution_count": 129,
     "metadata": {},
     "output_type": "execute_result"
    }
   ],
   "source": [
    "new_df['user_id'].nunique()"
   ]
  },
  {
   "cell_type": "markdown",
   "metadata": {},
   "source": [
    "<div class=\"alert alert-info\"; style=\"border-left: 7px solid blue\">\n",
    "<b>Student's comment</b>\n",
    "    \n",
    "There are 7551 unique users in the logs."
   ]
  },
  {
   "cell_type": "code",
   "execution_count": 130,
   "metadata": {},
   "outputs": [
    {
     "name": "stdout",
     "output_type": "stream",
     "text": [
      "32.27559263673685\n"
     ]
    }
   ],
   "source": [
    "print(new_df.groupby(['user_id'])['event_name'].count().mean())"
   ]
  },
  {
   "cell_type": "markdown",
   "metadata": {},
   "source": [
    "<div class=\"alert alert-info\"; style=\"border-left: 7px solid blue\">\n",
    "<b>Student's comment</b>\n",
    "    \n",
    "We see that each user averages 32 events."
   ]
  },
  {
   "cell_type": "code",
   "execution_count": 131,
   "metadata": {},
   "outputs": [
    {
     "name": "stdout",
     "output_type": "stream",
     "text": [
      "2019-07-25 00:00:00\n",
      "2019-08-07 00:00:00\n"
     ]
    }
   ],
   "source": [
    "print(new_df['date'].min())\n",
    "print(new_df['date'].max())"
   ]
  },
  {
   "cell_type": "markdown",
   "metadata": {},
   "source": [
    "<div class=\"alert alert-info\"; style=\"border-left: 7px solid blue\">\n",
    "<b>Student's comment</b>\n",
    "    \n",
    "We see that our data runs from July 25, 2019 up to August 7, 2019. So we have two weeks worth of data."
   ]
  },
  {
   "cell_type": "code",
   "execution_count": 132,
   "metadata": {},
   "outputs": [
    {
     "data": {
      "image/png": "[encoded data removed]",
      "text/plain": [
       "<Figure size 360x360 with 1 Axes>"
      ]
     },
     "metadata": {
      "needs_background": "light"
     },
     "output_type": "display_data"
    }
   ],
   "source": [
    "fig, ax = plt.subplots(figsize=(5, 5))\n",
    "ax.hist(new_df['event_timestamp'], bins=14)\n",
    "\n",
    "plt.xticks(rotation=45, ha='right')\n",
    "fig.tight_layout()\n",
    "plt.title('Events by Date')\n",
    "plt.xlabel('Date')\n",
    "plt.ylabel('Number of Events')\n",
    "plt.show()"
   ]
  },
  {
   "cell_type": "markdown",
   "metadata": {},
   "source": [
    "<div class=\"alert alert-info\"; style=\"border-left: 7px solid blue\">\n",
    "<b>Student's comment</b>\n",
    "    \n",
    "By looking at the histogram, we see that almost all of the events have been recorded in the last 7 days. Our cutoff point of data should be 2019-08-01. Anything that came before this date can skew our data."
   ]
  },
  {
   "cell_type": "markdown",
   "metadata": {},
   "source": [
    "<div class=\"alert alert-block alert-success\"> <b>Reviewer's comment</b> <a \n",
    "class=\"tocSkip\"></a>\n",
    "Good histogram and right decision It can be assumed that before this date we had a problem in logging due to which some data was lost </div>"
   ]
  },
  {
   "cell_type": "code",
   "execution_count": 133,
   "metadata": {},
   "outputs": [
    {
     "data": {
      "text/html": [
       "<div>\n",
       "<style scoped>\n",
       "    .dataframe tbody tr th:only-of-type {\n",
       "        vertical-align: middle;\n",
       "    }\n",
       "\n",
       "    .dataframe tbody tr th {\n",
       "        vertical-align: top;\n",
       "    }\n",
       "\n",
       "    .dataframe thead th {\n",
       "        text-align: right;\n",
       "    }\n",
       "</style>\n",
       "<table border=\"1\" class=\"dataframe\">\n",
       "  <thead>\n",
       "    <tr style=\"text-align: right;\">\n",
       "      <th></th>\n",
       "      <th>event_name</th>\n",
       "      <th>user_id</th>\n",
       "      <th>event_timestamp</th>\n",
       "      <th>group_id</th>\n",
       "      <th>date</th>\n",
       "    </tr>\n",
       "  </thead>\n",
       "  <tbody>\n",
       "    <tr>\n",
       "      <th>2828</th>\n",
       "      <td>Tutorial</td>\n",
       "      <td>3737462046622621720</td>\n",
       "      <td>2019-08-01 00:07:28</td>\n",
       "      <td>246</td>\n",
       "      <td>2019-08-01</td>\n",
       "    </tr>\n",
       "    <tr>\n",
       "      <th>2829</th>\n",
       "      <td>MainScreenAppear</td>\n",
       "      <td>3737462046622621720</td>\n",
       "      <td>2019-08-01 00:08:00</td>\n",
       "      <td>246</td>\n",
       "      <td>2019-08-01</td>\n",
       "    </tr>\n",
       "    <tr>\n",
       "      <th>2830</th>\n",
       "      <td>MainScreenAppear</td>\n",
       "      <td>3737462046622621720</td>\n",
       "      <td>2019-08-01 00:08:55</td>\n",
       "      <td>246</td>\n",
       "      <td>2019-08-01</td>\n",
       "    </tr>\n",
       "    <tr>\n",
       "      <th>2831</th>\n",
       "      <td>OffersScreenAppear</td>\n",
       "      <td>3737462046622621720</td>\n",
       "      <td>2019-08-01 00:08:58</td>\n",
       "      <td>246</td>\n",
       "      <td>2019-08-01</td>\n",
       "    </tr>\n",
       "    <tr>\n",
       "      <th>2832</th>\n",
       "      <td>MainScreenAppear</td>\n",
       "      <td>1433840883824088890</td>\n",
       "      <td>2019-08-01 00:08:59</td>\n",
       "      <td>247</td>\n",
       "      <td>2019-08-01</td>\n",
       "    </tr>\n",
       "    <tr>\n",
       "      <th>...</th>\n",
       "      <td>...</td>\n",
       "      <td>...</td>\n",
       "      <td>...</td>\n",
       "      <td>...</td>\n",
       "      <td>...</td>\n",
       "    </tr>\n",
       "    <tr>\n",
       "      <th>244121</th>\n",
       "      <td>MainScreenAppear</td>\n",
       "      <td>4599628364049201812</td>\n",
       "      <td>2019-08-07 21:12:25</td>\n",
       "      <td>247</td>\n",
       "      <td>2019-08-07</td>\n",
       "    </tr>\n",
       "    <tr>\n",
       "      <th>244122</th>\n",
       "      <td>MainScreenAppear</td>\n",
       "      <td>5849806612437486590</td>\n",
       "      <td>2019-08-07 21:13:59</td>\n",
       "      <td>246</td>\n",
       "      <td>2019-08-07</td>\n",
       "    </tr>\n",
       "    <tr>\n",
       "      <th>244123</th>\n",
       "      <td>MainScreenAppear</td>\n",
       "      <td>5746969938801999050</td>\n",
       "      <td>2019-08-07 21:14:43</td>\n",
       "      <td>246</td>\n",
       "      <td>2019-08-07</td>\n",
       "    </tr>\n",
       "    <tr>\n",
       "      <th>244124</th>\n",
       "      <td>MainScreenAppear</td>\n",
       "      <td>5746969938801999050</td>\n",
       "      <td>2019-08-07 21:14:58</td>\n",
       "      <td>246</td>\n",
       "      <td>2019-08-07</td>\n",
       "    </tr>\n",
       "    <tr>\n",
       "      <th>244125</th>\n",
       "      <td>OffersScreenAppear</td>\n",
       "      <td>5746969938801999050</td>\n",
       "      <td>2019-08-07 21:15:17</td>\n",
       "      <td>246</td>\n",
       "      <td>2019-08-07</td>\n",
       "    </tr>\n",
       "  </tbody>\n",
       "</table>\n",
       "<p>240887 rows × 5 columns</p>\n",
       "</div>"
      ],
      "text/plain": [
       "                event_name              user_id     event_timestamp  group_id  \\\n",
       "2828              Tutorial  3737462046622621720 2019-08-01 00:07:28       246   \n",
       "2829      MainScreenAppear  3737462046622621720 2019-08-01 00:08:00       246   \n",
       "2830      MainScreenAppear  3737462046622621720 2019-08-01 00:08:55       246   \n",
       "2831    OffersScreenAppear  3737462046622621720 2019-08-01 00:08:58       246   \n",
       "2832      MainScreenAppear  1433840883824088890 2019-08-01 00:08:59       247   \n",
       "...                    ...                  ...                 ...       ...   \n",
       "244121    MainScreenAppear  4599628364049201812 2019-08-07 21:12:25       247   \n",
       "244122    MainScreenAppear  5849806612437486590 2019-08-07 21:13:59       246   \n",
       "244123    MainScreenAppear  5746969938801999050 2019-08-07 21:14:43       246   \n",
       "244124    MainScreenAppear  5746969938801999050 2019-08-07 21:14:58       246   \n",
       "244125  OffersScreenAppear  5746969938801999050 2019-08-07 21:15:17       246   \n",
       "\n",
       "             date  \n",
       "2828   2019-08-01  \n",
       "2829   2019-08-01  \n",
       "2830   2019-08-01  \n",
       "2831   2019-08-01  \n",
       "2832   2019-08-01  \n",
       "...           ...  \n",
       "244121 2019-08-07  \n",
       "244122 2019-08-07  \n",
       "244123 2019-08-07  \n",
       "244124 2019-08-07  \n",
       "244125 2019-08-07  \n",
       "\n",
       "[240887 rows x 5 columns]"
      ]
     },
     "execution_count": 133,
     "metadata": {},
     "output_type": "execute_result"
    }
   ],
   "source": [
    "date_threshold = pd.to_datetime('2019-08-01')\n",
    "filtered_df = new_df[new_df['date'] >= date_threshold]\n",
    "filtered_df"
   ]
  },
  {
   "cell_type": "code",
   "execution_count": 134,
   "metadata": {},
   "outputs": [
    {
     "data": {
      "text/plain": [
       "7534"
      ]
     },
     "execution_count": 134,
     "metadata": {},
     "output_type": "execute_result"
    }
   ],
   "source": [
    "filtered_df['user_id'].nunique()"
   ]
  },
  {
   "cell_type": "markdown",
   "metadata": {},
   "source": [
    "<div class=\"alert alert-info\"; style=\"border-left: 7px solid blue\">\n",
    "<b>Student's comment</b>\n",
    "    \n",
    "By filtering our data, we lost 17 users. They are not significant enough to alter the way we continue."
   ]
  },
  {
   "cell_type": "code",
   "execution_count": 135,
   "metadata": {},
   "outputs": [
    {
     "name": "stdout",
     "output_type": "stream",
     "text": [
      "243713\n",
      "240887\n"
     ]
    }
   ],
   "source": [
    "print(new_df['event_name'].value_counts().sum())\n",
    "print(filtered_df['event_name'].value_counts().sum())"
   ]
  },
  {
   "cell_type": "markdown",
   "metadata": {},
   "source": [
    "<div class=\"alert alert-info\"; style=\"border-left: 7px solid blue\">\n",
    "<b>Student's comment</b>\n",
    "    \n",
    "By filtering our data, we lost 2826 events, which account for roughly 1.16% of our data. Once again, it is not significant enough to alter the way we continue."
   ]
  },
  {
   "cell_type": "code",
   "execution_count": 136,
   "metadata": {},
   "outputs": [
    {
     "data": {
      "text/plain": [
       "3"
      ]
     },
     "execution_count": 136,
     "metadata": {},
     "output_type": "execute_result"
    }
   ],
   "source": [
    "filtered_df['group_id'].nunique()"
   ]
  },
  {
   "cell_type": "markdown",
   "metadata": {},
   "source": [
    "<div class=\"alert alert-info\"; style=\"border-left: 7px solid blue\">\n",
    "<b>Student's comment</b>\n",
    "    \n",
    "All 3 groups are present in the filtered data."
   ]
  },
  {
   "cell_type": "markdown",
   "metadata": {},
   "source": [
    "<div class=\"alert alert-block alert-success\"> <b>Reviewer's comment</b> <a \n",
    "class=\"tocSkip\"></a>\n",
    "Excellent analysis of filtered data </div>"
   ]
  },
  {
   "cell_type": "markdown",
   "metadata": {},
   "source": [
    "<div class=\"alert alert-info\"; style=\"border-left: 7px solid blue\">\n",
    "<b>Student's comment</b>\n",
    "    \n",
    "**Instructions for completing the project:**\n",
    "    \n",
    "**Step 4. Study the event funnel**\n",
    " \n",
    "* See what events are in the logs and their frequency of occurrence. Sort them by frequency.\n",
    "    \n",
    "* Find the number of users who performed each of these actions. Sort the events by the number of users. Calculate the proportion of users who performed the action at least once.\n",
    "    \n",
    "* In what order do you think the actions took place. Are all of them part of a single sequence? You don't need to take them into account when calculating the funnel.\n",
    "    \n",
    "* Use the event funnel to find the share of users that proceed from each stage to the next. (For instance, for the sequence of events A → B → C, calculate the ratio of users at stage B to the number of users at stage A and the ratio of users at stage C to the number at stage B.)\n",
    "    \n",
    "* At what stage do you lose the most users?\n",
    "    \n",
    "* What share of users make the entire journey from their first event to payment?"
   ]
  },
  {
   "cell_type": "code",
   "execution_count": 137,
   "metadata": {},
   "outputs": [
    {
     "name": "stdout",
     "output_type": "stream",
     "text": [
      "MainScreenAppear           117328\n",
      "OffersScreenAppear          46333\n",
      "CartScreenAppear            42303\n",
      "PaymentScreenSuccessful     33918\n",
      "Tutorial                     1005\n",
      "Name: event_name, dtype: int64\n"
     ]
    },
    {
     "data": {
      "image/png": "[encoded data removed]",
      "text/plain": [
       "<Figure size 432x288 with 1 Axes>"
      ]
     },
     "metadata": {
      "needs_background": "light"
     },
     "output_type": "display_data"
    }
   ],
   "source": [
    "print(filtered_df['event_name'].value_counts())\n",
    "filtered_df['event_name'].value_counts().plot(kind='bar')\n",
    "plt.title('Events Sorted by Frequency')\n",
    "plt.xlabel('Event')\n",
    "plt.ylabel('Frequency')\n",
    "plt.show()"
   ]
  },
  {
   "cell_type": "markdown",
   "metadata": {},
   "source": [
    "<div class=\"alert alert-info\"; style=\"border-left: 7px solid blue\">\n",
    "<b>Student's comment</b>\n",
    "    \n",
    "Looking at the table and graph above, we shouldn't be surprised to see that 'Main Screen Appear' appears most frequently. The order makes sense, though the difference between 'Cart Screen Appear' and 'Payment Screen Successful' is quite significant."
   ]
  },
  {
   "cell_type": "code",
   "execution_count": 138,
   "metadata": {},
   "outputs": [
    {
     "name": "stdout",
     "output_type": "stream",
     "text": [
      "event_name\n",
      "MainScreenAppear           7419\n",
      "OffersScreenAppear         4593\n",
      "CartScreenAppear           3734\n",
      "PaymentScreenSuccessful    3539\n",
      "Tutorial                    840\n",
      "Name: user_id, dtype: int64\n"
     ]
    },
    {
     "data": {
      "image/png": "[encoded data removed]",
      "text/plain": [
       "<Figure size 432x288 with 1 Axes>"
      ]
     },
     "metadata": {
      "needs_background": "light"
     },
     "output_type": "display_data"
    }
   ],
   "source": [
    "event_counts = filtered_df.groupby('event_name')['user_id'].nunique()\n",
    "event_counts = event_counts.sort_values(ascending=False)\n",
    "print(event_counts)\n",
    "event_counts.plot(kind='bar')\n",
    "plt.title('Events by Number of Unique Users')\n",
    "plt.xlabel('Event')\n",
    "plt.ylabel('Number of Users')\n",
    "plt.show()"
   ]
  },
  {
   "cell_type": "markdown",
   "metadata": {},
   "source": [
    "<div class=\"alert alert-info\"; style=\"border-left: 7px solid blue\">\n",
    "<b>Student's comment</b>\n",
    "    \n",
    "From the table and graph above, we see that the event that had the most unique users was, once again, 'Main Screen Appear'. However, this time, the difference between 'Cart Screen Appear' and 'Payment Screen Successful' isn't as large (at least number-wise)."
   ]
  },
  {
   "cell_type": "markdown",
   "metadata": {},
   "source": [
    "<div class=\"alert alert-info\"; style=\"border-left: 7px solid blue\">\n",
    "<b>Student's comment</b>\n",
    "    \n",
    "To find out the number of users that performed all of the event types, we will use the 'set()' function."
   ]
  },
  {
   "cell_type": "code",
   "execution_count": 139,
   "metadata": {},
   "outputs": [
    {
     "data": {
      "text/plain": [
       "False    7068\n",
       "True      466\n",
       "Name: event_name, dtype: int64"
      ]
     },
     "execution_count": 139,
     "metadata": {},
     "output_type": "execute_result"
    }
   ],
   "source": [
    "events = set(filtered_df['event_name'].unique())\n",
    "user_events = filtered_df.groupby('user_id')['event_name'].apply(set)\n",
    "\n",
    "user_all_events = user_events == events\n",
    "\n",
    "user_all_events.value_counts()"
   ]
  },
  {
   "cell_type": "markdown",
   "metadata": {},
   "source": [
    "<div class=\"alert alert-info\"; style=\"border-left: 7px solid blue\">\n",
    "<b>Student's comment</b>\n",
    "    \n",
    "We found out that 466 users performed all the events, which is equal to 6.18%."
   ]
  },
  {
   "cell_type": "code",
   "execution_count": 140,
   "metadata": {},
   "outputs": [
    {
     "data": {
      "text/plain": [
       "(CartScreenAppear, MainScreenAppear, OffersScreenAppear, PaymentScreenSuccessful)              2963\n",
       "(MainScreenAppear)                                                                             2701\n",
       "(MainScreenAppear, OffersScreenAppear)                                                          784\n",
       "(MainScreenAppear, OffersScreenAppear, Tutorial, CartScreenAppear, PaymentScreenSuccessful)     466\n",
       "(MainScreenAppear, Tutorial)                                                                    181\n",
       "(MainScreenAppear, OffersScreenAppear, Tutorial)                                                113\n",
       "(CartScreenAppear, OffersScreenAppear, PaymentScreenSuccessful)                                  98\n",
       "(CartScreenAppear, MainScreenAppear, OffersScreenAppear)                                         86\n",
       "(CartScreenAppear, MainScreenAppear, OffersScreenAppear, Tutorial)                               65\n",
       "(CartScreenAppear, MainScreenAppear)                                                             38\n",
       "(OffersScreenAppear)                                                                             12\n",
       "(CartScreenAppear, MainScreenAppear, Tutorial)                                                   10\n",
       "(CartScreenAppear, MainScreenAppear, PaymentScreenSuccessful)                                     6\n",
       "(MainScreenAppear, OffersScreenAppear, PaymentScreenSuccessful)                                   5\n",
       "(Tutorial)                                                                                        4\n",
       "(CartScreenAppear, MainScreenAppear, PaymentScreenSuccessful, Tutorial)                           1\n",
       "(CartScreenAppear, OffersScreenAppear)                                                            1\n",
       "Name: event_name, dtype: int64"
      ]
     },
     "execution_count": 140,
     "metadata": {},
     "output_type": "execute_result"
    }
   ],
   "source": [
    "user_events_frozen = user_events.apply(frozenset)\n",
    "user_events_frozen.value_counts()"
   ]
  },
  {
   "cell_type": "markdown",
   "metadata": {},
   "source": [
    "<div class=\"alert alert-block alert-danger\">\n",
    "<b>Reviewer's comment</b> <a class=\"tocSkip\"></a>\n",
    "    \n",
    "~~We have a mistake here. Please fix it~~\n",
    "\n",
    "</div>"
   ]
  },
  {
   "cell_type": "markdown",
   "metadata": {},
   "source": [
    "<div class=\"alert alert-block alert-danger\">\n",
    "<b>Reviewer's comment</b> <a class=\"tocSkip\"></a>\n",
    "    \n",
    "~~You are right, but nevertheless we cannot leave the code with errors in the project~~\n",
    "</div>"
   ]
  },
  {
   "cell_type": "markdown",
   "metadata": {},
   "source": [
    "<div class=\"alert alert-block alert-success\"> <b>Reviewer's comment v2</b> <a \n",
    "class=\"tocSkip\"></a>\n",
    "Fixed </div>"
   ]
  },
  {
   "cell_type": "markdown",
   "metadata": {},
   "source": [
    "<div class=\"alert alert-info\"; style=\"border-left: 7px solid blue\">\n",
    "<b>Student's comment</b>\n",
    "    \n",
    "As we can see from the list of sequences, there is a multiple of event sequences that can occur. If we had to project one 'normal' sequence, it would be: 'Main Screen Appear'-->'Offers Screen Appear'-->'Cart Screen Appear'-->'Payment Screen Successful'. The tutorial is merely optional, and not really relevant."
   ]
  },
  {
   "cell_type": "markdown",
   "metadata": {},
   "source": [
    "<div class=\"alert alert-block alert-success\"> <b>Reviewer's comment</b> <a \n",
    "class=\"tocSkip\"></a>\n",
    "Perfect conclusion </div>"
   ]
  },
  {
   "cell_type": "code",
   "execution_count": 141,
   "metadata": {},
   "outputs": [
    {
     "data": {
      "text/plain": [
       "event_name\n",
       "MainScreenAppear           7419\n",
       "OffersScreenAppear         4593\n",
       "CartScreenAppear           3734\n",
       "PaymentScreenSuccessful    3539\n",
       "Tutorial                    840\n",
       "Name: user_id, dtype: int64"
      ]
     },
     "execution_count": 141,
     "metadata": {},
     "output_type": "execute_result"
    }
   ],
   "source": [
    "event_counts"
   ]
  },
  {
   "cell_type": "markdown",
   "metadata": {},
   "source": [
    "<div class=\"alert alert-info\"; style=\"border-left: 7px solid blue\">\n",
    "<b>Student's comment</b>\n",
    "    \n",
    "To calculate the funnel progress share, we will create the event_counts as a series, with each event as part of the index."
   ]
  },
  {
   "cell_type": "code",
   "execution_count": 142,
   "metadata": {
    "scrolled": true
   },
   "outputs": [
    {
     "name": "stdout",
     "output_type": "stream",
     "text": [
      "MainScreenAppear to OffersScreenAppear conversion rate: 61.91%\n",
      "OffersScreenAppear to CartScreenAppear conversion rate: 81.30%\n",
      "CartScreenAppear to PaymentScreenSuccessful conversion rate: 94.78%\n",
      "MainScreenAppear to PaymentScreenSuccessful conversion rate: 47.70%\n"
     ]
    }
   ],
   "source": [
    "event_counts = pd.Series([7419, 4593, 3734, 3539], index=['MainScreenAppear', 'OffersScreenAppear', 'CartScreenAppear', 'PaymentScreenSuccessful'])\n",
    "\n",
    "main_to_offers_rate = event_counts['OffersScreenAppear'] / event_counts['MainScreenAppear']\n",
    "offers_to_cart_rate = event_counts['CartScreenAppear'] / event_counts['OffersScreenAppear']\n",
    "cart_to_payment_rate = event_counts['PaymentScreenSuccessful'] / event_counts['CartScreenAppear']\n",
    "main_to_payment_rate = event_counts['PaymentScreenSuccessful'] / event_counts['MainScreenAppear']\n",
    "\n",
    "print(f\"MainScreenAppear to OffersScreenAppear conversion rate: {main_to_offers_rate:.2%}\")\n",
    "print(f\"OffersScreenAppear to CartScreenAppear conversion rate: {offers_to_cart_rate:.2%}\")\n",
    "print(f\"CartScreenAppear to PaymentScreenSuccessful conversion rate: {cart_to_payment_rate:.2%}\")\n",
    "print(f\"MainScreenAppear to PaymentScreenSuccessful conversion rate: {main_to_payment_rate:.2%}\")"
   ]
  },
  {
   "cell_type": "markdown",
   "metadata": {},
   "source": [
    "<div class=\"alert alert-info\"; style=\"border-left: 7px solid blue\">\n",
    "<b>Student's comment</b>\n",
    "    \n",
    "The more we progress in the funnel, the higher conversion rate we attain. This shows us that those who complete the 4 step funnel, are highly likely to purchase the product.\n",
    "    \n",
    "Most users are lost in the main to offers stage. It could be that the offers are not relevant to them and they give up.\n",
    "    \n",
    "47.7% of users make through the entire funnel (main-->offer-->cart-->payment)."
   ]
  },
  {
   "cell_type": "markdown",
   "metadata": {},
   "source": [
    "<div class=\"alert alert-block alert-success\"> <b>Reviewer's comment</b> <a \n",
    "class=\"tocSkip\"></a>\n",
    "Exactly </div>"
   ]
  },
  {
   "cell_type": "markdown",
   "metadata": {},
   "source": [
    "<div class=\"alert alert-block alert-danger\">\n",
    "<b>Reviewer's comment</b> <a class=\"tocSkip\"></a>\n",
    "    \n",
    "~~Please create the funnel graphs at this step~~ \n",
    "    \n",
    "~~You can use plotly~~ \n",
    "</div>"
   ]
  },
  {
   "cell_type": "code",
   "execution_count": 143,
   "metadata": {
    "scrolled": true
   },
   "outputs": [
    {
     "data": {
      "application/vnd.plotly.v1+json": {
       "config": {
        "plotlyServerURL": "https://plot.ly"
       },
       "data": [
        {
         "hovertemplate": "number_of_users=%{x}<br>event=%{y}<extra></extra>",
         "legendgroup": "",
         "marker": {
          "color": "#636efa"
         },
         "name": "",
         "orientation": "h",
         "showlegend": false,
         "type": "funnel",
         "x": [
          7419,
          4593,
          3734,
          3539
         ],
         "xaxis": "x",
         "y": [
          "MainScreenAppear",
          "OffersScreenAppear",
          "CartScreenAppear",
          "PaymentScreenSuccessful"
         ],
         "yaxis": "y"
        }
       ],
       "layout": {
        "legend": {
         "tracegroupgap": 0
        },
        "margin": {
         "t": 60
        },
        "template": {
         "data": {
          "bar": [
           {
            "error_x": {
             "color": "#2a3f5f"
            },
            "error_y": {
             "color": "#2a3f5f"
            },
            "marker": {
             "line": {
              "color": "#E5ECF6",
              "width": 0.5
             },
             "pattern": {
              "fillmode": "overlay",
              "size": 10,
              "solidity": 0.2
             }
            },
            "type": "bar"
           }
          ],
          "barpolar": [
           {
            "marker": {
             "line": {
              "color": "#E5ECF6",
              "width": 0.5
             },
             "pattern": {
              "fillmode": "overlay",
              "size": 10,
              "solidity": 0.2
             }
            },
            "type": "barpolar"
           }
          ],
          "carpet": [
           {
            "aaxis": {
             "endlinecolor": "#2a3f5f",
             "gridcolor": "white",
             "linecolor": "white",
             "minorgridcolor": "white",
             "startlinecolor": "#2a3f5f"
            },
            "baxis": {
             "endlinecolor": "#2a3f5f",
             "gridcolor": "white",
             "linecolor": "white",
             "minorgridcolor": "white",
             "startlinecolor": "#2a3f5f"
            },
            "type": "carpet"
           }
          ],
          "choropleth": [
           {
            "colorbar": {
             "outlinewidth": 0,
             "ticks": ""
            },
            "type": "choropleth"
           }
          ],
          "contour": [
           {
            "colorbar": {
             "outlinewidth": 0,
             "ticks": ""
            },
            "colorscale": [
             [
              0,
              "#0d0887"
             ],
             [
              0.1111111111111111,
              "#46039f"
             ],
             [
              0.2222222222222222,
              "#7201a8"
             ],
             [
              0.3333333333333333,
              "#9c179e"
             ],
             [
              0.4444444444444444,
              "#bd3786"
             ],
             [
              0.5555555555555556,
              "#d8576b"
             ],
             [
              0.6666666666666666,
              "#ed7953"
             ],
             [
              0.7777777777777778,
              "#fb9f3a"
             ],
             [
              0.8888888888888888,
              "#fdca26"
             ],
             [
              1,
              "#f0f921"
             ]
            ],
            "type": "contour"
           }
          ],
          "contourcarpet": [
           {
            "colorbar": {
             "outlinewidth": 0,
             "ticks": ""
            },
            "type": "contourcarpet"
           }
          ],
          "heatmap": [
           {
            "colorbar": {
             "outlinewidth": 0,
             "ticks": ""
            },
            "colorscale": [
             [
              0,
              "#0d0887"
             ],
             [
              0.1111111111111111,
              "#46039f"
             ],
             [
              0.2222222222222222,
              "#7201a8"
             ],
             [
              0.3333333333333333,
              "#9c179e"
             ],
             [
              0.4444444444444444,
              "#bd3786"
             ],
             [
              0.5555555555555556,
              "#d8576b"
             ],
             [
              0.6666666666666666,
              "#ed7953"
             ],
             [
              0.7777777777777778,
              "#fb9f3a"
             ],
             [
              0.8888888888888888,
              "#fdca26"
             ],
             [
              1,
              "#f0f921"
             ]
            ],
            "type": "heatmap"
           }
          ],
          "heatmapgl": [
           {
            "colorbar": {
             "outlinewidth": 0,
             "ticks": ""
            },
            "colorscale": [
             [
              0,
              "#0d0887"
             ],
             [
              0.1111111111111111,
              "#46039f"
             ],
             [
              0.2222222222222222,
              "#7201a8"
             ],
             [
              0.3333333333333333,
              "#9c179e"
             ],
             [
              0.4444444444444444,
              "#bd3786"
             ],
             [
              0.5555555555555556,
              "#d8576b"
             ],
             [
              0.6666666666666666,
              "#ed7953"
             ],
             [
              0.7777777777777778,
              "#fb9f3a"
             ],
             [
              0.8888888888888888,
              "#fdca26"
             ],
             [
              1,
              "#f0f921"
             ]
            ],
            "type": "heatmapgl"
           }
          ],
          "histogram": [
           {
            "marker": {
             "pattern": {
              "fillmode": "overlay",
              "size": 10,
              "solidity": 0.2
             }
            },
            "type": "histogram"
           }
          ],
          "histogram2d": [
           {
            "colorbar": {
             "outlinewidth": 0,
             "ticks": ""
            },
            "colorscale": [
             [
              0,
              "#0d0887"
             ],
             [
              0.1111111111111111,
              "#46039f"
             ],
             [
              0.2222222222222222,
              "#7201a8"
             ],
             [
              0.3333333333333333,
              "#9c179e"
             ],
             [
              0.4444444444444444,
              "#bd3786"
             ],
             [
              0.5555555555555556,
              "#d8576b"
             ],
             [
              0.6666666666666666,
              "#ed7953"
             ],
             [
              0.7777777777777778,
              "#fb9f3a"
             ],
             [
              0.8888888888888888,
              "#fdca26"
             ],
             [
              1,
              "#f0f921"
             ]
            ],
            "type": "histogram2d"
           }
          ],
          "histogram2dcontour": [
           {
            "colorbar": {
             "outlinewidth": 0,
             "ticks": ""
            },
            "colorscale": [
             [
              0,
              "#0d0887"
             ],
             [
              0.1111111111111111,
              "#46039f"
             ],
             [
              0.2222222222222222,
              "#7201a8"
             ],
             [
              0.3333333333333333,
              "#9c179e"
             ],
             [
              0.4444444444444444,
              "#bd3786"
             ],
             [
              0.5555555555555556,
              "#d8576b"
             ],
             [
              0.6666666666666666,
              "#ed7953"
             ],
             [
              0.7777777777777778,
              "#fb9f3a"
             ],
             [
              0.8888888888888888,
              "#fdca26"
             ],
             [
              1,
              "#f0f921"
             ]
            ],
            "type": "histogram2dcontour"
           }
          ],
          "mesh3d": [
           {
            "colorbar": {
             "outlinewidth": 0,
             "ticks": ""
            },
            "type": "mesh3d"
           }
          ],
          "parcoords": [
           {
            "line": {
             "colorbar": {
              "outlinewidth": 0,
              "ticks": ""
             }
            },
            "type": "parcoords"
           }
          ],
          "pie": [
           {
            "automargin": true,
            "type": "pie"
           }
          ],
          "scatter": [
           {
            "marker": {
             "colorbar": {
              "outlinewidth": 0,
              "ticks": ""
             }
            },
            "type": "scatter"
           }
          ],
          "scatter3d": [
           {
            "line": {
             "colorbar": {
              "outlinewidth": 0,
              "ticks": ""
             }
            },
            "marker": {
             "colorbar": {
              "outlinewidth": 0,
              "ticks": ""
             }
            },
            "type": "scatter3d"
           }
          ],
          "scattercarpet": [
           {
            "marker": {
             "colorbar": {
              "outlinewidth": 0,
              "ticks": ""
             }
            },
            "type": "scattercarpet"
           }
          ],
          "scattergeo": [
           {
            "marker": {
             "colorbar": {
              "outlinewidth": 0,
              "ticks": ""
             }
            },
            "type": "scattergeo"
           }
          ],
          "scattergl": [
           {
            "marker": {
             "colorbar": {
              "outlinewidth": 0,
              "ticks": ""
             }
            },
            "type": "scattergl"
           }
          ],
          "scattermapbox": [
           {
            "marker": {
             "colorbar": {
              "outlinewidth": 0,
              "ticks": ""
             }
            },
            "type": "scattermapbox"
           }
          ],
          "scatterpolar": [
           {
            "marker": {
             "colorbar": {
              "outlinewidth": 0,
              "ticks": ""
             }
            },
            "type": "scatterpolar"
           }
          ],
          "scatterpolargl": [
           {
            "marker": {
             "colorbar": {
              "outlinewidth": 0,
              "ticks": ""
             }
            },
            "type": "scatterpolargl"
           }
          ],
          "scatterternary": [
           {
            "marker": {
             "colorbar": {
              "outlinewidth": 0,
              "ticks": ""
             }
            },
            "type": "scatterternary"
           }
          ],
          "surface": [
           {
            "colorbar": {
             "outlinewidth": 0,
             "ticks": ""
            },
            "colorscale": [
             [
              0,
              "#0d0887"
             ],
             [
              0.1111111111111111,
              "#46039f"
             ],
             [
              0.2222222222222222,
              "#7201a8"
             ],
             [
              0.3333333333333333,
              "#9c179e"
             ],
             [
              0.4444444444444444,
              "#bd3786"
             ],
             [
              0.5555555555555556,
              "#d8576b"
             ],
             [
              0.6666666666666666,
              "#ed7953"
             ],
             [
              0.7777777777777778,
              "#fb9f3a"
             ],
             [
              0.8888888888888888,
              "#fdca26"
             ],
             [
              1,
              "#f0f921"
             ]
            ],
            "type": "surface"
           }
          ],
          "table": [
           {
            "cells": {
             "fill": {
              "color": "#EBF0F8"
             },
             "line": {
              "color": "white"
             }
            },
            "header": {
             "fill": {
              "color": "#C8D4E3"
             },
             "line": {
              "color": "white"
             }
            },
            "type": "table"
           }
          ]
         },
         "layout": {
          "annotationdefaults": {
           "arrowcolor": "#2a3f5f",
           "arrowhead": 0,
           "arrowwidth": 1
          },
          "autotypenumbers": "strict",
          "coloraxis": {
           "colorbar": {
            "outlinewidth": 0,
            "ticks": ""
           }
          },
          "colorscale": {
           "diverging": [
            [
             0,
             "#8e0152"
            ],
            [
             0.1,
             "#c51b7d"
            ],
            [
             0.2,
             "#de77ae"
            ],
            [
             0.3,
             "#f1b6da"
            ],
            [
             0.4,
             "#fde0ef"
            ],
            [
             0.5,
             "#f7f7f7"
            ],
            [
             0.6,
             "#e6f5d0"
            ],
            [
             0.7,
             "#b8e186"
            ],
            [
             0.8,
             "#7fbc41"
            ],
            [
             0.9,
             "#4d9221"
            ],
            [
             1,
             "#276419"
            ]
           ],
           "sequential": [
            [
             0,
             "#0d0887"
            ],
            [
             0.1111111111111111,
             "#46039f"
            ],
            [
             0.2222222222222222,
             "#7201a8"
            ],
            [
             0.3333333333333333,
             "#9c179e"
            ],
            [
             0.4444444444444444,
             "#bd3786"
            ],
            [
             0.5555555555555556,
             "#d8576b"
            ],
            [
             0.6666666666666666,
             "#ed7953"
            ],
            [
             0.7777777777777778,
             "#fb9f3a"
            ],
            [
             0.8888888888888888,
             "#fdca26"
            ],
            [
             1,
             "#f0f921"
            ]
           ],
           "sequentialminus": [
            [
             0,
             "#0d0887"
            ],
            [
             0.1111111111111111,
             "#46039f"
            ],
            [
             0.2222222222222222,
             "#7201a8"
            ],
            [
             0.3333333333333333,
             "#9c179e"
            ],
            [
             0.4444444444444444,
             "#bd3786"
            ],
            [
             0.5555555555555556,
             "#d8576b"
            ],
            [
             0.6666666666666666,
             "#ed7953"
            ],
            [
             0.7777777777777778,
             "#fb9f3a"
            ],
            [
             0.8888888888888888,
             "#fdca26"
            ],
            [
             1,
             "#f0f921"
            ]
           ]
          },
          "colorway": [
           "#636efa",
           "#EF553B",
           "#00cc96",
           "#ab63fa",
           "#FFA15A",
           "#19d3f3",
           "#FF6692",
           "#B6E880",
           "#FF97FF",
           "#FECB52"
          ],
          "font": {
           "color": "#2a3f5f"
          },
          "geo": {
           "bgcolor": "white",
           "lakecolor": "white",
           "landcolor": "#E5ECF6",
           "showlakes": true,
           "showland": true,
           "subunitcolor": "white"
          },
          "hoverlabel": {
           "align": "left"
          },
          "hovermode": "closest",
          "mapbox": {
           "style": "light"
          },
          "paper_bgcolor": "white",
          "plot_bgcolor": "#E5ECF6",
          "polar": {
           "angularaxis": {
            "gridcolor": "white",
            "linecolor": "white",
            "ticks": ""
           },
           "bgcolor": "#E5ECF6",
           "radialaxis": {
            "gridcolor": "white",
            "linecolor": "white",
            "ticks": ""
           }
          },
          "scene": {
           "xaxis": {
            "backgroundcolor": "#E5ECF6",
            "gridcolor": "white",
            "gridwidth": 2,
            "linecolor": "white",
            "showbackground": true,
            "ticks": "",
            "zerolinecolor": "white"
           },
           "yaxis": {
            "backgroundcolor": "#E5ECF6",
            "gridcolor": "white",
            "gridwidth": 2,
            "linecolor": "white",
            "showbackground": true,
            "ticks": "",
            "zerolinecolor": "white"
           },
           "zaxis": {
            "backgroundcolor": "#E5ECF6",
            "gridcolor": "white",
            "gridwidth": 2,
            "linecolor": "white",
            "showbackground": true,
            "ticks": "",
            "zerolinecolor": "white"
           }
          },
          "shapedefaults": {
           "line": {
            "color": "#2a3f5f"
           }
          },
          "ternary": {
           "aaxis": {
            "gridcolor": "white",
            "linecolor": "white",
            "ticks": ""
           },
           "baxis": {
            "gridcolor": "white",
            "linecolor": "white",
            "ticks": ""
           },
           "bgcolor": "#E5ECF6",
           "caxis": {
            "gridcolor": "white",
            "linecolor": "white",
            "ticks": ""
           }
          },
          "title": {
           "x": 0.05
          },
          "xaxis": {
           "automargin": true,
           "gridcolor": "white",
           "linecolor": "white",
           "ticks": "",
           "title": {
            "standoff": 15
           },
           "zerolinecolor": "white",
           "zerolinewidth": 2
          },
          "yaxis": {
           "automargin": true,
           "gridcolor": "white",
           "linecolor": "white",
           "ticks": "",
           "title": {
            "standoff": 15
           },
           "zerolinecolor": "white",
           "zerolinewidth": 2
          }
         }
        },
        "xaxis": {
         "anchor": "y",
         "domain": [
          0,
          1
         ],
         "title": {
          "text": "number_of_users"
         }
        },
        "yaxis": {
         "anchor": "x",
         "domain": [
          0,
          1
         ],
         "title": {
          "text": "event"
         }
        }
       }
      },
      "text/html": [
       "<div>                            <div id=\"0acfae19-681a-4857-bb10-40e576dec010\" class=\"plotly-graph-div\" style=\"height:525px; width:100%;\"></div>            <script type=\"text/javascript\">                require([\"plotly\"], function(Plotly) {                    window.PLOTLYENV=window.PLOTLYENV || {};                                    if (document.getElementById(\"0acfae19-681a-4857-bb10-40e576dec010\")) {                    Plotly.newPlot(                        \"0acfae19-681a-4857-bb10-40e576dec010\",                        [{\"hovertemplate\":\"number_of_users=%{x}<br>event=%{y}<extra></extra>\",\"legendgroup\":\"\",\"marker\":{\"color\":\"#636efa\"},\"name\":\"\",\"orientation\":\"h\",\"showlegend\":false,\"x\":[7419,4593,3734,3539],\"xaxis\":\"x\",\"y\":[\"MainScreenAppear\",\"OffersScreenAppear\",\"CartScreenAppear\",\"PaymentScreenSuccessful\"],\"yaxis\":\"y\",\"type\":\"funnel\"}],                        {\"template\":{\"data\":{\"bar\":[{\"error_x\":{\"color\":\"#2a3f5f\"},\"error_y\":{\"color\":\"#2a3f5f\"},\"marker\":{\"line\":{\"color\":\"#E5ECF6\",\"width\":0.5},\"pattern\":{\"fillmode\":\"overlay\",\"size\":10,\"solidity\":0.2}},\"type\":\"bar\"}],\"barpolar\":[{\"marker\":{\"line\":{\"color\":\"#E5ECF6\",\"width\":0.5},\"pattern\":{\"fillmode\":\"overlay\",\"size\":10,\"solidity\":0.2}},\"type\":\"barpolar\"}],\"carpet\":[{\"aaxis\":{\"endlinecolor\":\"#2a3f5f\",\"gridcolor\":\"white\",\"linecolor\":\"white\",\"minorgridcolor\":\"white\",\"startlinecolor\":\"#2a3f5f\"},\"baxis\":{\"endlinecolor\":\"#2a3f5f\",\"gridcolor\":\"white\",\"linecolor\":\"white\",\"minorgridcolor\":\"white\",\"startlinecolor\":\"#2a3f5f\"},\"type\":\"carpet\"}],\"choropleth\":[{\"colorbar\":{\"outlinewidth\":0,\"ticks\":\"\"},\"type\":\"choropleth\"}],\"contour\":[{\"colorbar\":{\"outlinewidth\":0,\"ticks\":\"\"},\"colorscale\":[[0.0,\"#0d0887\"],[0.1111111111111111,\"#46039f\"],[0.2222222222222222,\"#7201a8\"],[0.3333333333333333,\"#9c179e\"],[0.4444444444444444,\"#bd3786\"],[0.5555555555555556,\"#d8576b\"],[0.6666666666666666,\"#ed7953\"],[0.7777777777777778,\"#fb9f3a\"],[0.8888888888888888,\"#fdca26\"],[1.0,\"#f0f921\"]],\"type\":\"contour\"}],\"contourcarpet\":[{\"colorbar\":{\"outlinewidth\":0,\"ticks\":\"\"},\"type\":\"contourcarpet\"}],\"heatmap\":[{\"colorbar\":{\"outlinewidth\":0,\"ticks\":\"\"},\"colorscale\":[[0.0,\"#0d0887\"],[0.1111111111111111,\"#46039f\"],[0.2222222222222222,\"#7201a8\"],[0.3333333333333333,\"#9c179e\"],[0.4444444444444444,\"#bd3786\"],[0.5555555555555556,\"#d8576b\"],[0.6666666666666666,\"#ed7953\"],[0.7777777777777778,\"#fb9f3a\"],[0.8888888888888888,\"#fdca26\"],[1.0,\"#f0f921\"]],\"type\":\"heatmap\"}],\"heatmapgl\":[{\"colorbar\":{\"outlinewidth\":0,\"ticks\":\"\"},\"colorscale\":[[0.0,\"#0d0887\"],[0.1111111111111111,\"#46039f\"],[0.2222222222222222,\"#7201a8\"],[0.3333333333333333,\"#9c179e\"],[0.4444444444444444,\"#bd3786\"],[0.5555555555555556,\"#d8576b\"],[0.6666666666666666,\"#ed7953\"],[0.7777777777777778,\"#fb9f3a\"],[0.8888888888888888,\"#fdca26\"],[1.0,\"#f0f921\"]],\"type\":\"heatmapgl\"}],\"histogram\":[{\"marker\":{\"pattern\":{\"fillmode\":\"overlay\",\"size\":10,\"solidity\":0.2}},\"type\":\"histogram\"}],\"histogram2d\":[{\"colorbar\":{\"outlinewidth\":0,\"ticks\":\"\"},\"colorscale\":[[0.0,\"#0d0887\"],[0.1111111111111111,\"#46039f\"],[0.2222222222222222,\"#7201a8\"],[0.3333333333333333,\"#9c179e\"],[0.4444444444444444,\"#bd3786\"],[0.5555555555555556,\"#d8576b\"],[0.6666666666666666,\"#ed7953\"],[0.7777777777777778,\"#fb9f3a\"],[0.8888888888888888,\"#fdca26\"],[1.0,\"#f0f921\"]],\"type\":\"histogram2d\"}],\"histogram2dcontour\":[{\"colorbar\":{\"outlinewidth\":0,\"ticks\":\"\"},\"colorscale\":[[0.0,\"#0d0887\"],[0.1111111111111111,\"#46039f\"],[0.2222222222222222,\"#7201a8\"],[0.3333333333333333,\"#9c179e\"],[0.4444444444444444,\"#bd3786\"],[0.5555555555555556,\"#d8576b\"],[0.6666666666666666,\"#ed7953\"],[0.7777777777777778,\"#fb9f3a\"],[0.8888888888888888,\"#fdca26\"],[1.0,\"#f0f921\"]],\"type\":\"histogram2dcontour\"}],\"mesh3d\":[{\"colorbar\":{\"outlinewidth\":0,\"ticks\":\"\"},\"type\":\"mesh3d\"}],\"parcoords\":[{\"line\":{\"colorbar\":{\"outlinewidth\":0,\"ticks\":\"\"}},\"type\":\"parcoords\"}],\"pie\":[{\"automargin\":true,\"type\":\"pie\"}],\"scatter\":[{\"marker\":{\"colorbar\":{\"outlinewidth\":0,\"ticks\":\"\"}},\"type\":\"scatter\"}],\"scatter3d\":[{\"line\":{\"colorbar\":{\"outlinewidth\":0,\"ticks\":\"\"}},\"marker\":{\"colorbar\":{\"outlinewidth\":0,\"ticks\":\"\"}},\"type\":\"scatter3d\"}],\"scattercarpet\":[{\"marker\":{\"colorbar\":{\"outlinewidth\":0,\"ticks\":\"\"}},\"type\":\"scattercarpet\"}],\"scattergeo\":[{\"marker\":{\"colorbar\":{\"outlinewidth\":0,\"ticks\":\"\"}},\"type\":\"scattergeo\"}],\"scattergl\":[{\"marker\":{\"colorbar\":{\"outlinewidth\":0,\"ticks\":\"\"}},\"type\":\"scattergl\"}],\"scattermapbox\":[{\"marker\":{\"colorbar\":{\"outlinewidth\":0,\"ticks\":\"\"}},\"type\":\"scattermapbox\"}],\"scatterpolar\":[{\"marker\":{\"colorbar\":{\"outlinewidth\":0,\"ticks\":\"\"}},\"type\":\"scatterpolar\"}],\"scatterpolargl\":[{\"marker\":{\"colorbar\":{\"outlinewidth\":0,\"ticks\":\"\"}},\"type\":\"scatterpolargl\"}],\"scatterternary\":[{\"marker\":{\"colorbar\":{\"outlinewidth\":0,\"ticks\":\"\"}},\"type\":\"scatterternary\"}],\"surface\":[{\"colorbar\":{\"outlinewidth\":0,\"ticks\":\"\"},\"colorscale\":[[0.0,\"#0d0887\"],[0.1111111111111111,\"#46039f\"],[0.2222222222222222,\"#7201a8\"],[0.3333333333333333,\"#9c179e\"],[0.4444444444444444,\"#bd3786\"],[0.5555555555555556,\"#d8576b\"],[0.6666666666666666,\"#ed7953\"],[0.7777777777777778,\"#fb9f3a\"],[0.8888888888888888,\"#fdca26\"],[1.0,\"#f0f921\"]],\"type\":\"surface\"}],\"table\":[{\"cells\":{\"fill\":{\"color\":\"#EBF0F8\"},\"line\":{\"color\":\"white\"}},\"header\":{\"fill\":{\"color\":\"#C8D4E3\"},\"line\":{\"color\":\"white\"}},\"type\":\"table\"}]},\"layout\":{\"annotationdefaults\":{\"arrowcolor\":\"#2a3f5f\",\"arrowhead\":0,\"arrowwidth\":1},\"autotypenumbers\":\"strict\",\"coloraxis\":{\"colorbar\":{\"outlinewidth\":0,\"ticks\":\"\"}},\"colorscale\":{\"diverging\":[[0,\"#8e0152\"],[0.1,\"#c51b7d\"],[0.2,\"#de77ae\"],[0.3,\"#f1b6da\"],[0.4,\"#fde0ef\"],[0.5,\"#f7f7f7\"],[0.6,\"#e6f5d0\"],[0.7,\"#b8e186\"],[0.8,\"#7fbc41\"],[0.9,\"#4d9221\"],[1,\"#276419\"]],\"sequential\":[[0.0,\"#0d0887\"],[0.1111111111111111,\"#46039f\"],[0.2222222222222222,\"#7201a8\"],[0.3333333333333333,\"#9c179e\"],[0.4444444444444444,\"#bd3786\"],[0.5555555555555556,\"#d8576b\"],[0.6666666666666666,\"#ed7953\"],[0.7777777777777778,\"#fb9f3a\"],[0.8888888888888888,\"#fdca26\"],[1.0,\"#f0f921\"]],\"sequentialminus\":[[0.0,\"#0d0887\"],[0.1111111111111111,\"#46039f\"],[0.2222222222222222,\"#7201a8\"],[0.3333333333333333,\"#9c179e\"],[0.4444444444444444,\"#bd3786\"],[0.5555555555555556,\"#d8576b\"],[0.6666666666666666,\"#ed7953\"],[0.7777777777777778,\"#fb9f3a\"],[0.8888888888888888,\"#fdca26\"],[1.0,\"#f0f921\"]]},\"colorway\":[\"#636efa\",\"#EF553B\",\"#00cc96\",\"#ab63fa\",\"#FFA15A\",\"#19d3f3\",\"#FF6692\",\"#B6E880\",\"#FF97FF\",\"#FECB52\"],\"font\":{\"color\":\"#2a3f5f\"},\"geo\":{\"bgcolor\":\"white\",\"lakecolor\":\"white\",\"landcolor\":\"#E5ECF6\",\"showlakes\":true,\"showland\":true,\"subunitcolor\":\"white\"},\"hoverlabel\":{\"align\":\"left\"},\"hovermode\":\"closest\",\"mapbox\":{\"style\":\"light\"},\"paper_bgcolor\":\"white\",\"plot_bgcolor\":\"#E5ECF6\",\"polar\":{\"angularaxis\":{\"gridcolor\":\"white\",\"linecolor\":\"white\",\"ticks\":\"\"},\"bgcolor\":\"#E5ECF6\",\"radialaxis\":{\"gridcolor\":\"white\",\"linecolor\":\"white\",\"ticks\":\"\"}},\"scene\":{\"xaxis\":{\"backgroundcolor\":\"#E5ECF6\",\"gridcolor\":\"white\",\"gridwidth\":2,\"linecolor\":\"white\",\"showbackground\":true,\"ticks\":\"\",\"zerolinecolor\":\"white\"},\"yaxis\":{\"backgroundcolor\":\"#E5ECF6\",\"gridcolor\":\"white\",\"gridwidth\":2,\"linecolor\":\"white\",\"showbackground\":true,\"ticks\":\"\",\"zerolinecolor\":\"white\"},\"zaxis\":{\"backgroundcolor\":\"#E5ECF6\",\"gridcolor\":\"white\",\"gridwidth\":2,\"linecolor\":\"white\",\"showbackground\":true,\"ticks\":\"\",\"zerolinecolor\":\"white\"}},\"shapedefaults\":{\"line\":{\"color\":\"#2a3f5f\"}},\"ternary\":{\"aaxis\":{\"gridcolor\":\"white\",\"linecolor\":\"white\",\"ticks\":\"\"},\"baxis\":{\"gridcolor\":\"white\",\"linecolor\":\"white\",\"ticks\":\"\"},\"bgcolor\":\"#E5ECF6\",\"caxis\":{\"gridcolor\":\"white\",\"linecolor\":\"white\",\"ticks\":\"\"}},\"title\":{\"x\":0.05},\"xaxis\":{\"automargin\":true,\"gridcolor\":\"white\",\"linecolor\":\"white\",\"ticks\":\"\",\"title\":{\"standoff\":15},\"zerolinecolor\":\"white\",\"zerolinewidth\":2},\"yaxis\":{\"automargin\":true,\"gridcolor\":\"white\",\"linecolor\":\"white\",\"ticks\":\"\",\"title\":{\"standoff\":15},\"zerolinecolor\":\"white\",\"zerolinewidth\":2}}},\"xaxis\":{\"anchor\":\"y\",\"domain\":[0.0,1.0],\"title\":{\"text\":\"number_of_users\"}},\"yaxis\":{\"anchor\":\"x\",\"domain\":[0.0,1.0],\"title\":{\"text\":\"event\"}},\"legend\":{\"tracegroupgap\":0},\"margin\":{\"t\":60}},                        {\"responsive\": true}                    ).then(function(){\n",
       "                            \n",
       "var gd = document.getElementById('0acfae19-681a-4857-bb10-40e576dec010');\n",
       "var x = new MutationObserver(function (mutations, observer) {{\n",
       "        var display = window.getComputedStyle(gd).display;\n",
       "        if (!display || display === 'none') {{\n",
       "            console.log([gd, 'removed!']);\n",
       "            Plotly.purge(gd);\n",
       "            observer.disconnect();\n",
       "        }}\n",
       "}});\n",
       "\n",
       "// Listen for the removal of the full notebook cells\n",
       "var notebookContainer = gd.closest('#notebook-container');\n",
       "if (notebookContainer) {{\n",
       "    x.observe(notebookContainer, {childList: true});\n",
       "}}\n",
       "\n",
       "// Listen for the clearing of the current output cell\n",
       "var outputEl = gd.closest('.output');\n",
       "if (outputEl) {{\n",
       "    x.observe(outputEl, {childList: true});\n",
       "}}\n",
       "\n",
       "                        })                };                });            </script>        </div>"
      ]
     },
     "metadata": {},
     "output_type": "display_data"
    }
   ],
   "source": [
    "#REVIEWER CODE thanks for the help\n",
    "import plotly.express as px\n",
    "res = event_counts.reset_index().rename(columns = {'index':'event', 0:'number_of_users'})\n",
    "fig=px.funnel(res,y='event',x= 'number_of_users')\n",
    "fig.show()"
   ]
  },
  {
   "cell_type": "markdown",
   "metadata": {},
   "source": [
    "<div class=\"alert alert-block alert-success\"> <b>Reviewer's comment v2</b> <a \n",
    "class=\"tocSkip\"></a>\n",
    "Perfect </div>"
   ]
  },
  {
   "cell_type": "markdown",
   "metadata": {},
   "source": [
    "<div class=\"alert alert-info\"; style=\"border-left: 7px solid blue\">\n",
    "<b>Student's comment</b>\n",
    "    \n",
    "**Instructions for completing the project:**\n",
    "    \n",
    "**Step 5. Study the results of the experiment**\n",
    " \n",
    "* How many users are there in each group?\n",
    "    \n",
    "* We have two control groups in the A/A test, where we check our mechanisms and calculations. See if there is a statistically significant difference between samples 246 and 247.\n",
    "    \n",
    "* Select the most popular event. In each of the control groups, find the number of users who performed this action. Find their share. Check whether the difference between the groups is statistically significant. Repeat the procedure for all other events (it will save time if you create a special function for this test). Can you confirm that the groups were split properly?\n",
    "    \n",
    "* Do the same thing for the group with altered fonts. Compare the results with those of each of the control groups for each event in isolation. Compare the results with the combined results for the control groups. What conclusions can you draw from the experiment?\n",
    "    \n",
    "* What significance level have you set to test the statistical hypotheses mentioned above? Calculate how many statistical hypothesis tests you carried out. With a statistical significance level of 0.1, one in 10 results could be false. What should the significance level be? If you want to change it, run through the previous steps again and check your conclusions."
   ]
  },
  {
   "cell_type": "code",
   "execution_count": 144,
   "metadata": {},
   "outputs": [
    {
     "data": {
      "text/html": [
       "<div>\n",
       "<style scoped>\n",
       "    .dataframe tbody tr th:only-of-type {\n",
       "        vertical-align: middle;\n",
       "    }\n",
       "\n",
       "    .dataframe tbody tr th {\n",
       "        vertical-align: top;\n",
       "    }\n",
       "\n",
       "    .dataframe thead th {\n",
       "        text-align: right;\n",
       "    }\n",
       "</style>\n",
       "<table border=\"1\" class=\"dataframe\">\n",
       "  <thead>\n",
       "    <tr style=\"text-align: right;\">\n",
       "      <th></th>\n",
       "      <th>event_name</th>\n",
       "      <th>user_id</th>\n",
       "      <th>event_timestamp</th>\n",
       "      <th>group_id</th>\n",
       "      <th>date</th>\n",
       "    </tr>\n",
       "  </thead>\n",
       "  <tbody>\n",
       "    <tr>\n",
       "      <th>2828</th>\n",
       "      <td>Tutorial</td>\n",
       "      <td>3737462046622621720</td>\n",
       "      <td>2019-08-01 00:07:28</td>\n",
       "      <td>246</td>\n",
       "      <td>2019-08-01</td>\n",
       "    </tr>\n",
       "    <tr>\n",
       "      <th>2829</th>\n",
       "      <td>MainScreenAppear</td>\n",
       "      <td>3737462046622621720</td>\n",
       "      <td>2019-08-01 00:08:00</td>\n",
       "      <td>246</td>\n",
       "      <td>2019-08-01</td>\n",
       "    </tr>\n",
       "    <tr>\n",
       "      <th>2830</th>\n",
       "      <td>MainScreenAppear</td>\n",
       "      <td>3737462046622621720</td>\n",
       "      <td>2019-08-01 00:08:55</td>\n",
       "      <td>246</td>\n",
       "      <td>2019-08-01</td>\n",
       "    </tr>\n",
       "    <tr>\n",
       "      <th>2831</th>\n",
       "      <td>OffersScreenAppear</td>\n",
       "      <td>3737462046622621720</td>\n",
       "      <td>2019-08-01 00:08:58</td>\n",
       "      <td>246</td>\n",
       "      <td>2019-08-01</td>\n",
       "    </tr>\n",
       "    <tr>\n",
       "      <th>2832</th>\n",
       "      <td>MainScreenAppear</td>\n",
       "      <td>1433840883824088890</td>\n",
       "      <td>2019-08-01 00:08:59</td>\n",
       "      <td>247</td>\n",
       "      <td>2019-08-01</td>\n",
       "    </tr>\n",
       "    <tr>\n",
       "      <th>...</th>\n",
       "      <td>...</td>\n",
       "      <td>...</td>\n",
       "      <td>...</td>\n",
       "      <td>...</td>\n",
       "      <td>...</td>\n",
       "    </tr>\n",
       "    <tr>\n",
       "      <th>244121</th>\n",
       "      <td>MainScreenAppear</td>\n",
       "      <td>4599628364049201812</td>\n",
       "      <td>2019-08-07 21:12:25</td>\n",
       "      <td>247</td>\n",
       "      <td>2019-08-07</td>\n",
       "    </tr>\n",
       "    <tr>\n",
       "      <th>244122</th>\n",
       "      <td>MainScreenAppear</td>\n",
       "      <td>5849806612437486590</td>\n",
       "      <td>2019-08-07 21:13:59</td>\n",
       "      <td>246</td>\n",
       "      <td>2019-08-07</td>\n",
       "    </tr>\n",
       "    <tr>\n",
       "      <th>244123</th>\n",
       "      <td>MainScreenAppear</td>\n",
       "      <td>5746969938801999050</td>\n",
       "      <td>2019-08-07 21:14:43</td>\n",
       "      <td>246</td>\n",
       "      <td>2019-08-07</td>\n",
       "    </tr>\n",
       "    <tr>\n",
       "      <th>244124</th>\n",
       "      <td>MainScreenAppear</td>\n",
       "      <td>5746969938801999050</td>\n",
       "      <td>2019-08-07 21:14:58</td>\n",
       "      <td>246</td>\n",
       "      <td>2019-08-07</td>\n",
       "    </tr>\n",
       "    <tr>\n",
       "      <th>244125</th>\n",
       "      <td>OffersScreenAppear</td>\n",
       "      <td>5746969938801999050</td>\n",
       "      <td>2019-08-07 21:15:17</td>\n",
       "      <td>246</td>\n",
       "      <td>2019-08-07</td>\n",
       "    </tr>\n",
       "  </tbody>\n",
       "</table>\n",
       "<p>240887 rows × 5 columns</p>\n",
       "</div>"
      ],
      "text/plain": [
       "                event_name              user_id     event_timestamp  group_id  \\\n",
       "2828              Tutorial  3737462046622621720 2019-08-01 00:07:28       246   \n",
       "2829      MainScreenAppear  3737462046622621720 2019-08-01 00:08:00       246   \n",
       "2830      MainScreenAppear  3737462046622621720 2019-08-01 00:08:55       246   \n",
       "2831    OffersScreenAppear  3737462046622621720 2019-08-01 00:08:58       246   \n",
       "2832      MainScreenAppear  1433840883824088890 2019-08-01 00:08:59       247   \n",
       "...                    ...                  ...                 ...       ...   \n",
       "244121    MainScreenAppear  4599628364049201812 2019-08-07 21:12:25       247   \n",
       "244122    MainScreenAppear  5849806612437486590 2019-08-07 21:13:59       246   \n",
       "244123    MainScreenAppear  5746969938801999050 2019-08-07 21:14:43       246   \n",
       "244124    MainScreenAppear  5746969938801999050 2019-08-07 21:14:58       246   \n",
       "244125  OffersScreenAppear  5746969938801999050 2019-08-07 21:15:17       246   \n",
       "\n",
       "             date  \n",
       "2828   2019-08-01  \n",
       "2829   2019-08-01  \n",
       "2830   2019-08-01  \n",
       "2831   2019-08-01  \n",
       "2832   2019-08-01  \n",
       "...           ...  \n",
       "244121 2019-08-07  \n",
       "244122 2019-08-07  \n",
       "244123 2019-08-07  \n",
       "244124 2019-08-07  \n",
       "244125 2019-08-07  \n",
       "\n",
       "[240887 rows x 5 columns]"
      ]
     },
     "execution_count": 144,
     "metadata": {},
     "output_type": "execute_result"
    }
   ],
   "source": [
    "filtered_df"
   ]
  },
  {
   "cell_type": "code",
   "execution_count": 145,
   "metadata": {},
   "outputs": [
    {
     "data": {
      "text/plain": [
       "248    84563\n",
       "246    79302\n",
       "247    77022\n",
       "Name: group_id, dtype: int64"
      ]
     },
     "execution_count": 145,
     "metadata": {},
     "output_type": "execute_result"
    }
   ],
   "source": [
    "filtered_df['group_id'].value_counts()"
   ]
  },
  {
   "cell_type": "markdown",
   "metadata": {},
   "source": [
    "<div class=\"alert alert-info\"; style=\"border-left: 7px solid blue\">\n",
    "<b>Student's comment</b>\n",
    "    \n",
    "From the table above, we see that group 246 has 79302 users, group 247 has 77022 users, and group 248 has 84563 users."
   ]
  },
  {
   "cell_type": "markdown",
   "metadata": {},
   "source": [
    "<div class=\"alert alert-block alert-danger\">\n",
    "<b>Reviewer's comment</b> <a class=\"tocSkip\"></a>\n",
    "    \n",
    "~~Let's count here not the number of events by groups, but unique users~~\n",
    "</div>"
   ]
  },
  {
   "cell_type": "markdown",
   "metadata": {},
   "source": [
    "<div class=\"alert alert-info\"; style=\"border-left: 7px solid blue\">\n",
    "<b>Student's comment</b>\n",
    "    \n",
    "Was done in cell 80."
   ]
  },
  {
   "cell_type": "markdown",
   "metadata": {},
   "source": [
    "<div class=\"alert alert-block alert-success\"> <b>Reviewer's comment v2</b> <a \n",
    "class=\"tocSkip\"></a>\n",
    "Ok </div>"
   ]
  },
  {
   "cell_type": "markdown",
   "metadata": {},
   "source": []
  },
  {
   "cell_type": "code",
   "execution_count": 146,
   "metadata": {},
   "outputs": [],
   "source": [
    "group_246 = filtered_df[filtered_df['group_id'] == 246]\n",
    "group_247 = filtered_df[filtered_df['group_id'] == 247]\n",
    "group_248 = filtered_df[filtered_df['group_id'] == 248]"
   ]
  },
  {
   "cell_type": "code",
   "execution_count": null,
   "metadata": {},
   "outputs": [],
   "source": []
  },
  {
   "cell_type": "markdown",
   "metadata": {},
   "source": [
    "<div class=\"alert alert-info\"; style=\"border-left: 7px solid blue\">\n",
    "<b>Student's comment</b>\n",
    "    \n",
    "Let's conduct and A/A test between groups 246 and 247, and make sure there is no significant statistical difference."
   ]
  },
  {
   "cell_type": "code",
   "execution_count": 147,
   "metadata": {},
   "outputs": [
    {
     "data": {
      "text/plain": [
       "0.028750851176515095"
      ]
     },
     "execution_count": 147,
     "metadata": {},
     "output_type": "execute_result"
    }
   ],
   "source": [
    "user_difference = (group_246['user_id'].count() - group_247['user_id'].count()) / group_246['user_id'].count()\n",
    "user_difference"
   ]
  },
  {
   "cell_type": "markdown",
   "metadata": {},
   "source": [
    "<div class=\"alert alert-info\"; style=\"border-left: 7px solid blue\">\n",
    "<b>Student's comment</b>\n",
    "    \n",
    "We see that the difference between the number of users is 2.86%. This is in contrast to what constitutes a successful A/A test (the number of users in different groups doesn't vary by more than 1%)."
   ]
  },
  {
   "cell_type": "code",
   "execution_count": 148,
   "metadata": {},
   "outputs": [
    {
     "name": "stdout",
     "output_type": "stream",
     "text": [
      "MainScreenAppear           37676\n",
      "OffersScreenAppear         14767\n",
      "CartScreenAppear           14690\n",
      "PaymentScreenSuccessful    11852\n",
      "Tutorial                     317\n",
      "Name: event_name, dtype: int64\n",
      "MainScreenAppear           39090\n",
      "OffersScreenAppear         15179\n",
      "CartScreenAppear           12434\n",
      "PaymentScreenSuccessful     9981\n",
      "Tutorial                     338\n",
      "Name: event_name, dtype: int64\n"
     ]
    }
   ],
   "source": [
    "print(group_246['event_name'].value_counts())\n",
    "print(group_247['event_name'].value_counts())"
   ]
  },
  {
   "cell_type": "markdown",
   "metadata": {},
   "source": [
    "<div class=\"alert alert-info\"; style=\"border-left: 7px solid blue\">\n",
    "<b>Student's comment</b>\n",
    "    \n",
    "For both groups the most popular event was 'Main Screen Appear'. "
   ]
  },
  {
   "cell_type": "code",
   "execution_count": 149,
   "metadata": {},
   "outputs": [
    {
     "data": {
      "text/plain": [
       "2450"
      ]
     },
     "execution_count": 149,
     "metadata": {},
     "output_type": "execute_result"
    }
   ],
   "source": [
    "main_screen_users_246 = group_246[group_246['event_name'] == 'MainScreenAppear']\n",
    "main_screen_users_246['user_id'].nunique()"
   ]
  },
  {
   "cell_type": "code",
   "execution_count": 150,
   "metadata": {},
   "outputs": [
    {
     "data": {
      "text/plain": [
       "2476"
      ]
     },
     "execution_count": 150,
     "metadata": {},
     "output_type": "execute_result"
    }
   ],
   "source": [
    "main_screen_users_247 = group_247[group_247['event_name'] == 'MainScreenAppear']\n",
    "main_screen_users_247['user_id'].nunique()"
   ]
  },
  {
   "cell_type": "markdown",
   "metadata": {},
   "source": [
    "<div class=\"alert alert-info\"; style=\"border-left: 7px solid blue\">\n",
    "<b>Student's comment</b>\n",
    "    \n",
    "For the 'Main Screen Appear' event, group 246 and group 247 had 2450 and 2476 users, respectively."
   ]
  },
  {
   "cell_type": "code",
   "execution_count": 151,
   "metadata": {},
   "outputs": [
    {
     "data": {
      "text/plain": [
       "-0.010612244897959184"
      ]
     },
     "execution_count": 151,
     "metadata": {},
     "output_type": "execute_result"
    }
   ],
   "source": [
    "main_screen_rate = (main_screen_users_246['user_id'].nunique() - main_screen_users_247['user_id'].nunique()) / main_screen_users_246['user_id'].nunique()\n",
    "main_screen_rate"
   ]
  },
  {
   "cell_type": "markdown",
   "metadata": {},
   "source": [
    "<div class=\"alert alert-info\"; style=\"border-left: 7px solid blue\">\n",
    "<b>Student's comment</b>\n",
    "    \n",
    "For the 'Main Screen Appear' event, we have a negative difference of 1.06%."
   ]
  },
  {
   "cell_type": "code",
   "execution_count": 152,
   "metadata": {},
   "outputs": [
    {
     "data": {
      "text/plain": [
       "1542"
      ]
     },
     "execution_count": 152,
     "metadata": {},
     "output_type": "execute_result"
    }
   ],
   "source": [
    "offers_screen_users_246 = group_246[group_246['event_name'] == 'OffersScreenAppear']\n",
    "offers_screen_users_246['user_id'].nunique()"
   ]
  },
  {
   "cell_type": "code",
   "execution_count": 153,
   "metadata": {},
   "outputs": [
    {
     "data": {
      "text/plain": [
       "1520"
      ]
     },
     "execution_count": 153,
     "metadata": {},
     "output_type": "execute_result"
    }
   ],
   "source": [
    "offers_screen_users_247 = group_247[group_247['event_name'] == 'OffersScreenAppear']\n",
    "offers_screen_users_247['user_id'].nunique()"
   ]
  },
  {
   "cell_type": "code",
   "execution_count": 154,
   "metadata": {},
   "outputs": [
    {
     "data": {
      "text/plain": [
       "0.014267185473411154"
      ]
     },
     "execution_count": 154,
     "metadata": {},
     "output_type": "execute_result"
    }
   ],
   "source": [
    "offers_screen_rate = (offers_screen_users_246['user_id'].nunique() - offers_screen_users_247['user_id'].nunique()) / offers_screen_users_246['user_id'].nunique()\n",
    "offers_screen_rate"
   ]
  },
  {
   "cell_type": "markdown",
   "metadata": {},
   "source": [
    "<div class=\"alert alert-info\"; style=\"border-left: 7px solid blue\">\n",
    "<b>Student's comment</b>\n",
    "    \n",
    "For the 'Offers Screen Appear' event, we have a difference of 1.42%. It is still a bit above our 1% desired threshold."
   ]
  },
  {
   "cell_type": "code",
   "execution_count": 155,
   "metadata": {},
   "outputs": [
    {
     "data": {
      "text/plain": [
       "1266"
      ]
     },
     "execution_count": 155,
     "metadata": {},
     "output_type": "execute_result"
    }
   ],
   "source": [
    "cart_screen_users_246 = group_246[group_246['event_name'] == 'CartScreenAppear']\n",
    "cart_screen_users_246['user_id'].nunique()"
   ]
  },
  {
   "cell_type": "code",
   "execution_count": 156,
   "metadata": {},
   "outputs": [
    {
     "data": {
      "text/plain": [
       "1238"
      ]
     },
     "execution_count": 156,
     "metadata": {},
     "output_type": "execute_result"
    }
   ],
   "source": [
    "cart_screen_users_247 = group_247[group_247['event_name'] == 'CartScreenAppear']\n",
    "cart_screen_users_247['user_id'].nunique()"
   ]
  },
  {
   "cell_type": "code",
   "execution_count": 157,
   "metadata": {},
   "outputs": [
    {
     "data": {
      "text/plain": [
       "0.022116903633491312"
      ]
     },
     "execution_count": 157,
     "metadata": {},
     "output_type": "execute_result"
    }
   ],
   "source": [
    "cart_screen_rate = (cart_screen_users_246['user_id'].nunique() - cart_screen_users_247['user_id'].nunique()) / cart_screen_users_246['user_id'].nunique()\n",
    "cart_screen_rate"
   ]
  },
  {
   "cell_type": "markdown",
   "metadata": {},
   "source": [
    "<div class=\"alert alert-info\"; style=\"border-left: 7px solid blue\">\n",
    "<b>Student's comment</b>\n",
    "    \n",
    "For the 'Cart Screen Appear' event, we have a difference of 2.21%. It is still above our 1% desired threshold."
   ]
  },
  {
   "cell_type": "code",
   "execution_count": 158,
   "metadata": {},
   "outputs": [
    {
     "data": {
      "text/plain": [
       "1200"
      ]
     },
     "execution_count": 158,
     "metadata": {},
     "output_type": "execute_result"
    }
   ],
   "source": [
    "payment_screen_users_246 = group_246[group_246['event_name'] == 'PaymentScreenSuccessful']\n",
    "payment_screen_users_246['user_id'].nunique()"
   ]
  },
  {
   "cell_type": "code",
   "execution_count": 159,
   "metadata": {},
   "outputs": [
    {
     "data": {
      "text/plain": [
       "1158"
      ]
     },
     "execution_count": 159,
     "metadata": {},
     "output_type": "execute_result"
    }
   ],
   "source": [
    "payment_screen_users_247 = group_247[group_247['event_name'] == 'PaymentScreenSuccessful']\n",
    "payment_screen_users_247['user_id'].nunique()"
   ]
  },
  {
   "cell_type": "code",
   "execution_count": 160,
   "metadata": {},
   "outputs": [
    {
     "data": {
      "text/plain": [
       "0.035"
      ]
     },
     "execution_count": 160,
     "metadata": {},
     "output_type": "execute_result"
    }
   ],
   "source": [
    "payment_screen_rate = (payment_screen_users_246['user_id'].nunique() - payment_screen_users_247['user_id'].nunique()) / payment_screen_users_246['user_id'].nunique()\n",
    "payment_screen_rate"
   ]
  },
  {
   "cell_type": "markdown",
   "metadata": {},
   "source": [
    "<div class=\"alert alert-info\"; style=\"border-left: 7px solid blue\">\n",
    "<b>Student's comment</b>\n",
    "    \n",
    "For the 'Payment Screen Successful' event, we have a difference of 3.5%. It is still above our 1% desired threshold."
   ]
  },
  {
   "cell_type": "code",
   "execution_count": 161,
   "metadata": {},
   "outputs": [
    {
     "data": {
      "text/plain": [
       "278"
      ]
     },
     "execution_count": 161,
     "metadata": {},
     "output_type": "execute_result"
    }
   ],
   "source": [
    "tutorial_screen_users_246 = group_246[group_246['event_name'] == 'Tutorial']\n",
    "tutorial_screen_users_246['user_id'].nunique()"
   ]
  },
  {
   "cell_type": "code",
   "execution_count": 162,
   "metadata": {},
   "outputs": [
    {
     "data": {
      "text/plain": [
       "283"
      ]
     },
     "execution_count": 162,
     "metadata": {},
     "output_type": "execute_result"
    }
   ],
   "source": [
    "tutorial_screen_users_247 = group_247[group_247['event_name'] == 'Tutorial']\n",
    "tutorial_screen_users_247['user_id'].nunique()"
   ]
  },
  {
   "cell_type": "code",
   "execution_count": 163,
   "metadata": {},
   "outputs": [
    {
     "data": {
      "text/plain": [
       "-0.017985611510791366"
      ]
     },
     "execution_count": 163,
     "metadata": {},
     "output_type": "execute_result"
    }
   ],
   "source": [
    "tutorial_screen_rate = (tutorial_screen_users_246['user_id'].nunique() - tutorial_screen_users_247['user_id'].nunique()) / tutorial_screen_users_246['user_id'].nunique()\n",
    "tutorial_screen_rate"
   ]
  },
  {
   "cell_type": "markdown",
   "metadata": {},
   "source": [
    "<div class=\"alert alert-info\"; style=\"border-left: 7px solid blue\">\n",
    "<b>Student's comment</b>\n",
    "    \n",
    "For the 'Tutorial' event, we have a negative difference of 1.79%."
   ]
  },
  {
   "cell_type": "markdown",
   "metadata": {},
   "source": [
    "<div class=\"alert alert-info\"; style=\"border-left: 7px solid blue\">\n",
    "<b>Student's comment</b>\n",
    "    \n",
    "By comparing the rates between our two alleged control groups (246 and 247), we keep getting results above our desired threshold (although not by much). However, since the events after 'Main Screen Appear) are significantly lower in number, we won't read too much into these difference, and determine that groups 246 and 247 were in fact split properly."
   ]
  },
  {
   "cell_type": "code",
   "execution_count": 164,
   "metadata": {},
   "outputs": [
    {
     "data": {
      "text/plain": [
       "2493"
      ]
     },
     "execution_count": 164,
     "metadata": {},
     "output_type": "execute_result"
    }
   ],
   "source": [
    "main_screen_users_248 = group_248[group_248['event_name'] == 'MainScreenAppear']\n",
    "main_screen_users_248['user_id'].nunique()"
   ]
  },
  {
   "cell_type": "code",
   "execution_count": 165,
   "metadata": {},
   "outputs": [
    {
     "data": {
      "text/plain": [
       "-0.017551020408163264"
      ]
     },
     "execution_count": 165,
     "metadata": {},
     "output_type": "execute_result"
    }
   ],
   "source": [
    "main_screen_rate_68 = (main_screen_users_246['user_id'].nunique() - main_screen_users_248['user_id'].nunique()) / main_screen_users_246['user_id'].nunique()\n",
    "main_screen_rate_68"
   ]
  },
  {
   "cell_type": "code",
   "execution_count": 166,
   "metadata": {},
   "outputs": [
    {
     "data": {
      "text/plain": [
       "-0.006865912762520194"
      ]
     },
     "execution_count": 166,
     "metadata": {},
     "output_type": "execute_result"
    }
   ],
   "source": [
    "main_screen_rate_78 = (main_screen_users_247['user_id'].nunique() - main_screen_users_248['user_id'].nunique()) / main_screen_users_247['user_id'].nunique()\n",
    "main_screen_rate_78"
   ]
  },
  {
   "cell_type": "markdown",
   "metadata": {},
   "source": [
    "<div class=\"alert alert-info\"; style=\"border-left: 7px solid blue\">\n",
    "<b>Student's comment</b>\n",
    "    \n",
    "For the 'Main Screen Appear' event, we have a negative difference of 1.75% compared with group 246, and a negative 0.68% difference compared with group 247."
   ]
  },
  {
   "cell_type": "code",
   "execution_count": 167,
   "metadata": {},
   "outputs": [
    {
     "data": {
      "text/plain": [
       "1531"
      ]
     },
     "execution_count": 167,
     "metadata": {},
     "output_type": "execute_result"
    }
   ],
   "source": [
    "offers_screen_users_248 = group_248[group_248['event_name'] == 'OffersScreenAppear']\n",
    "offers_screen_users_248['user_id'].nunique()"
   ]
  },
  {
   "cell_type": "code",
   "execution_count": 168,
   "metadata": {},
   "outputs": [
    {
     "data": {
      "text/plain": [
       "0.007133592736705577"
      ]
     },
     "execution_count": 168,
     "metadata": {},
     "output_type": "execute_result"
    }
   ],
   "source": [
    "offers_screen_rate_68 = (offers_screen_users_246['user_id'].nunique() - offers_screen_users_248['user_id'].nunique()) / offers_screen_users_246['user_id'].nunique()\n",
    "offers_screen_rate_68"
   ]
  },
  {
   "cell_type": "code",
   "execution_count": 169,
   "metadata": {},
   "outputs": [
    {
     "data": {
      "text/plain": [
       "-0.007236842105263158"
      ]
     },
     "execution_count": 169,
     "metadata": {},
     "output_type": "execute_result"
    }
   ],
   "source": [
    "offers_screen_rate_78 = (offers_screen_users_247['user_id'].nunique() - offers_screen_users_248['user_id'].nunique()) / offers_screen_users_247['user_id'].nunique()\n",
    "offers_screen_rate_78"
   ]
  },
  {
   "cell_type": "markdown",
   "metadata": {},
   "source": [
    "<div class=\"alert alert-info\"; style=\"border-left: 7px solid blue\">\n",
    "<b>Student's comment</b>\n",
    "    \n",
    "For the 'Offers Screen Appear' event, we have a difference of 0.71% compared with group 246, and a negative 0.72% difference compared with group 247."
   ]
  },
  {
   "cell_type": "code",
   "execution_count": 170,
   "metadata": {},
   "outputs": [
    {
     "data": {
      "text/plain": [
       "1230"
      ]
     },
     "execution_count": 170,
     "metadata": {},
     "output_type": "execute_result"
    }
   ],
   "source": [
    "cart_screen_users_248 = group_248[group_248['event_name'] == 'CartScreenAppear']\n",
    "cart_screen_users_248['user_id'].nunique()"
   ]
  },
  {
   "cell_type": "code",
   "execution_count": 171,
   "metadata": {},
   "outputs": [
    {
     "data": {
      "text/plain": [
       "0.02843601895734597"
      ]
     },
     "execution_count": 171,
     "metadata": {},
     "output_type": "execute_result"
    }
   ],
   "source": [
    "cart_screen_rate_68 = (cart_screen_users_246['user_id'].nunique() - cart_screen_users_248['user_id'].nunique()) / cart_screen_users_246['user_id'].nunique()\n",
    "cart_screen_rate_68"
   ]
  },
  {
   "cell_type": "code",
   "execution_count": 172,
   "metadata": {},
   "outputs": [
    {
     "data": {
      "text/plain": [
       "0.006462035541195477"
      ]
     },
     "execution_count": 172,
     "metadata": {},
     "output_type": "execute_result"
    }
   ],
   "source": [
    "cart_screen_rate_78 = (cart_screen_users_247['user_id'].nunique() - cart_screen_users_248['user_id'].nunique()) / cart_screen_users_247['user_id'].nunique()\n",
    "cart_screen_rate_78"
   ]
  },
  {
   "cell_type": "markdown",
   "metadata": {},
   "source": [
    "<div class=\"alert alert-info\"; style=\"border-left: 7px solid blue\">\n",
    "<b>Student's comment</b>\n",
    "    \n",
    "For the 'Cart Screen Appear' event, we have a difference of 2.84% compared with group 246, and a 0.64% difference compared with group 247."
   ]
  },
  {
   "cell_type": "code",
   "execution_count": 173,
   "metadata": {},
   "outputs": [
    {
     "data": {
      "text/plain": [
       "1181"
      ]
     },
     "execution_count": 173,
     "metadata": {},
     "output_type": "execute_result"
    }
   ],
   "source": [
    "payment_screen_users_248 = group_248[group_248['event_name'] == 'PaymentScreenSuccessful']\n",
    "payment_screen_users_248['user_id'].nunique()"
   ]
  },
  {
   "cell_type": "code",
   "execution_count": 174,
   "metadata": {},
   "outputs": [
    {
     "data": {
      "text/plain": [
       "0.015833333333333335"
      ]
     },
     "execution_count": 174,
     "metadata": {},
     "output_type": "execute_result"
    }
   ],
   "source": [
    "payment_screen_rate_68 = (payment_screen_users_246['user_id'].nunique() - payment_screen_users_248['user_id'].nunique()) / payment_screen_users_246['user_id'].nunique()\n",
    "payment_screen_rate_68"
   ]
  },
  {
   "cell_type": "code",
   "execution_count": 175,
   "metadata": {},
   "outputs": [
    {
     "data": {
      "text/plain": [
       "-0.019861830742659757"
      ]
     },
     "execution_count": 175,
     "metadata": {},
     "output_type": "execute_result"
    }
   ],
   "source": [
    "payment_screen_rate_78 = (payment_screen_users_247['user_id'].nunique() - payment_screen_users_248['user_id'].nunique()) / payment_screen_users_247['user_id'].nunique()\n",
    "payment_screen_rate_78"
   ]
  },
  {
   "cell_type": "markdown",
   "metadata": {},
   "source": [
    "<div class=\"alert alert-info\"; style=\"border-left: 7px solid blue\">\n",
    "<b>Student's comment</b>\n",
    "    \n",
    "For the 'Payment Screen Successful' event, we have a difference of 1.58% compared with group 246, and a negative 1.98% difference compared with group 247."
   ]
  },
  {
   "cell_type": "code",
   "execution_count": 176,
   "metadata": {},
   "outputs": [
    {
     "data": {
      "text/plain": [
       "279"
      ]
     },
     "execution_count": 176,
     "metadata": {},
     "output_type": "execute_result"
    }
   ],
   "source": [
    "tutorial_screen_users_248 = group_248[group_248['event_name'] == 'Tutorial']\n",
    "tutorial_screen_users_248['user_id'].nunique()"
   ]
  },
  {
   "cell_type": "code",
   "execution_count": 177,
   "metadata": {},
   "outputs": [
    {
     "data": {
      "text/plain": [
       "-0.0035971223021582736"
      ]
     },
     "execution_count": 177,
     "metadata": {},
     "output_type": "execute_result"
    }
   ],
   "source": [
    "tutorial_screen_rate_68 = (tutorial_screen_users_246['user_id'].nunique() - tutorial_screen_users_248['user_id'].nunique()) / tutorial_screen_users_246['user_id'].nunique()\n",
    "tutorial_screen_rate_68"
   ]
  },
  {
   "cell_type": "code",
   "execution_count": 178,
   "metadata": {},
   "outputs": [
    {
     "data": {
      "text/plain": [
       "0.014134275618374558"
      ]
     },
     "execution_count": 178,
     "metadata": {},
     "output_type": "execute_result"
    }
   ],
   "source": [
    "tutorial_screen_rate_78 = (tutorial_screen_users_247['user_id'].nunique() - tutorial_screen_users_248['user_id'].nunique()) / tutorial_screen_users_247['user_id'].nunique()\n",
    "tutorial_screen_rate_78"
   ]
  },
  {
   "cell_type": "markdown",
   "metadata": {},
   "source": [
    "<div class=\"alert alert-info\"; style=\"border-left: 7px solid blue\">\n",
    "<b>Student's comment</b>\n",
    "    \n",
    "For the 'Tutorial' event, we have a negative difference of 0.36% compared with group 246, and a 1.41% difference compared with group 247."
   ]
  },
  {
   "cell_type": "code",
   "execution_count": 179,
   "metadata": {},
   "outputs": [
    {
     "name": "stdout",
     "output_type": "stream",
     "text": [
      "MainScreenAppear group 246 vs 248 rate: -1.76%\n",
      "MainScreenAppear group 247 vs 248 rate: -0.69%\n",
      "OffersScreenAppear group 246 vs 248 rate: 0.71%\n",
      "OffersScreenAppear group 247 vs 248 rate: -0.72%\n",
      "CartScreenAppear group 246 vs 248 rate: 2.84%\n",
      "CartScreenAppear group 247 vs 248 rate: 0.65%\n",
      "PaymentScreenSuccessful group 246 vs 248 rate: 1.58%\n",
      "PaymentScreenSuccessful group 247 vs 248 rate: -1.99%\n",
      "Tutorial group 246 vs 248 rate: -0.36%\n",
      "Tutorial group 247 vs 248 rate: 1.41%\n"
     ]
    }
   ],
   "source": [
    "print(f\"MainScreenAppear group 246 vs 248 rate: {main_screen_rate_68:.2%}\")\n",
    "print(f\"MainScreenAppear group 247 vs 248 rate: {main_screen_rate_78:.2%}\")\n",
    "print(f\"OffersScreenAppear group 246 vs 248 rate: {offers_screen_rate_68:.2%}\")\n",
    "print(f\"OffersScreenAppear group 247 vs 248 rate: {offers_screen_rate_78:.2%}\")\n",
    "print(f\"CartScreenAppear group 246 vs 248 rate: {cart_screen_rate_68:.2%}\")\n",
    "print(f\"CartScreenAppear group 247 vs 248 rate: {cart_screen_rate_78:.2%}\")\n",
    "print(f\"PaymentScreenSuccessful group 246 vs 248 rate: {payment_screen_rate_68:.2%}\")\n",
    "print(f\"PaymentScreenSuccessful group 247 vs 248 rate: {payment_screen_rate_78:.2%}\")\n",
    "print(f\"Tutorial group 246 vs 248 rate: {tutorial_screen_rate_68:.2%}\")\n",
    "print(f\"Tutorial group 247 vs 248 rate: {tutorial_screen_rate_78:.2%}\")"
   ]
  },
  {
   "cell_type": "markdown",
   "metadata": {},
   "source": [
    "<div class=\"alert alert-info\"; style=\"border-left: 7px solid blue\">\n",
    "<b>Student's comment</b>\n",
    "    \n",
    "By comparing the rates between the control groups (each compared separately) and our test group, we don't see too much of a difference when we compare the rates during each stage of the funnel."
   ]
  },
  {
   "cell_type": "markdown",
   "metadata": {},
   "source": [
    "<div class=\"alert alert-block alert-danger\">\n",
    "<b>Reviewer's comment</b> <a class=\"tocSkip\"></a>\n",
    "\n",
    "~~Thank you very much for all the above calculations, but we define the results of the AB test a little differently~~\n",
    "    \n",
    "~~First we formulate null and an alternative hypothesises For example~~\n",
    "    \n",
    "~~H0:The null hypothesis - samples 246 and 247 are statistical equal.~~\n",
    "    \n",
    "~~H1:The alternative hypothesis - samples 246 and 247 have statistical significance difference.~~\n",
    "    \n",
    "~~In this case, statistical significance is determined using a statistical test (in our case, a z-test, because we determine the difference in shares)  Notice that it is not 1% threshold.~~\n",
    "    \n"
   ]
  },
  {
   "cell_type": "markdown",
   "metadata": {},
   "source": [
    "<div class=\"alert alert-block alert-danger\">\n",
    "<b>Reviewer's comment</b> <a class=\"tocSkip\"></a>\n",
    "\n",
    "~~Second we calculate p-value and choose alpha If p-value > alpha we cqn not reject H0 that means the groups are statistically the same.~~"
   ]
  },
  {
   "cell_type": "markdown",
   "metadata": {},
   "source": [
    "<div class=\"alert alert-info\"; style=\"border-left: 7px solid blue\">\n",
    "<b>Student's comment</b>\n",
    "    \n",
    "The null hypothesis is that groups 246 and 247 are statistically equal.\n",
    "    \n",
    "The alternative hypothesis is that groups 246 and 247 have a significant statistical difference."
   ]
  },
  {
   "cell_type": "code",
   "execution_count": 180,
   "metadata": {},
   "outputs": [
    {
     "data": {
      "text/html": [
       "<div>\n",
       "<style scoped>\n",
       "    .dataframe tbody tr th:only-of-type {\n",
       "        vertical-align: middle;\n",
       "    }\n",
       "\n",
       "    .dataframe tbody tr th {\n",
       "        vertical-align: top;\n",
       "    }\n",
       "\n",
       "    .dataframe thead th {\n",
       "        text-align: right;\n",
       "    }\n",
       "</style>\n",
       "<table border=\"1\" class=\"dataframe\">\n",
       "  <thead>\n",
       "    <tr style=\"text-align: right;\">\n",
       "      <th>group_id</th>\n",
       "      <th>event_name</th>\n",
       "      <th>246</th>\n",
       "      <th>247</th>\n",
       "      <th>248</th>\n",
       "    </tr>\n",
       "  </thead>\n",
       "  <tbody>\n",
       "    <tr>\n",
       "      <th>0</th>\n",
       "      <td>CartScreenAppear</td>\n",
       "      <td>1266</td>\n",
       "      <td>1238</td>\n",
       "      <td>1230</td>\n",
       "    </tr>\n",
       "    <tr>\n",
       "      <th>1</th>\n",
       "      <td>MainScreenAppear</td>\n",
       "      <td>2450</td>\n",
       "      <td>2476</td>\n",
       "      <td>2493</td>\n",
       "    </tr>\n",
       "    <tr>\n",
       "      <th>2</th>\n",
       "      <td>OffersScreenAppear</td>\n",
       "      <td>1542</td>\n",
       "      <td>1520</td>\n",
       "      <td>1531</td>\n",
       "    </tr>\n",
       "    <tr>\n",
       "      <th>3</th>\n",
       "      <td>PaymentScreenSuccessful</td>\n",
       "      <td>1200</td>\n",
       "      <td>1158</td>\n",
       "      <td>1181</td>\n",
       "    </tr>\n",
       "    <tr>\n",
       "      <th>4</th>\n",
       "      <td>Tutorial</td>\n",
       "      <td>278</td>\n",
       "      <td>283</td>\n",
       "      <td>279</td>\n",
       "    </tr>\n",
       "  </tbody>\n",
       "</table>\n",
       "</div>"
      ],
      "text/plain": [
       "group_id               event_name   246   247   248\n",
       "0                CartScreenAppear  1266  1238  1230\n",
       "1                MainScreenAppear  2450  2476  2493\n",
       "2              OffersScreenAppear  1542  1520  1531\n",
       "3         PaymentScreenSuccessful  1200  1158  1181\n",
       "4                        Tutorial   278   283   279"
      ]
     },
     "execution_count": 180,
     "metadata": {},
     "output_type": "execute_result"
    }
   ],
   "source": [
    "#REVIEWER CODE thank again\n",
    "res=filtered_df.pivot_table(index='event_name', columns='group_id',values='user_id',aggfunc='nunique').reset_index()\n",
    "res"
   ]
  },
  {
   "cell_type": "code",
   "execution_count": 181,
   "metadata": {},
   "outputs": [
    {
     "name": "stdout",
     "output_type": "stream",
     "text": [
      "Proportion of 246 : 0.5096618357487923\n",
      "Proportion of 247 : 0.4926382809391166\n",
      "p-value:  0.22883372237997213\n",
      "Failed to reject the null hypothesis for CartScreenAppear and groups 246 247\n"
     ]
    }
   ],
   "source": [
    "#REVIEWER CODE thanks again\n",
    "from statsmodels.stats.proportion import proportions_ztest\n",
    "def check_hypothesis(group1,group2,event,alpha=0.05):\n",
    "    success1=res[res.event_name==event][group1].iloc[0]\n",
    "    success2=res[res.event_name==event][group2].iloc[0]\n",
    "    \n",
    "    trials1=filtered_df[filtered_df.group_id==group1]['user_id'].nunique()\n",
    "    trials2=filtered_df[filtered_df.group_id==group2]['user_id'].nunique()\n",
    "   \n",
    "    p_value=proportions_ztest([success1,success2], [trials1,trials2])[1]\n",
    "\n",
    "    print('Proportion of',group1,\":\",success1/trials1)\n",
    "    print('Proportion of',group2,\":\",success2/trials2)\n",
    "    print('p-value: ', p_value)\n",
    "\n",
    "    if (p_value < alpha):\n",
    "        print(\"Rejecting the null hypothesis for\", event,\"and groups\", group1,group2)\n",
    "    else:\n",
    "        print(\"Failed to reject the null hypothesis for\",event,\"and groups\", group1,group2 )\n",
    "        \n",
    "check_hypothesis(246,247,'CartScreenAppear',alpha=0.05)\n",
    "    "
   ]
  },
  {
   "cell_type": "markdown",
   "metadata": {},
   "source": [
    "<div class=\"alert alert-block alert-danger\">\n",
    "<b>Reviewer's comment</b> <a class=\"tocSkip\"></a>\n",
    "\n",
    "~~So we have to make the same calculations for each combination of groups and for each type of event plus for combined control groups (246+247) and test group (248)~~ "
   ]
  },
  {
   "cell_type": "code",
   "execution_count": 182,
   "metadata": {},
   "outputs": [
    {
     "name": "stdout",
     "output_type": "stream",
     "text": [
      "Proportion of 246 : 0.5096618357487923\n",
      "Proportion of 248 : 0.48482459597950334\n",
      "p-value:  0.07842923237520125\n",
      "Failed to reject the null hypothesis for CartScreenAppear and groups 246 248\n"
     ]
    }
   ],
   "source": [
    "check_hypothesis(246,248,'CartScreenAppear',alpha=0.05)"
   ]
  },
  {
   "cell_type": "code",
   "execution_count": 183,
   "metadata": {},
   "outputs": [
    {
     "name": "stdout",
     "output_type": "stream",
     "text": [
      "Proportion of 247 : 0.4926382809391166\n",
      "Proportion of 248 : 0.48482459597950334\n",
      "p-value:  0.5786197879539782\n",
      "Failed to reject the null hypothesis for CartScreenAppear and groups 247 248\n"
     ]
    }
   ],
   "source": [
    "check_hypothesis(247,248,'CartScreenAppear',alpha=0.05)"
   ]
  },
  {
   "cell_type": "markdown",
   "metadata": {},
   "source": [
    "<div class=\"alert alert-info\"; style=\"border-left: 7px solid blue\">\n",
    "<b>Student's comment</b>\n",
    "    \n",
    "For the 'CartScreenAppear' event, we see that we failed to reject the null hypothesis for each group combination."
   ]
  },
  {
   "cell_type": "code",
   "execution_count": 184,
   "metadata": {},
   "outputs": [
    {
     "name": "stdout",
     "output_type": "stream",
     "text": [
      "Proportion of 246 : 0.9863123993558777\n",
      "Proportion of 247 : 0.9852765618782332\n",
      "p-value:  0.7570597232046099\n",
      "Failed to reject the null hypothesis for MainScreenAppear and groups 246 247\n"
     ]
    }
   ],
   "source": [
    "check_hypothesis(246,247,'MainScreenAppear',alpha=0.05)"
   ]
  },
  {
   "cell_type": "code",
   "execution_count": 185,
   "metadata": {},
   "outputs": [
    {
     "name": "stdout",
     "output_type": "stream",
     "text": [
      "Proportion of 246 : 0.9863123993558777\n",
      "Proportion of 248 : 0.9826566811194324\n",
      "p-value:  0.2949721933554553\n",
      "Failed to reject the null hypothesis for MainScreenAppear and groups 246 248\n"
     ]
    }
   ],
   "source": [
    "check_hypothesis(246,248,'MainScreenAppear',alpha=0.05)"
   ]
  },
  {
   "cell_type": "code",
   "execution_count": 186,
   "metadata": {},
   "outputs": [
    {
     "name": "stdout",
     "output_type": "stream",
     "text": [
      "Proportion of 247 : 0.9852765618782332\n",
      "Proportion of 248 : 0.9826566811194324\n",
      "p-value:  0.45870536166215137\n",
      "Failed to reject the null hypothesis for MainScreenAppear and groups 247 248\n"
     ]
    }
   ],
   "source": [
    "check_hypothesis(247,248,'MainScreenAppear',alpha=0.05)"
   ]
  },
  {
   "cell_type": "markdown",
   "metadata": {},
   "source": [
    "<div class=\"alert alert-info\"; style=\"border-left: 7px solid blue\">\n",
    "<b>Student's comment</b>\n",
    "    \n",
    "For the 'MainScreenAppear' event, we see that we failed to reject the null hypothesis for each group combination."
   ]
  },
  {
   "cell_type": "code",
   "execution_count": 187,
   "metadata": {},
   "outputs": [
    {
     "name": "stdout",
     "output_type": "stream",
     "text": [
      "Proportion of 246 : 0.6207729468599034\n",
      "Proportion of 247 : 0.6048547552725826\n",
      "p-value:  0.2480954578522181\n",
      "Failed to reject the null hypothesis for OffersScreenAppear and groups 246 247\n"
     ]
    }
   ],
   "source": [
    "check_hypothesis(246,247,'OffersScreenAppear',alpha=0.05)"
   ]
  },
  {
   "cell_type": "code",
   "execution_count": 188,
   "metadata": {},
   "outputs": [
    {
     "name": "stdout",
     "output_type": "stream",
     "text": [
      "Proportion of 246 : 0.6207729468599034\n",
      "Proportion of 248 : 0.6034686637761135\n",
      "p-value:  0.20836205402738917\n",
      "Failed to reject the null hypothesis for OffersScreenAppear and groups 246 248\n"
     ]
    }
   ],
   "source": [
    "check_hypothesis(246,248,'OffersScreenAppear',alpha=0.05)"
   ]
  },
  {
   "cell_type": "code",
   "execution_count": 189,
   "metadata": {},
   "outputs": [
    {
     "name": "stdout",
     "output_type": "stream",
     "text": [
      "Proportion of 247 : 0.6048547552725826\n",
      "Proportion of 248 : 0.6034686637761135\n",
      "p-value:  0.919781783059226\n",
      "Failed to reject the null hypothesis for OffersScreenAppear and groups 247 248\n"
     ]
    }
   ],
   "source": [
    "check_hypothesis(247,248,'OffersScreenAppear',alpha=0.05)"
   ]
  },
  {
   "cell_type": "markdown",
   "metadata": {},
   "source": [
    "<div class=\"alert alert-info\"; style=\"border-left: 7px solid blue\">\n",
    "<b>Student's comment</b>\n",
    "    \n",
    "For the 'OffersScreenAppear' event, we see that we failed to reject the null hypothesis for each group combination."
   ]
  },
  {
   "cell_type": "code",
   "execution_count": 190,
   "metadata": {},
   "outputs": [
    {
     "name": "stdout",
     "output_type": "stream",
     "text": [
      "Proportion of 246 : 0.4830917874396135\n",
      "Proportion of 247 : 0.46080382013529647\n",
      "p-value:  0.11456679313141847\n",
      "Failed to reject the null hypothesis for PaymentScreenSuccessful and groups 246 247\n"
     ]
    }
   ],
   "source": [
    "check_hypothesis(246,247,'PaymentScreenSuccessful',alpha=0.05)"
   ]
  },
  {
   "cell_type": "code",
   "execution_count": 191,
   "metadata": {},
   "outputs": [
    {
     "name": "stdout",
     "output_type": "stream",
     "text": [
      "Proportion of 246 : 0.4830917874396135\n",
      "Proportion of 248 : 0.46551044540796216\n",
      "p-value:  0.21225532756977972\n",
      "Failed to reject the null hypothesis for PaymentScreenSuccessful and groups 246 248\n"
     ]
    }
   ],
   "source": [
    "check_hypothesis(246,248,'PaymentScreenSuccessful',alpha=0.05)"
   ]
  },
  {
   "cell_type": "code",
   "execution_count": 192,
   "metadata": {},
   "outputs": [
    {
     "name": "stdout",
     "output_type": "stream",
     "text": [
      "Proportion of 247 : 0.46080382013529647\n",
      "Proportion of 248 : 0.46551044540796216\n",
      "p-value:  0.7373415053803964\n",
      "Failed to reject the null hypothesis for PaymentScreenSuccessful and groups 247 248\n"
     ]
    }
   ],
   "source": [
    "check_hypothesis(247,248,'PaymentScreenSuccessful',alpha=0.05)"
   ]
  },
  {
   "cell_type": "markdown",
   "metadata": {},
   "source": [
    "<div class=\"alert alert-info\"; style=\"border-left: 7px solid blue\">\n",
    "<b>Student's comment</b>\n",
    "    \n",
    "For the 'PaymentScreenSuccessful' event, we see that we failed to reject the null hypothesis for each group combination."
   ]
  },
  {
   "cell_type": "code",
   "execution_count": 234,
   "metadata": {},
   "outputs": [
    {
     "name": "stdout",
     "output_type": "stream",
     "text": [
      "Proportion of 246 : 0.11191626409017713\n",
      "Proportion of 247 : 0.11261440509351373\n",
      "p-value:  0.9376996189257114\n",
      "Failed to reject the null hypothesis for Tutorial and groups 246 247\n"
     ]
    }
   ],
   "source": [
    "check_hypothesis(246,247,'Tutorial',alpha=0.05)"
   ]
  },
  {
   "cell_type": "code",
   "execution_count": 194,
   "metadata": {},
   "outputs": [
    {
     "name": "stdout",
     "output_type": "stream",
     "text": [
      "Proportion of 246 : 0.11191626409017713\n",
      "Proportion of 248 : 0.10997240835632636\n",
      "p-value:  0.8264294010087645\n",
      "Failed to reject the null hypothesis for Tutorial and groups 246 248\n"
     ]
    }
   ],
   "source": [
    "check_hypothesis(246,248,'Tutorial',alpha=0.05)"
   ]
  },
  {
   "cell_type": "code",
   "execution_count": 195,
   "metadata": {},
   "outputs": [
    {
     "name": "stdout",
     "output_type": "stream",
     "text": [
      "Proportion of 247 : 0.11261440509351373\n",
      "Proportion of 248 : 0.10997240835632636\n",
      "p-value:  0.7653239224745011\n",
      "Failed to reject the null hypothesis for Tutorial and groups 247 248\n"
     ]
    }
   ],
   "source": [
    "check_hypothesis(247,248,'Tutorial',alpha=0.05)"
   ]
  },
  {
   "cell_type": "markdown",
   "metadata": {},
   "source": [
    "<div class=\"alert alert-info\"; style=\"border-left: 7px solid blue\">\n",
    "<b>Student's comment</b>\n",
    "    \n",
    "For the 'Tutorial' event, we see that we failed to reject the null hypothesis for each group combination."
   ]
  },
  {
   "cell_type": "code",
   "execution_count": 196,
   "metadata": {},
   "outputs": [
    {
     "data": {
      "text/html": [
       "<div>\n",
       "<style scoped>\n",
       "    .dataframe tbody tr th:only-of-type {\n",
       "        vertical-align: middle;\n",
       "    }\n",
       "\n",
       "    .dataframe tbody tr th {\n",
       "        vertical-align: top;\n",
       "    }\n",
       "\n",
       "    .dataframe thead th {\n",
       "        text-align: right;\n",
       "    }\n",
       "</style>\n",
       "<table border=\"1\" class=\"dataframe\">\n",
       "  <thead>\n",
       "    <tr style=\"text-align: right;\">\n",
       "      <th>group_id</th>\n",
       "      <th>event_name</th>\n",
       "      <th>246</th>\n",
       "      <th>247</th>\n",
       "      <th>248</th>\n",
       "    </tr>\n",
       "  </thead>\n",
       "  <tbody>\n",
       "    <tr>\n",
       "      <th>0</th>\n",
       "      <td>CartScreenAppear</td>\n",
       "      <td>1266</td>\n",
       "      <td>1238</td>\n",
       "      <td>1230</td>\n",
       "    </tr>\n",
       "    <tr>\n",
       "      <th>1</th>\n",
       "      <td>MainScreenAppear</td>\n",
       "      <td>2450</td>\n",
       "      <td>2476</td>\n",
       "      <td>2493</td>\n",
       "    </tr>\n",
       "    <tr>\n",
       "      <th>2</th>\n",
       "      <td>OffersScreenAppear</td>\n",
       "      <td>1542</td>\n",
       "      <td>1520</td>\n",
       "      <td>1531</td>\n",
       "    </tr>\n",
       "    <tr>\n",
       "      <th>3</th>\n",
       "      <td>PaymentScreenSuccessful</td>\n",
       "      <td>1200</td>\n",
       "      <td>1158</td>\n",
       "      <td>1181</td>\n",
       "    </tr>\n",
       "    <tr>\n",
       "      <th>4</th>\n",
       "      <td>Tutorial</td>\n",
       "      <td>278</td>\n",
       "      <td>283</td>\n",
       "      <td>279</td>\n",
       "    </tr>\n",
       "  </tbody>\n",
       "</table>\n",
       "</div>"
      ],
      "text/plain": [
       "group_id               event_name   246   247   248\n",
       "0                CartScreenAppear  1266  1238  1230\n",
       "1                MainScreenAppear  2450  2476  2493\n",
       "2              OffersScreenAppear  1542  1520  1531\n",
       "3         PaymentScreenSuccessful  1200  1158  1181\n",
       "4                        Tutorial   278   283   279"
      ]
     },
     "execution_count": 196,
     "metadata": {},
     "output_type": "execute_result"
    }
   ],
   "source": [
    "res"
   ]
  },
  {
   "cell_type": "markdown",
   "metadata": {},
   "source": [
    "<div class=\"alert alert-info\"; style=\"border-left: 7px solid blue\">\n",
    "<b>Student's comment</b>\n",
    "    \n",
    "In order to compare the combined control groups (246 and 247) with the test group (248), we need to add a cumulative column in the res table (using a simple arithmetic function) and filtered_df data frame (using lambda and a boolean condition)."
   ]
  },
  {
   "cell_type": "code",
   "execution_count": 197,
   "metadata": {},
   "outputs": [
    {
     "data": {
      "text/html": [
       "<div>\n",
       "<style scoped>\n",
       "    .dataframe tbody tr th:only-of-type {\n",
       "        vertical-align: middle;\n",
       "    }\n",
       "\n",
       "    .dataframe tbody tr th {\n",
       "        vertical-align: top;\n",
       "    }\n",
       "\n",
       "    .dataframe thead th {\n",
       "        text-align: right;\n",
       "    }\n",
       "</style>\n",
       "<table border=\"1\" class=\"dataframe\">\n",
       "  <thead>\n",
       "    <tr style=\"text-align: right;\">\n",
       "      <th>group_id</th>\n",
       "      <th>event_name</th>\n",
       "      <th>246</th>\n",
       "      <th>247</th>\n",
       "      <th>248</th>\n",
       "      <th>control_groups</th>\n",
       "    </tr>\n",
       "  </thead>\n",
       "  <tbody>\n",
       "    <tr>\n",
       "      <th>0</th>\n",
       "      <td>CartScreenAppear</td>\n",
       "      <td>1266</td>\n",
       "      <td>1238</td>\n",
       "      <td>1230</td>\n",
       "      <td>2504</td>\n",
       "    </tr>\n",
       "    <tr>\n",
       "      <th>1</th>\n",
       "      <td>MainScreenAppear</td>\n",
       "      <td>2450</td>\n",
       "      <td>2476</td>\n",
       "      <td>2493</td>\n",
       "      <td>4926</td>\n",
       "    </tr>\n",
       "    <tr>\n",
       "      <th>2</th>\n",
       "      <td>OffersScreenAppear</td>\n",
       "      <td>1542</td>\n",
       "      <td>1520</td>\n",
       "      <td>1531</td>\n",
       "      <td>3062</td>\n",
       "    </tr>\n",
       "    <tr>\n",
       "      <th>3</th>\n",
       "      <td>PaymentScreenSuccessful</td>\n",
       "      <td>1200</td>\n",
       "      <td>1158</td>\n",
       "      <td>1181</td>\n",
       "      <td>2358</td>\n",
       "    </tr>\n",
       "    <tr>\n",
       "      <th>4</th>\n",
       "      <td>Tutorial</td>\n",
       "      <td>278</td>\n",
       "      <td>283</td>\n",
       "      <td>279</td>\n",
       "      <td>561</td>\n",
       "    </tr>\n",
       "  </tbody>\n",
       "</table>\n",
       "</div>"
      ],
      "text/plain": [
       "group_id               event_name   246   247   248  control_groups\n",
       "0                CartScreenAppear  1266  1238  1230            2504\n",
       "1                MainScreenAppear  2450  2476  2493            4926\n",
       "2              OffersScreenAppear  1542  1520  1531            3062\n",
       "3         PaymentScreenSuccessful  1200  1158  1181            2358\n",
       "4                        Tutorial   278   283   279             561"
      ]
     },
     "execution_count": 197,
     "metadata": {},
     "output_type": "execute_result"
    }
   ],
   "source": [
    "res['control_groups'] = res[246] + res[247]\n",
    "res"
   ]
  },
  {
   "cell_type": "code",
   "execution_count": 198,
   "metadata": {},
   "outputs": [
    {
     "name": "stderr",
     "output_type": "stream",
     "text": [
      "/opt/conda/lib/python3.9/site-packages/pandas/core/indexing.py:1597: SettingWithCopyWarning:\n",
      "\n",
      "\n",
      "A value is trying to be set on a copy of a slice from a DataFrame.\n",
      "Try using .loc[row_indexer,col_indexer] = value instead\n",
      "\n",
      "See the caveats in the documentation: https://pandas.pydata.org/pandas-docs/stable/user_guide/indexing.html#returning-a-view-versus-a-copy\n",
      "\n",
      "/opt/conda/lib/python3.9/site-packages/pandas/core/indexing.py:1676: SettingWithCopyWarning:\n",
      "\n",
      "\n",
      "A value is trying to be set on a copy of a slice from a DataFrame.\n",
      "Try using .loc[row_indexer,col_indexer] = value instead\n",
      "\n",
      "See the caveats in the documentation: https://pandas.pydata.org/pandas-docs/stable/user_guide/indexing.html#returning-a-view-versus-a-copy\n",
      "\n"
     ]
    }
   ],
   "source": [
    "group_type = filtered_df['group_id'].apply(lambda x: 'control' if x==246 or x== 247 else 'test' )\n",
    "filtered_df.loc[:, ('group_type')] = group_type"
   ]
  },
  {
   "cell_type": "code",
   "execution_count": 199,
   "metadata": {},
   "outputs": [
    {
     "data": {
      "text/plain": [
       "2513"
      ]
     },
     "execution_count": 199,
     "metadata": {},
     "output_type": "execute_result"
    }
   ],
   "source": [
    "#trials=filtered_df[filtered_df.group_id==246  or filtered_df.group_id==247]['user_id'].nunique()\n",
    "filtered_df\n",
    "trials2=filtered_df[filtered_df.group_id==247]['user_id'].nunique()\n",
    "trials2"
   ]
  },
  {
   "cell_type": "markdown",
   "metadata": {},
   "source": [
    "<div class=\"alert alert-info\"; style=\"border-left: 7px solid blue\">\n",
    "<b>Student's comment</b>\n",
    "    \n",
    "The null hypothesis is that there is no significant statistical difference between the control and test groups.\n",
    "    \n",
    "The alternative hypothesis is that there is a significant statistical difference between the control and test groups."
   ]
  },
  {
   "cell_type": "code",
   "execution_count": 200,
   "metadata": {},
   "outputs": [
    {
     "name": "stdout",
     "output_type": "stream",
     "text": [
      "Proportion of control_groups : 0.5011006603962378\n",
      "Proportion of 248 : 0.48482459597950334\n",
      "p-value:  0.18175875284404386\n",
      "Failed to reject the null hypothesis for CartScreenAppear and 'control_groups' 248\n"
     ]
    }
   ],
   "source": [
    "def check_hypothesis2(event,alpha=0.05):\n",
    "    success_control=res[res.event_name==event]['control_groups'].iloc[0]\n",
    "    success_test=res[res.event_name==event][248].iloc[0]\n",
    "    \n",
    "    trials_control=filtered_df[filtered_df.group_type=='control']['user_id'].nunique()\n",
    "    trials_test=filtered_df[filtered_df.group_type=='test']['user_id'].nunique()\n",
    "   \n",
    "    p_value=proportions_ztest([success_control,success_test], [trials_control,trials_test])[1]\n",
    "\n",
    "    print('Proportion of','control_groups',\":\",success_control/trials_control)\n",
    "    print('Proportion of',248,\":\",success_test/trials_test)\n",
    "    print('p-value: ', p_value)\n",
    "\n",
    "    if (p_value < alpha):\n",
    "        print(\"Rejecting the null hypothesis for\", event,\"and groups\", 'control_groups',248)\n",
    "    else:\n",
    "        print(\"Failed to reject the null hypothesis for\",event,\"and 'control_groups'\",248)\n",
    "        \n",
    "check_hypothesis2('CartScreenAppear',alpha=0.05)"
   ]
  },
  {
   "cell_type": "code",
   "execution_count": 201,
   "metadata": {},
   "outputs": [
    {
     "name": "stdout",
     "output_type": "stream",
     "text": [
      "Proportion of control_groups : 0.9857914748849309\n",
      "Proportion of 248 : 0.9826566811194324\n",
      "p-value:  0.29424526837179577\n",
      "Failed to reject the null hypothesis for MainScreenAppear and 'control_groups' 248\n"
     ]
    }
   ],
   "source": [
    "check_hypothesis2('MainScreenAppear',alpha=0.05)"
   ]
  },
  {
   "cell_type": "code",
   "execution_count": 202,
   "metadata": {},
   "outputs": [
    {
     "name": "stdout",
     "output_type": "stream",
     "text": [
      "Proportion of control_groups : 0.6127676605963578\n",
      "Proportion of 248 : 0.6034686637761135\n",
      "p-value:  0.43425549655188245\n",
      "Failed to reject the null hypothesis for OffersScreenAppear and 'control_groups' 248\n"
     ]
    }
   ],
   "source": [
    "check_hypothesis2('OffersScreenAppear',alpha=0.05)"
   ]
  },
  {
   "cell_type": "code",
   "execution_count": 203,
   "metadata": {},
   "outputs": [
    {
     "name": "stdout",
     "output_type": "stream",
     "text": [
      "Proportion of control_groups : 0.47188312987792674\n",
      "Proportion of 248 : 0.46551044540796216\n",
      "p-value:  0.6004294282308703\n",
      "Failed to reject the null hypothesis for PaymentScreenSuccessful and 'control_groups' 248\n"
     ]
    }
   ],
   "source": [
    "check_hypothesis2('PaymentScreenSuccessful',alpha=0.05)"
   ]
  },
  {
   "cell_type": "code",
   "execution_count": 204,
   "metadata": {},
   "outputs": [
    {
     "name": "stdout",
     "output_type": "stream",
     "text": [
      "Proportion of control_groups : 0.11226736041624975\n",
      "Proportion of 248 : 0.10997240835632636\n",
      "p-value:  0.764862472531507\n",
      "Failed to reject the null hypothesis for Tutorial and 'control_groups' 248\n"
     ]
    }
   ],
   "source": [
    "check_hypothesis2('Tutorial',alpha=0.05)"
   ]
  },
  {
   "cell_type": "markdown",
   "metadata": {},
   "source": [
    "<div class=\"alert alert-info\"; style=\"border-left: 7px solid blue\">\n",
    "<b>Student's comment</b>\n",
    "    \n",
    "For each event, we see that we failed to reject the null hypothesis for the control and test groups."
   ]
  },
  {
   "cell_type": "markdown",
   "metadata": {},
   "source": [
    "<div class=\"alert alert-block alert-success\"> <b>Reviewer's comment v2</b> <a \n",
    "class=\"tocSkip\"></a>\n",
    "Now you correctly calculate the results of the AB test Super!</div>"
   ]
  },
  {
   "cell_type": "markdown",
   "metadata": {},
   "source": [
    "<div class=\"alert alert-block alert-danger\">\n",
    "<b>Reviewer's comment</b> <a class=\"tocSkip\"></a>\n",
    "    \n",
    "~~As you can see, we used alpha = 0.05 in the check_hypothesis function, so you just need to run the same tests with alpha = 0.1.~~\n",
    "    \n",
    "~~And do not forget about the adjustments for multiple comparison Here some information~~ https://towardsdatascience.com/multiple-comparison-a-common-pitfall-for-a-b-testing-d773f19a4a95"
   ]
  },
  {
   "cell_type": "markdown",
   "metadata": {},
   "source": [
    "<div class=\"alert alert-info\"; style=\"border-left: 7px solid blue\">\n",
    "<b>Student's comment</b>\n",
    "    \n",
    "Now we will run the same tests, but this time with alpha=0.1."
   ]
  },
  {
   "cell_type": "code",
   "execution_count": 235,
   "metadata": {},
   "outputs": [
    {
     "name": "stdout",
     "output_type": "stream",
     "text": [
      "Proportion of 246 : 0.5096618357487923\n",
      "Proportion of 247 : 0.4926382809391166\n",
      "p-value:  0.22883372237997213\n",
      "Failed to reject the null hypothesis for CartScreenAppear and groups 246 247\n"
     ]
    }
   ],
   "source": [
    "#REVIEWER CODE thanks again\n",
    "from statsmodels.stats.proportion import proportions_ztest\n",
    "def check_hypothesis3(group1,group2,event,alpha=0.1):\n",
    "    success1=res[res.event_name==event][group1].iloc[0]\n",
    "    success2=res[res.event_name==event][group2].iloc[0]\n",
    "    \n",
    "    trials1=filtered_df[filtered_df.group_id==group1]['user_id'].nunique()\n",
    "    trials2=filtered_df[filtered_df.group_id==group2]['user_id'].nunique()\n",
    "   \n",
    "    p_value=proportions_ztest([success1,success2], [trials1,trials2])[1]\n",
    "\n",
    "    print('Proportion of',group1,\":\",success1/trials1)\n",
    "    print('Proportion of',group2,\":\",success2/trials2)\n",
    "    print('p-value: ', p_value)\n",
    "\n",
    "    if (p_value < alpha):\n",
    "        print(\"Rejecting the null hypothesis for\", event,\"and groups\", group1,group2)\n",
    "    else:\n",
    "        print(\"Failed to reject the null hypothesis for\",event,\"and groups\", group1,group2 )\n",
    "        \n",
    "check_hypothesis(246,247,'CartScreenAppear',alpha=0.1)\n",
    "    "
   ]
  },
  {
   "cell_type": "code",
   "execution_count": 206,
   "metadata": {},
   "outputs": [
    {
     "name": "stdout",
     "output_type": "stream",
     "text": [
      "Proportion of 246 : 0.5096618357487923\n",
      "Proportion of 248 : 0.48482459597950334\n",
      "p-value:  0.07842923237520125\n",
      "Rejecting the null hypothesis for CartScreenAppear and groups 246 248\n"
     ]
    }
   ],
   "source": [
    "check_hypothesis(246,248,'CartScreenAppear',alpha=0.1)"
   ]
  },
  {
   "cell_type": "code",
   "execution_count": 207,
   "metadata": {},
   "outputs": [
    {
     "name": "stdout",
     "output_type": "stream",
     "text": [
      "Proportion of 247 : 0.4926382809391166\n",
      "Proportion of 248 : 0.48482459597950334\n",
      "p-value:  0.5786197879539782\n",
      "Failed to reject the null hypothesis for CartScreenAppear and groups 247 248\n"
     ]
    }
   ],
   "source": [
    "check_hypothesis(247,248,'CartScreenAppear',alpha=0.1)"
   ]
  },
  {
   "cell_type": "markdown",
   "metadata": {},
   "source": [
    "<div class=\"alert alert-info\"; style=\"border-left: 7px solid blue\">\n",
    "<b>Student's comment</b>\n",
    "    \n",
    "For the 'CartScreenAppear' event, we reject the null hypothesis in groups 246 and 248, However, we fail to reject it for groups 247 and 248."
   ]
  },
  {
   "cell_type": "code",
   "execution_count": 208,
   "metadata": {},
   "outputs": [
    {
     "name": "stdout",
     "output_type": "stream",
     "text": [
      "Proportion of 246 : 0.9863123993558777\n",
      "Proportion of 247 : 0.9852765618782332\n",
      "p-value:  0.7570597232046099\n",
      "Failed to reject the null hypothesis for MainScreenAppear and groups 246 247\n"
     ]
    }
   ],
   "source": [
    "check_hypothesis(246,247,'MainScreenAppear',alpha=0.1)"
   ]
  },
  {
   "cell_type": "code",
   "execution_count": 209,
   "metadata": {},
   "outputs": [
    {
     "name": "stdout",
     "output_type": "stream",
     "text": [
      "Proportion of 246 : 0.9863123993558777\n",
      "Proportion of 248 : 0.9826566811194324\n",
      "p-value:  0.2949721933554553\n",
      "Failed to reject the null hypothesis for MainScreenAppear and groups 246 248\n"
     ]
    }
   ],
   "source": [
    "check_hypothesis(246,248,'MainScreenAppear',alpha=0.1)"
   ]
  },
  {
   "cell_type": "code",
   "execution_count": 210,
   "metadata": {},
   "outputs": [
    {
     "name": "stdout",
     "output_type": "stream",
     "text": [
      "Proportion of 247 : 0.9852765618782332\n",
      "Proportion of 248 : 0.9826566811194324\n",
      "p-value:  0.45870536166215137\n",
      "Failed to reject the null hypothesis for MainScreenAppear and groups 247 248\n"
     ]
    }
   ],
   "source": [
    "check_hypothesis(247,248,'MainScreenAppear',alpha=0.1)"
   ]
  },
  {
   "cell_type": "markdown",
   "metadata": {},
   "source": [
    "<div class=\"alert alert-info\"; style=\"border-left: 7px solid blue\">\n",
    "<b>Student's comment</b>\n",
    "    \n",
    "For the 'MainScreenAppear' event, we fail to reject the null hypothesis in all group combinations."
   ]
  },
  {
   "cell_type": "code",
   "execution_count": 211,
   "metadata": {},
   "outputs": [
    {
     "name": "stdout",
     "output_type": "stream",
     "text": [
      "Proportion of 246 : 0.6207729468599034\n",
      "Proportion of 247 : 0.6048547552725826\n",
      "p-value:  0.2480954578522181\n",
      "Failed to reject the null hypothesis for OffersScreenAppear and groups 246 247\n"
     ]
    }
   ],
   "source": [
    "check_hypothesis(246,247,'OffersScreenAppear',alpha=0.1)"
   ]
  },
  {
   "cell_type": "code",
   "execution_count": 212,
   "metadata": {},
   "outputs": [
    {
     "name": "stdout",
     "output_type": "stream",
     "text": [
      "Proportion of 246 : 0.6207729468599034\n",
      "Proportion of 248 : 0.6034686637761135\n",
      "p-value:  0.20836205402738917\n",
      "Failed to reject the null hypothesis for OffersScreenAppear and groups 246 248\n"
     ]
    }
   ],
   "source": [
    "check_hypothesis(246,248,'OffersScreenAppear',alpha=0.1)"
   ]
  },
  {
   "cell_type": "code",
   "execution_count": 213,
   "metadata": {},
   "outputs": [
    {
     "name": "stdout",
     "output_type": "stream",
     "text": [
      "Proportion of 247 : 0.6048547552725826\n",
      "Proportion of 248 : 0.6034686637761135\n",
      "p-value:  0.919781783059226\n",
      "Failed to reject the null hypothesis for OffersScreenAppear and groups 247 248\n"
     ]
    }
   ],
   "source": [
    "check_hypothesis(247,248,'OffersScreenAppear',alpha=0.1)"
   ]
  },
  {
   "cell_type": "markdown",
   "metadata": {},
   "source": [
    "<div class=\"alert alert-info\"; style=\"border-left: 7px solid blue\">\n",
    "<b>Student's comment</b>\n",
    "    \n",
    "For the 'OffersScreenAppear' event, we fail to reject the null hypothesis in all group combinations."
   ]
  },
  {
   "cell_type": "code",
   "execution_count": 214,
   "metadata": {},
   "outputs": [
    {
     "name": "stdout",
     "output_type": "stream",
     "text": [
      "Proportion of 246 : 0.4830917874396135\n",
      "Proportion of 247 : 0.46080382013529647\n",
      "p-value:  0.11456679313141847\n",
      "Failed to reject the null hypothesis for PaymentScreenSuccessful and groups 246 247\n"
     ]
    }
   ],
   "source": [
    "check_hypothesis(246,247,'PaymentScreenSuccessful',alpha=0.1)"
   ]
  },
  {
   "cell_type": "code",
   "execution_count": 215,
   "metadata": {},
   "outputs": [
    {
     "name": "stdout",
     "output_type": "stream",
     "text": [
      "Proportion of 246 : 0.4830917874396135\n",
      "Proportion of 248 : 0.46551044540796216\n",
      "p-value:  0.21225532756977972\n",
      "Failed to reject the null hypothesis for PaymentScreenSuccessful and groups 246 248\n"
     ]
    }
   ],
   "source": [
    "check_hypothesis(246,248,'PaymentScreenSuccessful',alpha=0.1)"
   ]
  },
  {
   "cell_type": "code",
   "execution_count": 216,
   "metadata": {},
   "outputs": [
    {
     "name": "stdout",
     "output_type": "stream",
     "text": [
      "Proportion of 247 : 0.46080382013529647\n",
      "Proportion of 248 : 0.46551044540796216\n",
      "p-value:  0.7373415053803964\n",
      "Failed to reject the null hypothesis for PaymentScreenSuccessful and groups 247 248\n"
     ]
    }
   ],
   "source": [
    "check_hypothesis(247,248,'PaymentScreenSuccessful',alpha=0.1)"
   ]
  },
  {
   "cell_type": "markdown",
   "metadata": {},
   "source": [
    "<div class=\"alert alert-info\"; style=\"border-left: 7px solid blue\">\n",
    "<b>Student's comment</b>\n",
    "    \n",
    "For the 'PaymentScreenSuccessful' event, we fail to reject the null hypothesis in all group combinations."
   ]
  },
  {
   "cell_type": "code",
   "execution_count": 217,
   "metadata": {},
   "outputs": [
    {
     "name": "stdout",
     "output_type": "stream",
     "text": [
      "Proportion of 246 : 0.11191626409017713\n",
      "Proportion of 247 : 0.11261440509351373\n",
      "p-value:  0.9376996189257114\n",
      "Failed to reject the null hypothesis for Tutorial and groups 246 247\n"
     ]
    }
   ],
   "source": [
    "check_hypothesis(246,247,'Tutorial',alpha=0.1)"
   ]
  },
  {
   "cell_type": "code",
   "execution_count": 218,
   "metadata": {},
   "outputs": [
    {
     "name": "stdout",
     "output_type": "stream",
     "text": [
      "Proportion of 246 : 0.11191626409017713\n",
      "Proportion of 248 : 0.10997240835632636\n",
      "p-value:  0.8264294010087645\n",
      "Failed to reject the null hypothesis for Tutorial and groups 246 248\n"
     ]
    }
   ],
   "source": [
    "check_hypothesis(246,248,'Tutorial',alpha=0.1)"
   ]
  },
  {
   "cell_type": "code",
   "execution_count": 219,
   "metadata": {},
   "outputs": [
    {
     "name": "stdout",
     "output_type": "stream",
     "text": [
      "Proportion of 247 : 0.11261440509351373\n",
      "Proportion of 248 : 0.10997240835632636\n",
      "p-value:  0.7653239224745011\n",
      "Failed to reject the null hypothesis for Tutorial and groups 247 248\n"
     ]
    }
   ],
   "source": [
    "check_hypothesis(247,248,'Tutorial',alpha=0.1)"
   ]
  },
  {
   "cell_type": "markdown",
   "metadata": {},
   "source": [
    "<div class=\"alert alert-info\"; style=\"border-left: 7px solid blue\">\n",
    "<b>Student's comment</b>\n",
    "    \n",
    "For the 'Tutorial' event, we fail to reject the null hypothesis in all group combinations."
   ]
  },
  {
   "cell_type": "markdown",
   "metadata": {},
   "source": [
    "<div class=\"alert alert-info\"; style=\"border-left: 7px solid blue\">\n",
    "<b>Student's comment</b>\n",
    "    \n",
    "Using individual group testing, the only case in which we rejected the null hypothesis was for the 'CartScreenAppear' between groups 246 and 248. We will now test the control and test groups, and see whether this is s false result or not."
   ]
  },
  {
   "cell_type": "code",
   "execution_count": 220,
   "metadata": {},
   "outputs": [
    {
     "name": "stdout",
     "output_type": "stream",
     "text": [
      "Proportion of control_groups : 0.5011006603962378\n",
      "Proportion of 248 : 0.48482459597950334\n",
      "p-value:  0.18175875284404386\n",
      "Failed to reject the null hypothesis for CartScreenAppear and 'control_groups' 248\n"
     ]
    }
   ],
   "source": [
    "def check_hypothesis4(event,alpha=0.1):\n",
    "    success_control=res[res.event_name==event]['control_groups'].iloc[0]\n",
    "    success_test=res[res.event_name==event][248].iloc[0]\n",
    "    \n",
    "    trials_control=filtered_df[filtered_df.group_type=='control']['user_id'].nunique()\n",
    "    trials_test=filtered_df[filtered_df.group_type=='test']['user_id'].nunique()\n",
    "   \n",
    "    p_value=proportions_ztest([success_control,success_test], [trials_control,trials_test])[1]\n",
    "\n",
    "    print('Proportion of','control_groups',\":\",success_control/trials_control)\n",
    "    print('Proportion of',248,\":\",success_test/trials_test)\n",
    "    print('p-value: ', p_value)\n",
    "\n",
    "    if (p_value < alpha):\n",
    "        print(\"Rejecting the null hypothesis for\", event,\"and groups\", 'control_groups',248)\n",
    "    else:\n",
    "        print(\"Failed to reject the null hypothesis for\",event,\"and 'control_groups'\",248)\n",
    "    \n",
    "    \n",
    "    \n",
    "check_hypothesis4('CartScreenAppear',alpha=0.1)"
   ]
  },
  {
   "cell_type": "code",
   "execution_count": 221,
   "metadata": {},
   "outputs": [
    {
     "name": "stdout",
     "output_type": "stream",
     "text": [
      "Proportion of control_groups : 0.9857914748849309\n",
      "Proportion of 248 : 0.9826566811194324\n",
      "p-value:  0.29424526837179577\n",
      "Failed to reject the null hypothesis for MainScreenAppear and 'control_groups' 248\n"
     ]
    }
   ],
   "source": [
    "check_hypothesis4('MainScreenAppear',alpha=0.1)"
   ]
  },
  {
   "cell_type": "code",
   "execution_count": 222,
   "metadata": {},
   "outputs": [
    {
     "name": "stdout",
     "output_type": "stream",
     "text": [
      "Proportion of control_groups : 0.6127676605963578\n",
      "Proportion of 248 : 0.6034686637761135\n",
      "p-value:  0.43425549655188245\n",
      "Failed to reject the null hypothesis for OffersScreenAppear and 'control_groups' 248\n"
     ]
    }
   ],
   "source": [
    "check_hypothesis4('OffersScreenAppear',alpha=0.1)"
   ]
  },
  {
   "cell_type": "code",
   "execution_count": 232,
   "metadata": {},
   "outputs": [
    {
     "name": "stdout",
     "output_type": "stream",
     "text": [
      "Proportion of control_groups : 0.47188312987792674\n",
      "Proportion of 248 : 0.46551044540796216\n",
      "p-value:  0.6004294282308703\n",
      "Failed to reject the null hypothesis for PaymentScreenSuccessful and 'control_groups' 248\n"
     ]
    }
   ],
   "source": [
    "check_hypothesis4('PaymentScreenSuccessful',alpha=0.1)"
   ]
  },
  {
   "cell_type": "code",
   "execution_count": 233,
   "metadata": {},
   "outputs": [
    {
     "name": "stdout",
     "output_type": "stream",
     "text": [
      "Proportion of control_groups : 0.11226736041624975\n",
      "Proportion of 248 : 0.10997240835632636\n",
      "p-value:  0.764862472531507\n",
      "Failed to reject the null hypothesis for Tutorial and 'control_groups' 248\n"
     ]
    }
   ],
   "source": [
    "check_hypothesis4('Tutorial',alpha=0.1)"
   ]
  },
  {
   "cell_type": "markdown",
   "metadata": {},
   "source": [
    "<div class=\"alert alert-block alert-success\"> <b>Reviewer's comment v2</b> <a \n",
    "class=\"tocSkip\"></a>\n",
    "Correct</div>"
   ]
  },
  {
   "cell_type": "markdown",
   "metadata": {},
   "source": [
    "<div class=\"alert alert-info\"; style=\"border-left: 7px solid blue\">\n",
    "<b>Student's comment</b>\n",
    "    \n",
    "For the all events, we fail to reject the null hypothesis for the control and test groups."
   ]
  },
  {
   "cell_type": "markdown",
   "metadata": {},
   "source": [
    "<div class=\"alert alert-info\"; style=\"border-left: 7px solid blue\">\n",
    "<b>Student's comment</b>\n",
    "    \n",
    "After we increased our alpha to 0.1, we got mostly the same results except for the 'CartScreenAppear' between groups 246 and 248. This leads us to believe that there is no significant statistical difference between any group combination (including control and test), and that changing the font does not create more or less traffic."
   ]
  },
  {
   "cell_type": "markdown",
   "metadata": {},
   "source": [
    "<div class=\"alert alert-block alert-danger\">\n",
    "<b>Reviewer's comment v2</b> <a class=\"tocSkip\"></a>\n",
    "    \n",
    "~~Now it remains for us to calculate the results of the AB test, given that we conducted a multiple comparison.~~ \n",
    "  \n",
    "~~See how alpha is calculated taking into account the Bonferroni Correction~~\n",
    "    \n",
    "https://towardsdatascience.com/multiple-comparison-a-common-pitfall-for-a-b-testing-d773f19a4a95\n",
    "    \n"
   ]
  },
  {
   "cell_type": "markdown",
   "metadata": {},
   "source": [
    "<div class=\"alert alert-info\"; style=\"border-left: 7px solid blue\">\n",
    "<b>Student's comment</b>\n",
    "    \n",
    "From what I understood, I will calculate the Bonferroni Correction as alpha/number of comparisons.\n",
    "    \n",
    "That means for each alpha value (0.05 and 0.1) I will calculate for 5 (test vs combined control groups) and 15 (for each group combination)."
   ]
  },
  {
   "cell_type": "markdown",
   "metadata": {},
   "source": [
    "<div class=\"alert alert-block alert-success\"> <b>Reviewer's comment v3</b> <a \n",
    "class=\"tocSkip\"></a>\n",
    "Exactly</div>"
   ]
  },
  {
   "cell_type": "code",
   "execution_count": 230,
   "metadata": {},
   "outputs": [
    {
     "name": "stdout",
     "output_type": "stream",
     "text": [
      "Bonferroni Correction for alpha=0.05 and each group combination: 0.0033333333333333335\n",
      "Bonferroni Correction for alpha=0.05 and test vs control groups: 0.01\n"
     ]
    }
   ],
   "source": [
    "bonferroni_alpha1_separate_groups = 0.05/15\n",
    "bonferroni_alpha1_combined = 0.05/5\n",
    "\n",
    "print(f\"Bonferroni Correction for alpha=0.05 and each group combination: {bonferroni_alpha1_separate_groups}\")\n",
    "print(f\"Bonferroni Correction for alpha=0.05 and test vs control groups: {bonferroni_alpha1_combined}\")"
   ]
  },
  {
   "cell_type": "markdown",
   "metadata": {},
   "source": [
    "<div class=\"alert alert-info\"; style=\"border-left: 7px solid blue\">\n",
    "<b>Student's comment</b>\n",
    "    \n",
    "If we want to claim any statistically significant results, the respective p-value has to be smaller than 0.01 for the test vs control groups, and smaller than 0.0033333333333333335 for each group separately."
   ]
  },
  {
   "cell_type": "markdown",
   "metadata": {},
   "source": [
    "<div class=\"alert alert-info\"; style=\"border-left: 7px solid blue\">\n",
    "<b>Student's comment</b>\n",
    "    \n",
    "For the test vs control groups, we have no p-value would claim any statistical significance. The conclusion is the same for each group combination."
   ]
  },
  {
   "cell_type": "code",
   "execution_count": 231,
   "metadata": {},
   "outputs": [
    {
     "name": "stdout",
     "output_type": "stream",
     "text": [
      "Bonferroni Correction for alpha=0.1 and each group combination: 0.006666666666666667\n",
      "Bonferroni Correction for alpha=0.1 and test vs control groups: 0.02\n"
     ]
    }
   ],
   "source": [
    "bonferroni_alpha2_separate_groups = 0.1/15\n",
    "bonferroni_alpha2_combined = 0.1/5\n",
    "\n",
    "print(f\"Bonferroni Correction for alpha=0.1 and each group combination: {bonferroni_alpha2_separate_groups}\")\n",
    "print(f\"Bonferroni Correction for alpha=0.1 and test vs control groups: {bonferroni_alpha2_combined}\")"
   ]
  },
  {
   "cell_type": "markdown",
   "metadata": {},
   "source": [
    "<div class=\"alert alert-info\"; style=\"border-left: 7px solid blue\">\n",
    "<b>Student's comment</b>\n",
    "    \n",
    "If we want to claim any statistically significant results, the respective p-value has to be smaller than 0.02 for the test vs control groups, and smaller than 0.006666666666666667 for each group combination."
   ]
  },
  {
   "cell_type": "markdown",
   "metadata": {},
   "source": [
    "<div class=\"alert alert-info\"; style=\"border-left: 7px solid blue\">\n",
    "<b>Student's comment</b>\n",
    "    \n",
    "For the test vs control groups, we have no p-value would claim any statistical significance. The conclusion is the same for each group combination."
   ]
  },
  {
   "cell_type": "markdown",
   "metadata": {},
   "source": [
    "<div class=\"alert alert-block alert-success\"> <b>Reviewer's comment v3</b> <a \n",
    "class=\"tocSkip\"></a>\n",
    "Super</div>"
   ]
  }
 ],
 "metadata": {
  "kernelspec": {
   "display_name": "Python 3 (ipykernel)",
   "language": "python",
   "name": "python3"
  },
  "language_info": {
   "codemirror_mode": {
    "name": "ipython",
    "version": 3
   },
   "file_extension": ".py",
   "mimetype": "text/x-python",
   "name": "python",
   "nbconvert_exporter": "python",
   "pygments_lexer": "ipython3",
   "version": "3.9.5"
  },
  "toc": {
   "base_numbering": 1,
   "nav_menu": {},
   "number_sections": true,
   "sideBar": true,
   "skip_h1_title": true,
   "title_cell": "Table of Contents",
   "title_sidebar": "Contents",
   "toc_cell": false,
   "toc_position": {},
   "toc_section_display": true,
   "toc_window_display": false
  }
 },
 "nbformat": 4,
 "nbformat_minor": 2
}
