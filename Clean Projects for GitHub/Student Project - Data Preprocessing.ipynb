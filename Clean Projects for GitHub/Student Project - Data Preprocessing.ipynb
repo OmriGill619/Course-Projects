{
 "cells": [
  {
   "cell_type": "markdown",
   "metadata": {},
   "source": [
    "# Analyzing borrowers’ risk of defaulting\n",
    "\n",
    "Your project is to prepare a report for a bank’s loan division. You’ll need to find out if a customer’s marital status and number of children has an impact on whether they will default on a loan. The bank already has some data on customers’ credit worthiness.\n",
    "\n",
    "Your report will be considered when building the **credit score** of a potential customer. The **credit score** is used to evaluate the ability of a potential borrower to repay their loan.\n",
    "\n",
    "[In this notebook you're provided with hints and brief instructions and thinking prompts. Don't ignore them as they are designed to equip you with the structure for the project and will help you analyze what you're doing on a deeper level. Before submitting your project, make sure you remove all hints and descriptions provided to you. Instead, make this report look as if you're sending it to your teammates to demonstrate your findings - they shouldn't know you had some external help from us! To help you out, we've placed the hints you should remove in square brackets.]\n",
    "\n",
    "[Before you dive into analyzing your data, explain the purposes of the project and hypotheses you're going to test.]"
   ]
  },
  {
   "cell_type": "markdown",
   "metadata": {},
   "source": [
    "## Open the data file and have a look at the general information. \n",
    "\n",
    "[Start with importing the libraries and loading the data. You may realise that you need additional libraries as you go, which is totally fine - just make sure to update this section when you do.]"
   ]
  },
  {
   "cell_type": "code",
   "execution_count": 826,
   "metadata": {},
   "outputs": [],
   "source": [
    "# Loading all the libraries\n",
    "import pandas as pd\n",
    "\n",
    "# Load the data\n",
    "data = pd.read_csv('/datasets/credit_scoring_eng.csv')\n"
   ]
  },
  {
   "cell_type": "markdown",
   "metadata": {},
   "source": [
    "## Task 1. Data exploration\n",
    "\n",
    "**Description of the data**\n",
    "- `children` - the number of children in the family\n",
    "- `days_employed` - work experience in days\n",
    "- `dob_years` - client's age in years\n",
    "- `education` - client's education\n",
    "- `education_id` - education identifier\n",
    "- `family_status` - marital status\n",
    "- `family_status_id` - marital status identifier\n",
    "- `gender` - gender of the client\n",
    "- `income_type` - type of employment\n",
    "- `debt` - was there any debt on loan repayment\n",
    "- `total_income` - monthly income\n",
    "- `purpose` - the purpose of obtaining a loan\n",
    "\n",
    "[Now let's explore our data. You'll want to see how many columns and rows it has, look at a few rows to check for potential issues with the data.]"
   ]
  },
  {
   "cell_type": "code",
   "execution_count": 827,
   "metadata": {},
   "outputs": [
    {
     "name": "stdout",
     "output_type": "stream",
     "text": [
      "<class 'pandas.core.frame.DataFrame'>\n",
      "RangeIndex: 21525 entries, 0 to 21524\n",
      "Data columns (total 12 columns):\n",
      " #   Column            Non-Null Count  Dtype  \n",
      "---  ------            --------------  -----  \n",
      " 0   children          21525 non-null  int64  \n",
      " 1   days_employed     19351 non-null  float64\n",
      " 2   dob_years         21525 non-null  int64  \n",
      " 3   education         21525 non-null  object \n",
      " 4   education_id      21525 non-null  int64  \n",
      " 5   family_status     21525 non-null  object \n",
      " 6   family_status_id  21525 non-null  int64  \n",
      " 7   gender            21525 non-null  object \n",
      " 8   income_type       21525 non-null  object \n",
      " 9   debt              21525 non-null  int64  \n",
      " 10  total_income      19351 non-null  float64\n",
      " 11  purpose           21525 non-null  object \n",
      "dtypes: float64(2), int64(5), object(5)\n",
      "memory usage: 2.0+ MB\n"
     ]
    }
   ],
   "source": [
    "# Let's see how many rows and columns our dataset has\n",
    "data.shape\n",
    "data.info()\n"
   ]
  },
  {
   "cell_type": "code",
   "execution_count": 828,
   "metadata": {},
   "outputs": [
    {
     "name": "stdout",
     "output_type": "stream",
     "text": [
      "    children  days_employed  dob_years            education  education_id  \\\n",
      "0          1   -8437.673028         42    bachelor's degree             0   \n",
      "1          1   -4024.803754         36  secondary education             1   \n",
      "2          0   -5623.422610         33  Secondary Education             1   \n",
      "3          3   -4124.747207         32  secondary education             1   \n",
      "4          0  340266.072047         53  secondary education             1   \n",
      "5          0    -926.185831         27    bachelor's degree             0   \n",
      "6          0   -2879.202052         43    bachelor's degree             0   \n",
      "7          0    -152.779569         50  SECONDARY EDUCATION             1   \n",
      "8          2   -6929.865299         35    BACHELOR'S DEGREE             0   \n",
      "9          0   -2188.756445         41  secondary education             1   \n",
      "10         2   -4171.483647         36    bachelor's degree             0   \n",
      "11         0    -792.701887         40  secondary education             1   \n",
      "12         0            NaN         65  secondary education             1   \n",
      "13         0   -1846.641941         54         some college             2   \n",
      "14         0   -1844.956182         56    bachelor's degree             0   \n",
      "15         1    -972.364419         26  secondary education             1   \n",
      "16         0   -1719.934226         35  secondary education             1   \n",
      "17         0   -2369.999720         33    bachelor's degree             0   \n",
      "18         0  400281.136913         53  secondary education             1   \n",
      "19         0  -10038.818549         48  SECONDARY EDUCATION             1   \n",
      "\n",
      "        family_status  family_status_id gender income_type  debt  \\\n",
      "0             married                 0      F    employee     0   \n",
      "1             married                 0      F    employee     0   \n",
      "2             married                 0      M    employee     0   \n",
      "3             married                 0      M    employee     0   \n",
      "4   civil partnership                 1      F     retiree     0   \n",
      "5   civil partnership                 1      M    business     0   \n",
      "6             married                 0      F    business     0   \n",
      "7             married                 0      M    employee     0   \n",
      "8   civil partnership                 1      F    employee     0   \n",
      "9             married                 0      M    employee     0   \n",
      "10            married                 0      M    business     0   \n",
      "11            married                 0      F    employee     0   \n",
      "12  civil partnership                 1      M     retiree     0   \n",
      "13            married                 0      F    employee     0   \n",
      "14  civil partnership                 1      F    business     1   \n",
      "15            married                 0      F    employee     0   \n",
      "16            married                 0      F    employee     0   \n",
      "17  civil partnership                 1      M    employee     0   \n",
      "18    widow / widower                 2      F     retiree     0   \n",
      "19           divorced                 3      F    employee     0   \n",
      "\n",
      "    total_income                              purpose  \n",
      "0      40620.102                purchase of the house  \n",
      "1      17932.802                         car purchase  \n",
      "2      23341.752                purchase of the house  \n",
      "3      42820.568              supplementary education  \n",
      "4      25378.572                    to have a wedding  \n",
      "5      40922.170                purchase of the house  \n",
      "6      38484.156                 housing transactions  \n",
      "7      21731.829                            education  \n",
      "8      15337.093                     having a wedding  \n",
      "9      23108.150  purchase of the house for my family  \n",
      "10     18230.959                      buy real estate  \n",
      "11     12331.077           buy commercial real estate  \n",
      "12           NaN                    to have a wedding  \n",
      "13     20873.317                         car purchase  \n",
      "14     26420.466          buy residential real estate  \n",
      "15     18691.345         construction of own property  \n",
      "16     46272.433                             property  \n",
      "17     14465.694                  building a property  \n",
      "18      9091.804             buying a second-hand car  \n",
      "19     38852.977                    buying my own car  \n"
     ]
    }
   ],
   "source": [
    "# let's print the first N rows\n",
    "print(data.head(20))\n"
   ]
  },
  {
   "cell_type": "markdown",
   "metadata": {},
   "source": [
    "[Describe what you see and notice in your printed data sample. Are there any issues that may need further investigation and changes?]\n",
    "<div class=\"alert alert-block alert-info\">\n",
    "<b>Student answer.</b> <a class=\"tocSkip\"></a>\n",
    "Same values appear to be implicit duplicates. We need to make sure that all the data is in the same format.\n",
    "Another issue is that we have negative or non-proportional values for days employed. There is no logical reasoning to this issue."
   ]
  },
  {
   "cell_type": "code",
   "execution_count": 829,
   "metadata": {
    "scrolled": false
   },
   "outputs": [
    {
     "name": "stdout",
     "output_type": "stream",
     "text": [
      "<class 'pandas.core.frame.DataFrame'>\n",
      "RangeIndex: 21525 entries, 0 to 21524\n",
      "Data columns (total 12 columns):\n",
      " #   Column            Non-Null Count  Dtype  \n",
      "---  ------            --------------  -----  \n",
      " 0   children          21525 non-null  int64  \n",
      " 1   days_employed     19351 non-null  float64\n",
      " 2   dob_years         21525 non-null  int64  \n",
      " 3   education         21525 non-null  object \n",
      " 4   education_id      21525 non-null  int64  \n",
      " 5   family_status     21525 non-null  object \n",
      " 6   family_status_id  21525 non-null  int64  \n",
      " 7   gender            21525 non-null  object \n",
      " 8   income_type       21525 non-null  object \n",
      " 9   debt              21525 non-null  int64  \n",
      " 10  total_income      19351 non-null  float64\n",
      " 11  purpose           21525 non-null  object \n",
      "dtypes: float64(2), int64(5), object(5)\n",
      "memory usage: 2.0+ MB\n"
     ]
    }
   ],
   "source": [
    "# Get info on data\n",
    "data.info()"
   ]
  },
  {
   "cell_type": "markdown",
   "metadata": {},
   "source": [
    "[Are there missing values across all columns or just a few? Briefly describe what you see in 1-2 sentences.]\n",
    "<div class=\"alert alert-block alert-info\">\n",
    "<b>Student answer.</b> <a class=\"tocSkip\"></a>\n",
    "We see that he have missing values of equal occurences for days_employed and total_income.\n",
    "While we could (logically) assume that if you haven't been employed then you wouldn't have any income, we need to check if these missing values appear in the same row."
   ]
  },
  {
   "cell_type": "code",
   "execution_count": 830,
   "metadata": {
    "scrolled": true
   },
   "outputs": [
    {
     "name": "stdout",
     "output_type": "stream",
     "text": [
      "    children  days_employed  dob_years            education  education_id  \\\n",
      "12         0            NaN         65  secondary education             1   \n",
      "26         0            NaN         41  secondary education             1   \n",
      "29         0            NaN         63  secondary education             1   \n",
      "41         0            NaN         50  secondary education             1   \n",
      "55         0            NaN         54  secondary education             1   \n",
      "65         0            NaN         21  secondary education             1   \n",
      "67         0            NaN         52    bachelor's degree             0   \n",
      "72         1            NaN         32    bachelor's degree             0   \n",
      "82         2            NaN         50    bachelor's degree             0   \n",
      "83         0            NaN         52  secondary education             1   \n",
      "\n",
      "        family_status  family_status_id gender    income_type  debt  \\\n",
      "12  civil partnership                 1      M        retiree     0   \n",
      "26            married                 0      M  civil servant     0   \n",
      "29          unmarried                 4      F        retiree     0   \n",
      "41            married                 0      F  civil servant     0   \n",
      "55  civil partnership                 1      F        retiree     1   \n",
      "65          unmarried                 4      M       business     0   \n",
      "67            married                 0      F        retiree     0   \n",
      "72            married                 0      M  civil servant     0   \n",
      "82            married                 0      F       employee     0   \n",
      "83            married                 0      M       employee     0   \n",
      "\n",
      "    total_income                                   purpose  \n",
      "12           NaN                         to have a wedding  \n",
      "26           NaN                                 education  \n",
      "29           NaN                    building a real estate  \n",
      "41           NaN                  second-hand car purchase  \n",
      "55           NaN                         to have a wedding  \n",
      "65           NaN  transactions with commercial real estate  \n",
      "67           NaN       purchase of the house for my family  \n",
      "72           NaN  transactions with commercial real estate  \n",
      "82           NaN                                   housing  \n",
      "83           NaN                                   housing  \n",
      "(2174, 12)\n"
     ]
    }
   ],
   "source": [
    "# Let's look in the filtered table at the the first column with missing data\n",
    "filtered_data = data[data['days_employed'].isna()]\n",
    "print(filtered_data.head(10))\n",
    "print(filtered_data.shape)"
   ]
  },
  {
   "cell_type": "markdown",
   "metadata": {},
   "source": [
    "[Do missing values seem symmetric? Can we be sure in this assumption? Explain your thoughts briefly in this section. You may probably want to conduct further investigations, and count the missing values in all the rows with missing values to confirm the the missing samples are of the same size.]\n",
    "<div class=\"alert alert-block alert-info\">\n",
    "<b>Student answer.</b> <a class=\"tocSkip\"></a>\n",
    "First, we filtered by the first column with missing values. We then printed the first 10 rows to get an indication of whether or not there was symmetry between the values. It appeared to be the case, but we cannot tell for sure."
   ]
  },
  {
   "cell_type": "code",
   "execution_count": 831,
   "metadata": {},
   "outputs": [
    {
     "data": {
      "text/plain": [
       "(2174, 12)"
      ]
     },
     "execution_count": 831,
     "metadata": {},
     "output_type": "execute_result"
    }
   ],
   "source": [
    "# Let's apply multiple conditions for filtering data and look at the number of rows in the filtered table.\n",
    "filtered_data = data[data['days_employed'].isna() & data['total_income'].isna()]\n",
    "filtered_data.shape\n"
   ]
  },
  {
   "cell_type": "markdown",
   "metadata": {},
   "source": [
    "**Intermediate conclusion**\n",
    "\n",
    "[Does the number of rows in the filtered table match the number of missing values? What conclusion can we make from this?]\n",
    "<div class=\"alert alert-block alert-info\">\n",
    "<b>Student answer.</b> <a class=\"tocSkip\"></a>\n",
    "Yes. The conclusion is that there is a perfect symmetry between the rows with missing values. If you do not work, you do not have any income.\n",
    "</div>\n",
    "[Calculate the percentage of the missing values compared to the whole dataset. Is it a considerably large piece of data? If so, you may want to fill the missing values. To do that, firstly we should consider whether the missing data could be due to the specific client characteristic, such as employment type or something else. You will need to decide which characteristic *you* think might be the reason. Secondly, we should check whether there's any dependence missing values have on the value of other indicators with the columns with identified specific client characteristic.]\n",
    "\n",
    "\n",
    "[Explain your next steps and how they correlate with the conclusions you made so far.]"
   ]
  },
  {
   "cell_type": "code",
   "execution_count": 832,
   "metadata": {},
   "outputs": [
    {
     "name": "stdout",
     "output_type": "stream",
     "text": [
      "10.10%\n"
     ]
    }
   ],
   "source": [
    "percentage = f'{filtered_data.shape[0]/data.shape[0]:.2%}'\n",
    "print(percentage)"
   ]
  },
  {
   "cell_type": "markdown",
   "metadata": {},
   "source": [
    "<div class=\"alert alert-block alert-info\">\n",
    "<b>Student answer.</b> <a class=\"tocSkip\"></a>\n",
    "After calculating the percentgae of missing values, it is safe to say that 10.10% is significant.\n",
    "\n",
    "To go over each column/characteristic in our filtered data DataFrame, we will use a for loop on all columns, and using the count method to see if we have any value that correlates with our missing values."
   ]
  },
  {
   "cell_type": "code",
   "execution_count": 833,
   "metadata": {},
   "outputs": [
    {
     "name": "stdout",
     "output_type": "stream",
     "text": [
      "children\n",
      "-1        3\n",
      " 0     1439\n",
      " 1      475\n",
      " 2      204\n",
      " 3       36\n",
      " 4        7\n",
      " 5        1\n",
      " 20       9\n",
      "Name: children, dtype: int64\n",
      "Series([], Name: days_employed, dtype: int64)\n",
      "dob_years\n",
      "0     10\n",
      "19     1\n",
      "20     5\n",
      "21    18\n",
      "22    17\n",
      "23    36\n",
      "24    21\n",
      "25    23\n",
      "26    35\n",
      "27    36\n",
      "28    57\n",
      "29    50\n",
      "30    58\n",
      "31    65\n",
      "32    37\n",
      "33    51\n",
      "34    69\n",
      "35    64\n",
      "36    63\n",
      "37    53\n",
      "38    54\n",
      "39    51\n",
      "40    66\n",
      "41    59\n",
      "42    65\n",
      "43    50\n",
      "44    44\n",
      "45    50\n",
      "46    48\n",
      "47    59\n",
      "48    46\n",
      "49    50\n",
      "50    51\n",
      "51    50\n",
      "52    53\n",
      "53    44\n",
      "54    55\n",
      "55    48\n",
      "56    54\n",
      "57    56\n",
      "58    56\n",
      "59    34\n",
      "60    39\n",
      "61    38\n",
      "62    38\n",
      "63    29\n",
      "64    37\n",
      "65    20\n",
      "66    20\n",
      "67    16\n",
      "68     9\n",
      "69     5\n",
      "70     3\n",
      "71     5\n",
      "72     2\n",
      "73     1\n",
      "Name: dob_years, dtype: int64\n",
      "education\n",
      "BACHELOR'S DEGREE        23\n",
      "Bachelor's Degree        25\n",
      "PRIMARY EDUCATION         1\n",
      "Primary Education         1\n",
      "SECONDARY EDUCATION      67\n",
      "SOME COLLEGE              7\n",
      "Secondary Education      65\n",
      "Some College              7\n",
      "bachelor's degree       496\n",
      "primary education        19\n",
      "secondary education    1408\n",
      "some college             55\n",
      "Name: education, dtype: int64\n",
      "education_id\n",
      "0     544\n",
      "1    1540\n",
      "2      69\n",
      "3      21\n",
      "Name: education_id, dtype: int64\n",
      "family_status\n",
      "civil partnership     442\n",
      "divorced              112\n",
      "married              1237\n",
      "unmarried             288\n",
      "widow / widower        95\n",
      "Name: family_status, dtype: int64\n",
      "family_status_id\n",
      "0    1237\n",
      "1     442\n",
      "2      95\n",
      "3     112\n",
      "4     288\n",
      "Name: family_status_id, dtype: int64\n",
      "gender\n",
      "F    1484\n",
      "M     690\n",
      "Name: gender, dtype: int64\n",
      "income_type\n",
      "business          508\n",
      "civil servant     147\n",
      "employee         1105\n",
      "entrepreneur        1\n",
      "retiree           413\n",
      "Name: income_type, dtype: int64\n",
      "debt\n",
      "0    2004\n",
      "1     170\n",
      "Name: debt, dtype: int64\n",
      "Series([], Name: total_income, dtype: int64)\n",
      "purpose\n",
      "building a property                         59\n",
      "building a real estate                      46\n",
      "buy commercial real estate                  67\n",
      "buy real estate                             72\n",
      "buy residential real estate                 61\n",
      "buying a second-hand car                    42\n",
      "buying my own car                           53\n",
      "buying property for renting out             65\n",
      "car                                         41\n",
      "car purchase                                43\n",
      "cars                                        57\n",
      "construction of own property                75\n",
      "education                                   42\n",
      "getting an education                        50\n",
      "getting higher education                    36\n",
      "going to university                         56\n",
      "having a wedding                            92\n",
      "housing                                     60\n",
      "housing renovation                          70\n",
      "housing transactions                        74\n",
      "profile education                           47\n",
      "property                                    62\n",
      "purchase of a car                           46\n",
      "purchase of my own house                    46\n",
      "purchase of the house                       52\n",
      "purchase of the house for my family         71\n",
      "real estate transactions                    61\n",
      "second-hand car purchase                    54\n",
      "supplementary education                     48\n",
      "to become educated                          55\n",
      "to buy a car                                30\n",
      "to get a supplementary education            51\n",
      "to have a wedding                           81\n",
      "to own a car                                52\n",
      "transactions with commercial real estate    70\n",
      "transactions with my real estate            71\n",
      "university education                        40\n",
      "wedding ceremony                            76\n",
      "Name: purpose, dtype: int64\n"
     ]
    }
   ],
   "source": [
    "# Let's investigate clients who do not have data on identified characteristic \n",
    "# and the column with the missing values\n",
    "for column in filtered_data.columns:\n",
    "    print(filtered_data.groupby([column])[column].count())"
   ]
  },
  {
   "cell_type": "code",
   "execution_count": 834,
   "metadata": {},
   "outputs": [
    {
     "name": "stdout",
     "output_type": "stream",
     "text": [
      "children\n",
      "-1        3\n",
      " 0     1439\n",
      " 1      475\n",
      " 2      204\n",
      " 3       36\n",
      " 4        7\n",
      " 5        1\n",
      " 20       9\n",
      "Name: children, dtype: int64\n",
      "Series([], Name: days_employed, dtype: int64)\n",
      "dob_years\n",
      "0     10\n",
      "19     1\n",
      "20     5\n",
      "21    18\n",
      "22    17\n",
      "23    36\n",
      "24    21\n",
      "25    23\n",
      "26    35\n",
      "27    36\n",
      "28    57\n",
      "29    50\n",
      "30    58\n",
      "31    65\n",
      "32    37\n",
      "33    51\n",
      "34    69\n",
      "35    64\n",
      "36    63\n",
      "37    53\n",
      "38    54\n",
      "39    51\n",
      "40    66\n",
      "41    59\n",
      "42    65\n",
      "43    50\n",
      "44    44\n",
      "45    50\n",
      "46    48\n",
      "47    59\n",
      "48    46\n",
      "49    50\n",
      "50    51\n",
      "51    50\n",
      "52    53\n",
      "53    44\n",
      "54    55\n",
      "55    48\n",
      "56    54\n",
      "57    56\n",
      "58    56\n",
      "59    34\n",
      "60    39\n",
      "61    38\n",
      "62    38\n",
      "63    29\n",
      "64    37\n",
      "65    20\n",
      "66    20\n",
      "67    16\n",
      "68     9\n",
      "69     5\n",
      "70     3\n",
      "71     5\n",
      "72     2\n",
      "73     1\n",
      "Name: dob_years, dtype: int64\n",
      "education\n",
      "BACHELOR'S DEGREE        23\n",
      "Bachelor's Degree        25\n",
      "PRIMARY EDUCATION         1\n",
      "Primary Education         1\n",
      "SECONDARY EDUCATION      67\n",
      "SOME COLLEGE              7\n",
      "Secondary Education      65\n",
      "Some College              7\n",
      "bachelor's degree       496\n",
      "primary education        19\n",
      "secondary education    1408\n",
      "some college             55\n",
      "Name: education, dtype: int64\n",
      "education_id\n",
      "0     544\n",
      "1    1540\n",
      "2      69\n",
      "3      21\n",
      "Name: education_id, dtype: int64\n",
      "family_status\n",
      "civil partnership     442\n",
      "divorced              112\n",
      "married              1237\n",
      "unmarried             288\n",
      "widow / widower        95\n",
      "Name: family_status, dtype: int64\n",
      "family_status_id\n",
      "0    1237\n",
      "1     442\n",
      "2      95\n",
      "3     112\n",
      "4     288\n",
      "Name: family_status_id, dtype: int64\n",
      "gender\n",
      "F    1484\n",
      "M     690\n",
      "Name: gender, dtype: int64\n",
      "income_type\n",
      "business          508\n",
      "civil servant     147\n",
      "employee         1105\n",
      "entrepreneur        1\n",
      "retiree           413\n",
      "Name: income_type, dtype: int64\n",
      "debt\n",
      "0    2004\n",
      "1     170\n",
      "Name: debt, dtype: int64\n",
      "Series([], Name: total_income, dtype: int64)\n",
      "purpose\n",
      "building a property                         59\n",
      "building a real estate                      46\n",
      "buy commercial real estate                  67\n",
      "buy real estate                             72\n",
      "buy residential real estate                 61\n",
      "buying a second-hand car                    42\n",
      "buying my own car                           53\n",
      "buying property for renting out             65\n",
      "car                                         41\n",
      "car purchase                                43\n",
      "cars                                        57\n",
      "construction of own property                75\n",
      "education                                   42\n",
      "getting an education                        50\n",
      "getting higher education                    36\n",
      "going to university                         56\n",
      "having a wedding                            92\n",
      "housing                                     60\n",
      "housing renovation                          70\n",
      "housing transactions                        74\n",
      "profile education                           47\n",
      "property                                    62\n",
      "purchase of a car                           46\n",
      "purchase of my own house                    46\n",
      "purchase of the house                       52\n",
      "purchase of the house for my family         71\n",
      "real estate transactions                    61\n",
      "second-hand car purchase                    54\n",
      "supplementary education                     48\n",
      "to become educated                          55\n",
      "to buy a car                                30\n",
      "to get a supplementary education            51\n",
      "to have a wedding                           81\n",
      "to own a car                                52\n",
      "transactions with commercial real estate    70\n",
      "transactions with my real estate            71\n",
      "university education                        40\n",
      "wedding ceremony                            76\n",
      "Name: purpose, dtype: int64\n"
     ]
    }
   ],
   "source": [
    "# Checking distribution\n",
    "for column in filtered_data.columns:\n",
    "    print(filtered_data.groupby([column])[column].count())\n"
   ]
  },
  {
   "cell_type": "markdown",
   "metadata": {},
   "source": [
    "[Describe your findings here.]\n",
    "<div class=\"alert alert-block alert-info\">\n",
    "<b>Student answer.</b> <a class=\"tocSkip\"></a>\n",
    "**Possible reasons for missing values in data**\n",
    "We thought that a dominant value in one of the columns in the  filtered data would lead to a possible cause.\n",
    "</div>\n",
    "[Propose your ideas on why you think the values might be missing. Do you think they are missing randomly or there are any patterns?]\n",
    "<div class=\"alert alert-block alert-info\">\n",
    "<b>Student answer.</b> <a class=\"tocSkip\"></a>\n",
    "We think that the value '0' in the debt column is the cause for the missing data.\n",
    "</div>\n",
    "\n",
    "[Let's start checking whether the missing values are random.]"
   ]
  },
  {
   "cell_type": "code",
   "execution_count": 835,
   "metadata": {},
   "outputs": [
    {
     "name": "stdout",
     "output_type": "stream",
     "text": [
      "debt\n",
      "0    19784\n",
      "1     1741\n",
      "Name: debt, dtype: int64\n",
      "children\n",
      "-1        47\n",
      " 0     14149\n",
      " 1      4818\n",
      " 2      2055\n",
      " 3       330\n",
      " 4        41\n",
      " 5         9\n",
      " 20       76\n",
      "Name: children, dtype: int64\n",
      "education\n",
      "BACHELOR'S DEGREE        274\n",
      "Bachelor's Degree        268\n",
      "GRADUATE DEGREE            1\n",
      "Graduate Degree            1\n",
      "PRIMARY EDUCATION         17\n",
      "Primary Education         15\n",
      "SECONDARY EDUCATION      772\n",
      "SOME COLLEGE              29\n",
      "Secondary Education      711\n",
      "Some College              47\n",
      "bachelor's degree       4718\n",
      "graduate degree            4\n",
      "primary education        250\n",
      "secondary education    13750\n",
      "some college             668\n",
      "Name: education, dtype: int64\n",
      "family_status\n",
      "civil partnership     4177\n",
      "divorced              1195\n",
      "married              12380\n",
      "unmarried             2813\n",
      "widow / widower        960\n",
      "Name: family_status, dtype: int64\n",
      "gender\n",
      "F      14236\n",
      "M       7288\n",
      "XNA        1\n",
      "Name: gender, dtype: int64\n"
     ]
    }
   ],
   "source": [
    "# Checking the distribution in the whole dataset\n",
    "\n",
    "for column in ['debt', 'children', 'education', 'family_status', 'gender']:\n",
    "    print(data.groupby([column])[column].count())"
   ]
  },
  {
   "cell_type": "markdown",
   "metadata": {},
   "source": [
    "**Intermediate conclusion**\n",
    "\n",
    "[Is the distribution in the original dataset similar to the distribution of the filtered table? What does that mean for us?]\n",
    "<div class=\"alert alert-block alert-info\">\n",
    "<b>Student answer.</b> <a class=\"tocSkip\"></a>\n",
    "Yes, there are similar ratios between our filtered data and the original dataset. It means that we cannot draw conclusions until we understand our data better.\n",
    "</div>\n",
    "[If you think we can't make any conclusions yet, let's investigate our dataset further. Let's think about other reasons that could lead to data missing and check if we can find any patterns that may lead us to thinking that the missing values are not random. Because this is your work, this is section is optional.]\n",
    "<div class=\"alert alert-block alert-info\">\n",
    "<b>Student answer.</b> <a class=\"tocSkip\"></a>\n",
    "The glaring issue is negative values in the days_employed column. We need to check if this is just an entry error. "
   ]
  },
  {
   "cell_type": "code",
   "execution_count": 836,
   "metadata": {},
   "outputs": [],
   "source": [
    "# Check for other reasons and patterns that could lead to missing values\n",
    "\n"
   ]
  },
  {
   "cell_type": "markdown",
   "metadata": {},
   "source": [
    "**Intermediate conclusion**\n",
    "\n",
    "[Can we finally confirm that missing values are accidental? Check for anything else that you think might be important here.]\n",
    "<div class=\"alert alert-block alert-info\">\n",
    "<b>Student answer.</b> <a class=\"tocSkip\"></a>\n",
    "We couldn't draw conclusion from the missing values. Instead, we should look into the values themselves, specifically the negative ones in days employed."
   ]
  },
  {
   "cell_type": "code",
   "execution_count": 837,
   "metadata": {
    "scrolled": true
   },
   "outputs": [
    {
     "name": "stdout",
     "output_type": "stream",
     "text": [
      "0       1969-12-31 23:59:59.999991563\n",
      "1       1969-12-31 23:59:59.999995976\n",
      "2       1969-12-31 23:59:59.999994377\n",
      "3       1969-12-31 23:59:59.999995876\n",
      "4       1970-01-01 00:00:00.000340266\n",
      "                     ...             \n",
      "21520   1969-12-31 23:59:59.999995471\n",
      "21521   1970-01-01 00:00:00.000343937\n",
      "21522   1969-12-31 23:59:59.999997887\n",
      "21523   1969-12-31 23:59:59.999996888\n",
      "21524   1969-12-31 23:59:59.999998016\n",
      "Name: days_employed, Length: 21525, dtype: datetime64[ns]\n"
     ]
    }
   ],
   "source": [
    "# Checking for other patterns - explain which\n",
    "de = data['days_employed']\n",
    "print(pd.to_datetime(de))"
   ]
  },
  {
   "cell_type": "markdown",
   "metadata": {},
   "source": [
    "**Conclusions**\n",
    "\n",
    "[Did you find any patterns? How did you come to this conclusion?]\n",
    "<div class=\"alert alert-block alert-info\">\n",
    "<b>Student answer.</b> <a class=\"tocSkip\"></a>\n",
    "No pattern were found. The ratios in the filtered and original dataset are similar.\n",
    "    </div>\n",
    "\n",
    "[Explain how you will address the missing values. Consider the categories in which values are missing.]\n",
    "<div class=\"alert alert-block alert-info\">\n",
    "<b>Student answer.</b> <a class=\"tocSkip\"></a>\n",
    "The only columns with missing values are days_employed and total_income. To get a clearer idea of the data, we must first put them all in the same format, and hope for entry errors and not bad data.\n",
    "</div>\n",
    "[Briefly plan your next steps for transforming data. You will probably need to address different types of issues: duplicates, different registers, incorrect artifacts, and missing values.]"
   ]
  },
  {
   "cell_type": "markdown",
   "metadata": {},
   "source": [
    "## Data transformation\n",
    "\n",
    "[Let's go through each column to see what issues we may have in them.]\n",
    "\n",
    "[Begin with removing duplicates and fixing educational information if required.]"
   ]
  },
  {
   "cell_type": "code",
   "execution_count": 838,
   "metadata": {},
   "outputs": [
    {
     "data": {
      "text/plain": [
       "array([\"bachelor's degree\", 'secondary education', 'Secondary Education',\n",
       "       'SECONDARY EDUCATION', \"BACHELOR'S DEGREE\", 'some college',\n",
       "       'primary education', \"Bachelor's Degree\", 'SOME COLLEGE',\n",
       "       'Some College', 'PRIMARY EDUCATION', 'Primary Education',\n",
       "       'Graduate Degree', 'GRADUATE DEGREE', 'graduate degree'],\n",
       "      dtype=object)"
      ]
     },
     "execution_count": 838,
     "metadata": {},
     "output_type": "execute_result"
    }
   ],
   "source": [
    "# Let's see all values in education column to check if and what spellings will need to be fixed\n",
    "data['education'].unique()"
   ]
  },
  {
   "cell_type": "code",
   "execution_count": 839,
   "metadata": {},
   "outputs": [
    {
     "data": {
      "text/plain": [
       "array([\"bachelor's degree\", 'secondary education', 'some college',\n",
       "       'primary education', 'graduate degree'], dtype=object)"
      ]
     },
     "execution_count": 839,
     "metadata": {},
     "output_type": "execute_result"
    }
   ],
   "source": [
    "# Fix the registers if required\n",
    "data['education'] = data['education'].str.lower()\n",
    "data['education'].unique()"
   ]
  },
  {
   "cell_type": "code",
   "execution_count": 840,
   "metadata": {},
   "outputs": [
    {
     "data": {
      "text/plain": [
       "array([\"bachelor's degree\", 'secondary education', 'some college',\n",
       "       'primary education', 'graduate degree'], dtype=object)"
      ]
     },
     "execution_count": 840,
     "metadata": {},
     "output_type": "execute_result"
    }
   ],
   "source": [
    "# Checking all the values in the column to make sure we fixed them\n",
    "data['education'].unique()\n"
   ]
  },
  {
   "cell_type": "markdown",
   "metadata": {},
   "source": [
    "[Check the data the `children` column]"
   ]
  },
  {
   "cell_type": "code",
   "execution_count": 841,
   "metadata": {},
   "outputs": [
    {
     "data": {
      "text/plain": [
       " 0     14149\n",
       " 1      4818\n",
       " 2      2055\n",
       " 3       330\n",
       " 20       76\n",
       "-1        47\n",
       " 4        41\n",
       " 5         9\n",
       "Name: children, dtype: int64"
      ]
     },
     "execution_count": 841,
     "metadata": {},
     "output_type": "execute_result"
    }
   ],
   "source": [
    "# Let's see the distribution of values in the `children` column\n",
    "data['children'].value_counts()"
   ]
  },
  {
   "cell_type": "markdown",
   "metadata": {},
   "source": [
    "[Are there any strange things in the column? If yes, how high is the percentage of problematic data? How could they have occurred? Make a decision on what you will do with this data and explain you reasoning.]\n",
    "<div class=\"alert alert-block alert-info\">\n",
    "<b>Student answer.</b> <a class=\"tocSkip\"></a>\n",
    "There are several strange things: a value of -1, a value of 20 in the middle of the order.\n",
    "These were most likely entry errors. And while not large in volume, we could certainly hypothesize that -1 is actually 1, and 20 is possibly 2, and proceed with replacing said values."
   ]
  },
  {
   "cell_type": "code",
   "execution_count": 842,
   "metadata": {},
   "outputs": [],
   "source": [
    "# [fix the data based on your decision]\n",
    "data['children'] = data['children'].replace(20, 2)\n",
    "data['children'] = data['children'].replace(-1, 1)"
   ]
  },
  {
   "cell_type": "code",
   "execution_count": 843,
   "metadata": {},
   "outputs": [
    {
     "data": {
      "text/plain": [
       "0    14149\n",
       "1     4865\n",
       "2     2131\n",
       "3      330\n",
       "4       41\n",
       "5        9\n",
       "Name: children, dtype: int64"
      ]
     },
     "execution_count": 843,
     "metadata": {},
     "output_type": "execute_result"
    }
   ],
   "source": [
    "# Checking the `children` column again to make sure it's all fixed\n",
    "data['children'].value_counts()\n"
   ]
  },
  {
   "cell_type": "markdown",
   "metadata": {},
   "source": [
    "[Check the data in the `days_employed` column. Firstly think about what kind of issues could there be and what you may want to check and how you will do it.]"
   ]
  },
  {
   "cell_type": "markdown",
   "metadata": {},
   "source": [
    "<div class=\"alert alert-block alert-info\">\n",
    "<b>Student answer.</b> <a class=\"tocSkip\"></a>\n",
    "    Before any preprocessing of the days_employed column, I calculated both the mean and median values of the column.\n",
    "    We can see that both values are not helpful to conduct further analysis.\n",
    "    So, per our tutor, we will not proceed with any <b>significant</b> analysis of these values.\n",
    "    \n",
    "    "
   ]
  },
  {
   "attachments": {
    "Screenshot%202023-01-27%20123851.png": {
     "image/png": "[encoded data removed]"
    }
   },
   "cell_type": "markdown",
   "metadata": {},
   "source": [
    "![Screenshot%202023-01-27%20123851.png](attachment:Screenshot%202023-01-27%20123851.png)"
   ]
  },
  {
   "cell_type": "code",
   "execution_count": 844,
   "metadata": {},
   "outputs": [
    {
     "name": "stdout",
     "output_type": "stream",
     "text": [
      "63046.49766147338\n",
      "-1203.369528770489\n"
     ]
    }
   ],
   "source": [
    "mean_days_employed = data['days_employed'].mean()\n",
    "print(mean_days_employed)\n",
    "median_days_employed = data['days_employed'].median()\n",
    "print(median_days_employed)"
   ]
  },
  {
   "cell_type": "code",
   "execution_count": 845,
   "metadata": {},
   "outputs": [
    {
     "name": "stdout",
     "output_type": "stream",
     "text": [
      "15906\n",
      "73.90%\n"
     ]
    }
   ],
   "source": [
    "# Find problematic data in `days_employed`, if they exist, and calculate the percentage\n",
    "negative_days = data[data['days_employed']<0]['days_employed'].count()\n",
    "\n",
    "print(negative_days)\n",
    "percentage_days_employed = f'{negative_days/data.shape[0]:.2%}'\n",
    "print(percentage_days_employed)"
   ]
  },
  {
   "cell_type": "markdown",
   "metadata": {},
   "source": [
    "[If the amount of problematic data is high, it could've been due to some technical issues. We may probably want to propose the most obvious reason why it could've happened and what the correct data might've been, as we can't drop these problematic rows.]\n",
    "<div class=\"alert alert-block alert-info\">\n",
    "<b>Student answer.</b> <a class=\"tocSkip\"></a>\n",
    "We see that nearly 3/4 of the data is problematic, most likely due to entry error. There cannot be a negative value for days employed - either you work or you don't. \n",
    "Other issues are grotesquely large values of days employed - no one works for 1,000 years."
   ]
  },
  {
   "cell_type": "markdown",
   "metadata": {},
   "source": [
    "<div class=\"alert alert-block alert-info\">\n",
    "<b>Student answer.</b> <a class=\"tocSkip\"></a>\n",
    "Let's try and examine whether negative values are the error. To remove the negative values, we will use the abs() function."
   ]
  },
  {
   "cell_type": "code",
   "execution_count": 846,
   "metadata": {},
   "outputs": [
    {
     "data": {
      "text/plain": [
       "0      8437.673028\n",
       "1      4024.803754\n",
       "2      5623.422610\n",
       "3      4124.747207\n",
       "4    340266.072047\n",
       "5       926.185831\n",
       "6      2879.202052\n",
       "7       152.779569\n",
       "8      6929.865299\n",
       "9      2188.756445\n",
       "Name: days_employed, dtype: float64"
      ]
     },
     "execution_count": 846,
     "metadata": {},
     "output_type": "execute_result"
    }
   ],
   "source": [
    "# Address the problematic values, if they exist\n",
    "absolute_days_employed = abs(data['days_employed'])\n",
    "\n",
    "absolute_days_employed.head(10)\n",
    "\n"
   ]
  },
  {
   "cell_type": "markdown",
   "metadata": {},
   "source": [
    "<div class=\"alert alert-block alert-info\">\n",
    "<b>Student answer.</b> <a class=\"tocSkip\"></a>\n",
    "We now see that the negative value wasn't the only problm in the data. "
   ]
  },
  {
   "cell_type": "code",
   "execution_count": 847,
   "metadata": {},
   "outputs": [
    {
     "data": {
      "text/plain": [
       "3445"
      ]
     },
     "execution_count": 847,
     "metadata": {},
     "output_type": "execute_result"
    }
   ],
   "source": [
    "# Check the result - make sure it's fixed\n",
    "large_days_employed = data[data['days_employed']>365*50]['days_employed']\n",
    "large_days_employed.count()\n",
    "\n"
   ]
  },
  {
   "cell_type": "markdown",
   "metadata": {},
   "source": [
    "<div class=\"alert alert-block alert-info\">\n",
    "<b>Student answer.</b> <a class=\"tocSkip\"></a>\n",
    "We see that we have a significant number of entries of people who have worked more than 50 years. This makes zero sense.\n",
    "We can therefore infer that the days_employed column is corrupted, so we cannot perform proper analysis based on it. We must talk to the client and/or engineering team."
   ]
  },
  {
   "cell_type": "code",
   "execution_count": 848,
   "metadata": {},
   "outputs": [
    {
     "data": {
      "text/plain": [
       "18250.0    21525\n",
       "Name: days_employed, dtype: int64"
      ]
     },
     "execution_count": 848,
     "metadata": {},
     "output_type": "execute_result"
    }
   ],
   "source": [
    "max_possible_days_employed = 365*50\n",
    "for index, row in data[data['days_employed']>max_possible_days_employed].iterrows():\n",
    "    data.loc[index,'days_employed'] = max_possible_days_employed\n",
    "for index, row in data[data['days_employed']<0].iterrows():\n",
    "    data.loc[index,'days_employed'] = max_possible_days_employed\n",
    "data['days_employed'] = data['days_employed'].fillna(value=max_possible_days_employed)\n",
    "data[data['days_employed']>0]['days_employed'].value_counts()"
   ]
  },
  {
   "cell_type": "markdown",
   "metadata": {},
   "source": [
    "<div class=\"alert alert-block alert-info\">\n",
    "<b>Student answer.</b> <a class=\"tocSkip\"></a>\n",
    "    It turns out, all entries for days_employed were corrupt - they were either neagtive or ridiculously abnormal.\n",
    "    Therefore, we defined a maximum value by which to repalce not only these values, but also the missing ones.\n",
    "    Unfortunately, this results in a uniform column, which renders it unusable for further analysis."
   ]
  },
  {
   "cell_type": "markdown",
   "metadata": {},
   "source": [
    "[Let's now look at the client's age and whether there are any issues there. Again, think about what can data can be strange in this column, i.e. what cannot be someone's age.]"
   ]
  },
  {
   "cell_type": "code",
   "execution_count": 849,
   "metadata": {
    "scrolled": true
   },
   "outputs": [
    {
     "name": "stdout",
     "output_type": "stream",
     "text": [
      "35    617\n",
      "40    609\n",
      "41    607\n",
      "34    603\n",
      "38    598\n",
      "42    597\n",
      "33    581\n",
      "39    573\n",
      "31    560\n",
      "36    555\n",
      "44    547\n",
      "29    545\n",
      "30    540\n",
      "48    538\n",
      "37    537\n",
      "50    514\n",
      "43    513\n",
      "32    510\n",
      "49    508\n",
      "28    503\n",
      "45    497\n",
      "27    493\n",
      "56    487\n",
      "52    484\n",
      "47    480\n",
      "54    479\n",
      "46    475\n",
      "58    461\n",
      "57    460\n",
      "53    459\n",
      "51    448\n",
      "59    444\n",
      "55    443\n",
      "26    408\n",
      "60    377\n",
      "25    357\n",
      "61    355\n",
      "62    352\n",
      "63    269\n",
      "64    265\n",
      "24    264\n",
      "23    254\n",
      "65    194\n",
      "66    183\n",
      "22    183\n",
      "67    167\n",
      "21    111\n",
      "0     101\n",
      "68     99\n",
      "69     85\n",
      "70     65\n",
      "71     58\n",
      "20     51\n",
      "72     33\n",
      "19     14\n",
      "73      8\n",
      "74      6\n",
      "75      1\n",
      "Name: dob_years, dtype: int64\n",
      "101\n",
      "0.47%\n"
     ]
    }
   ],
   "source": [
    "# Check the `dob_years` for suspicious values and count the percentage\n",
    "print(data['dob_years'].value_counts())\n",
    "\n",
    "suspicious_dob_years = data[data['dob_years']<=0]['dob_years'].count()\n",
    "print(suspicious_dob_years)\n",
    "\n",
    "percentage_dob_years = f'{suspicious_dob_years/data.shape[0]:.2%}'\n",
    "print(percentage_dob_years)"
   ]
  },
  {
   "cell_type": "markdown",
   "metadata": {},
   "source": [
    "[Decide what you'll do with the problematic values and explain why.]\n",
    "<div class=\"alert alert-block alert-info\">\n",
    "<b>Student answer.</b> <a class=\"tocSkip\"></a>\n",
    "We see that we have 101 instances of dob_years = 0, which is roughly 0.5% of the entire data. In the grand overview, this won't schew the data much, so we drop it from our data."
   ]
  },
  {
   "cell_type": "code",
   "execution_count": 850,
   "metadata": {},
   "outputs": [],
   "source": [
    "# Address the issues in the `dob_years` column, if they exist\n",
    "data = data.drop(data[data['dob_years'] == 0].index)"
   ]
  },
  {
   "cell_type": "code",
   "execution_count": 851,
   "metadata": {},
   "outputs": [
    {
     "data": {
      "text/plain": [
       "35    617\n",
       "40    609\n",
       "41    607\n",
       "34    603\n",
       "38    598\n",
       "42    597\n",
       "33    581\n",
       "39    573\n",
       "31    560\n",
       "36    555\n",
       "44    547\n",
       "29    545\n",
       "30    540\n",
       "48    538\n",
       "37    537\n",
       "50    514\n",
       "43    513\n",
       "32    510\n",
       "49    508\n",
       "28    503\n",
       "45    497\n",
       "27    493\n",
       "56    487\n",
       "52    484\n",
       "47    480\n",
       "54    479\n",
       "46    475\n",
       "58    461\n",
       "57    460\n",
       "53    459\n",
       "51    448\n",
       "59    444\n",
       "55    443\n",
       "26    408\n",
       "60    377\n",
       "25    357\n",
       "61    355\n",
       "62    352\n",
       "63    269\n",
       "64    265\n",
       "24    264\n",
       "23    254\n",
       "65    194\n",
       "22    183\n",
       "66    183\n",
       "67    167\n",
       "21    111\n",
       "68     99\n",
       "69     85\n",
       "70     65\n",
       "71     58\n",
       "20     51\n",
       "72     33\n",
       "19     14\n",
       "73      8\n",
       "74      6\n",
       "75      1\n",
       "Name: dob_years, dtype: int64"
      ]
     },
     "execution_count": 851,
     "metadata": {},
     "output_type": "execute_result"
    }
   ],
   "source": [
    "# Check the result - make sure it's fixed\n",
    "data['dob_years'].value_counts()"
   ]
  },
  {
   "cell_type": "markdown",
   "metadata": {},
   "source": [
    "[Now let's check the `family_status` column. See what kind of values there are and what problems you may need to address.]\n",
    "<div class=\"alert alert-block alert-info\">\n",
    "<b>Student answer.</b> <a class=\"tocSkip\"></a>\n",
    "It does not appear that there are any problematic values in the family_status column."
   ]
  },
  {
   "cell_type": "code",
   "execution_count": 852,
   "metadata": {},
   "outputs": [
    {
     "name": "stdout",
     "output_type": "stream",
     "text": [
      "married              12331\n",
      "civil partnership     4156\n",
      "unmarried             2797\n",
      "divorced              1185\n",
      "widow / widower        955\n",
      "Name: family_status, dtype: int64\n"
     ]
    }
   ],
   "source": [
    "# Let's see the values for the column\n",
    "print(data['family_status'].value_counts())\n"
   ]
  },
  {
   "cell_type": "code",
   "execution_count": 853,
   "metadata": {},
   "outputs": [],
   "source": [
    "# Address the problematic values in `family_status`, if they exist\n",
    "\n"
   ]
  },
  {
   "cell_type": "code",
   "execution_count": 854,
   "metadata": {},
   "outputs": [],
   "source": [
    "# Check the result - make sure it's fixed\n"
   ]
  },
  {
   "cell_type": "markdown",
   "metadata": {},
   "source": [
    "[Now let's check the `gender` column. See what kind of values there are and what problems you may need to address]\n",
    "<div class=\"alert alert-block alert-info\">\n",
    "<b>Student answer.</b> <a class=\"tocSkip\"></a>\n",
    "We have one case of XNA, but it is inconsequential to our data. And in the spirit of inclusion and diversity, perhaps this entry does not identify itself as F or M. \n",
    "What we can observe, however, is that the ratio between women and men is nearly 2:1.  "
   ]
  },
  {
   "cell_type": "code",
   "execution_count": 855,
   "metadata": {},
   "outputs": [
    {
     "name": "stdout",
     "output_type": "stream",
     "text": [
      "F      14164\n",
      "M       7259\n",
      "XNA        1\n",
      "Name: gender, dtype: int64\n"
     ]
    }
   ],
   "source": [
    "# Let's see the values in the column\n",
    "print(data['gender'].value_counts())"
   ]
  },
  {
   "cell_type": "code",
   "execution_count": 856,
   "metadata": {},
   "outputs": [],
   "source": [
    "# Address the problematic values, if they exist"
   ]
  },
  {
   "cell_type": "code",
   "execution_count": 857,
   "metadata": {},
   "outputs": [],
   "source": [
    "# Check the result - make sure it's fixed\n",
    "\n"
   ]
  },
  {
   "cell_type": "markdown",
   "metadata": {},
   "source": [
    "[Now let's check the `income_type` column. See what kind of values there are and what problems you may need to address]"
   ]
  },
  {
   "cell_type": "code",
   "execution_count": 858,
   "metadata": {},
   "outputs": [
    {
     "name": "stdout",
     "output_type": "stream",
     "text": [
      "employee                       11064\n",
      "business                        5065\n",
      "retiree                         3836\n",
      "civil servant                   1453\n",
      "unemployed                         2\n",
      "entrepreneur                       2\n",
      "student                            1\n",
      "paternity / maternity leave        1\n",
      "Name: income_type, dtype: int64\n"
     ]
    }
   ],
   "source": [
    "# Let's see the values in the column\n",
    "print(data['income_type'].value_counts())"
   ]
  },
  {
   "cell_type": "code",
   "execution_count": 859,
   "metadata": {},
   "outputs": [],
   "source": [
    "# Address the problematic values, if they exist"
   ]
  },
  {
   "cell_type": "code",
   "execution_count": 860,
   "metadata": {},
   "outputs": [],
   "source": [
    "# Check the result - make sure it's fixed\n",
    "\n"
   ]
  },
  {
   "cell_type": "markdown",
   "metadata": {},
   "source": [
    "[Now let's see if we have any duplicates in our data. If we do, you'll need to decide what you will do with them and explain why.]\n",
    "<div class=\"alert alert-block alert-info\">\n",
    "<b>Student answer.</b> <a class=\"tocSkip\"></a>\n",
    "We see that we have 71 cases of duplicated data. However, we cannot immidiately assume that these are indeed the same entry - they could be different people with the same characteristics. "
   ]
  },
  {
   "cell_type": "code",
   "execution_count": 861,
   "metadata": {},
   "outputs": [
    {
     "data": {
      "text/html": [
       "<div>\n",
       "<style scoped>\n",
       "    .dataframe tbody tr th:only-of-type {\n",
       "        vertical-align: middle;\n",
       "    }\n",
       "\n",
       "    .dataframe tbody tr th {\n",
       "        vertical-align: top;\n",
       "    }\n",
       "\n",
       "    .dataframe thead th {\n",
       "        text-align: right;\n",
       "    }\n",
       "</style>\n",
       "<table border=\"1\" class=\"dataframe\">\n",
       "  <thead>\n",
       "    <tr style=\"text-align: right;\">\n",
       "      <th></th>\n",
       "      <th>children</th>\n",
       "      <th>days_employed</th>\n",
       "      <th>dob_years</th>\n",
       "      <th>education</th>\n",
       "      <th>education_id</th>\n",
       "      <th>family_status</th>\n",
       "      <th>family_status_id</th>\n",
       "      <th>gender</th>\n",
       "      <th>income_type</th>\n",
       "      <th>debt</th>\n",
       "      <th>total_income</th>\n",
       "      <th>purpose</th>\n",
       "    </tr>\n",
       "  </thead>\n",
       "  <tbody>\n",
       "    <tr>\n",
       "      <th>2849</th>\n",
       "      <td>0</td>\n",
       "      <td>18250.0</td>\n",
       "      <td>41</td>\n",
       "      <td>secondary education</td>\n",
       "      <td>1</td>\n",
       "      <td>married</td>\n",
       "      <td>0</td>\n",
       "      <td>F</td>\n",
       "      <td>employee</td>\n",
       "      <td>0</td>\n",
       "      <td>NaN</td>\n",
       "      <td>purchase of the house for my family</td>\n",
       "    </tr>\n",
       "    <tr>\n",
       "      <th>3290</th>\n",
       "      <td>0</td>\n",
       "      <td>18250.0</td>\n",
       "      <td>58</td>\n",
       "      <td>secondary education</td>\n",
       "      <td>1</td>\n",
       "      <td>civil partnership</td>\n",
       "      <td>1</td>\n",
       "      <td>F</td>\n",
       "      <td>retiree</td>\n",
       "      <td>0</td>\n",
       "      <td>NaN</td>\n",
       "      <td>to have a wedding</td>\n",
       "    </tr>\n",
       "    <tr>\n",
       "      <th>4182</th>\n",
       "      <td>1</td>\n",
       "      <td>18250.0</td>\n",
       "      <td>34</td>\n",
       "      <td>bachelor's degree</td>\n",
       "      <td>0</td>\n",
       "      <td>civil partnership</td>\n",
       "      <td>1</td>\n",
       "      <td>F</td>\n",
       "      <td>employee</td>\n",
       "      <td>0</td>\n",
       "      <td>NaN</td>\n",
       "      <td>wedding ceremony</td>\n",
       "    </tr>\n",
       "    <tr>\n",
       "      <th>4851</th>\n",
       "      <td>0</td>\n",
       "      <td>18250.0</td>\n",
       "      <td>60</td>\n",
       "      <td>secondary education</td>\n",
       "      <td>1</td>\n",
       "      <td>civil partnership</td>\n",
       "      <td>1</td>\n",
       "      <td>F</td>\n",
       "      <td>retiree</td>\n",
       "      <td>0</td>\n",
       "      <td>NaN</td>\n",
       "      <td>wedding ceremony</td>\n",
       "    </tr>\n",
       "    <tr>\n",
       "      <th>5557</th>\n",
       "      <td>0</td>\n",
       "      <td>18250.0</td>\n",
       "      <td>58</td>\n",
       "      <td>secondary education</td>\n",
       "      <td>1</td>\n",
       "      <td>civil partnership</td>\n",
       "      <td>1</td>\n",
       "      <td>F</td>\n",
       "      <td>retiree</td>\n",
       "      <td>0</td>\n",
       "      <td>NaN</td>\n",
       "      <td>to have a wedding</td>\n",
       "    </tr>\n",
       "    <tr>\n",
       "      <th>6312</th>\n",
       "      <td>0</td>\n",
       "      <td>18250.0</td>\n",
       "      <td>30</td>\n",
       "      <td>secondary education</td>\n",
       "      <td>1</td>\n",
       "      <td>married</td>\n",
       "      <td>0</td>\n",
       "      <td>M</td>\n",
       "      <td>employee</td>\n",
       "      <td>0</td>\n",
       "      <td>NaN</td>\n",
       "      <td>building a real estate</td>\n",
       "    </tr>\n",
       "    <tr>\n",
       "      <th>7808</th>\n",
       "      <td>0</td>\n",
       "      <td>18250.0</td>\n",
       "      <td>57</td>\n",
       "      <td>secondary education</td>\n",
       "      <td>1</td>\n",
       "      <td>civil partnership</td>\n",
       "      <td>1</td>\n",
       "      <td>F</td>\n",
       "      <td>retiree</td>\n",
       "      <td>0</td>\n",
       "      <td>NaN</td>\n",
       "      <td>having a wedding</td>\n",
       "    </tr>\n",
       "    <tr>\n",
       "      <th>7921</th>\n",
       "      <td>0</td>\n",
       "      <td>18250.0</td>\n",
       "      <td>64</td>\n",
       "      <td>bachelor's degree</td>\n",
       "      <td>0</td>\n",
       "      <td>civil partnership</td>\n",
       "      <td>1</td>\n",
       "      <td>F</td>\n",
       "      <td>retiree</td>\n",
       "      <td>0</td>\n",
       "      <td>NaN</td>\n",
       "      <td>having a wedding</td>\n",
       "    </tr>\n",
       "    <tr>\n",
       "      <th>7938</th>\n",
       "      <td>0</td>\n",
       "      <td>18250.0</td>\n",
       "      <td>71</td>\n",
       "      <td>secondary education</td>\n",
       "      <td>1</td>\n",
       "      <td>civil partnership</td>\n",
       "      <td>1</td>\n",
       "      <td>F</td>\n",
       "      <td>retiree</td>\n",
       "      <td>0</td>\n",
       "      <td>NaN</td>\n",
       "      <td>having a wedding</td>\n",
       "    </tr>\n",
       "    <tr>\n",
       "      <th>8583</th>\n",
       "      <td>0</td>\n",
       "      <td>18250.0</td>\n",
       "      <td>58</td>\n",
       "      <td>bachelor's degree</td>\n",
       "      <td>0</td>\n",
       "      <td>unmarried</td>\n",
       "      <td>4</td>\n",
       "      <td>F</td>\n",
       "      <td>retiree</td>\n",
       "      <td>0</td>\n",
       "      <td>NaN</td>\n",
       "      <td>supplementary education</td>\n",
       "    </tr>\n",
       "  </tbody>\n",
       "</table>\n",
       "</div>"
      ],
      "text/plain": [
       "      children  days_employed  dob_years            education  education_id  \\\n",
       "2849         0        18250.0         41  secondary education             1   \n",
       "3290         0        18250.0         58  secondary education             1   \n",
       "4182         1        18250.0         34    bachelor's degree             0   \n",
       "4851         0        18250.0         60  secondary education             1   \n",
       "5557         0        18250.0         58  secondary education             1   \n",
       "6312         0        18250.0         30  secondary education             1   \n",
       "7808         0        18250.0         57  secondary education             1   \n",
       "7921         0        18250.0         64    bachelor's degree             0   \n",
       "7938         0        18250.0         71  secondary education             1   \n",
       "8583         0        18250.0         58    bachelor's degree             0   \n",
       "\n",
       "          family_status  family_status_id gender income_type  debt  \\\n",
       "2849            married                 0      F    employee     0   \n",
       "3290  civil partnership                 1      F     retiree     0   \n",
       "4182  civil partnership                 1      F    employee     0   \n",
       "4851  civil partnership                 1      F     retiree     0   \n",
       "5557  civil partnership                 1      F     retiree     0   \n",
       "6312            married                 0      M    employee     0   \n",
       "7808  civil partnership                 1      F     retiree     0   \n",
       "7921  civil partnership                 1      F     retiree     0   \n",
       "7938  civil partnership                 1      F     retiree     0   \n",
       "8583          unmarried                 4      F     retiree     0   \n",
       "\n",
       "      total_income                              purpose  \n",
       "2849           NaN  purchase of the house for my family  \n",
       "3290           NaN                    to have a wedding  \n",
       "4182           NaN                     wedding ceremony  \n",
       "4851           NaN                     wedding ceremony  \n",
       "5557           NaN                    to have a wedding  \n",
       "6312           NaN               building a real estate  \n",
       "7808           NaN                     having a wedding  \n",
       "7921           NaN                     having a wedding  \n",
       "7938           NaN                     having a wedding  \n",
       "8583           NaN              supplementary education  "
      ]
     },
     "execution_count": 861,
     "metadata": {},
     "output_type": "execute_result"
    }
   ],
   "source": [
    "# Checking duplicates\n",
    "duplicated_data = data[data.duplicated()]\n",
    "(duplicated_data.head(10))\n"
   ]
  },
  {
   "cell_type": "code",
   "execution_count": 862,
   "metadata": {},
   "outputs": [],
   "source": [
    "# Address the duplicates, if they exist"
   ]
  },
  {
   "cell_type": "code",
   "execution_count": 863,
   "metadata": {},
   "outputs": [],
   "source": [
    "# Last check whether we have any duplicates\n"
   ]
  },
  {
   "cell_type": "code",
   "execution_count": 864,
   "metadata": {},
   "outputs": [],
   "source": [
    "# Check the size of the dataset that you now have after your first manipulations with it"
   ]
  },
  {
   "cell_type": "markdown",
   "metadata": {},
   "source": [
    "[Describe your new dataset: briefly say what's changed and what's the percentage of the changes, if there were any.]\n",
    "<div class=\"alert alert-block alert-info\">\n",
    "<b>Student answer.</b> <a class=\"tocSkip\"></a>\n",
    "Since there are no unique identifiers for each user, the supposed duplicates are acceptable as seperate entries."
   ]
  },
  {
   "cell_type": "markdown",
   "metadata": {},
   "source": [
    "# Working with missing values"
   ]
  },
  {
   "cell_type": "markdown",
   "metadata": {},
   "source": [
    "[To speed up working with some data, you may want to work with dictionaries for some values, where IDs are provided. Explain why and which dictionaries you will work with.]\n",
    "To make sure that our values fully correlate, we will do the following:\n",
    "1+2: check the value counts for the column and column_id to get the pairings we think will make up our dictionary.\n",
    "3: We create a for loop that will go over our assumed dictionary entries to confirm our hypothesis."
   ]
  },
  {
   "cell_type": "code",
   "execution_count": 865,
   "metadata": {},
   "outputs": [
    {
     "name": "stdout",
     "output_type": "stream",
     "text": [
      "0    12331\n",
      "1     4156\n",
      "4     2797\n",
      "3     1185\n",
      "2      955\n",
      "Name: family_status_id, dtype: int64\n",
      "married              12331\n",
      "civil partnership     4156\n",
      "unmarried             2797\n",
      "divorced              1185\n",
      "widow / widower        955\n",
      "Name: family_status, dtype: int64\n",
      "(12331, 12)\n",
      "(4156, 12)\n",
      "(2797, 12)\n",
      "(1185, 12)\n",
      "(955, 12)\n",
      "1    15169\n",
      "0     5225\n",
      "2      742\n",
      "3      282\n",
      "4        6\n",
      "Name: education_id, dtype: int64\n",
      "secondary education    15169\n",
      "bachelor's degree       5225\n",
      "some college             742\n",
      "primary education        282\n",
      "graduate degree            6\n",
      "Name: education, dtype: int64\n",
      "(5225, 12)\n",
      "(15169, 12)\n",
      "(6, 12)\n",
      "(282, 12)\n",
      "(742, 12)\n"
     ]
    }
   ],
   "source": [
    "# Find the dictionaries\n",
    "print(data['family_status_id'].value_counts())\n",
    "print(data['family_status'].value_counts())\n",
    "\n",
    "for value in [(0, 'married'), (1, 'civil partnership'), (4, 'unmarried'), (3, 'divorced'), (2, 'widow / widower')]:\n",
    "    data_family_status = data.loc[(data['family_status_id'] == value[0]) & (data['family_status'] == value[1])]\n",
    "    print(data_family_status.shape)\n",
    "    \n",
    "family_status_dict = {\n",
    "    0 : 'married', \n",
    "    1 : 'civil partnership',\n",
    "    2 : 'widow / widower', \n",
    "    3 : 'divorced', \n",
    "    4 : 'unmarried'\n",
    "}    \n",
    "\n",
    "print(data['education_id'].value_counts())\n",
    "print(data['education'].value_counts())\n",
    "\n",
    "for value in [(0, \"bachelor's degree\"), (1, 'secondary education'), (4, 'graduate degree'), (3, 'primary education'), (2, 'some college')]:\n",
    "    data_education = data.loc[(data['education_id'] == value[0]) & (data['education'] == value[1])]\n",
    "    print(data_education.shape)\n",
    "\n",
    "    \n",
    "education_dict = {\n",
    "    0 : \"bachelor's degree\", \n",
    "    1 : 'secondary education',\n",
    "    2 : 'some college', \n",
    "    3 : 'primary education', \n",
    "    4 : 'graduate degree'\n",
    "}    \n",
    "\n",
    "\n"
   ]
  },
  {
   "cell_type": "markdown",
   "metadata": {},
   "source": [
    "### Restoring missing values in `total_income`"
   ]
  },
  {
   "cell_type": "markdown",
   "metadata": {},
   "source": [
    "[Briefly state which column(s) have values missing that you need to address. Explain how you will fix them.]\n",
    "We found two columns with missing values - days_employed and total_income. We saw that days_employed is corrupted, so if we choose to fill in missing values we will do so total_income.\n",
    "\n",
    "[Start with addressing total income missing values. Create and age category for clients. Create a new column with the age category. This strategy can help with calculating values for the total income.]\n"
   ]
  },
  {
   "cell_type": "code",
   "execution_count": 866,
   "metadata": {},
   "outputs": [],
   "source": [
    "# Let's write a function that calculates the age category\n",
    "def assign_age_category(dob_years):\n",
    "    if dob_years<=24:\n",
    "        return '24 and under'\n",
    "    if 25<=dob_years<=26:\n",
    "        return '25-26'\n",
    "    if 27<=dob_years<=28:\n",
    "        return '27-28'\n",
    "    if 29<=dob_years<=33:\n",
    "        return '29-33'\n",
    "    if 34<=dob_years<=39:\n",
    "        return '34-39'\n",
    "    if 40<=dob_years<=42:\n",
    "        return '40-42'\n",
    "    if 43<=dob_years<=47:\n",
    "        return '43-47'\n",
    "    if 48<=dob_years<=50:\n",
    "        return '48-50'\n",
    "    if 51<=dob_years<=55:\n",
    "        return '51-55'\n",
    "    if 56<=dob_years<=59:\n",
    "        return '56-59'\n",
    "    if 60<=dob_years<=62:\n",
    "        return '60-62'\n",
    "    if 63<=dob_years<=64:\n",
    "        return '63-64'\n",
    "    if 65<=dob_years<=67:\n",
    "        return '65-67'\n",
    "    if dob_years>=68:\n",
    "        return '68+'\n",
    "\n",
    "\n",
    "\n"
   ]
  },
  {
   "cell_type": "code",
   "execution_count": 867,
   "metadata": {},
   "outputs": [],
   "source": [
    "# Test if the function works\n"
   ]
  },
  {
   "cell_type": "code",
   "execution_count": 868,
   "metadata": {},
   "outputs": [],
   "source": [
    "# Creating new column based on function\n",
    "data['age_category'] = data['dob_years'].apply(assign_age_category)\n"
   ]
  },
  {
   "cell_type": "code",
   "execution_count": 869,
   "metadata": {},
   "outputs": [
    {
     "data": {
      "text/plain": [
       "34-39           3483\n",
       "29-33           2736\n",
       "43-47           2512\n",
       "51-55           2313\n",
       "56-59           1852\n",
       "40-42           1813\n",
       "48-50           1560\n",
       "60-62           1084\n",
       "27-28            996\n",
       "24 and under     877\n",
       "25-26            765\n",
       "65-67            544\n",
       "63-64            534\n",
       "68+              355\n",
       "Name: age_category, dtype: int64"
      ]
     },
     "execution_count": 869,
     "metadata": {},
     "output_type": "execute_result"
    }
   ],
   "source": [
    "# Checking how values in the new column\n",
    "data['age_category'].value_counts()"
   ]
  },
  {
   "cell_type": "markdown",
   "metadata": {},
   "source": [
    "[Think about the factors on which income usually depends. Eventually, you will want to find out whether you should use mean or median values for replacing missing values. To make this decision you will probably want to look at the distribution of the factors you identified as impacting one's income.]"
   ]
  },
  {
   "cell_type": "markdown",
   "metadata": {},
   "source": [
    "[Create a table that only has data without missing values. This data will be used to restore the missing values.]"
   ]
  },
  {
   "cell_type": "code",
   "execution_count": 870,
   "metadata": {},
   "outputs": [
    {
     "data": {
      "text/plain": [
       "age_category    0\n",
       "income_type     0\n",
       "education       0\n",
       "total_income    0\n",
       "dtype: int64"
      ]
     },
     "execution_count": 870,
     "metadata": {},
     "output_type": "execute_result"
    }
   ],
   "source": [
    "# Create a table without missing values and print a few of its rows to make sure it looks fine\n",
    "clean_data = data[['age_category', 'income_type', 'education', 'total_income',]].dropna()\n",
    "clean_data.isna().sum()"
   ]
  },
  {
   "cell_type": "code",
   "execution_count": 871,
   "metadata": {},
   "outputs": [
    {
     "name": "stdout",
     "output_type": "stream",
     "text": [
      "              total_income\n",
      "age_category              \n",
      "24 and under  22703.351103\n",
      "25-26         25243.943867\n",
      "27-28         27355.753821\n",
      "29-33         27680.007478\n",
      "34-39         28617.692423\n",
      "40-42         28714.388376\n",
      "43-47         28552.784508\n",
      "48-50         27690.982261\n",
      "51-55         26156.618683\n",
      "56-59         25186.969373\n",
      "60-62         23627.785171\n",
      "63-64         24351.680103\n",
      "65-67         22523.583629\n",
      "68+           20092.058355\n",
      "                             total_income\n",
      "income_type                              \n",
      "business                     32397.357125\n",
      "civil servant                27361.316126\n",
      "employee                     25824.679592\n",
      "entrepreneur                 79866.103000\n",
      "paternity / maternity leave   8612.661000\n",
      "retiree                      21939.310393\n",
      "student                      15712.260000\n",
      "unemployed                   21014.360500\n",
      "                     total_income\n",
      "education                        \n",
      "bachelor's degree    33172.428387\n",
      "graduate degree      27960.024667\n",
      "primary education    21144.882211\n",
      "secondary education  24600.353617\n",
      "some college         29040.391842\n"
     ]
    }
   ],
   "source": [
    "# Look at the mean values for income based on your identified factors\n",
    "mean_income_age_category = clean_data.groupby('age_category').mean('total_income')\n",
    "print(mean_income_age_category)\n",
    "mean_income_type = clean_data.groupby('income_type').mean('total_income')\n",
    "print(mean_income_type)\n",
    "mean_income_education = clean_data.groupby('education').mean('total_income')\n",
    "print(mean_income_education)"
   ]
  },
  {
   "cell_type": "code",
   "execution_count": 872,
   "metadata": {
    "scrolled": true
   },
   "outputs": [
    {
     "name": "stdout",
     "output_type": "stream",
     "text": [
      "              total_income\n",
      "age_category              \n",
      "24 and under    20572.2090\n",
      "25-26           22983.7950\n",
      "27-28           24194.6330\n",
      "29-33           24173.0810\n",
      "34-39           24872.4750\n",
      "40-42           24971.0500\n",
      "43-47           24595.8680\n",
      "48-50           24412.3980\n",
      "51-55           22339.7660\n",
      "56-59           21969.0785\n",
      "60-62           20629.9590\n",
      "63-64           20834.1775\n",
      "65-67           18726.0940\n",
      "68+             18004.9405\n",
      "                             total_income\n",
      "income_type                              \n",
      "business                       27564.8930\n",
      "civil servant                  24083.5065\n",
      "employee                       22815.1035\n",
      "entrepreneur                   79866.1030\n",
      "paternity / maternity leave     8612.6610\n",
      "retiree                        18969.1490\n",
      "student                        15712.2600\n",
      "unemployed                     21014.3605\n",
      "                     total_income\n",
      "education                        \n",
      "bachelor's degree      28054.5310\n",
      "graduate degree        25161.5835\n",
      "primary education      18741.9760\n",
      "secondary education    21839.4075\n",
      "some college           25618.4640\n"
     ]
    }
   ],
   "source": [
    "# Look at the median values for income based on your identified factors\n",
    "median_income_age_category = clean_data.groupby('age_category').median('total_income')\n",
    "print(median_income_age_category)\n",
    "median_income_type = clean_data.groupby('income_type').median('total_income')\n",
    "print(median_income_type)\n",
    "median_income_education = clean_data.groupby('education').median('total_income')\n",
    "print(median_income_education)"
   ]
  },
  {
   "cell_type": "markdown",
   "metadata": {},
   "source": [
    "[Repeat such comparisons for multiple factors. Make sure you consider different aspects and explain your thinking process.]\n",
    "\n"
   ]
  },
  {
   "cell_type": "markdown",
   "metadata": {},
   "source": [
    "[Make a decision on what characteristics define income most and whether you will use a median or a mean. Explain why you made this decision]\n",
    "<div class=\"alert alert-block alert-info\">\n",
    "<b>Student answer.</b> <a class=\"tocSkip\"></a>\n",
    "I performed mean and median calculations for age group, income type, and education. I believe that these factors are what drives income most: \n",
    "1. Better education leads to better paying jobs.\n",
    "2. Certain job types pay more than others (for example: entrepreneur vs civil servant).\n",
    "3. Most of the working people are in a certain age range, so it would make sense that there is a correlation between age and income.\n",
    "\n",
    "As for mean or median: we will use the mean, as there don't seem to be significant outliers. When we attempt to fill the missing values, we will have to use the mean of the aformentioned means we calculated above.\n"
   ]
  },
  {
   "cell_type": "code",
   "execution_count": 873,
   "metadata": {},
   "outputs": [],
   "source": [
    "new_data_grouped = data.groupby(['education', 'age_category', 'income_type'])['total_income'].mean()"
   ]
  },
  {
   "cell_type": "code",
   "execution_count": 874,
   "metadata": {},
   "outputs": [
    {
     "data": {
      "text/plain": [
       "{(\"bachelor's degree\", '24 and under', 'business'): 28125.568907692297,\n",
       " (\"bachelor's degree\", '24 and under', 'civil servant'): 29873.948666666667,\n",
       " (\"bachelor's degree\", '24 and under', 'employee'): 23316.75211458334,\n",
       " (\"bachelor's degree\", '24 and under', 'student'): 15712.26,\n",
       " (\"bachelor's degree\", '25-26', 'business'): 30036.836700000014,\n",
       " (\"bachelor's degree\", '25-26', 'civil servant'): 25803.720405405405,\n",
       " (\"bachelor's degree\", '25-26', 'employee'): 26228.25663247861,\n",
       " (\"bachelor's degree\", '25-26', 'retiree'): 34394.128,\n",
       " (\"bachelor's degree\", '27-28', 'business'): 36866.1390280374,\n",
       " (\"bachelor's degree\", '27-28', 'civil servant'): 28351.020500000006,\n",
       " (\"bachelor's degree\", '27-28', 'employee'): 29968.85232335329,\n",
       " (\"bachelor's degree\", '27-28', 'entrepreneur'): 79866.103,\n",
       " (\"bachelor's degree\", '29-33', 'business'): 36940.67035517242,\n",
       " (\"bachelor's degree\", '29-33', 'civil servant'): 29133.74054545454,\n",
       " (\"bachelor's degree\", '29-33', 'employee'): 29571.5001081081,\n",
       " (\"bachelor's degree\", '34-39', 'business'): 39928.456,\n",
       " (\"bachelor's degree\", '34-39', 'civil servant'): 34294.92136082474,\n",
       " (\"bachelor's degree\", '34-39', 'employee'): 32030.088031249994,\n",
       " (\"bachelor's degree\", '34-39', 'retiree'): 35371.2158,\n",
       " (\"bachelor's degree\", '40-42', 'business'): 42178.58031972788,\n",
       " (\"bachelor's degree\", '40-42', 'civil servant'): 30209.79344444445,\n",
       " (\"bachelor's degree\", '40-42', 'employee'): 32621.59009433962,\n",
       " (\"bachelor's degree\", '40-42', 'retiree'): 28546.995333333336,\n",
       " (\"bachelor's degree\", '43-47', 'business'): 40849.28775879399,\n",
       " (\"bachelor's degree\", '43-47', 'civil servant'): 33043.93488135593,\n",
       " (\"bachelor's degree\", '43-47', 'employee'): 31308.788062240663,\n",
       " (\"bachelor's degree\", '43-47', 'retiree'): 42871.882153846156,\n",
       " (\"bachelor's degree\", '43-47', 'unemployed'): 32435.602000000006,\n",
       " (\"bachelor's degree\", '48-50', 'business'): 41177.247017857146,\n",
       " (\"bachelor's degree\", '48-50', 'civil servant'): 38185.216093749994,\n",
       " (\"bachelor's degree\", '48-50', 'employee'): 30105.984933333337,\n",
       " (\"bachelor's degree\", '48-50', 'retiree'): 37776.3934375,\n",
       " (\"bachelor's degree\", '51-55', 'business'): 43567.19870000004,\n",
       " (\"bachelor's degree\", '51-55', 'civil servant'): 32796.42658333333,\n",
       " (\"bachelor's degree\", '51-55', 'employee'): 35530.43787919464,\n",
       " (\"bachelor's degree\", '51-55', 'retiree'): 26220.310895833332,\n",
       " (\"bachelor's degree\", '56-59', 'business'): 41010.716736842085,\n",
       " (\"bachelor's degree\", '56-59', 'civil servant'): 29931.72547368421,\n",
       " (\"bachelor's degree\", '56-59', 'employee'): 31694.249234567895,\n",
       " (\"bachelor's degree\", '56-59', 'entrepreneur'): nan,\n",
       " (\"bachelor's degree\", '56-59', 'retiree'): 24681.422309523816,\n",
       " (\"bachelor's degree\", '60-62', 'business'): 38074.37836000001,\n",
       " (\"bachelor's degree\", '60-62', 'civil servant'): 36447.6081,\n",
       " (\"bachelor's degree\", '60-62', 'employee'): 29509.786878048773,\n",
       " (\"bachelor's degree\", '60-62', 'retiree'): 27606.732489361704,\n",
       " (\"bachelor's degree\", '63-64', 'business'): 45549.939066666666,\n",
       " (\"bachelor's degree\", '63-64', 'civil servant'): 43480.4544,\n",
       " (\"bachelor's degree\", '63-64', 'employee'): 36783.87533333334,\n",
       " (\"bachelor's degree\", '63-64', 'retiree'): 27891.48708474576,\n",
       " (\"bachelor's degree\", '65-67', 'business'): 36862.3626,\n",
       " (\"bachelor's degree\", '65-67', 'civil servant'): 18418.054666666667,\n",
       " (\"bachelor's degree\", '65-67', 'employee'): 29597.72836363636,\n",
       " (\"bachelor's degree\", '65-67', 'retiree'): 29794.356627118632,\n",
       " (\"bachelor's degree\", '68+', 'business'): 35343.05000000001,\n",
       " (\"bachelor's degree\", '68+', 'civil servant'): 40449.0445,\n",
       " (\"bachelor's degree\", '68+', 'employee'): 31077.427,\n",
       " (\"bachelor's degree\", '68+', 'retiree'): 23167.685659090905,\n",
       " ('graduate degree', '34-39', 'civil servant'): 17822.756999999998,\n",
       " ('graduate degree', '34-39', 'employee'): 18551.846,\n",
       " ('graduate degree', '43-47', 'employee'): 31771.321,\n",
       " ('graduate degree', '56-59', 'employee'): 42945.794,\n",
       " ('graduate degree', '60-62', 'retiree'): 40868.031,\n",
       " ('graduate degree', '68+', 'retiree'): 15800.399,\n",
       " ('primary education', '24 and under', 'business'): 27119.024,\n",
       " ('primary education', '24 and under', 'employee'): 23805.2095,\n",
       " ('primary education', '25-26', 'business'): 12663.581,\n",
       " ('primary education', '25-26', 'employee'): 31491.446500000002,\n",
       " ('primary education', '27-28', 'business'): 35745.8215,\n",
       " ('primary education', '27-28', 'civil servant'): 30563.383,\n",
       " ('primary education', '27-28', 'employee'): 19341.6215,\n",
       " ('primary education', '29-33', 'business'): 22527.7532,\n",
       " ('primary education', '29-33', 'employee'): 22000.947555555562,\n",
       " ('primary education', '34-39', 'business'): 26883.68842857143,\n",
       " ('primary education', '34-39', 'civil servant'): 21150.696,\n",
       " ('primary education', '34-39', 'employee'): 22021.701512820513,\n",
       " ('primary education', '34-39', 'retiree'): 14138.866000000002,\n",
       " ('primary education', '40-42', 'business'): 21283.7495,\n",
       " ('primary education', '40-42', 'employee'): 21372.214263157897,\n",
       " ('primary education', '40-42', 'retiree'): 21807.668,\n",
       " ('primary education', '43-47', 'business'): 27804.4824,\n",
       " ('primary education', '43-47', 'employee'): 22674.92035714286,\n",
       " ('primary education', '43-47', 'retiree'): 9609.198,\n",
       " ('primary education', '48-50', 'civil servant'): 78410.774,\n",
       " ('primary education', '48-50', 'employee'): 20867.282999999996,\n",
       " ('primary education', '48-50', 'retiree'): 16686.884,\n",
       " ('primary education', '51-55', 'business'): 28388.63,\n",
       " ('primary education', '51-55', 'employee'): 18902.6119,\n",
       " ('primary education', '51-55', 'retiree'): 16966.7055,\n",
       " ('primary education', '56-59', 'business'): 15518.346,\n",
       " ('primary education', '56-59', 'civil servant'): 12709.2755,\n",
       " ('primary education', '56-59', 'employee'): 12204.113666666666,\n",
       " ('primary education', '56-59', 'retiree'): 17774.252705882354,\n",
       " ('primary education', '60-62', 'employee'): 27513.900333333335,\n",
       " ('primary education', '60-62', 'retiree'): 19252.098833333333,\n",
       " ('primary education', '63-64', 'civil servant'): nan,\n",
       " ('primary education', '63-64', 'employee'): 18428.085333333333,\n",
       " ('primary education', '63-64', 'retiree'): 19624.458818181818,\n",
       " ('primary education', '65-67', 'retiree'): 17804.780437499998,\n",
       " ('primary education', '68+', 'employee'): 28699.12,\n",
       " ('primary education', '68+', 'retiree'): 16071.825666666668,\n",
       " ('secondary education', '24 and under', 'business'): 24236.796169354835,\n",
       " ('secondary education', '24 and under', 'civil servant'): 22535.430904761903,\n",
       " ('secondary education', '24 and under', 'employee'): 20519.892626911304,\n",
       " ('secondary education', '24 and under', 'retiree'): 14298.976,\n",
       " ('secondary education', '25-26', 'business'): 26187.847091954034,\n",
       " ('secondary education', '25-26', 'civil servant'): 24636.0775,\n",
       " ('secondary education', '25-26', 'employee'): 22458.486565217416,\n",
       " ('secondary education', '25-26', 'retiree'): 12807.071000000002,\n",
       " ('secondary education', '27-28', 'business'): 26959.419642857127,\n",
       " ('secondary education', '27-28', 'civil servant'): 23003.181545454543,\n",
       " ('secondary education', '27-28', 'employee'): 23871.84513783783,\n",
       " ('secondary education', '27-28', 'retiree'): 10680.097000000002,\n",
       " ('secondary education', '29-33', 'business'): 27967.971084269648,\n",
       " ('secondary education', '29-33', 'civil servant'): 24418.083058252425,\n",
       " ('secondary education', '29-33', 'employee'): 24101.6827444337,\n",
       " ('secondary education', '29-33', 'retiree'): 21522.912600000003,\n",
       " ('secondary education', '29-33', 'unemployed'): 9593.119,\n",
       " ('secondary education', '34-39', 'business'): 29834.211248106043,\n",
       " ('secondary education', '34-39', 'civil servant'): 24201.291594405593,\n",
       " ('secondary education', '34-39', 'employee'): 24793.13966438828,\n",
       " ('secondary education', '34-39', 'paternity / maternity leave'): 8612.661,\n",
       " ('secondary education', '34-39', 'retiree'): 20663.837666666666,\n",
       " ('secondary education', '40-42', 'business'): 28509.56504421773,\n",
       " ('secondary education', '40-42', 'civil servant'): 26426.721080459767,\n",
       " ('secondary education', '40-42', 'employee'): 25342.19217356476,\n",
       " ('secondary education', '40-42', 'retiree'): 23786.240722222217,\n",
       " ('secondary education', '43-47', 'business'): 31264.3965721393,\n",
       " ('secondary education', '43-47', 'civil servant'): 25365.63548360656,\n",
       " ('secondary education', '43-47', 'employee'): 24778.47883466673,\n",
       " ('secondary education', '43-47', 'retiree'): 23942.753549999998,\n",
       " ('secondary education', '48-50', 'business'): 29099.571217021276,\n",
       " ('secondary education', '48-50', 'civil servant'): 23697.10715853659,\n",
       " ('secondary education', '48-50', 'employee'): 24556.468022354704,\n",
       " ('secondary education', '48-50', 'retiree'): 24120.132252747248,\n",
       " ('secondary education', '51-55', 'business'): 27474.619666666684,\n",
       " ('secondary education', '51-55', 'civil servant'): 24504.02137931035,\n",
       " ('secondary education', '51-55', 'employee'): 23924.397419480534,\n",
       " ('secondary education', '51-55', 'retiree'): 21364.94574838712,\n",
       " ('secondary education', '56-59', 'business'): 29219.917822368418,\n",
       " ('secondary education', '56-59', 'civil servant'): 24527.7331,\n",
       " ('secondary education', '56-59', 'employee'): 26157.492757211556,\n",
       " ('secondary education', '56-59', 'retiree'): 21843.8597161017,\n",
       " ('secondary education', '60-62', 'business'): 27756.400326923074,\n",
       " ('secondary education', '60-62', 'civil servant'): 23246.535687500003,\n",
       " ('secondary education', '60-62', 'employee'): 26522.451238095236,\n",
       " ('secondary education', '60-62', 'retiree'): 20733.587267826093,\n",
       " ('secondary education', '63-64', 'business'): 26660.76515,\n",
       " ('secondary education', '63-64', 'civil servant'): 29939.865,\n",
       " ('secondary education', '63-64', 'employee'): 26515.33558333333,\n",
       " ('secondary education', '63-64', 'retiree'): 21263.457496621602,\n",
       " ('secondary education', '65-67', 'business'): 31709.0224117647,\n",
       " ('secondary education', '65-67', 'civil servant'): 25823.413222222225,\n",
       " ('secondary education', '65-67', 'employee'): 24678.496538461535,\n",
       " ('secondary education', '65-67', 'retiree'): 19853.634662613997,\n",
       " ('secondary education', '68+', 'business'): 25156.4795,\n",
       " ('secondary education', '68+', 'civil servant'): 29702.589666666667,\n",
       " ('secondary education', '68+', 'employee'): 23777.664411764705,\n",
       " ('secondary education', '68+', 'retiree'): 18755.385755458523,\n",
       " ('some college', '24 and under', 'business'): 25092.96301886791,\n",
       " ('some college', '24 and under', 'civil servant'): 20806.907615384614,\n",
       " ('some college', '24 and under', 'employee'): 22017.112328125004,\n",
       " ('some college', '25-26', 'business'): 30366.234923076925,\n",
       " ('some college', '25-26', 'civil servant'): 24395.39525,\n",
       " ('some college', '25-26', 'employee'): 23154.22518181818,\n",
       " ('some college', '27-28', 'business'): 29040.083407407412,\n",
       " ('some college', '27-28', 'civil servant'): 24079.35,\n",
       " ('some college', '27-28', 'employee'): 23857.864875,\n",
       " ('some college', '29-33', 'business'): 29306.165679999987,\n",
       " ('some college', '29-33', 'civil servant'): 27075.837166666664,\n",
       " ('some college', '29-33', 'employee'): 32623.467671052622,\n",
       " ('some college', '34-39', 'business'): 35180.78025,\n",
       " ('some college', '34-39', 'civil servant'): 31698.028583333336,\n",
       " ('some college', '34-39', 'employee'): 30943.135074074064,\n",
       " ('some college', '40-42', 'business'): 33713.27972222222,\n",
       " ('some college', '40-42', 'civil servant'): 40999.5705,\n",
       " ('some college', '40-42', 'employee'): 29611.106375000007,\n",
       " ('some college', '43-47', 'business'): 45914.75122222222,\n",
       " ('some college', '43-47', 'civil servant'): 13088.128,\n",
       " ('some college', '43-47', 'employee'): 28041.307111111113,\n",
       " ('some college', '43-47', 'retiree'): 5514.581,\n",
       " ('some college', '48-50', 'business'): 39949.94354545454,\n",
       " ('some college', '48-50', 'civil servant'): 42561.9115,\n",
       " ('some college', '48-50', 'employee'): 26892.967666666667,\n",
       " ('some college', '48-50', 'retiree'): 13590.991,\n",
       " ('some college', '51-55', 'business'): 33763.78533333333,\n",
       " ('some college', '51-55', 'employee'): 25034.056384615385,\n",
       " ('some college', '51-55', 'retiree'): 20848.515999999996,\n",
       " ('some college', '56-59', 'business'): 32776.7712,\n",
       " ('some college', '56-59', 'employee'): 40515.110142857135,\n",
       " ('some college', '56-59', 'retiree'): 20076.511714285713,\n",
       " ('some college', '60-62', 'business'): 38863.6895,\n",
       " ('some college', '60-62', 'employee'): 35444.919,\n",
       " ('some college', '60-62', 'retiree'): 19142.631,\n",
       " ('some college', '63-64', 'retiree'): 35277.47839999999,\n",
       " ('some college', '65-67', 'business'): 20094.359,\n",
       " ('some college', '65-67', 'employee'): 33054.75475,\n",
       " ('some college', '65-67', 'retiree'): 34016.096333333335,\n",
       " ('some college', '68+', 'employee'): nan,\n",
       " ('some college', '68+', 'retiree'): 17355.770599999996}"
      ]
     },
     "execution_count": 874,
     "metadata": {},
     "output_type": "execute_result"
    }
   ],
   "source": [
    "new_data_grouped_dict=pd.Series(new_data_grouped).to_dict()\n",
    "new_data_grouped_dict"
   ]
  },
  {
   "cell_type": "code",
   "execution_count": 875,
   "metadata": {},
   "outputs": [
    {
     "data": {
      "text/plain": [
       "dict_values([28125.568907692297, 29873.948666666667, 23316.75211458334, 15712.26, 30036.836700000014, 25803.720405405405, 26228.25663247861, 34394.128, 36866.1390280374, 28351.020500000006, 29968.85232335329, 79866.103, 36940.67035517242, 29133.74054545454, 29571.5001081081, 39928.456, 34294.92136082474, 32030.088031249994, 35371.2158, 42178.58031972788, 30209.79344444445, 32621.59009433962, 28546.995333333336, 40849.28775879399, 33043.93488135593, 31308.788062240663, 42871.882153846156, 32435.602000000006, 41177.247017857146, 38185.216093749994, 30105.984933333337, 37776.3934375, 43567.19870000004, 32796.42658333333, 35530.43787919464, 26220.310895833332, 41010.716736842085, 29931.72547368421, 31694.249234567895, nan, 24681.422309523816, 38074.37836000001, 36447.6081, 29509.786878048773, 27606.732489361704, 45549.939066666666, 43480.4544, 36783.87533333334, 27891.48708474576, 36862.3626, 18418.054666666667, 29597.72836363636, 29794.356627118632, 35343.05000000001, 40449.0445, 31077.427, 23167.685659090905, 17822.756999999998, 18551.846, 31771.321, 42945.794, 40868.031, 15800.399, 27119.024, 23805.2095, 12663.581, 31491.446500000002, 35745.8215, 30563.383, 19341.6215, 22527.7532, 22000.947555555562, 26883.68842857143, 21150.696, 22021.701512820513, 14138.866000000002, 21283.7495, 21372.214263157897, 21807.668, 27804.4824, 22674.92035714286, 9609.198, 78410.774, 20867.282999999996, 16686.884, 28388.63, 18902.6119, 16966.7055, 15518.346, 12709.2755, 12204.113666666666, 17774.252705882354, 27513.900333333335, 19252.098833333333, nan, 18428.085333333333, 19624.458818181818, 17804.780437499998, 28699.12, 16071.825666666668, 24236.796169354835, 22535.430904761903, 20519.892626911304, 14298.976, 26187.847091954034, 24636.0775, 22458.486565217416, 12807.071000000002, 26959.419642857127, 23003.181545454543, 23871.84513783783, 10680.097000000002, 27967.971084269648, 24418.083058252425, 24101.6827444337, 21522.912600000003, 9593.119, 29834.211248106043, 24201.291594405593, 24793.13966438828, 8612.661, 20663.837666666666, 28509.56504421773, 26426.721080459767, 25342.19217356476, 23786.240722222217, 31264.3965721393, 25365.63548360656, 24778.47883466673, 23942.753549999998, 29099.571217021276, 23697.10715853659, 24556.468022354704, 24120.132252747248, 27474.619666666684, 24504.02137931035, 23924.397419480534, 21364.94574838712, 29219.917822368418, 24527.7331, 26157.492757211556, 21843.8597161017, 27756.400326923074, 23246.535687500003, 26522.451238095236, 20733.587267826093, 26660.76515, 29939.865, 26515.33558333333, 21263.457496621602, 31709.0224117647, 25823.413222222225, 24678.496538461535, 19853.634662613997, 25156.4795, 29702.589666666667, 23777.664411764705, 18755.385755458523, 25092.96301886791, 20806.907615384614, 22017.112328125004, 30366.234923076925, 24395.39525, 23154.22518181818, 29040.083407407412, 24079.35, 23857.864875, 29306.165679999987, 27075.837166666664, 32623.467671052622, 35180.78025, 31698.028583333336, 30943.135074074064, 33713.27972222222, 40999.5705, 29611.106375000007, 45914.75122222222, 13088.128, 28041.307111111113, 5514.581, 39949.94354545454, 42561.9115, 26892.967666666667, 13590.991, 33763.78533333333, 25034.056384615385, 20848.515999999996, 32776.7712, 40515.110142857135, 20076.511714285713, 38863.6895, 35444.919, 19142.631, 35277.47839999999, 20094.359, 33054.75475, 34016.096333333335, nan, 17355.770599999996])"
      ]
     },
     "execution_count": 875,
     "metadata": {},
     "output_type": "execute_result"
    }
   ],
   "source": [
    "new_data_grouped_dict.values()"
   ]
  },
  {
   "cell_type": "code",
   "execution_count": 876,
   "metadata": {},
   "outputs": [
    {
     "data": {
      "text/plain": [
       "dict_keys([(\"bachelor's degree\", '24 and under', 'business'), (\"bachelor's degree\", '24 and under', 'civil servant'), (\"bachelor's degree\", '24 and under', 'employee'), (\"bachelor's degree\", '24 and under', 'student'), (\"bachelor's degree\", '25-26', 'business'), (\"bachelor's degree\", '25-26', 'civil servant'), (\"bachelor's degree\", '25-26', 'employee'), (\"bachelor's degree\", '25-26', 'retiree'), (\"bachelor's degree\", '27-28', 'business'), (\"bachelor's degree\", '27-28', 'civil servant'), (\"bachelor's degree\", '27-28', 'employee'), (\"bachelor's degree\", '27-28', 'entrepreneur'), (\"bachelor's degree\", '29-33', 'business'), (\"bachelor's degree\", '29-33', 'civil servant'), (\"bachelor's degree\", '29-33', 'employee'), (\"bachelor's degree\", '34-39', 'business'), (\"bachelor's degree\", '34-39', 'civil servant'), (\"bachelor's degree\", '34-39', 'employee'), (\"bachelor's degree\", '34-39', 'retiree'), (\"bachelor's degree\", '40-42', 'business'), (\"bachelor's degree\", '40-42', 'civil servant'), (\"bachelor's degree\", '40-42', 'employee'), (\"bachelor's degree\", '40-42', 'retiree'), (\"bachelor's degree\", '43-47', 'business'), (\"bachelor's degree\", '43-47', 'civil servant'), (\"bachelor's degree\", '43-47', 'employee'), (\"bachelor's degree\", '43-47', 'retiree'), (\"bachelor's degree\", '43-47', 'unemployed'), (\"bachelor's degree\", '48-50', 'business'), (\"bachelor's degree\", '48-50', 'civil servant'), (\"bachelor's degree\", '48-50', 'employee'), (\"bachelor's degree\", '48-50', 'retiree'), (\"bachelor's degree\", '51-55', 'business'), (\"bachelor's degree\", '51-55', 'civil servant'), (\"bachelor's degree\", '51-55', 'employee'), (\"bachelor's degree\", '51-55', 'retiree'), (\"bachelor's degree\", '56-59', 'business'), (\"bachelor's degree\", '56-59', 'civil servant'), (\"bachelor's degree\", '56-59', 'employee'), (\"bachelor's degree\", '56-59', 'entrepreneur'), (\"bachelor's degree\", '56-59', 'retiree'), (\"bachelor's degree\", '60-62', 'business'), (\"bachelor's degree\", '60-62', 'civil servant'), (\"bachelor's degree\", '60-62', 'employee'), (\"bachelor's degree\", '60-62', 'retiree'), (\"bachelor's degree\", '63-64', 'business'), (\"bachelor's degree\", '63-64', 'civil servant'), (\"bachelor's degree\", '63-64', 'employee'), (\"bachelor's degree\", '63-64', 'retiree'), (\"bachelor's degree\", '65-67', 'business'), (\"bachelor's degree\", '65-67', 'civil servant'), (\"bachelor's degree\", '65-67', 'employee'), (\"bachelor's degree\", '65-67', 'retiree'), (\"bachelor's degree\", '68+', 'business'), (\"bachelor's degree\", '68+', 'civil servant'), (\"bachelor's degree\", '68+', 'employee'), (\"bachelor's degree\", '68+', 'retiree'), ('graduate degree', '34-39', 'civil servant'), ('graduate degree', '34-39', 'employee'), ('graduate degree', '43-47', 'employee'), ('graduate degree', '56-59', 'employee'), ('graduate degree', '60-62', 'retiree'), ('graduate degree', '68+', 'retiree'), ('primary education', '24 and under', 'business'), ('primary education', '24 and under', 'employee'), ('primary education', '25-26', 'business'), ('primary education', '25-26', 'employee'), ('primary education', '27-28', 'business'), ('primary education', '27-28', 'civil servant'), ('primary education', '27-28', 'employee'), ('primary education', '29-33', 'business'), ('primary education', '29-33', 'employee'), ('primary education', '34-39', 'business'), ('primary education', '34-39', 'civil servant'), ('primary education', '34-39', 'employee'), ('primary education', '34-39', 'retiree'), ('primary education', '40-42', 'business'), ('primary education', '40-42', 'employee'), ('primary education', '40-42', 'retiree'), ('primary education', '43-47', 'business'), ('primary education', '43-47', 'employee'), ('primary education', '43-47', 'retiree'), ('primary education', '48-50', 'civil servant'), ('primary education', '48-50', 'employee'), ('primary education', '48-50', 'retiree'), ('primary education', '51-55', 'business'), ('primary education', '51-55', 'employee'), ('primary education', '51-55', 'retiree'), ('primary education', '56-59', 'business'), ('primary education', '56-59', 'civil servant'), ('primary education', '56-59', 'employee'), ('primary education', '56-59', 'retiree'), ('primary education', '60-62', 'employee'), ('primary education', '60-62', 'retiree'), ('primary education', '63-64', 'civil servant'), ('primary education', '63-64', 'employee'), ('primary education', '63-64', 'retiree'), ('primary education', '65-67', 'retiree'), ('primary education', '68+', 'employee'), ('primary education', '68+', 'retiree'), ('secondary education', '24 and under', 'business'), ('secondary education', '24 and under', 'civil servant'), ('secondary education', '24 and under', 'employee'), ('secondary education', '24 and under', 'retiree'), ('secondary education', '25-26', 'business'), ('secondary education', '25-26', 'civil servant'), ('secondary education', '25-26', 'employee'), ('secondary education', '25-26', 'retiree'), ('secondary education', '27-28', 'business'), ('secondary education', '27-28', 'civil servant'), ('secondary education', '27-28', 'employee'), ('secondary education', '27-28', 'retiree'), ('secondary education', '29-33', 'business'), ('secondary education', '29-33', 'civil servant'), ('secondary education', '29-33', 'employee'), ('secondary education', '29-33', 'retiree'), ('secondary education', '29-33', 'unemployed'), ('secondary education', '34-39', 'business'), ('secondary education', '34-39', 'civil servant'), ('secondary education', '34-39', 'employee'), ('secondary education', '34-39', 'paternity / maternity leave'), ('secondary education', '34-39', 'retiree'), ('secondary education', '40-42', 'business'), ('secondary education', '40-42', 'civil servant'), ('secondary education', '40-42', 'employee'), ('secondary education', '40-42', 'retiree'), ('secondary education', '43-47', 'business'), ('secondary education', '43-47', 'civil servant'), ('secondary education', '43-47', 'employee'), ('secondary education', '43-47', 'retiree'), ('secondary education', '48-50', 'business'), ('secondary education', '48-50', 'civil servant'), ('secondary education', '48-50', 'employee'), ('secondary education', '48-50', 'retiree'), ('secondary education', '51-55', 'business'), ('secondary education', '51-55', 'civil servant'), ('secondary education', '51-55', 'employee'), ('secondary education', '51-55', 'retiree'), ('secondary education', '56-59', 'business'), ('secondary education', '56-59', 'civil servant'), ('secondary education', '56-59', 'employee'), ('secondary education', '56-59', 'retiree'), ('secondary education', '60-62', 'business'), ('secondary education', '60-62', 'civil servant'), ('secondary education', '60-62', 'employee'), ('secondary education', '60-62', 'retiree'), ('secondary education', '63-64', 'business'), ('secondary education', '63-64', 'civil servant'), ('secondary education', '63-64', 'employee'), ('secondary education', '63-64', 'retiree'), ('secondary education', '65-67', 'business'), ('secondary education', '65-67', 'civil servant'), ('secondary education', '65-67', 'employee'), ('secondary education', '65-67', 'retiree'), ('secondary education', '68+', 'business'), ('secondary education', '68+', 'civil servant'), ('secondary education', '68+', 'employee'), ('secondary education', '68+', 'retiree'), ('some college', '24 and under', 'business'), ('some college', '24 and under', 'civil servant'), ('some college', '24 and under', 'employee'), ('some college', '25-26', 'business'), ('some college', '25-26', 'civil servant'), ('some college', '25-26', 'employee'), ('some college', '27-28', 'business'), ('some college', '27-28', 'civil servant'), ('some college', '27-28', 'employee'), ('some college', '29-33', 'business'), ('some college', '29-33', 'civil servant'), ('some college', '29-33', 'employee'), ('some college', '34-39', 'business'), ('some college', '34-39', 'civil servant'), ('some college', '34-39', 'employee'), ('some college', '40-42', 'business'), ('some college', '40-42', 'civil servant'), ('some college', '40-42', 'employee'), ('some college', '43-47', 'business'), ('some college', '43-47', 'civil servant'), ('some college', '43-47', 'employee'), ('some college', '43-47', 'retiree'), ('some college', '48-50', 'business'), ('some college', '48-50', 'civil servant'), ('some college', '48-50', 'employee'), ('some college', '48-50', 'retiree'), ('some college', '51-55', 'business'), ('some college', '51-55', 'employee'), ('some college', '51-55', 'retiree'), ('some college', '56-59', 'business'), ('some college', '56-59', 'employee'), ('some college', '56-59', 'retiree'), ('some college', '60-62', 'business'), ('some college', '60-62', 'employee'), ('some college', '60-62', 'retiree'), ('some college', '63-64', 'retiree'), ('some college', '65-67', 'business'), ('some college', '65-67', 'employee'), ('some college', '65-67', 'retiree'), ('some college', '68+', 'employee'), ('some college', '68+', 'retiree')])"
      ]
     },
     "execution_count": 876,
     "metadata": {},
     "output_type": "execute_result"
    }
   ],
   "source": [
    "new_data_grouped_dict.keys()"
   ]
  },
  {
   "cell_type": "code",
   "execution_count": 877,
   "metadata": {},
   "outputs": [
    {
     "data": {
      "text/plain": [
       "{(\"bachelor's degree\", '24 and under', 'business'): 28125.568907692297,\n",
       " (\"bachelor's degree\", '24 and under', 'civil servant'): 29873.948666666667,\n",
       " (\"bachelor's degree\", '24 and under', 'employee'): 23316.75211458334,\n",
       " (\"bachelor's degree\", '24 and under', 'student'): 15712.26,\n",
       " (\"bachelor's degree\", '25-26', 'business'): 30036.836700000014,\n",
       " (\"bachelor's degree\", '25-26', 'civil servant'): 25803.720405405405,\n",
       " (\"bachelor's degree\", '25-26', 'employee'): 26228.25663247861,\n",
       " (\"bachelor's degree\", '25-26', 'retiree'): 34394.128,\n",
       " (\"bachelor's degree\", '27-28', 'business'): 36866.1390280374,\n",
       " (\"bachelor's degree\", '27-28', 'civil servant'): 28351.020500000006,\n",
       " (\"bachelor's degree\", '27-28', 'employee'): 29968.85232335329,\n",
       " (\"bachelor's degree\", '27-28', 'entrepreneur'): 79866.103,\n",
       " (\"bachelor's degree\", '29-33', 'business'): 36940.67035517242,\n",
       " (\"bachelor's degree\", '29-33', 'civil servant'): 29133.74054545454,\n",
       " (\"bachelor's degree\", '29-33', 'employee'): 29571.5001081081,\n",
       " (\"bachelor's degree\", '34-39', 'business'): 39928.456,\n",
       " (\"bachelor's degree\", '34-39', 'civil servant'): 34294.92136082474,\n",
       " (\"bachelor's degree\", '34-39', 'employee'): 32030.088031249994,\n",
       " (\"bachelor's degree\", '34-39', 'retiree'): 35371.2158,\n",
       " (\"bachelor's degree\", '40-42', 'business'): 42178.58031972788,\n",
       " (\"bachelor's degree\", '40-42', 'civil servant'): 30209.79344444445,\n",
       " (\"bachelor's degree\", '40-42', 'employee'): 32621.59009433962,\n",
       " (\"bachelor's degree\", '40-42', 'retiree'): 28546.995333333336,\n",
       " (\"bachelor's degree\", '43-47', 'business'): 40849.28775879399,\n",
       " (\"bachelor's degree\", '43-47', 'civil servant'): 33043.93488135593,\n",
       " (\"bachelor's degree\", '43-47', 'employee'): 31308.788062240663,\n",
       " (\"bachelor's degree\", '43-47', 'retiree'): 42871.882153846156,\n",
       " (\"bachelor's degree\", '43-47', 'unemployed'): 32435.602000000006,\n",
       " (\"bachelor's degree\", '48-50', 'business'): 41177.247017857146,\n",
       " (\"bachelor's degree\", '48-50', 'civil servant'): 38185.216093749994,\n",
       " (\"bachelor's degree\", '48-50', 'employee'): 30105.984933333337,\n",
       " (\"bachelor's degree\", '48-50', 'retiree'): 37776.3934375,\n",
       " (\"bachelor's degree\", '51-55', 'business'): 43567.19870000004,\n",
       " (\"bachelor's degree\", '51-55', 'civil servant'): 32796.42658333333,\n",
       " (\"bachelor's degree\", '51-55', 'employee'): 35530.43787919464,\n",
       " (\"bachelor's degree\", '51-55', 'retiree'): 26220.310895833332,\n",
       " (\"bachelor's degree\", '56-59', 'business'): 41010.716736842085,\n",
       " (\"bachelor's degree\", '56-59', 'civil servant'): 29931.72547368421,\n",
       " (\"bachelor's degree\", '56-59', 'employee'): 31694.249234567895,\n",
       " (\"bachelor's degree\", '56-59', 'entrepreneur'): nan,\n",
       " (\"bachelor's degree\", '56-59', 'retiree'): 24681.422309523816,\n",
       " (\"bachelor's degree\", '60-62', 'business'): 38074.37836000001,\n",
       " (\"bachelor's degree\", '60-62', 'civil servant'): 36447.6081,\n",
       " (\"bachelor's degree\", '60-62', 'employee'): 29509.786878048773,\n",
       " (\"bachelor's degree\", '60-62', 'retiree'): 27606.732489361704,\n",
       " (\"bachelor's degree\", '63-64', 'business'): 45549.939066666666,\n",
       " (\"bachelor's degree\", '63-64', 'civil servant'): 43480.4544,\n",
       " (\"bachelor's degree\", '63-64', 'employee'): 36783.87533333334,\n",
       " (\"bachelor's degree\", '63-64', 'retiree'): 27891.48708474576,\n",
       " (\"bachelor's degree\", '65-67', 'business'): 36862.3626,\n",
       " (\"bachelor's degree\", '65-67', 'civil servant'): 18418.054666666667,\n",
       " (\"bachelor's degree\", '65-67', 'employee'): 29597.72836363636,\n",
       " (\"bachelor's degree\", '65-67', 'retiree'): 29794.356627118632,\n",
       " (\"bachelor's degree\", '68+', 'business'): 35343.05000000001,\n",
       " (\"bachelor's degree\", '68+', 'civil servant'): 40449.0445,\n",
       " (\"bachelor's degree\", '68+', 'employee'): 31077.427,\n",
       " (\"bachelor's degree\", '68+', 'retiree'): 23167.685659090905,\n",
       " ('graduate degree', '34-39', 'civil servant'): 17822.756999999998,\n",
       " ('graduate degree', '34-39', 'employee'): 18551.846,\n",
       " ('graduate degree', '43-47', 'employee'): 31771.321,\n",
       " ('graduate degree', '56-59', 'employee'): 42945.794,\n",
       " ('graduate degree', '60-62', 'retiree'): 40868.031,\n",
       " ('graduate degree', '68+', 'retiree'): 15800.399,\n",
       " ('primary education', '24 and under', 'business'): 27119.024,\n",
       " ('primary education', '24 and under', 'employee'): 23805.2095,\n",
       " ('primary education', '25-26', 'business'): 12663.581,\n",
       " ('primary education', '25-26', 'employee'): 31491.446500000002,\n",
       " ('primary education', '27-28', 'business'): 35745.8215,\n",
       " ('primary education', '27-28', 'civil servant'): 30563.383,\n",
       " ('primary education', '27-28', 'employee'): 19341.6215,\n",
       " ('primary education', '29-33', 'business'): 22527.7532,\n",
       " ('primary education', '29-33', 'employee'): 22000.947555555562,\n",
       " ('primary education', '34-39', 'business'): 26883.68842857143,\n",
       " ('primary education', '34-39', 'civil servant'): 21150.696,\n",
       " ('primary education', '34-39', 'employee'): 22021.701512820513,\n",
       " ('primary education', '34-39', 'retiree'): 14138.866000000002,\n",
       " ('primary education', '40-42', 'business'): 21283.7495,\n",
       " ('primary education', '40-42', 'employee'): 21372.214263157897,\n",
       " ('primary education', '40-42', 'retiree'): 21807.668,\n",
       " ('primary education', '43-47', 'business'): 27804.4824,\n",
       " ('primary education', '43-47', 'employee'): 22674.92035714286,\n",
       " ('primary education', '43-47', 'retiree'): 9609.198,\n",
       " ('primary education', '48-50', 'civil servant'): 78410.774,\n",
       " ('primary education', '48-50', 'employee'): 20867.282999999996,\n",
       " ('primary education', '48-50', 'retiree'): 16686.884,\n",
       " ('primary education', '51-55', 'business'): 28388.63,\n",
       " ('primary education', '51-55', 'employee'): 18902.6119,\n",
       " ('primary education', '51-55', 'retiree'): 16966.7055,\n",
       " ('primary education', '56-59', 'business'): 15518.346,\n",
       " ('primary education', '56-59', 'civil servant'): 12709.2755,\n",
       " ('primary education', '56-59', 'employee'): 12204.113666666666,\n",
       " ('primary education', '56-59', 'retiree'): 17774.252705882354,\n",
       " ('primary education', '60-62', 'employee'): 27513.900333333335,\n",
       " ('primary education', '60-62', 'retiree'): 19252.098833333333,\n",
       " ('primary education', '63-64', 'civil servant'): nan,\n",
       " ('primary education', '63-64', 'employee'): 18428.085333333333,\n",
       " ('primary education', '63-64', 'retiree'): 19624.458818181818,\n",
       " ('primary education', '65-67', 'retiree'): 17804.780437499998,\n",
       " ('primary education', '68+', 'employee'): 28699.12,\n",
       " ('primary education', '68+', 'retiree'): 16071.825666666668,\n",
       " ('secondary education', '24 and under', 'business'): 24236.796169354835,\n",
       " ('secondary education', '24 and under', 'civil servant'): 22535.430904761903,\n",
       " ('secondary education', '24 and under', 'employee'): 20519.892626911304,\n",
       " ('secondary education', '24 and under', 'retiree'): 14298.976,\n",
       " ('secondary education', '25-26', 'business'): 26187.847091954034,\n",
       " ('secondary education', '25-26', 'civil servant'): 24636.0775,\n",
       " ('secondary education', '25-26', 'employee'): 22458.486565217416,\n",
       " ('secondary education', '25-26', 'retiree'): 12807.071000000002,\n",
       " ('secondary education', '27-28', 'business'): 26959.419642857127,\n",
       " ('secondary education', '27-28', 'civil servant'): 23003.181545454543,\n",
       " ('secondary education', '27-28', 'employee'): 23871.84513783783,\n",
       " ('secondary education', '27-28', 'retiree'): 10680.097000000002,\n",
       " ('secondary education', '29-33', 'business'): 27967.971084269648,\n",
       " ('secondary education', '29-33', 'civil servant'): 24418.083058252425,\n",
       " ('secondary education', '29-33', 'employee'): 24101.6827444337,\n",
       " ('secondary education', '29-33', 'retiree'): 21522.912600000003,\n",
       " ('secondary education', '29-33', 'unemployed'): 9593.119,\n",
       " ('secondary education', '34-39', 'business'): 29834.211248106043,\n",
       " ('secondary education', '34-39', 'civil servant'): 24201.291594405593,\n",
       " ('secondary education', '34-39', 'employee'): 24793.13966438828,\n",
       " ('secondary education', '34-39', 'paternity / maternity leave'): 8612.661,\n",
       " ('secondary education', '34-39', 'retiree'): 20663.837666666666,\n",
       " ('secondary education', '40-42', 'business'): 28509.56504421773,\n",
       " ('secondary education', '40-42', 'civil servant'): 26426.721080459767,\n",
       " ('secondary education', '40-42', 'employee'): 25342.19217356476,\n",
       " ('secondary education', '40-42', 'retiree'): 23786.240722222217,\n",
       " ('secondary education', '43-47', 'business'): 31264.3965721393,\n",
       " ('secondary education', '43-47', 'civil servant'): 25365.63548360656,\n",
       " ('secondary education', '43-47', 'employee'): 24778.47883466673,\n",
       " ('secondary education', '43-47', 'retiree'): 23942.753549999998,\n",
       " ('secondary education', '48-50', 'business'): 29099.571217021276,\n",
       " ('secondary education', '48-50', 'civil servant'): 23697.10715853659,\n",
       " ('secondary education', '48-50', 'employee'): 24556.468022354704,\n",
       " ('secondary education', '48-50', 'retiree'): 24120.132252747248,\n",
       " ('secondary education', '51-55', 'business'): 27474.619666666684,\n",
       " ('secondary education', '51-55', 'civil servant'): 24504.02137931035,\n",
       " ('secondary education', '51-55', 'employee'): 23924.397419480534,\n",
       " ('secondary education', '51-55', 'retiree'): 21364.94574838712,\n",
       " ('secondary education', '56-59', 'business'): 29219.917822368418,\n",
       " ('secondary education', '56-59', 'civil servant'): 24527.7331,\n",
       " ('secondary education', '56-59', 'employee'): 26157.492757211556,\n",
       " ('secondary education', '56-59', 'retiree'): 21843.8597161017,\n",
       " ('secondary education', '60-62', 'business'): 27756.400326923074,\n",
       " ('secondary education', '60-62', 'civil servant'): 23246.535687500003,\n",
       " ('secondary education', '60-62', 'employee'): 26522.451238095236,\n",
       " ('secondary education', '60-62', 'retiree'): 20733.587267826093,\n",
       " ('secondary education', '63-64', 'business'): 26660.76515,\n",
       " ('secondary education', '63-64', 'civil servant'): 29939.865,\n",
       " ('secondary education', '63-64', 'employee'): 26515.33558333333,\n",
       " ('secondary education', '63-64', 'retiree'): 21263.457496621602,\n",
       " ('secondary education', '65-67', 'business'): 31709.0224117647,\n",
       " ('secondary education', '65-67', 'civil servant'): 25823.413222222225,\n",
       " ('secondary education', '65-67', 'employee'): 24678.496538461535,\n",
       " ('secondary education', '65-67', 'retiree'): 19853.634662613997,\n",
       " ('secondary education', '68+', 'business'): 25156.4795,\n",
       " ('secondary education', '68+', 'civil servant'): 29702.589666666667,\n",
       " ('secondary education', '68+', 'employee'): 23777.664411764705,\n",
       " ('secondary education', '68+', 'retiree'): 18755.385755458523,\n",
       " ('some college', '24 and under', 'business'): 25092.96301886791,\n",
       " ('some college', '24 and under', 'civil servant'): 20806.907615384614,\n",
       " ('some college', '24 and under', 'employee'): 22017.112328125004,\n",
       " ('some college', '25-26', 'business'): 30366.234923076925,\n",
       " ('some college', '25-26', 'civil servant'): 24395.39525,\n",
       " ('some college', '25-26', 'employee'): 23154.22518181818,\n",
       " ('some college', '27-28', 'business'): 29040.083407407412,\n",
       " ('some college', '27-28', 'civil servant'): 24079.35,\n",
       " ('some college', '27-28', 'employee'): 23857.864875,\n",
       " ('some college', '29-33', 'business'): 29306.165679999987,\n",
       " ('some college', '29-33', 'civil servant'): 27075.837166666664,\n",
       " ('some college', '29-33', 'employee'): 32623.467671052622,\n",
       " ('some college', '34-39', 'business'): 35180.78025,\n",
       " ('some college', '34-39', 'civil servant'): 31698.028583333336,\n",
       " ('some college', '34-39', 'employee'): 30943.135074074064,\n",
       " ('some college', '40-42', 'business'): 33713.27972222222,\n",
       " ('some college', '40-42', 'civil servant'): 40999.5705,\n",
       " ('some college', '40-42', 'employee'): 29611.106375000007,\n",
       " ('some college', '43-47', 'business'): 45914.75122222222,\n",
       " ('some college', '43-47', 'civil servant'): 13088.128,\n",
       " ('some college', '43-47', 'employee'): 28041.307111111113,\n",
       " ('some college', '43-47', 'retiree'): 5514.581,\n",
       " ('some college', '48-50', 'business'): 39949.94354545454,\n",
       " ('some college', '48-50', 'civil servant'): 42561.9115,\n",
       " ('some college', '48-50', 'employee'): 26892.967666666667,\n",
       " ('some college', '48-50', 'retiree'): 13590.991,\n",
       " ('some college', '51-55', 'business'): 33763.78533333333,\n",
       " ('some college', '51-55', 'employee'): 25034.056384615385,\n",
       " ('some college', '51-55', 'retiree'): 20848.515999999996,\n",
       " ('some college', '56-59', 'business'): 32776.7712,\n",
       " ('some college', '56-59', 'employee'): 40515.110142857135,\n",
       " ('some college', '56-59', 'retiree'): 20076.511714285713,\n",
       " ('some college', '60-62', 'business'): 38863.6895,\n",
       " ('some college', '60-62', 'employee'): 35444.919,\n",
       " ('some college', '60-62', 'retiree'): 19142.631,\n",
       " ('some college', '63-64', 'retiree'): 35277.47839999999,\n",
       " ('some college', '65-67', 'business'): 20094.359,\n",
       " ('some college', '65-67', 'employee'): 33054.75475,\n",
       " ('some college', '65-67', 'retiree'): 34016.096333333335,\n",
       " ('some college', '68+', 'employee'): nan,\n",
       " ('some college', '68+', 'retiree'): 17355.770599999996}"
      ]
     },
     "execution_count": 877,
     "metadata": {},
     "output_type": "execute_result"
    }
   ],
   "source": [
    "new_data_grouped_dict"
   ]
  },
  {
   "cell_type": "code",
   "execution_count": 878,
   "metadata": {},
   "outputs": [],
   "source": [
    "#  Write a function that we will use for filling in missing values\n",
    "def fill_missing_income(index):\n",
    "    dict_key = (data.loc[index]['education'], data.loc[index]['age_category'], data.loc[index]['income_type'])\n",
    "    data.loc[index,'total_income']= new_data_grouped_dict[dict_key]\n",
    "\n",
    "for index, row in data[data['total_income'].isna()].iterrows():\n",
    "    fill_missing_income(index)\n",
    "    \n",
    "\n",
    "\n",
    "    \n",
    "\n"
   ]
  },
  {
   "cell_type": "code",
   "execution_count": 879,
   "metadata": {},
   "outputs": [],
   "source": [
    "# Check if it works"
   ]
  },
  {
   "cell_type": "markdown",
   "metadata": {},
   "source": [
    "<div class=\"alert alert-block alert-info\">\n",
    "<b>Student answer.</b> <a class=\"tocSkip\"></a>\n",
    "Before running the function for the first time, I tested it and made sure that it worked."
   ]
  },
  {
   "cell_type": "code",
   "execution_count": 880,
   "metadata": {},
   "outputs": [],
   "source": [
    "# Apply it to every row\n"
   ]
  },
  {
   "cell_type": "code",
   "execution_count": 881,
   "metadata": {},
   "outputs": [
    {
     "data": {
      "text/html": [
       "<div>\n",
       "<style scoped>\n",
       "    .dataframe tbody tr th:only-of-type {\n",
       "        vertical-align: middle;\n",
       "    }\n",
       "\n",
       "    .dataframe tbody tr th {\n",
       "        vertical-align: top;\n",
       "    }\n",
       "\n",
       "    .dataframe thead th {\n",
       "        text-align: right;\n",
       "    }\n",
       "</style>\n",
       "<table border=\"1\" class=\"dataframe\">\n",
       "  <thead>\n",
       "    <tr style=\"text-align: right;\">\n",
       "      <th></th>\n",
       "      <th>children</th>\n",
       "      <th>days_employed</th>\n",
       "      <th>dob_years</th>\n",
       "      <th>education</th>\n",
       "      <th>education_id</th>\n",
       "      <th>family_status</th>\n",
       "      <th>family_status_id</th>\n",
       "      <th>gender</th>\n",
       "      <th>income_type</th>\n",
       "      <th>debt</th>\n",
       "      <th>total_income</th>\n",
       "      <th>purpose</th>\n",
       "      <th>age_category</th>\n",
       "    </tr>\n",
       "  </thead>\n",
       "  <tbody>\n",
       "    <tr>\n",
       "      <th>3891</th>\n",
       "      <td>1</td>\n",
       "      <td>18250.0</td>\n",
       "      <td>68</td>\n",
       "      <td>some college</td>\n",
       "      <td>2</td>\n",
       "      <td>divorced</td>\n",
       "      <td>3</td>\n",
       "      <td>F</td>\n",
       "      <td>employee</td>\n",
       "      <td>0</td>\n",
       "      <td>NaN</td>\n",
       "      <td>building a property</td>\n",
       "      <td>68+</td>\n",
       "    </tr>\n",
       "    <tr>\n",
       "      <th>5936</th>\n",
       "      <td>0</td>\n",
       "      <td>18250.0</td>\n",
       "      <td>58</td>\n",
       "      <td>bachelor's degree</td>\n",
       "      <td>0</td>\n",
       "      <td>married</td>\n",
       "      <td>0</td>\n",
       "      <td>M</td>\n",
       "      <td>entrepreneur</td>\n",
       "      <td>0</td>\n",
       "      <td>NaN</td>\n",
       "      <td>buy residential real estate</td>\n",
       "      <td>56-59</td>\n",
       "    </tr>\n",
       "    <tr>\n",
       "      <th>8142</th>\n",
       "      <td>0</td>\n",
       "      <td>18250.0</td>\n",
       "      <td>64</td>\n",
       "      <td>primary education</td>\n",
       "      <td>3</td>\n",
       "      <td>civil partnership</td>\n",
       "      <td>1</td>\n",
       "      <td>F</td>\n",
       "      <td>civil servant</td>\n",
       "      <td>0</td>\n",
       "      <td>NaN</td>\n",
       "      <td>to have a wedding</td>\n",
       "      <td>63-64</td>\n",
       "    </tr>\n",
       "  </tbody>\n",
       "</table>\n",
       "</div>"
      ],
      "text/plain": [
       "      children  days_employed  dob_years          education  education_id  \\\n",
       "3891         1        18250.0         68       some college             2   \n",
       "5936         0        18250.0         58  bachelor's degree             0   \n",
       "8142         0        18250.0         64  primary education             3   \n",
       "\n",
       "          family_status  family_status_id gender    income_type  debt  \\\n",
       "3891           divorced                 3      F       employee     0   \n",
       "5936            married                 0      M   entrepreneur     0   \n",
       "8142  civil partnership                 1      F  civil servant     0   \n",
       "\n",
       "      total_income                      purpose age_category  \n",
       "3891           NaN          building a property          68+  \n",
       "5936           NaN  buy residential real estate        56-59  \n",
       "8142           NaN            to have a wedding        63-64  "
      ]
     },
     "execution_count": 881,
     "metadata": {},
     "output_type": "execute_result"
    }
   ],
   "source": [
    "# Check if we got any errors\n",
    "data[data['total_income'].isna()]"
   ]
  },
  {
   "cell_type": "markdown",
   "metadata": {},
   "source": [
    "[If you've came across errors in preparing the values for missing data, it probably means there's something special about the data for the category. Give it some thought - you may want to fix some things manually, if there's enough data to find medians/means.]\n",
    "<div class=\"alert alert-block alert-info\">\n",
    "<b>Student answer.</b> <a class=\"tocSkip\"></a>\n",
    "We found 3 instances still with missing value in total_income. Since we worked on the clean_data DataFrame, it seems that there were no such combinations of our desired key-value entries.\n",
    "Depending on the age_category or, if not applicable, income_type, we will calculate the mean of the adjacent entries."
   ]
  },
  {
   "cell_type": "code",
   "execution_count": 882,
   "metadata": {},
   "outputs": [
    {
     "data": {
      "text/plain": [
       "children            0.0\n",
       "days_employed       0.0\n",
       "dob_years           0.0\n",
       "education           0.0\n",
       "education_id        0.0\n",
       "family_status       0.0\n",
       "family_status_id    0.0\n",
       "gender              0.0\n",
       "income_type         0.0\n",
       "debt                0.0\n",
       "total_income        0.0\n",
       "purpose             0.0\n",
       "age_category        0.0\n",
       "dtype: float64"
      ]
     },
     "execution_count": 882,
     "metadata": {},
     "output_type": "execute_result"
    }
   ],
   "source": [
    "# Replacing missing values if there are any errors\n",
    "data.loc[3891,'total_income']= new_data_grouped_dict['some college', '65-67', 'employee']\n",
    "data.loc[5936,'total_income']= new_data_grouped_dict[\"bachelor's degree\", '56-59', 'employee']\n",
    "data.loc[8142,'total_income']= new_data_grouped_dict['primary education', '56-59', 'civil servant']\n",
    "\n",
    "data[data['total_income'].isna()].sum()"
   ]
  },
  {
   "cell_type": "markdown",
   "metadata": {},
   "source": [
    "[When you think you've finished with `total_income`, check that the total number of values in this column matches the number of values in other ones.]"
   ]
  },
  {
   "cell_type": "code",
   "execution_count": 883,
   "metadata": {},
   "outputs": [
    {
     "data": {
      "text/plain": [
       "children            0\n",
       "days_employed       0\n",
       "dob_years           0\n",
       "education           0\n",
       "education_id        0\n",
       "family_status       0\n",
       "family_status_id    0\n",
       "gender              0\n",
       "income_type         0\n",
       "debt                0\n",
       "total_income        0\n",
       "purpose             0\n",
       "age_category        0\n",
       "dtype: int64"
      ]
     },
     "execution_count": 883,
     "metadata": {},
     "output_type": "execute_result"
    }
   ],
   "source": [
    "# Checking the number of entries in the columns\n",
    "data.isna().sum()\n"
   ]
  },
  {
   "cell_type": "markdown",
   "metadata": {},
   "source": [
    "###  Restoring values in `days_employed`"
   ]
  },
  {
   "cell_type": "markdown",
   "metadata": {},
   "source": [
    "[Think about the parameters that may help you restore the missing values in this column. Eventually, you will want to find out whether you should use mean or median values for replacing missing values. You will probably conduct a research similar to the one you've done when restoring data in a previous column.]\n",
    "<div class=\"alert alert-block alert-info\">\n",
    "<b>Student answer.</b> <a class=\"tocSkip\"></a>\n",
    "The data in the days_employed column seems to be corrupted. Therefore, we will not proceed with any analisys of this column. Please see my previous remark regarding this issue. There is no way to work with the days_employed data."
   ]
  },
  {
   "cell_type": "code",
   "execution_count": 884,
   "metadata": {
    "pycharm": {
     "name": "#%%\n"
    }
   },
   "outputs": [],
   "source": [
    "# Distribution of `days_employed` medians based on your identified parameters\n",
    "\n",
    "\n"
   ]
  },
  {
   "cell_type": "code",
   "execution_count": 885,
   "metadata": {},
   "outputs": [],
   "source": [
    "# Distribution of `days_employed` means based on your identified parameters"
   ]
  },
  {
   "cell_type": "markdown",
   "metadata": {},
   "source": [
    "[Decide what you will use: means or medians. Explain why.]"
   ]
  },
  {
   "cell_type": "code",
   "execution_count": 886,
   "metadata": {},
   "outputs": [],
   "source": [
    "# Let's write a function that calculates means or medians (depending on your decision) based on your identified parameter\n"
   ]
  },
  {
   "cell_type": "code",
   "execution_count": 887,
   "metadata": {},
   "outputs": [],
   "source": [
    "# Check that the function works\n",
    "\n"
   ]
  },
  {
   "cell_type": "code",
   "execution_count": 888,
   "metadata": {},
   "outputs": [],
   "source": [
    "# Apply function to the income_type\n",
    "\n"
   ]
  },
  {
   "cell_type": "code",
   "execution_count": 889,
   "metadata": {},
   "outputs": [],
   "source": [
    "# Check if function worked\n",
    "\n"
   ]
  },
  {
   "cell_type": "code",
   "execution_count": 890,
   "metadata": {},
   "outputs": [],
   "source": [
    "# Replacing missing values\n",
    "\n"
   ]
  },
  {
   "cell_type": "markdown",
   "metadata": {},
   "source": [
    "[When you think you've finished with `total_income`, check that the total number of values in this column matches the number of values in other ones.]"
   ]
  },
  {
   "cell_type": "code",
   "execution_count": 891,
   "metadata": {},
   "outputs": [],
   "source": [
    "# Check the entries in all columns - make sure we fixed all missing values"
   ]
  },
  {
   "cell_type": "markdown",
   "metadata": {},
   "source": [
    "## Categorization of data\n",
    "\n",
    "[To answer the questions and test the hypotheses, you will want to work with categorized data. Look at the questions that were posed to you and that you should answer. Think about which of the data will need to be categorized to answer these questions. Below you will find a template through which you can work your way when categorizing data. The first step-by-step processing covers the text data; the second one addresses the numerical data that needs to be categorized. You can use both or none of the suggested instructions - it's up to you.]\n",
    "\n",
    "[Despite of how you decide to address the categorization, make sure to provide clear explanation of why you made your decision. Remember: this is your work and you make all decisions in it.]\n",
    "<div class=\"alert alert-block alert-info\">\n",
    "<b>Student answer.</b> <a class=\"tocSkip\"></a>\n",
    "For categorization analysis, we will take a look at the purpose, children, and total_income column."
   ]
  },
  {
   "cell_type": "code",
   "execution_count": 892,
   "metadata": {
    "scrolled": true
   },
   "outputs": [
    {
     "data": {
      "text/plain": [
       "wedding ceremony                            792\n",
       "having a wedding                            773\n",
       "to have a wedding                           769\n",
       "real estate transactions                    673\n",
       "buy commercial real estate                  661\n",
       "buying property for renting out             651\n",
       "transactions with commercial real estate    649\n",
       "housing transactions                        647\n",
       "purchase of the house                       641\n",
       "housing                                     641\n",
       "purchase of the house for my family         640\n",
       "construction of own property                633\n",
       "property                                    630\n",
       "transactions with my real estate            630\n",
       "building a real estate                      623\n",
       "buy real estate                             621\n",
       "building a property                         620\n",
       "purchase of my own house                    619\n",
       "housing renovation                          610\n",
       "buy residential real estate                 604\n",
       "buying my own car                           502\n",
       "going to university                         493\n",
       "car                                         491\n",
       "second-hand car purchase                    487\n",
       "buying a second-hand car                    479\n",
       "to own a car                                477\n",
       "cars                                        476\n",
       "to buy a car                                467\n",
       "supplementary education                     460\n",
       "car purchase                                460\n",
       "purchase of a car                           454\n",
       "university education                        450\n",
       "to get a supplementary education            445\n",
       "education                                   444\n",
       "getting an education                        442\n",
       "profile education                           435\n",
       "getting higher education                    424\n",
       "to become educated                          411\n",
       "Name: purpose, dtype: int64"
      ]
     },
     "execution_count": 892,
     "metadata": {},
     "output_type": "execute_result"
    }
   ],
   "source": [
    "# Print the values for your selected data for categorization\n",
    "data['purpose'].value_counts()"
   ]
  },
  {
   "cell_type": "markdown",
   "metadata": {},
   "source": [
    "[Let's check unique values]"
   ]
  },
  {
   "cell_type": "code",
   "execution_count": 893,
   "metadata": {},
   "outputs": [
    {
     "data": {
      "text/plain": [
       "array(['purchase of the house', 'car purchase', 'supplementary education',\n",
       "       'to have a wedding', 'housing transactions', 'education',\n",
       "       'having a wedding', 'purchase of the house for my family',\n",
       "       'buy real estate', 'buy commercial real estate',\n",
       "       'buy residential real estate', 'construction of own property',\n",
       "       'property', 'building a property', 'buying a second-hand car',\n",
       "       'buying my own car', 'transactions with commercial real estate',\n",
       "       'building a real estate', 'housing',\n",
       "       'transactions with my real estate', 'cars', 'to become educated',\n",
       "       'second-hand car purchase', 'getting an education', 'car',\n",
       "       'wedding ceremony', 'to get a supplementary education',\n",
       "       'purchase of my own house', 'real estate transactions',\n",
       "       'getting higher education', 'to own a car', 'purchase of a car',\n",
       "       'profile education', 'university education',\n",
       "       'buying property for renting out', 'to buy a car',\n",
       "       'housing renovation', 'going to university'], dtype=object)"
      ]
     },
     "execution_count": 893,
     "metadata": {},
     "output_type": "execute_result"
    }
   ],
   "source": [
    "# Check the unique values\n",
    "data['purpose'].unique()"
   ]
  },
  {
   "cell_type": "markdown",
   "metadata": {},
   "source": [
    "[What main groups can you identify based on the unique values?]\n",
    "\n",
    "[Based on these themes, we will probably want to categorize our data.]\n",
    "<div class=\"alert alert-block alert-info\">\n",
    "<b>Student answer.</b> <a class=\"tocSkip\"></a>\n",
    "We can divide our purpose values into 4 groups: wedding, car, education, and real estate/housing.\n",
    "We will create a new column titled purpose_category, so our analysis will be clearer."
   ]
  },
  {
   "cell_type": "code",
   "execution_count": 894,
   "metadata": {},
   "outputs": [],
   "source": [
    "# Let's write a function to categorize the data based on common topics\n",
    "categories = ['wedding', 'car', 'education', 'real estate/housing']\n",
    "def assign_purpose(purpose):\n",
    "    if purpose in ['wedding ceremony', 'having a wedding', 'to have a wedding']:\n",
    "        return 'wedding'\n",
    "    if purpose in ['real estate transactions', 'buy commercial real estate', 'buying property for renting out', \n",
    "                  'transactions with commercial real estate', 'housing transactions', 'housing', 'purchase of the house',\n",
    "                   'purchase of the house for my family', 'construction of own property', 'property', \n",
    "                   'transactions with my real estate', 'building a real estate', 'buy real estate', 'building a property',\n",
    "                   'purchase of my own house', 'housing renovation', 'buy residential real estate']:\n",
    "        return 'real estate / housing'\n",
    "    if purpose in ['buying my own car', 'car', 'second-hand car purchase', 'buying a second-hand car', 'to own a car',\n",
    "                  'cars', 'to buy a car', 'car purchase', 'purchase of a car']:\n",
    "        return 'car'\n",
    "    if purpose in ['university education', 'to get a supplementary education', 'education', 'getting an education',\n",
    "                  'profile education', 'getting higher education', 'to become educated', 'going to university', \n",
    "                   'supplementary education']:\n",
    "        return 'education'"
   ]
  },
  {
   "cell_type": "code",
   "execution_count": 895,
   "metadata": {},
   "outputs": [
    {
     "data": {
      "text/plain": [
       "real estate / housing    10793\n",
       "car                       4293\n",
       "education                 4004\n",
       "wedding                   2334\n",
       "Name: purpose_category, dtype: int64"
      ]
     },
     "execution_count": 895,
     "metadata": {},
     "output_type": "execute_result"
    }
   ],
   "source": [
    "# Create a column with the categories and count the values for them\n",
    "\n",
    "data['purpose_category'] = data['purpose'].apply(assign_purpose)\n",
    "data['purpose_category'].value_counts()"
   ]
  },
  {
   "cell_type": "code",
   "execution_count": 896,
   "metadata": {
    "scrolled": true
   },
   "outputs": [
    {
     "data": {
      "text/plain": [
       "0    14080\n",
       "1     4849\n",
       "2     2117\n",
       "3      328\n",
       "4       41\n",
       "5        9\n",
       "Name: children, dtype: int64"
      ]
     },
     "execution_count": 896,
     "metadata": {},
     "output_type": "execute_result"
    }
   ],
   "source": [
    "# Print the values for your selected data for categorization\n",
    "data['children'].value_counts()"
   ]
  },
  {
   "cell_type": "markdown",
   "metadata": {},
   "source": [
    "<div class=\"alert alert-block alert-info\">\n",
    "<b>Student answer.</b> <a class=\"tocSkip\"></a>\n",
    "    For categorization of the children column, we will assign the category of have/no children."
   ]
  },
  {
   "cell_type": "code",
   "execution_count": 897,
   "metadata": {},
   "outputs": [
    {
     "data": {
      "text/plain": [
       "no children      14080\n",
       "have children     7344\n",
       "Name: children_cat, dtype: int64"
      ]
     },
     "execution_count": 897,
     "metadata": {},
     "output_type": "execute_result"
    }
   ],
   "source": [
    "# Let's write a function to categorize the data based on common topics\n",
    "categories = ['have children', 'no children']\n",
    "def assign_children(children):\n",
    "    if children>0:\n",
    "        return 'have children'\n",
    "    else: return 'no children'\n",
    "    \n",
    "data['children_cat'] = data['children'].apply(assign_children)\n",
    "data['children_cat'].value_counts()"
   ]
  },
  {
   "cell_type": "markdown",
   "metadata": {},
   "source": [
    "<div class=\"alert alert-block alert-info\">\n",
    "<b>Student answer.</b> <a class=\"tocSkip\"></a>\n",
    "    For categorization of the total_income column:\n",
    "    1. We will create a function that will divide our total_income values into 10 intervals. This will be useful so we can understand the volumes and values of our data.\n",
    "    2. We will use the pd.cut() method, divided arbitrarily into 10 intervals."
   ]
  },
  {
   "cell_type": "code",
   "execution_count": 898,
   "metadata": {},
   "outputs": [
    {
     "data": {
      "text/plain": [
       "(3306.762, 39225.75]        18354\n",
       "(39225.75, 75144.739]        2783\n",
       "(75144.739, 111063.727]       223\n",
       "(111063.727, 146982.715]       34\n",
       "(146982.715, 182901.704]       15\n",
       "(182901.704, 218820.692]        6\n",
       "(254739.68, 290658.668]         4\n",
       "(218820.692, 254739.68]         2\n",
       "(326577.657, 362496.645]        2\n",
       "(290658.668, 326577.657]        0\n",
       "Name: total_income_cat, dtype: int64"
      ]
     },
     "execution_count": 898,
     "metadata": {},
     "output_type": "execute_result"
    }
   ],
   "source": [
    "def create_bins(low, high, num_of_intervals):\n",
    "    interval = (high-low) / num_of_intervals\n",
    "    bins = [low]\n",
    "    last_value = low\n",
    "    for income_interval in range(num_of_intervals):\n",
    "        last_value+=interval\n",
    "        bins.append(last_value)\n",
    "    return(bins)    \n",
    "        \n",
    "lowest_income = data['total_income'].min()\n",
    "highest_income = data['total_income'].max()\n",
    "bins=create_bins(lowest_income, highest_income, 10)\n",
    "\n",
    "bins\n",
    "\n",
    "data['total_income_cat'] = pd.cut(x=data['total_income'], bins=bins)\n",
    "data['total_income_cat'].value_counts()"
   ]
  },
  {
   "cell_type": "markdown",
   "metadata": {},
   "source": [
    "<div class=\"alert alert-block alert-info\">\n",
    "<b>Student answer.</b> <a class=\"tocSkip\"></a>\n",
    "    Using the value_counts() method, we see that most of our data in concentrated in 4 main categories. In the cell below, we will refine our pd.cut() and categorize our values."
   ]
  },
  {
   "cell_type": "code",
   "execution_count": 899,
   "metadata": {},
   "outputs": [],
   "source": [
    "bins = [3306.762, 39225.75, 75144.739, 111063.727,362496.645 ]\n",
    "labels=['low', 'medium', 'high', 'oligarch']\n",
    "data['total_income_cat'] = pd.cut(x=data['total_income'], bins=bins, labels=labels)"
   ]
  },
  {
   "cell_type": "markdown",
   "metadata": {},
   "source": [
    "[If you decide to categorize the numerical data, you'll need to come up with the categories for it too.]"
   ]
  },
  {
   "cell_type": "code",
   "execution_count": 900,
   "metadata": {},
   "outputs": [
    {
     "data": {
      "text/html": [
       "<div>\n",
       "<style scoped>\n",
       "    .dataframe tbody tr th:only-of-type {\n",
       "        vertical-align: middle;\n",
       "    }\n",
       "\n",
       "    .dataframe tbody tr th {\n",
       "        vertical-align: top;\n",
       "    }\n",
       "\n",
       "    .dataframe thead th {\n",
       "        text-align: right;\n",
       "    }\n",
       "</style>\n",
       "<table border=\"1\" class=\"dataframe\">\n",
       "  <thead>\n",
       "    <tr style=\"text-align: right;\">\n",
       "      <th></th>\n",
       "      <th>total_income_cat</th>\n",
       "      <th>age_category</th>\n",
       "      <th>income_type</th>\n",
       "      <th>education</th>\n",
       "      <th>family_status</th>\n",
       "      <th>children</th>\n",
       "      <th>children_cat</th>\n",
       "      <th>purpose_category</th>\n",
       "      <th>debt</th>\n",
       "    </tr>\n",
       "  </thead>\n",
       "  <tbody>\n",
       "    <tr>\n",
       "      <th>0</th>\n",
       "      <td>medium</td>\n",
       "      <td>40-42</td>\n",
       "      <td>employee</td>\n",
       "      <td>bachelor's degree</td>\n",
       "      <td>married</td>\n",
       "      <td>1</td>\n",
       "      <td>have children</td>\n",
       "      <td>real estate / housing</td>\n",
       "      <td>0</td>\n",
       "    </tr>\n",
       "    <tr>\n",
       "      <th>1</th>\n",
       "      <td>low</td>\n",
       "      <td>34-39</td>\n",
       "      <td>employee</td>\n",
       "      <td>secondary education</td>\n",
       "      <td>married</td>\n",
       "      <td>1</td>\n",
       "      <td>have children</td>\n",
       "      <td>car</td>\n",
       "      <td>0</td>\n",
       "    </tr>\n",
       "    <tr>\n",
       "      <th>2</th>\n",
       "      <td>low</td>\n",
       "      <td>29-33</td>\n",
       "      <td>employee</td>\n",
       "      <td>secondary education</td>\n",
       "      <td>married</td>\n",
       "      <td>0</td>\n",
       "      <td>no children</td>\n",
       "      <td>real estate / housing</td>\n",
       "      <td>0</td>\n",
       "    </tr>\n",
       "    <tr>\n",
       "      <th>3</th>\n",
       "      <td>medium</td>\n",
       "      <td>29-33</td>\n",
       "      <td>employee</td>\n",
       "      <td>secondary education</td>\n",
       "      <td>married</td>\n",
       "      <td>3</td>\n",
       "      <td>have children</td>\n",
       "      <td>education</td>\n",
       "      <td>0</td>\n",
       "    </tr>\n",
       "    <tr>\n",
       "      <th>4</th>\n",
       "      <td>low</td>\n",
       "      <td>51-55</td>\n",
       "      <td>retiree</td>\n",
       "      <td>secondary education</td>\n",
       "      <td>civil partnership</td>\n",
       "      <td>0</td>\n",
       "      <td>no children</td>\n",
       "      <td>wedding</td>\n",
       "      <td>0</td>\n",
       "    </tr>\n",
       "    <tr>\n",
       "      <th>...</th>\n",
       "      <td>...</td>\n",
       "      <td>...</td>\n",
       "      <td>...</td>\n",
       "      <td>...</td>\n",
       "      <td>...</td>\n",
       "      <td>...</td>\n",
       "      <td>...</td>\n",
       "      <td>...</td>\n",
       "      <td>...</td>\n",
       "    </tr>\n",
       "    <tr>\n",
       "      <th>21520</th>\n",
       "      <td>low</td>\n",
       "      <td>43-47</td>\n",
       "      <td>business</td>\n",
       "      <td>secondary education</td>\n",
       "      <td>civil partnership</td>\n",
       "      <td>1</td>\n",
       "      <td>have children</td>\n",
       "      <td>real estate / housing</td>\n",
       "      <td>0</td>\n",
       "    </tr>\n",
       "    <tr>\n",
       "      <th>21521</th>\n",
       "      <td>low</td>\n",
       "      <td>65-67</td>\n",
       "      <td>retiree</td>\n",
       "      <td>secondary education</td>\n",
       "      <td>married</td>\n",
       "      <td>0</td>\n",
       "      <td>no children</td>\n",
       "      <td>car</td>\n",
       "      <td>0</td>\n",
       "    </tr>\n",
       "    <tr>\n",
       "      <th>21522</th>\n",
       "      <td>low</td>\n",
       "      <td>34-39</td>\n",
       "      <td>employee</td>\n",
       "      <td>secondary education</td>\n",
       "      <td>civil partnership</td>\n",
       "      <td>1</td>\n",
       "      <td>have children</td>\n",
       "      <td>real estate / housing</td>\n",
       "      <td>1</td>\n",
       "    </tr>\n",
       "    <tr>\n",
       "      <th>21523</th>\n",
       "      <td>low</td>\n",
       "      <td>34-39</td>\n",
       "      <td>employee</td>\n",
       "      <td>secondary education</td>\n",
       "      <td>married</td>\n",
       "      <td>3</td>\n",
       "      <td>have children</td>\n",
       "      <td>car</td>\n",
       "      <td>1</td>\n",
       "    </tr>\n",
       "    <tr>\n",
       "      <th>21524</th>\n",
       "      <td>low</td>\n",
       "      <td>40-42</td>\n",
       "      <td>employee</td>\n",
       "      <td>secondary education</td>\n",
       "      <td>married</td>\n",
       "      <td>2</td>\n",
       "      <td>have children</td>\n",
       "      <td>car</td>\n",
       "      <td>0</td>\n",
       "    </tr>\n",
       "  </tbody>\n",
       "</table>\n",
       "<p>21424 rows × 9 columns</p>\n",
       "</div>"
      ],
      "text/plain": [
       "      total_income_cat age_category income_type            education  \\\n",
       "0               medium        40-42    employee    bachelor's degree   \n",
       "1                  low        34-39    employee  secondary education   \n",
       "2                  low        29-33    employee  secondary education   \n",
       "3               medium        29-33    employee  secondary education   \n",
       "4                  low        51-55     retiree  secondary education   \n",
       "...                ...          ...         ...                  ...   \n",
       "21520              low        43-47    business  secondary education   \n",
       "21521              low        65-67     retiree  secondary education   \n",
       "21522              low        34-39    employee  secondary education   \n",
       "21523              low        34-39    employee  secondary education   \n",
       "21524              low        40-42    employee  secondary education   \n",
       "\n",
       "           family_status  children   children_cat       purpose_category  debt  \n",
       "0                married         1  have children  real estate / housing     0  \n",
       "1                married         1  have children                    car     0  \n",
       "2                married         0    no children  real estate / housing     0  \n",
       "3                married         3  have children              education     0  \n",
       "4      civil partnership         0    no children                wedding     0  \n",
       "...                  ...       ...            ...                    ...   ...  \n",
       "21520  civil partnership         1  have children  real estate / housing     0  \n",
       "21521            married         0    no children                    car     0  \n",
       "21522  civil partnership         1  have children  real estate / housing     1  \n",
       "21523            married         3  have children                    car     1  \n",
       "21524            married         2  have children                    car     0  \n",
       "\n",
       "[21424 rows x 9 columns]"
      ]
     },
     "execution_count": 900,
     "metadata": {},
     "output_type": "execute_result"
    }
   ],
   "source": [
    "# Looking through all the numerical data in your selected column for categorization\n",
    "reference_data = data[['total_income_cat', 'age_category', 'income_type', 'education', 'family_status', 'children', 'children_cat', \n",
    "                      'purpose_category', 'debt']]\n",
    "reference_data"
   ]
  },
  {
   "cell_type": "markdown",
   "metadata": {},
   "source": [
    "# Getting summary statistics for the column\n",
    "\n",
    "<div class=\"alert alert-block alert-info\">\n",
    "<b>Student answer.</b> <a class=\"tocSkip\"></a>\n",
    "Already performed earlier in the project.\n",
    "\n"
   ]
  },
  {
   "cell_type": "markdown",
   "metadata": {},
   "source": [
    "[Decide what ranges you will use for grouping and explain why.]"
   ]
  },
  {
   "cell_type": "code",
   "execution_count": 901,
   "metadata": {},
   "outputs": [],
   "source": [
    "# Creating function for categorizing into different numerical groups based on ranges\n",
    "\n"
   ]
  },
  {
   "cell_type": "code",
   "execution_count": 902,
   "metadata": {},
   "outputs": [],
   "source": [
    "# Creating column with categories\n"
   ]
  },
  {
   "cell_type": "code",
   "execution_count": 903,
   "metadata": {
    "scrolled": true
   },
   "outputs": [],
   "source": [
    "# Count each categories values to see the distribution\n"
   ]
  },
  {
   "cell_type": "markdown",
   "metadata": {},
   "source": [
    "## Checking the Hypotheses\n"
   ]
  },
  {
   "cell_type": "markdown",
   "metadata": {},
   "source": [
    "**Is there a correlation between having children and paying back on time?**"
   ]
  },
  {
   "cell_type": "code",
   "execution_count": 904,
   "metadata": {},
   "outputs": [
    {
     "name": "stdout",
     "output_type": "stream",
     "text": [
      "       children  debt\n",
      "75            1     1\n",
      "93            1     1\n",
      "153           1     1\n",
      "164           2     1\n",
      "183           1     1\n",
      "...         ...   ...\n",
      "21456         2     1\n",
      "21483         2     1\n",
      "21515         1     1\n",
      "21522         1     1\n",
      "21523         3     1\n",
      "\n",
      "[675 rows x 2 columns]\n",
      "       children  debt\n",
      "14            0     1\n",
      "32            0     1\n",
      "38            0     1\n",
      "55            0     1\n",
      "100           0     1\n",
      "...         ...   ...\n",
      "21466         0     1\n",
      "21475         0     1\n",
      "21486         0     1\n",
      "21494         0     1\n",
      "21511         0     1\n",
      "\n",
      "[1058 rows x 2 columns]\n",
      "       children  debt\n",
      "0             1     0\n",
      "1             1     0\n",
      "3             3     0\n",
      "8             2     0\n",
      "10            2     0\n",
      "...         ...   ...\n",
      "21507         1     0\n",
      "21510         2     0\n",
      "21519         1     0\n",
      "21520         1     0\n",
      "21524         2     0\n",
      "\n",
      "[6669 rows x 2 columns]\n",
      "       children  debt\n",
      "2             0     0\n",
      "4             0     0\n",
      "5             0     0\n",
      "6             0     0\n",
      "7             0     0\n",
      "...         ...   ...\n",
      "21514         0     0\n",
      "21516         0     0\n",
      "21517         0     0\n",
      "21518         0     0\n",
      "21521         0     0\n",
      "\n",
      "[13022 rows x 2 columns]\n"
     ]
    }
   ],
   "source": [
    "# Check the children data and paying back on time\n",
    "children_debt_data = reference_data[['children', 'debt']]\n",
    "print(children_debt_data.loc[(children_debt_data['children']>0) & (children_debt_data['debt'] == 1)])\n",
    "print(children_debt_data.loc[(children_debt_data['children']==0) & (children_debt_data['debt'] == 1)])\n",
    "print(children_debt_data.loc[(children_debt_data['children']>0) & (children_debt_data['debt'] == 0)])\n",
    "print(children_debt_data.loc[(children_debt_data['children']==0) & (children_debt_data['debt'] == 0)])\n",
    "\n"
   ]
  },
  {
   "cell_type": "code",
   "execution_count": 905,
   "metadata": {},
   "outputs": [
    {
     "name": "stdout",
     "output_type": "stream",
     "text": [
      "children  debt\n",
      "0         0       13022\n",
      "          1        1058\n",
      "1         0        4407\n",
      "          1         442\n",
      "2         0        1915\n",
      "          1         202\n",
      "3         0         301\n",
      "          1          27\n",
      "4         0          37\n",
      "          1           4\n",
      "5         0           9\n",
      "Name: debt, dtype: int64\n",
      "7.51%\n",
      "9.12%\n",
      "9.54%\n",
      "8.23%\n",
      "9.76%\n",
      "0.00%\n"
     ]
    }
   ],
   "source": [
    "# Calculating default-rate based on the number of children\n",
    "print(children_debt_data.groupby('children')['debt'].value_counts())\n",
    "for number_of_children in range(6):\n",
    "    denom = len(children_debt_data[children_debt_data['children'] == number_of_children])\n",
    "    enum = len(children_debt_data.loc[(children_debt_data['children']==number_of_children) & (children_debt_data['debt'] == 1)])\n",
    "    print(f'{enum/denom:.2%}')"
   ]
  },
  {
   "cell_type": "markdown",
   "metadata": {},
   "source": [
    "<div class=\"alert alert-block alert-info\">\n",
    "<b>Student answer.</b> <a class=\"tocSkip\"></a>\n",
    "    That was the analysis performed on number of children. We will now run the same tests, only this time checking whether having children at all is a driving force behind default rate."
   ]
  },
  {
   "cell_type": "code",
   "execution_count": 906,
   "metadata": {},
   "outputs": [
    {
     "name": "stdout",
     "output_type": "stream",
     "text": [
      "children_cat   debt\n",
      "have children  0        6669\n",
      "               1         675\n",
      "no children    0       13022\n",
      "               1        1058\n",
      "Name: debt, dtype: int64\n",
      "have children and paid back: 90.81%\n",
      "have children and defaulted: 9.19%\n",
      "have no children and paid back: 92.49%\n",
      "have no children and defaulted: 7.51%\n"
     ]
    }
   ],
   "source": [
    "children_debt_grouped = data.groupby('children_cat')['debt'].value_counts()\n",
    "print(children_debt_grouped)\n",
    "\n",
    "children_payback = children_debt_grouped['have children'][0]/children_debt_grouped['have children'].sum()\n",
    "print('have children and paid back:', f'{children_payback:.2%}')\n",
    "children_default = children_debt_grouped['have children'][1]/children_debt_grouped['have children'].sum()\n",
    "print('have children and defaulted:', f'{children_default:.2%}')\n",
    "\n",
    "no_children_payback = children_debt_grouped['no children'][0]/children_debt_grouped['no children'].sum()\n",
    "print('have no children and paid back:', f'{no_children_payback:.2%}')\n",
    "no_children_default = children_debt_grouped['no children'][1]/children_debt_grouped['no children'].sum()\n",
    "print('have no children and defaulted:', f'{no_children_default:.2%}')\n",
    "\n",
    "\n",
    "\n"
   ]
  },
  {
   "cell_type": "markdown",
   "metadata": {},
   "source": [
    "<div class=\"alert alert-block alert-info\">\n",
    "<b>Student answer.</b> <a class=\"tocSkip\"></a>\n",
    "    There is no correlation between having children and the ability to pay back a loan."
   ]
  },
  {
   "cell_type": "markdown",
   "metadata": {},
   "source": [
    "<div class=\"alert alert-block alert-info\">\n",
    "<b>Student answer.</b> <a class=\"tocSkip\"></a>\n",
    "    The first code cell  was ran to meet and sort the data, based on the children column. In the second code cell for this column, we grouped that data."
   ]
  },
  {
   "cell_type": "markdown",
   "metadata": {},
   "source": [
    "**Conclusion**\n",
    "\n",
    "[Write your conclusions based on your manipulations and observations.]\n",
    "In order to calculate the default rate with number of children as our variable, we looped through each number of children, and divided the number of defaultees by it.\n",
    "The conclusion drawn from this data:\n",
    "<div class=\"alert alert-block alert-info\">\n",
    "<b>Student answer.</b> <a class=\"tocSkip\"></a>\n",
    "1. There is no strong correlation between number of children and paying the loan.\n",
    "2. The sample size for 5 or more children is too small to be of any statistical significance."
   ]
  },
  {
   "cell_type": "markdown",
   "metadata": {},
   "source": [
    "**Is there a correlation between family status and paying back on time?**\n",
    "<div class=\"alert alert-block alert-info\">\n",
    "<b>Student answer.</b> <a class=\"tocSkip\"></a>\n",
    "    First, we filtered according to each value with the appropriate logical condition. Once we understood the data, we grouped it in the code cell below."
   ]
  },
  {
   "cell_type": "code",
   "execution_count": 907,
   "metadata": {},
   "outputs": [
    {
     "name": "stdout",
     "output_type": "stream",
     "text": [
      "      family_status  debt\n",
      "0           married     0\n",
      "1           married     0\n",
      "2           married     0\n",
      "3           married     0\n",
      "6           married     0\n",
      "...             ...   ...\n",
      "21513       married     0\n",
      "21516       married     0\n",
      "21518       married     0\n",
      "21521       married     0\n",
      "21524       married     0\n",
      "\n",
      "[11404 rows x 2 columns]\n",
      "      family_status  debt\n",
      "75          married     1\n",
      "93          married     1\n",
      "114         married     1\n",
      "124         married     1\n",
      "147         married     1\n",
      "...             ...   ...\n",
      "21457       married     1\n",
      "21475       married     1\n",
      "21486       married     1\n",
      "21515       married     1\n",
      "21523       married     1\n",
      "\n",
      "[927 rows x 2 columns]\n",
      "           family_status  debt\n",
      "4      civil partnership     0\n",
      "5      civil partnership     0\n",
      "8      civil partnership     0\n",
      "12     civil partnership     0\n",
      "17     civil partnership     0\n",
      "...                  ...   ...\n",
      "21505  civil partnership     0\n",
      "21506  civil partnership     0\n",
      "21507  civil partnership     0\n",
      "21517  civil partnership     0\n",
      "21520  civil partnership     0\n",
      "\n",
      "[3770 rows x 2 columns]\n",
      "           family_status  debt\n",
      "14     civil partnership     1\n",
      "32     civil partnership     1\n",
      "55     civil partnership     1\n",
      "181    civil partnership     1\n",
      "183    civil partnership     1\n",
      "...                  ...   ...\n",
      "21375  civil partnership     1\n",
      "21483  civil partnership     1\n",
      "21494  civil partnership     1\n",
      "21511  civil partnership     1\n",
      "21522  civil partnership     1\n",
      "\n",
      "[386 rows x 2 columns]\n",
      "      family_status  debt\n",
      "24        unmarried     0\n",
      "29        unmarried     0\n",
      "36        unmarried     0\n",
      "40        unmarried     0\n",
      "42        unmarried     0\n",
      "...             ...   ...\n",
      "21480     unmarried     0\n",
      "21488     unmarried     0\n",
      "21500     unmarried     0\n",
      "21512     unmarried     0\n",
      "21514     unmarried     0\n",
      "\n",
      "[2524 rows x 2 columns]\n",
      "      family_status  debt\n",
      "38        unmarried     1\n",
      "655       unmarried     1\n",
      "677       unmarried     1\n",
      "707       unmarried     1\n",
      "744       unmarried     1\n",
      "...             ...   ...\n",
      "21358     unmarried     1\n",
      "21370     unmarried     1\n",
      "21394     unmarried     1\n",
      "21445     unmarried     1\n",
      "21466     unmarried     1\n",
      "\n",
      "[273 rows x 2 columns]\n",
      "      family_status  debt\n",
      "19         divorced     0\n",
      "43         divorced     0\n",
      "53         divorced     0\n",
      "117        divorced     0\n",
      "128        divorced     0\n",
      "...             ...   ...\n",
      "21393      divorced     0\n",
      "21421      divorced     0\n",
      "21441      divorced     0\n",
      "21468      divorced     0\n",
      "21519      divorced     0\n",
      "\n",
      "[1100 rows x 2 columns]\n",
      "      family_status  debt\n",
      "305        divorced     1\n",
      "338        divorced     1\n",
      "396        divorced     1\n",
      "1019       divorced     1\n",
      "1803       divorced     1\n",
      "...             ...   ...\n",
      "20378      divorced     1\n",
      "20923      divorced     1\n",
      "21017      divorced     1\n",
      "21157      divorced     1\n",
      "21424      divorced     1\n",
      "\n",
      "[85 rows x 2 columns]\n",
      "         family_status  debt\n",
      "18     widow / widower     0\n",
      "56     widow / widower     0\n",
      "57     widow / widower     0\n",
      "105    widow / widower     0\n",
      "143    widow / widower     0\n",
      "...                ...   ...\n",
      "21337  widow / widower     0\n",
      "21349  widow / widower     0\n",
      "21378  widow / widower     0\n",
      "21429  widow / widower     0\n",
      "21444  widow / widower     0\n",
      "\n",
      "[893 rows x 2 columns]\n",
      "         family_status  debt\n",
      "100    widow / widower     1\n",
      "444    widow / widower     1\n",
      "1079   widow / widower     1\n",
      "1236   widow / widower     1\n",
      "2259   widow / widower     1\n",
      "...                ...   ...\n",
      "18806  widow / widower     1\n",
      "19133  widow / widower     1\n",
      "20200  widow / widower     1\n",
      "20469  widow / widower     1\n",
      "20852  widow / widower     1\n",
      "\n",
      "[62 rows x 2 columns]\n"
     ]
    }
   ],
   "source": [
    "# Check the family status data and paying back on time\n",
    "family_status_debt_data = reference_data[['family_status', 'debt']]\n",
    "family_status_debt_data.value_counts()\n",
    "print(family_status_debt_data.loc[(family_status_debt_data['family_status']=='married') & (family_status_debt_data['debt'] == 0)])\n",
    "print(family_status_debt_data.loc[(family_status_debt_data['family_status']=='married') & (family_status_debt_data['debt'] == 1)])\n",
    "print(family_status_debt_data.loc[(family_status_debt_data['family_status']=='civil partnership') & (family_status_debt_data['debt'] == 0)])\n",
    "print(family_status_debt_data.loc[(family_status_debt_data['family_status']=='civil partnership') & (family_status_debt_data['debt'] == 1)])\n",
    "print(family_status_debt_data.loc[(family_status_debt_data['family_status']=='unmarried') & (family_status_debt_data['debt'] == 0)])\n",
    "print(family_status_debt_data.loc[(family_status_debt_data['family_status']=='unmarried') & (family_status_debt_data['debt'] == 1)])\n",
    "print(family_status_debt_data.loc[(family_status_debt_data['family_status']=='divorced') & (family_status_debt_data['debt'] == 0)])\n",
    "print(family_status_debt_data.loc[(family_status_debt_data['family_status']=='divorced') & (family_status_debt_data['debt'] == 1)])\n",
    "print(family_status_debt_data.loc[(family_status_debt_data['family_status']=='widow / widower') & (family_status_debt_data['debt'] == 0)])\n",
    "print(family_status_debt_data.loc[(family_status_debt_data['family_status']=='widow / widower') & (family_status_debt_data['debt'] == 1)])"
   ]
  },
  {
   "cell_type": "markdown",
   "metadata": {},
   "source": [
    "<div class=\"alert alert-block alert-info\">\n",
    "<b>Student answer.</b> <a class=\"tocSkip\"></a>\n",
    "    Here, we used pivot_table instead of groupby, even though we are dealing with a similar situation to the children_cat question. Since we are only pivoting with 2 columns, we randomly chose another column from the data set as our value, just so we can see the data.\n",
    "    My question to you is: is this a proper way to use pivot_table? Or, when dealing with only 2 columns, we should stick to groupby?"
   ]
  },
  {
   "cell_type": "code",
   "execution_count": 908,
   "metadata": {},
   "outputs": [
    {
     "name": "stdout",
     "output_type": "stream",
     "text": [
      "family_status  civil partnership  divorced  married  unmarried  \\\n",
      "debt                                                             \n",
      "0                           3770      1100    11404       2524   \n",
      "1                            386        85      927        273   \n",
      "\n",
      "family_status  widow / widower  \n",
      "debt                            \n",
      "0                          893  \n",
      "1                           62  \n",
      "married and paid back: 92.48%\n",
      "married and default: 7.52%\n",
      "civil partnership and paid back: 90.71%\n",
      "civil partnership and default: 9.29%\n",
      "unmarried and paid back: 90.24%\n",
      "unmarried and default: 9.76%\n",
      "divorced and paid back: 92.83%\n",
      "divorced and default: 7.17%\n",
      "widow / widower and paid back: 93.51%\n",
      "widow / widower and default: 6.49%\n"
     ]
    }
   ],
   "source": [
    "reference_data\n",
    "family_status_pivot = reference_data.pivot_table(index='debt', columns='family_status', values='children', aggfunc='count')\n",
    "print(family_status_pivot)\n",
    "\n",
    "for status in ['married', 'civil partnership', 'unmarried', 'divorced', 'widow / widower']:\n",
    "    payback=family_status_pivot[status][0]/family_status_pivot[status].sum()\n",
    "    default=family_status_pivot[status][1]/family_status_pivot[status].sum()\n",
    "    print(status, 'and paid back:', f'{payback:.2%}')\n",
    "    print(status, 'and default:', f'{default:.2%}')\n",
    "\n",
    "\n"
   ]
  },
  {
   "cell_type": "markdown",
   "metadata": {},
   "source": [
    "<div class=\"alert alert-block alert-info\">\n",
    "<b>Student answer.</b> <a class=\"tocSkip\"></a>\n",
    "Conversely, I've kept the previos method as well, but under comment and not code."
   ]
  },
  {
   "cell_type": "code",
   "execution_count": 909,
   "metadata": {},
   "outputs": [],
   "source": [
    "# Calculating default-rate based on family status\n",
    "#print(family_status_debt_data.groupby('family_status')['debt'].value_counts())\n",
    "#for status in ['married', 'civil partnership', 'unmarried', 'divorced', 'widow / widower']:\n",
    "    #denom = len(family_status_debt_data[family_status_debt_data['family_status'] == status])\n",
    "    #enum = len(family_status_debt_data.loc[(family_status_debt_data['family_status']==status) & (family_status_debt_data['debt'] == 1)])\n",
    "    #print(f'{enum/denom:.2%}')\n"
   ]
  },
  {
   "cell_type": "markdown",
   "metadata": {},
   "source": [
    "**Conclusion**\n",
    "\n",
    "[Write your conclusions based on your manipulations and observations.]\n",
    "<div class=\"alert alert-block alert-info\">\n",
    "<b>Student answer.</b> <a class=\"tocSkip\"></a>\n",
    "Based on family_status, we arrive at pretty much the same conclusions from the children observations - there's isn't a strong enough correlation between a person's family status and his/her ability to pay back the loan."
   ]
  },
  {
   "cell_type": "markdown",
   "metadata": {},
   "source": [
    "**Is there a correlation between income level and paying back on time?**"
   ]
  },
  {
   "cell_type": "markdown",
   "metadata": {},
   "source": [
    "<div class=\"alert alert-block alert-info\">\n",
    "<b>Student answer.</b> <a class=\"tocSkip\"></a>\n",
    "We ran the same tests using groupby, and achieved the same results. Hooray!"
   ]
  },
  {
   "cell_type": "code",
   "execution_count": 910,
   "metadata": {},
   "outputs": [
    {
     "name": "stdout",
     "output_type": "stream",
     "text": [
      "income_type  business  civil servant  employee  entrepreneur  \\\n",
      "debt                                                           \n",
      "0              4690.0         1367.0   10009.0           2.0   \n",
      "1               375.0           86.0    1055.0           NaN   \n",
      "\n",
      "income_type  paternity / maternity leave  retiree  student  unemployed  \n",
      "debt                                                                    \n",
      "0                                    NaN   3621.0      1.0         1.0  \n",
      "1                                    1.0    215.0      NaN         1.0  \n",
      "employee and paid back: 90.46%\n",
      "employee and default: 9.54%\n",
      "civil servant and paid back: 94.08%\n",
      "civil servant and default: 5.92%\n",
      "business and paid back: 92.60%\n",
      "business and default: 7.40%\n",
      "retiree and paid back: 94.40%\n",
      "retiree and default: 5.60%\n",
      "student and paid back: 100.00%\n",
      "student and default: nan%\n",
      "unemployed and paid back: 50.00%\n",
      "unemployed and default: 50.00%\n",
      "entrepreneur and paid back: 100.00%\n",
      "entrepreneur and default: nan%\n",
      "paternity / maternity leave and paid back: nan%\n",
      "paternity / maternity leave and default: 100.00%\n"
     ]
    }
   ],
   "source": [
    "reference_data\n",
    "income_type_pivot = reference_data.pivot_table(index='debt', columns='income_type', values='children', aggfunc='count')\n",
    "print(income_type_pivot)\n",
    "\n",
    "for income_type in ['employee', 'civil servant', 'business', 'retiree', 'student', 'unemployed', 'entrepreneur', 'paternity / maternity leave']:\n",
    "    payback=income_type_pivot[income_type][0]/income_type_pivot[income_type].sum()\n",
    "    default=income_type_pivot[income_type][1]/income_type_pivot[income_type].sum()\n",
    "    print(income_type, 'and paid back:', f'{payback:.2%}')\n",
    "    print(income_type, 'and default:', f'{default:.2%}')"
   ]
  },
  {
   "cell_type": "code",
   "execution_count": 911,
   "metadata": {},
   "outputs": [
    {
     "name": "stdout",
     "output_type": "stream",
     "text": [
      "      income_type  debt\n",
      "0        employee     0\n",
      "1        employee     0\n",
      "2        employee     0\n",
      "3        employee     0\n",
      "7        employee     0\n",
      "...           ...   ...\n",
      "21506    employee     0\n",
      "21510    employee     0\n",
      "21513    employee     0\n",
      "21519    employee     0\n",
      "21524    employee     0\n",
      "\n",
      "[10009 rows x 2 columns]\n",
      "      income_type  debt\n",
      "32       employee     1\n",
      "38       employee     1\n",
      "75       employee     1\n",
      "93       employee     1\n",
      "100      employee     1\n",
      "...           ...   ...\n",
      "21486    employee     1\n",
      "21511    employee     1\n",
      "21515    employee     1\n",
      "21522    employee     1\n",
      "21523    employee     1\n",
      "\n",
      "[1055 rows x 2 columns]\n",
      "      income_type  debt\n",
      "5        business     0\n",
      "6        business     0\n",
      "10       business     0\n",
      "33       business     0\n",
      "37       business     0\n",
      "...           ...   ...\n",
      "21512    business     0\n",
      "21514    business     0\n",
      "21516    business     0\n",
      "21517    business     0\n",
      "21520    business     0\n",
      "\n",
      "[4690 rows x 2 columns]\n",
      "      income_type  debt\n",
      "14       business     1\n",
      "153      business     1\n",
      "181      business     1\n",
      "183      business     1\n",
      "230      business     1\n",
      "...           ...   ...\n",
      "21318    business     1\n",
      "21358    business     1\n",
      "21445    business     1\n",
      "21466    business     1\n",
      "21494    business     1\n",
      "\n",
      "[375 rows x 2 columns]\n",
      "      income_type  debt\n",
      "4         retiree     0\n",
      "12        retiree     0\n",
      "18        retiree     0\n",
      "24        retiree     0\n",
      "25        retiree     0\n",
      "...           ...   ...\n",
      "21505     retiree     0\n",
      "21508     retiree     0\n",
      "21509     retiree     0\n",
      "21518     retiree     0\n",
      "21521     retiree     0\n",
      "\n",
      "[3621 rows x 2 columns]\n",
      "      income_type  debt\n",
      "55        retiree     1\n",
      "157       retiree     1\n",
      "247       retiree     1\n",
      "322       retiree     1\n",
      "674       retiree     1\n",
      "...           ...   ...\n",
      "21240     retiree     1\n",
      "21342     retiree     1\n",
      "21381     retiree     1\n",
      "21424     retiree     1\n",
      "21475     retiree     1\n",
      "\n",
      "[215 rows x 2 columns]\n",
      "         income_type  debt\n",
      "26     civil servant     0\n",
      "41     civil servant     0\n",
      "47     civil servant     0\n",
      "62     civil servant     0\n",
      "70     civil servant     0\n",
      "...              ...   ...\n",
      "21288  civil servant     0\n",
      "21349  civil servant     0\n",
      "21380  civil servant     0\n",
      "21459  civil servant     0\n",
      "21507  civil servant     0\n",
      "\n",
      "[1367 rows x 2 columns]\n",
      "         income_type  debt\n",
      "147    civil servant     1\n",
      "723    civil servant     1\n",
      "999    civil servant     1\n",
      "1019   civil servant     1\n",
      "1287   civil servant     1\n",
      "...              ...   ...\n",
      "20300  civil servant     1\n",
      "20359  civil servant     1\n",
      "20469  civil servant     1\n",
      "20833  civil servant     1\n",
      "21052  civil servant     1\n",
      "\n",
      "[86 rows x 2 columns]\n",
      "        income_type  debt\n",
      "5936   entrepreneur     0\n",
      "18697  entrepreneur     0\n",
      "Empty DataFrame\n",
      "Columns: [income_type, debt]\n",
      "Index: []\n",
      "     income_type  debt\n",
      "9410     student     0\n",
      "Empty DataFrame\n",
      "Columns: [income_type, debt]\n",
      "Index: []\n",
      "Empty DataFrame\n",
      "Columns: [income_type, debt]\n",
      "Index: []\n",
      "     income_type  debt\n",
      "3133  unemployed     1\n",
      "Empty DataFrame\n",
      "Columns: [income_type, debt]\n",
      "Index: []\n",
      "                       income_type  debt\n",
      "20845  paternity / maternity leave     1\n"
     ]
    }
   ],
   "source": [
    "# Check the income level data and paying back on time\n",
    "income_type_debt_data = reference_data[['income_type', 'debt']]\n",
    "income_type_debt_data.value_counts()\n",
    "print(income_type_debt_data.loc[(income_type_debt_data['income_type']=='employee') & (income_type_debt_data['debt'] == 0)])\n",
    "print(income_type_debt_data.loc[(income_type_debt_data['income_type']=='employee') & (income_type_debt_data['debt'] == 1)])\n",
    "print(income_type_debt_data.loc[(income_type_debt_data['income_type']=='business') & (income_type_debt_data['debt'] == 0)])\n",
    "print(income_type_debt_data.loc[(income_type_debt_data['income_type']=='business') & (income_type_debt_data['debt'] == 1)])\n",
    "print(income_type_debt_data.loc[(income_type_debt_data['income_type']=='retiree') & (income_type_debt_data['debt'] == 0)])\n",
    "print(income_type_debt_data.loc[(income_type_debt_data['income_type']=='retiree') & (income_type_debt_data['debt'] == 1)])\n",
    "print(income_type_debt_data.loc[(income_type_debt_data['income_type']=='civil servant') & (income_type_debt_data['debt'] == 0)])\n",
    "print(income_type_debt_data.loc[(income_type_debt_data['income_type']=='civil servant') & (income_type_debt_data['debt'] == 1)])\n",
    "print(income_type_debt_data.loc[(income_type_debt_data['income_type']=='entrepreneur') & (income_type_debt_data['debt'] == 0)])\n",
    "print(income_type_debt_data.loc[(income_type_debt_data['income_type']=='entrepreneur') & (income_type_debt_data['debt'] == 1)])\n",
    "print(income_type_debt_data.loc[(income_type_debt_data['income_type']=='student') & (income_type_debt_data['debt'] == 0)])\n",
    "print(income_type_debt_data.loc[(income_type_debt_data['income_type']=='student') & (income_type_debt_data['debt'] == 1)])\n",
    "print(income_type_debt_data.loc[(income_type_debt_data['income_type']=='unempoyed') & (income_type_debt_data['debt'] == 0)])\n",
    "print(income_type_debt_data.loc[(income_type_debt_data['income_type']=='unemployed') & (income_type_debt_data['debt'] == 1)])\n",
    "print(income_type_debt_data.loc[(income_type_debt_data['income_type']=='paternity / maternity leave') & (income_type_debt_data['debt'] == 0)])\n",
    "print(income_type_debt_data.loc[(income_type_debt_data['income_type']=='paternity / maternity leave') & (income_type_debt_data['debt'] == 1)])\n",
    "\n"
   ]
  },
  {
   "cell_type": "code",
   "execution_count": 912,
   "metadata": {},
   "outputs": [
    {
     "name": "stdout",
     "output_type": "stream",
     "text": [
      "income_type                  debt\n",
      "business                     0        4690\n",
      "                             1         375\n",
      "civil servant                0        1367\n",
      "                             1          86\n",
      "employee                     0       10009\n",
      "                             1        1055\n",
      "entrepreneur                 0           2\n",
      "paternity / maternity leave  1           1\n",
      "retiree                      0        3621\n",
      "                             1         215\n",
      "student                      0           1\n",
      "unemployed                   0           1\n",
      "                             1           1\n",
      "Name: debt, dtype: int64\n",
      "9.54%\n",
      "5.92%\n",
      "7.40%\n",
      "5.60%\n",
      "100.00%\n",
      "0.00%\n",
      "0.00%\n",
      "50.00%\n"
     ]
    }
   ],
   "source": [
    "# Calculating default-rate based on income level\n",
    "print(income_type_debt_data.groupby('income_type')['debt'].value_counts())\n",
    "for level in ['employee', 'civil servant', 'business', 'retiree', 'paternity / maternity leave', 'entrepreneur', 'student',\n",
    "             'unemployed']:\n",
    "    denom = len(income_type_debt_data[income_type_debt_data['income_type'] == level])\n",
    "    enum = len(income_type_debt_data.loc[(income_type_debt_data['income_type']==level) & (income_type_debt_data['debt'] == 1)])\n",
    "    print(f'{enum/denom:.2%}')"
   ]
  },
  {
   "cell_type": "markdown",
   "metadata": {},
   "source": [
    "**Conclusion**\n",
    "\n",
    "[Write your conclusions based on your manipulations and observations.]\n",
    "<div class=\"alert alert-block alert-info\">\n",
    "<b>Student answer.</b> <a class=\"tocSkip\"></a>\n",
    "I went with the assumption that income level refers to income_type.\n",
    "The conclusions are as follows:\n",
    "1. Once again, there is no strong correlation between income_type and the ability to pay off a loan.\n",
    "2. We have 3 groups of small sample sizes, so we cannot make a proper analysis of these cases."
   ]
  },
  {
   "cell_type": "markdown",
   "metadata": {},
   "source": [
    "**How does credit purpose affect the default rate?**"
   ]
  },
  {
   "cell_type": "code",
   "execution_count": 913,
   "metadata": {},
   "outputs": [
    {
     "name": "stdout",
     "output_type": "stream",
     "text": [
      "      purpose_category  debt\n",
      "4              wedding     0\n",
      "8              wedding     0\n",
      "12             wedding     0\n",
      "23             wedding     0\n",
      "35             wedding     0\n",
      "...                ...   ...\n",
      "21495          wedding     0\n",
      "21498          wedding     0\n",
      "21499          wedding     0\n",
      "21505          wedding     0\n",
      "21506          wedding     0\n",
      "\n",
      "[2150 rows x 2 columns]\n",
      "      purpose_category  debt\n",
      "32             wedding     1\n",
      "55             wedding     1\n",
      "230            wedding     1\n",
      "322            wedding     1\n",
      "619            wedding     1\n",
      "...                ...   ...\n",
      "20997          wedding     1\n",
      "21185          wedding     1\n",
      "21246          wedding     1\n",
      "21274          wedding     1\n",
      "21327          wedding     1\n",
      "\n",
      "[184 rows x 2 columns]\n",
      "            purpose_category  debt\n",
      "0      real estate / housing     0\n",
      "2      real estate / housing     0\n",
      "5      real estate / housing     0\n",
      "6      real estate / housing     0\n",
      "9      real estate / housing     0\n",
      "...                      ...   ...\n",
      "21513  real estate / housing     0\n",
      "21514  real estate / housing     0\n",
      "21516  real estate / housing     0\n",
      "21519  real estate / housing     0\n",
      "21520  real estate / housing     0\n",
      "\n",
      "[10014 rows x 2 columns]\n",
      "            purpose_category  debt\n",
      "14     real estate / housing     1\n",
      "75     real estate / housing     1\n",
      "100    real estate / housing     1\n",
      "114    real estate / housing     1\n",
      "124    real estate / housing     1\n",
      "...                      ...   ...\n",
      "21457  real estate / housing     1\n",
      "21466  real estate / housing     1\n",
      "21483  real estate / housing     1\n",
      "21511  real estate / housing     1\n",
      "21522  real estate / housing     1\n",
      "\n",
      "[779 rows x 2 columns]\n",
      "      purpose_category  debt\n",
      "3            education     0\n",
      "7            education     0\n",
      "26           education     0\n",
      "39           education     0\n",
      "42           education     0\n",
      "...                ...   ...\n",
      "21468        education     0\n",
      "21470        education     0\n",
      "21503        education     0\n",
      "21504        education     0\n",
      "21512        education     0\n",
      "\n",
      "[3634 rows x 2 columns]\n",
      "      purpose_category  debt\n",
      "38           education     1\n",
      "183          education     1\n",
      "185          education     1\n",
      "247          education     1\n",
      "272          education     1\n",
      "...                ...   ...\n",
      "21342        education     1\n",
      "21370        education     1\n",
      "21456        education     1\n",
      "21494        education     1\n",
      "21515        education     1\n",
      "\n",
      "[370 rows x 2 columns]\n",
      "      purpose_category  debt\n",
      "1                  car     0\n",
      "13                 car     0\n",
      "18                 car     0\n",
      "19                 car     0\n",
      "21                 car     0\n",
      "...                ...   ...\n",
      "21510              car     0\n",
      "21517              car     0\n",
      "21518              car     0\n",
      "21521              car     0\n",
      "21524              car     0\n",
      "\n",
      "[3893 rows x 2 columns]\n",
      "      purpose_category  debt\n",
      "93                 car     1\n",
      "157                car     1\n",
      "164                car     1\n",
      "213                car     1\n",
      "218                car     1\n",
      "...                ...   ...\n",
      "21430              car     1\n",
      "21445              car     1\n",
      "21475              car     1\n",
      "21486              car     1\n",
      "21523              car     1\n",
      "\n",
      "[400 rows x 2 columns]\n"
     ]
    }
   ],
   "source": [
    "# Check the percentages for default rate for each credit purpose and analyze them\n",
    "purpose_category_debt_data = reference_data[['purpose_category', 'debt']]\n",
    "purpose_category_debt_data.value_counts()\n",
    "print(purpose_category_debt_data.loc[(purpose_category_debt_data['purpose_category']=='wedding') & (purpose_category_debt_data['debt'] == 0)])\n",
    "print(purpose_category_debt_data.loc[(purpose_category_debt_data['purpose_category']=='wedding') & (purpose_category_debt_data['debt'] == 1)])\n",
    "print(purpose_category_debt_data.loc[(purpose_category_debt_data['purpose_category']=='real estate / housing') & (purpose_category_debt_data['debt'] == 0)])\n",
    "print(purpose_category_debt_data.loc[(purpose_category_debt_data['purpose_category']=='real estate / housing') & (purpose_category_debt_data['debt'] == 1)])\n",
    "print(purpose_category_debt_data.loc[(purpose_category_debt_data['purpose_category']=='education') & (purpose_category_debt_data['debt'] == 0)])\n",
    "print(purpose_category_debt_data.loc[(purpose_category_debt_data['purpose_category']=='education') & (purpose_category_debt_data['debt'] == 1)])\n",
    "print(purpose_category_debt_data.loc[(purpose_category_debt_data['purpose_category']=='car') & (purpose_category_debt_data['debt'] == 0)])\n",
    "print(purpose_category_debt_data.loc[(purpose_category_debt_data['purpose_category']=='car') & (purpose_category_debt_data['debt'] == 1)])\n"
   ]
  },
  {
   "cell_type": "code",
   "execution_count": 914,
   "metadata": {},
   "outputs": [
    {
     "name": "stdout",
     "output_type": "stream",
     "text": [
      "purpose_category       debt\n",
      "car                    0        3893\n",
      "                       1         400\n",
      "education              0        3634\n",
      "                       1         370\n",
      "real estate / housing  0       10014\n",
      "                       1         779\n",
      "wedding                0        2150\n",
      "                       1         184\n",
      "Name: debt, dtype: int64\n",
      "7.88%\n",
      "7.22%\n",
      "9.24%\n",
      "9.32%\n"
     ]
    }
   ],
   "source": [
    "# Calculating default-rate based on purpose\n",
    "print(purpose_category_debt_data.groupby('purpose_category')['debt'].value_counts())\n",
    "for purpose in ['wedding', 'real estate / housing', 'education', 'car']:\n",
    "    denom = len(purpose_category_debt_data[purpose_category_debt_data['purpose_category'] == purpose])\n",
    "    enum = len(purpose_category_debt_data.loc[(purpose_category_debt_data['purpose_category']==purpose) & (purpose_category_debt_data['debt'] == 1)])\n",
    "    print(f'{enum/denom:.2%}')"
   ]
  },
  {
   "cell_type": "markdown",
   "metadata": {},
   "source": [
    "**Conclusion**\n",
    "\n",
    "[Write your conclusions based on your manipulations and observations.]\n",
    "<div class=\"alert alert-block alert-info\">\n",
    "<b>Student answer.</b> <a class=\"tocSkip\"></a>\n",
    "Same observations as for previous comparisons."
   ]
  },
  {
   "cell_type": "markdown",
   "metadata": {},
   "source": [
    "# General Conclusion \n",
    "\n",
    "[List your conclusions in this final section. Make sure you include all your important conclusions you made that led you to the way you processed and analyzed the data. Cover the missing values, duplicates, and possible reasons and solutions for problematic artifacts that you had to address.]\n",
    "\n",
    "[List your conclusions regarding the posed questions here as well.]\n",
    "<div class=\"alert alert-block alert-info\">\n",
    "<b>Student answer.</b> <a class=\"tocSkip\"></a>\n",
    "Aside from the corrupted data under the days_employed column, there is no strong conclusion to be drawn from any parameter. Either the results are too similar, or there are too many small sample/insignificant data to draw analysis from.\n",
    "    All possible columns in our data do not yield any cut-throat results. Either we need more entries so that we can reach a logical conclusion behind which factors determine the ability to pay back the loan, or we need different metrics/columns by which to conduct our analysis.\n"
   ]
  },
  {
   "cell_type": "code",
   "execution_count": null,
   "metadata": {},
   "outputs": [],
   "source": []
  }
 ],
 "metadata": {
  "ExecuteTimeLog": [
   {
    "duration": 2741,
    "start_time": "2021-10-21T01:08:49.480Z"
   },
   {
    "duration": 52,
    "start_time": "2021-10-21T01:08:53.315Z"
   },
   {
    "duration": 49,
    "start_time": "2021-10-21T01:08:57.432Z"
   },
   {
    "duration": 70,
    "start_time": "2021-10-21T01:09:07.706Z"
   }
  ],
  "kernelspec": {
   "display_name": "Python 3 (ipykernel)",
   "language": "python",
   "name": "python3"
  },
  "language_info": {
   "codemirror_mode": {
    "name": "ipython",
    "version": 3
   },
   "file_extension": ".py",
   "mimetype": "text/x-python",
   "name": "python",
   "nbconvert_exporter": "python",
   "pygments_lexer": "ipython3",
   "version": "3.9.5"
  },
  "toc": {
   "base_numbering": 1,
   "nav_menu": {},
   "number_sections": true,
   "sideBar": true,
   "skip_h1_title": true,
   "title_cell": "Table of Contents",
   "title_sidebar": "Contents",
   "toc_cell": false,
   "toc_position": {},
   "toc_section_display": true,
   "toc_window_display": false
  }
 },
 "nbformat": 4,
 "nbformat_minor": 2
}
