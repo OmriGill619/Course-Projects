{
 "cells": [
  {
   "cell_type": "markdown",
   "metadata": {},
   "source": [
    "<div style=\"border:solid green 2px; padding: 20px\"> <h1 style=\"color:green; margin-bottom:20px\">Reviewer's comment v1</h1>\n",
    "\n",
    "Hello Omri, my name is Dmitrii. Happy to review your project! 🙌\n",
    "\n",
    "As usual you can find my comments under the heading **«Review»**. I will categorize my comments in green, blue or red boxes like this:\n",
    "\n",
    "<div class=\"alert alert-success\">\n",
    "    <b>Success:</b> if everything is done successfully\n",
    "</div>\n",
    "<div class=\"alert alert-warning\">\n",
    "    <b>Remarks:</b> if I can give some recommendations or ways to improve the project\n",
    "</div>\n",
    "<div class=\"alert alert-danger\">\n",
    "    <b>Needs fixing:</b> if the block requires some corrections. Work can't be accepted with the red comments\n",
    "</div>\n",
    "\n",
    "Please don't remove my comments :) If you have any questions don't hesitate to respond to my comments in a different section. \n",
    "<div class=\"alert alert-info\"> <b>Student comments:</b> For example like this</div>    \n"
   ]
  },
  {
   "cell_type": "markdown",
   "metadata": {},
   "source": [
    "<div style=\"border:solid green 2px; padding: 20px\">\n",
    "<b>Reviewer's comment v1</b>\n",
    "    \n",
    "<b>Overall Feedback</b> \n",
    "    \n",
    "Overall well done! I can see that a lot of effort has been made! Your project already looks really good, and you accomplished impressive results.\n",
    "\n",
    "However, there are some comments/areas left to fix that will help you to make your project even better:\n",
    "\n",
    "- Update data merge type.\n",
    "- Update data rounding for web-traffic. \n",
    "- Plot histograms and describe distributions. \n",
    "- Update hypotheses and interim conclusions. \n",
    "  \n",
    "And of course, if you have any questions along the way, remember that you can always reach out to your tutor for any clarification.\n",
    "</div>"
   ]
  },
  {
   "cell_type": "markdown",
   "metadata": {},
   "source": [
    "<div style=\"border:solid green 2px; padding: 20px\">\n",
    "<b>Reviewer's comment v2:</b>\n",
    "    \n",
    "<b>Overall Feedback</b> \n",
    "    \n",
    "Thank you for submitting your project with additional improvements! \n",
    "\n",
    "There is only one comment regarding hypotheses. I left an additional comment regarding that. Can you please check it?\n",
    "    \n",
    "And of course, if you have any questions along the way, remember that you can always reach out to your tutor for any clarification.\n",
    "    "
   ]
  },
  {
   "cell_type": "markdown",
   "metadata": {},
   "source": [
    "<div style=\"border:solid green 2px; padding: 20px\">\n",
    "<b>Reviewer's comment v3:</b>\n",
    "    \n",
    "<b>Overall Feedback</b> \n",
    "    \n",
    "Thank you for submitting your project with additional improvements! \n",
    "\n",
    "There are no critical issues left, so your project has been accepted. Wish you cool projects in the next sprints 🍀\n",
    "\n",
    "PS: As a last thing, I can recommend cool lectures on stat analysis here: https://www.youtube.com/playlist?list=PL2SOU6wwxB0uwwH80KTQ6ht66KWxbzTIo 🙌\n",
    "</div>"
   ]
  },
  {
   "cell_type": "markdown",
   "metadata": {},
   "source": [
    "# Which one is a better plan?\n",
    "\n",
    "You work as an analyst for the telecom operator Megaline. The company offers its clients two prepaid plans, Surf and Ultimate. The commercial department wants to know which of the plans brings in more revenue in order to adjust the advertising budget.\n",
    "\n",
    "You are going to carry out a preliminary analysis of the plans based on a relatively small client selection. You'll have the data on 500 Megaline clients: who the clients are, where they're from, which plan they use, and the number of calls they made and text messages they sent in 2018. Your job is to analyze the clients' behavior and determine which prepaid plan brings in more revenue."
   ]
  },
  {
   "cell_type": "markdown",
   "metadata": {},
   "source": [
    "[We've provided you with some commentary to guide your thinking as you complete this project. However, make sure to remove all the bracketed comments before submitting your project.]\n",
    "\n",
    "[Before you dive into analyzing your data, explain for yourself the purpose of the project and actions you plan to take.]\n",
    "\n",
    "[Please bear in mind that studying, amending, and analyzing data is an iterative process. It is normal to return to previous steps and correct/expand them to allow for further steps.]"
   ]
  },
  {
   "cell_type": "markdown",
   "metadata": {},
   "source": [
    "<div class=\"alert alert-block alert-success\">\n",
    "<b>Reviewer's comment v1</b>\n",
    " \n",
    "Great that you added additional information about the project goal and tasks."
   ]
  },
  {
   "cell_type": "markdown",
   "metadata": {},
   "source": [
    "## Initialization"
   ]
  },
  {
   "cell_type": "markdown",
   "metadata": {},
   "source": []
  },
  {
   "cell_type": "code",
   "execution_count": 1,
   "metadata": {},
   "outputs": [],
   "source": [
    "# Loading all the libraries\n",
    "import pandas as pd\n",
    "import numpy as np\n",
    "import matplotlib as plt\n",
    "\n"
   ]
  },
  {
   "cell_type": "markdown",
   "metadata": {},
   "source": [
    "## Load data"
   ]
  },
  {
   "cell_type": "markdown",
   "metadata": {},
   "source": []
  },
  {
   "cell_type": "code",
   "execution_count": 2,
   "metadata": {},
   "outputs": [],
   "source": [
    "# Load the data files into different DataFrames\n",
    "data_calls = pd.read_csv('/datasets/megaline_calls.csv')\n",
    "data_internet = pd.read_csv('/datasets/megaline_internet.csv')\n",
    "data_messages = pd.read_csv('/datasets/megaline_messages.csv')\n",
    "data_plans = pd.read_csv('/datasets/megaline_plans.csv')\n",
    "data_users = pd.read_csv('/datasets/megaline_users.csv')\n"
   ]
  },
  {
   "cell_type": "markdown",
   "metadata": {},
   "source": [
    "## Prepare the data"
   ]
  },
  {
   "cell_type": "markdown",
   "metadata": {},
   "source": [
    "[The data for this project is split into several tables. Explore each one to get an initial understanding of the data. Do necessary corrections to each table if necessary.]"
   ]
  },
  {
   "cell_type": "markdown",
   "metadata": {},
   "source": [
    "## Plans"
   ]
  },
  {
   "cell_type": "code",
   "execution_count": 3,
   "metadata": {},
   "outputs": [
    {
     "name": "stdout",
     "output_type": "stream",
     "text": [
      "<class 'pandas.core.frame.DataFrame'>\n",
      "RangeIndex: 2 entries, 0 to 1\n",
      "Data columns (total 8 columns):\n",
      " #   Column                 Non-Null Count  Dtype  \n",
      "---  ------                 --------------  -----  \n",
      " 0   messages_included      2 non-null      int64  \n",
      " 1   mb_per_month_included  2 non-null      int64  \n",
      " 2   minutes_included       2 non-null      int64  \n",
      " 3   usd_monthly_pay        2 non-null      int64  \n",
      " 4   usd_per_gb             2 non-null      int64  \n",
      " 5   usd_per_message        2 non-null      float64\n",
      " 6   usd_per_minute         2 non-null      float64\n",
      " 7   plan_name              2 non-null      object \n",
      "dtypes: float64(2), int64(5), object(1)\n",
      "memory usage: 256.0+ bytes\n"
     ]
    }
   ],
   "source": [
    "# Print the general/summary information about the plans' DataFrame\n",
    "data_plans.info()\n",
    "\n"
   ]
  },
  {
   "cell_type": "code",
   "execution_count": 4,
   "metadata": {},
   "outputs": [
    {
     "data": {
      "text/html": [
       "<div>\n",
       "<style scoped>\n",
       "    .dataframe tbody tr th:only-of-type {\n",
       "        vertical-align: middle;\n",
       "    }\n",
       "\n",
       "    .dataframe tbody tr th {\n",
       "        vertical-align: top;\n",
       "    }\n",
       "\n",
       "    .dataframe thead th {\n",
       "        text-align: right;\n",
       "    }\n",
       "</style>\n",
       "<table border=\"1\" class=\"dataframe\">\n",
       "  <thead>\n",
       "    <tr style=\"text-align: right;\">\n",
       "      <th></th>\n",
       "      <th>messages_included</th>\n",
       "      <th>mb_per_month_included</th>\n",
       "      <th>minutes_included</th>\n",
       "      <th>usd_monthly_pay</th>\n",
       "      <th>usd_per_gb</th>\n",
       "      <th>usd_per_message</th>\n",
       "      <th>usd_per_minute</th>\n",
       "      <th>plan_name</th>\n",
       "    </tr>\n",
       "  </thead>\n",
       "  <tbody>\n",
       "    <tr>\n",
       "      <th>0</th>\n",
       "      <td>50</td>\n",
       "      <td>15360</td>\n",
       "      <td>500</td>\n",
       "      <td>20</td>\n",
       "      <td>10</td>\n",
       "      <td>0.03</td>\n",
       "      <td>0.03</td>\n",
       "      <td>surf</td>\n",
       "    </tr>\n",
       "    <tr>\n",
       "      <th>1</th>\n",
       "      <td>1000</td>\n",
       "      <td>30720</td>\n",
       "      <td>3000</td>\n",
       "      <td>70</td>\n",
       "      <td>7</td>\n",
       "      <td>0.01</td>\n",
       "      <td>0.01</td>\n",
       "      <td>ultimate</td>\n",
       "    </tr>\n",
       "  </tbody>\n",
       "</table>\n",
       "</div>"
      ],
      "text/plain": [
       "   messages_included  mb_per_month_included  minutes_included  \\\n",
       "0                 50                  15360               500   \n",
       "1               1000                  30720              3000   \n",
       "\n",
       "   usd_monthly_pay  usd_per_gb  usd_per_message  usd_per_minute plan_name  \n",
       "0               20          10             0.03            0.03      surf  \n",
       "1               70           7             0.01            0.01  ultimate  "
      ]
     },
     "execution_count": 4,
     "metadata": {},
     "output_type": "execute_result"
    }
   ],
   "source": [
    "# Print a sample of data for plans\n",
    "data_plans.head()\n"
   ]
  },
  {
   "cell_type": "markdown",
   "metadata": {},
   "source": [
    "[Describe what you see and notice in the general information and the printed data sample for the above price of data. Are there any issues (inappropriate data types, missing data etc) that may need further investigation and changes? How that can be fixed?]"
   ]
  },
  {
   "cell_type": "markdown",
   "metadata": {},
   "source": [
    "<div class=\"alert alert-info\"; style=\"border-left: 7px solid blue\">\n",
    "<b>Student's comment</b>\n",
    " We will want to rename some of the columns for better clarity, and change the values from megabytes to gigabytes."
   ]
  },
  {
   "cell_type": "markdown",
   "metadata": {},
   "source": [
    " "
   ]
  },
  {
   "cell_type": "markdown",
   "metadata": {},
   "source": [
    "## Fix data"
   ]
  },
  {
   "cell_type": "markdown",
   "metadata": {},
   "source": [
    "[Fix obvious issues with the data given the initial observations.]"
   ]
  },
  {
   "cell_type": "code",
   "execution_count": 5,
   "metadata": {},
   "outputs": [],
   "source": [
    "column_plans_dict = {'messages_included' : 'messages',\n",
    "                     'mb_per_month_included' : 'gb_per_month',\n",
    "                     'minutes_included' : 'minutes',\n",
    "                    'usd_monthly_pay' : 'monthly_cost',\n",
    "                    'usd_per_gb' : 'extra_per_gb',\n",
    "                    'usd_per_message' : 'extra_per_message',\n",
    "                    'usd_per_minute' : 'extra_per_minute'}\n",
    "data_plans = data_plans.rename(columns=column_plans_dict)"
   ]
  },
  {
   "cell_type": "code",
   "execution_count": 6,
   "metadata": {},
   "outputs": [
    {
     "data": {
      "text/html": [
       "<div>\n",
       "<style scoped>\n",
       "    .dataframe tbody tr th:only-of-type {\n",
       "        vertical-align: middle;\n",
       "    }\n",
       "\n",
       "    .dataframe tbody tr th {\n",
       "        vertical-align: top;\n",
       "    }\n",
       "\n",
       "    .dataframe thead th {\n",
       "        text-align: right;\n",
       "    }\n",
       "</style>\n",
       "<table border=\"1\" class=\"dataframe\">\n",
       "  <thead>\n",
       "    <tr style=\"text-align: right;\">\n",
       "      <th></th>\n",
       "      <th>messages</th>\n",
       "      <th>gb_per_month</th>\n",
       "      <th>minutes</th>\n",
       "      <th>monthly_cost</th>\n",
       "      <th>extra_per_gb</th>\n",
       "      <th>extra_per_message</th>\n",
       "      <th>extra_per_minute</th>\n",
       "      <th>plan_name</th>\n",
       "    </tr>\n",
       "  </thead>\n",
       "  <tbody>\n",
       "    <tr>\n",
       "      <th>0</th>\n",
       "      <td>50</td>\n",
       "      <td>15</td>\n",
       "      <td>500</td>\n",
       "      <td>20</td>\n",
       "      <td>10</td>\n",
       "      <td>0.03</td>\n",
       "      <td>0.03</td>\n",
       "      <td>surf</td>\n",
       "    </tr>\n",
       "    <tr>\n",
       "      <th>1</th>\n",
       "      <td>1000</td>\n",
       "      <td>30</td>\n",
       "      <td>3000</td>\n",
       "      <td>70</td>\n",
       "      <td>7</td>\n",
       "      <td>0.01</td>\n",
       "      <td>0.01</td>\n",
       "      <td>ultimate</td>\n",
       "    </tr>\n",
       "  </tbody>\n",
       "</table>\n",
       "</div>"
      ],
      "text/plain": [
       "   messages  gb_per_month  minutes  monthly_cost  extra_per_gb  \\\n",
       "0        50            15      500            20            10   \n",
       "1      1000            30     3000            70             7   \n",
       "\n",
       "   extra_per_message  extra_per_minute plan_name  \n",
       "0               0.03              0.03      surf  \n",
       "1               0.01              0.01  ultimate  "
      ]
     },
     "execution_count": 6,
     "metadata": {},
     "output_type": "execute_result"
    }
   ],
   "source": [
    "data_plans = data_plans.replace(15360, 15).replace(30720, 30)\n",
    "data_plans"
   ]
  },
  {
   "cell_type": "markdown",
   "metadata": {},
   "source": [
    "## Enrich data"
   ]
  },
  {
   "cell_type": "markdown",
   "metadata": {},
   "source": [
    "[Add additional factors to the data if you believe they might be useful.]"
   ]
  },
  {
   "cell_type": "code",
   "execution_count": 7,
   "metadata": {},
   "outputs": [
    {
     "name": "stdout",
     "output_type": "stream",
     "text": [
      "<class 'pandas.core.frame.DataFrame'>\n",
      "RangeIndex: 2 entries, 0 to 1\n",
      "Data columns (total 8 columns):\n",
      " #   Column             Non-Null Count  Dtype  \n",
      "---  ------             --------------  -----  \n",
      " 0   messages           2 non-null      int64  \n",
      " 1   gb_per_month       2 non-null      int64  \n",
      " 2   minutes            2 non-null      int64  \n",
      " 3   monthly_cost       2 non-null      int64  \n",
      " 4   extra_per_gb       2 non-null      int64  \n",
      " 5   extra_per_message  2 non-null      float64\n",
      " 6   extra_per_minute   2 non-null      float64\n",
      " 7   plan_name          2 non-null      object \n",
      "dtypes: float64(2), int64(5), object(1)\n",
      "memory usage: 256.0+ bytes\n"
     ]
    }
   ],
   "source": [
    "data_plans.info()"
   ]
  },
  {
   "cell_type": "markdown",
   "metadata": {},
   "source": [
    "## Users"
   ]
  },
  {
   "cell_type": "code",
   "execution_count": 8,
   "metadata": {},
   "outputs": [
    {
     "name": "stdout",
     "output_type": "stream",
     "text": [
      "<class 'pandas.core.frame.DataFrame'>\n",
      "RangeIndex: 500 entries, 0 to 499\n",
      "Data columns (total 8 columns):\n",
      " #   Column      Non-Null Count  Dtype \n",
      "---  ------      --------------  ----- \n",
      " 0   user_id     500 non-null    int64 \n",
      " 1   first_name  500 non-null    object\n",
      " 2   last_name   500 non-null    object\n",
      " 3   age         500 non-null    int64 \n",
      " 4   city        500 non-null    object\n",
      " 5   reg_date    500 non-null    object\n",
      " 6   plan        500 non-null    object\n",
      " 7   churn_date  34 non-null     object\n",
      "dtypes: int64(2), object(6)\n",
      "memory usage: 31.4+ KB\n"
     ]
    }
   ],
   "source": [
    "# Print the general/summary information about the users' DataFrame\n",
    "data_users.info()"
   ]
  },
  {
   "cell_type": "code",
   "execution_count": 9,
   "metadata": {},
   "outputs": [
    {
     "data": {
      "text/html": [
       "<div>\n",
       "<style scoped>\n",
       "    .dataframe tbody tr th:only-of-type {\n",
       "        vertical-align: middle;\n",
       "    }\n",
       "\n",
       "    .dataframe tbody tr th {\n",
       "        vertical-align: top;\n",
       "    }\n",
       "\n",
       "    .dataframe thead th {\n",
       "        text-align: right;\n",
       "    }\n",
       "</style>\n",
       "<table border=\"1\" class=\"dataframe\">\n",
       "  <thead>\n",
       "    <tr style=\"text-align: right;\">\n",
       "      <th></th>\n",
       "      <th>user_id</th>\n",
       "      <th>first_name</th>\n",
       "      <th>last_name</th>\n",
       "      <th>age</th>\n",
       "      <th>city</th>\n",
       "      <th>reg_date</th>\n",
       "      <th>plan</th>\n",
       "      <th>churn_date</th>\n",
       "    </tr>\n",
       "  </thead>\n",
       "  <tbody>\n",
       "    <tr>\n",
       "      <th>0</th>\n",
       "      <td>1000</td>\n",
       "      <td>Anamaria</td>\n",
       "      <td>Bauer</td>\n",
       "      <td>45</td>\n",
       "      <td>Atlanta-Sandy Springs-Roswell, GA MSA</td>\n",
       "      <td>2018-12-24</td>\n",
       "      <td>ultimate</td>\n",
       "      <td>NaN</td>\n",
       "    </tr>\n",
       "    <tr>\n",
       "      <th>1</th>\n",
       "      <td>1001</td>\n",
       "      <td>Mickey</td>\n",
       "      <td>Wilkerson</td>\n",
       "      <td>28</td>\n",
       "      <td>Seattle-Tacoma-Bellevue, WA MSA</td>\n",
       "      <td>2018-08-13</td>\n",
       "      <td>surf</td>\n",
       "      <td>NaN</td>\n",
       "    </tr>\n",
       "    <tr>\n",
       "      <th>2</th>\n",
       "      <td>1002</td>\n",
       "      <td>Carlee</td>\n",
       "      <td>Hoffman</td>\n",
       "      <td>36</td>\n",
       "      <td>Las Vegas-Henderson-Paradise, NV MSA</td>\n",
       "      <td>2018-10-21</td>\n",
       "      <td>surf</td>\n",
       "      <td>NaN</td>\n",
       "    </tr>\n",
       "    <tr>\n",
       "      <th>3</th>\n",
       "      <td>1003</td>\n",
       "      <td>Reynaldo</td>\n",
       "      <td>Jenkins</td>\n",
       "      <td>52</td>\n",
       "      <td>Tulsa, OK MSA</td>\n",
       "      <td>2018-01-28</td>\n",
       "      <td>surf</td>\n",
       "      <td>NaN</td>\n",
       "    </tr>\n",
       "    <tr>\n",
       "      <th>4</th>\n",
       "      <td>1004</td>\n",
       "      <td>Leonila</td>\n",
       "      <td>Thompson</td>\n",
       "      <td>40</td>\n",
       "      <td>Seattle-Tacoma-Bellevue, WA MSA</td>\n",
       "      <td>2018-05-23</td>\n",
       "      <td>surf</td>\n",
       "      <td>NaN</td>\n",
       "    </tr>\n",
       "    <tr>\n",
       "      <th>5</th>\n",
       "      <td>1005</td>\n",
       "      <td>Livia</td>\n",
       "      <td>Shields</td>\n",
       "      <td>31</td>\n",
       "      <td>Dallas-Fort Worth-Arlington, TX MSA</td>\n",
       "      <td>2018-11-29</td>\n",
       "      <td>surf</td>\n",
       "      <td>NaN</td>\n",
       "    </tr>\n",
       "    <tr>\n",
       "      <th>6</th>\n",
       "      <td>1006</td>\n",
       "      <td>Jesusa</td>\n",
       "      <td>Bradford</td>\n",
       "      <td>73</td>\n",
       "      <td>San Francisco-Oakland-Berkeley, CA MSA</td>\n",
       "      <td>2018-11-27</td>\n",
       "      <td>ultimate</td>\n",
       "      <td>2018-12-18</td>\n",
       "    </tr>\n",
       "    <tr>\n",
       "      <th>7</th>\n",
       "      <td>1007</td>\n",
       "      <td>Eusebio</td>\n",
       "      <td>Welch</td>\n",
       "      <td>42</td>\n",
       "      <td>Grand Rapids-Kentwood, MI MSA</td>\n",
       "      <td>2018-07-11</td>\n",
       "      <td>surf</td>\n",
       "      <td>NaN</td>\n",
       "    </tr>\n",
       "    <tr>\n",
       "      <th>8</th>\n",
       "      <td>1008</td>\n",
       "      <td>Emely</td>\n",
       "      <td>Hoffman</td>\n",
       "      <td>53</td>\n",
       "      <td>Orlando-Kissimmee-Sanford, FL MSA</td>\n",
       "      <td>2018-08-03</td>\n",
       "      <td>ultimate</td>\n",
       "      <td>NaN</td>\n",
       "    </tr>\n",
       "    <tr>\n",
       "      <th>9</th>\n",
       "      <td>1009</td>\n",
       "      <td>Gerry</td>\n",
       "      <td>Little</td>\n",
       "      <td>19</td>\n",
       "      <td>San Jose-Sunnyvale-Santa Clara, CA MSA</td>\n",
       "      <td>2018-04-22</td>\n",
       "      <td>surf</td>\n",
       "      <td>NaN</td>\n",
       "    </tr>\n",
       "  </tbody>\n",
       "</table>\n",
       "</div>"
      ],
      "text/plain": [
       "   user_id first_name  last_name  age                                    city  \\\n",
       "0     1000   Anamaria      Bauer   45   Atlanta-Sandy Springs-Roswell, GA MSA   \n",
       "1     1001     Mickey  Wilkerson   28         Seattle-Tacoma-Bellevue, WA MSA   \n",
       "2     1002     Carlee    Hoffman   36    Las Vegas-Henderson-Paradise, NV MSA   \n",
       "3     1003   Reynaldo    Jenkins   52                           Tulsa, OK MSA   \n",
       "4     1004    Leonila   Thompson   40         Seattle-Tacoma-Bellevue, WA MSA   \n",
       "5     1005      Livia    Shields   31     Dallas-Fort Worth-Arlington, TX MSA   \n",
       "6     1006     Jesusa   Bradford   73  San Francisco-Oakland-Berkeley, CA MSA   \n",
       "7     1007    Eusebio      Welch   42           Grand Rapids-Kentwood, MI MSA   \n",
       "8     1008      Emely    Hoffman   53       Orlando-Kissimmee-Sanford, FL MSA   \n",
       "9     1009      Gerry     Little   19  San Jose-Sunnyvale-Santa Clara, CA MSA   \n",
       "\n",
       "     reg_date      plan  churn_date  \n",
       "0  2018-12-24  ultimate         NaN  \n",
       "1  2018-08-13      surf         NaN  \n",
       "2  2018-10-21      surf         NaN  \n",
       "3  2018-01-28      surf         NaN  \n",
       "4  2018-05-23      surf         NaN  \n",
       "5  2018-11-29      surf         NaN  \n",
       "6  2018-11-27  ultimate  2018-12-18  \n",
       "7  2018-07-11      surf         NaN  \n",
       "8  2018-08-03  ultimate         NaN  \n",
       "9  2018-04-22      surf         NaN  "
      ]
     },
     "execution_count": 9,
     "metadata": {},
     "output_type": "execute_result"
    }
   ],
   "source": [
    "# Print a sample of data for users\n",
    "data_users.head(10)"
   ]
  },
  {
   "cell_type": "markdown",
   "metadata": {},
   "source": [
    "[Describe what you see and notice in the general information and the printed data sample for the above price of data. Are there any issues (inappropriate data types, missing data etc) that may need further investigation and changes? How that can be fixed?]"
   ]
  },
  {
   "cell_type": "markdown",
   "metadata": {},
   "source": [
    "<div class=\"alert alert-info\"; style=\"border-left: 7px solid blue\">\n",
    "<b>Student's comment</b>\n",
    "    We see that our columns with dates are of the object type. We will change them to datetime objects."
   ]
  },
  {
   "cell_type": "markdown",
   "metadata": {},
   "source": [
    " "
   ]
  },
  {
   "cell_type": "markdown",
   "metadata": {},
   "source": [
    "### Fix Data"
   ]
  },
  {
   "cell_type": "markdown",
   "metadata": {},
   "source": [
    "[Fix obvious issues with the data given the initial observations.]"
   ]
  },
  {
   "cell_type": "code",
   "execution_count": 10,
   "metadata": {},
   "outputs": [
    {
     "name": "stdout",
     "output_type": "stream",
     "text": [
      "<class 'pandas.core.frame.DataFrame'>\n",
      "RangeIndex: 500 entries, 0 to 499\n",
      "Data columns (total 8 columns):\n",
      " #   Column      Non-Null Count  Dtype         \n",
      "---  ------      --------------  -----         \n",
      " 0   user_id     500 non-null    int64         \n",
      " 1   first_name  500 non-null    object        \n",
      " 2   last_name   500 non-null    object        \n",
      " 3   age         500 non-null    int64         \n",
      " 4   city        500 non-null    object        \n",
      " 5   reg_date    500 non-null    datetime64[ns]\n",
      " 6   plan        500 non-null    object        \n",
      " 7   churn_date  34 non-null     datetime64[ns]\n",
      "dtypes: datetime64[ns](2), int64(2), object(4)\n",
      "memory usage: 31.4+ KB\n"
     ]
    }
   ],
   "source": [
    "data_users['reg_date'] = pd.to_datetime(data_users['reg_date'], format='%Y-%m-%d')\n",
    "data_users['churn_date'] = pd.to_datetime(data_users['churn_date'], format='%Y-%m-%d')\n",
    "data_users.info()"
   ]
  },
  {
   "cell_type": "markdown",
   "metadata": {},
   "source": [
    "### Enrich Data"
   ]
  },
  {
   "cell_type": "markdown",
   "metadata": {},
   "source": [
    "[Add additional factors to the data if you believe they might be useful.]"
   ]
  },
  {
   "cell_type": "code",
   "execution_count": 11,
   "metadata": {},
   "outputs": [
    {
     "data": {
      "text/plain": [
       "34"
      ]
     },
     "execution_count": 11,
     "metadata": {},
     "output_type": "execute_result"
    }
   ],
   "source": [
    "data_users['churn_date'].value_counts().sum()"
   ]
  },
  {
   "cell_type": "markdown",
   "metadata": {},
   "source": [
    "<div class=\"alert alert-info\"; style=\"border-left: 7px solid blue\">\n",
    "<b>Student's comment</b>\n",
    "    We see that we have a total of 34 entries with a datetime value in the churn_date column. This means that all NaN values in this column are contracts that are still active. Therefore, we will not try and fill these missing values."
   ]
  },
  {
   "cell_type": "markdown",
   "metadata": {},
   "source": [
    "## Calls"
   ]
  },
  {
   "cell_type": "code",
   "execution_count": 12,
   "metadata": {},
   "outputs": [
    {
     "name": "stdout",
     "output_type": "stream",
     "text": [
      "<class 'pandas.core.frame.DataFrame'>\n",
      "RangeIndex: 137735 entries, 0 to 137734\n",
      "Data columns (total 4 columns):\n",
      " #   Column     Non-Null Count   Dtype  \n",
      "---  ------     --------------   -----  \n",
      " 0   id         137735 non-null  object \n",
      " 1   user_id    137735 non-null  int64  \n",
      " 2   call_date  137735 non-null  object \n",
      " 3   duration   137735 non-null  float64\n",
      "dtypes: float64(1), int64(1), object(2)\n",
      "memory usage: 4.2+ MB\n"
     ]
    }
   ],
   "source": [
    "# Print the general/summary information about the calls' DataFrame\n",
    "data_calls.info()"
   ]
  },
  {
   "cell_type": "code",
   "execution_count": 13,
   "metadata": {},
   "outputs": [
    {
     "data": {
      "text/html": [
       "<div>\n",
       "<style scoped>\n",
       "    .dataframe tbody tr th:only-of-type {\n",
       "        vertical-align: middle;\n",
       "    }\n",
       "\n",
       "    .dataframe tbody tr th {\n",
       "        vertical-align: top;\n",
       "    }\n",
       "\n",
       "    .dataframe thead th {\n",
       "        text-align: right;\n",
       "    }\n",
       "</style>\n",
       "<table border=\"1\" class=\"dataframe\">\n",
       "  <thead>\n",
       "    <tr style=\"text-align: right;\">\n",
       "      <th></th>\n",
       "      <th>id</th>\n",
       "      <th>user_id</th>\n",
       "      <th>call_date</th>\n",
       "      <th>duration</th>\n",
       "    </tr>\n",
       "  </thead>\n",
       "  <tbody>\n",
       "    <tr>\n",
       "      <th>0</th>\n",
       "      <td>1000_93</td>\n",
       "      <td>1000</td>\n",
       "      <td>2018-12-27</td>\n",
       "      <td>8.52</td>\n",
       "    </tr>\n",
       "    <tr>\n",
       "      <th>1</th>\n",
       "      <td>1000_145</td>\n",
       "      <td>1000</td>\n",
       "      <td>2018-12-27</td>\n",
       "      <td>13.66</td>\n",
       "    </tr>\n",
       "    <tr>\n",
       "      <th>2</th>\n",
       "      <td>1000_247</td>\n",
       "      <td>1000</td>\n",
       "      <td>2018-12-27</td>\n",
       "      <td>14.48</td>\n",
       "    </tr>\n",
       "    <tr>\n",
       "      <th>3</th>\n",
       "      <td>1000_309</td>\n",
       "      <td>1000</td>\n",
       "      <td>2018-12-28</td>\n",
       "      <td>5.76</td>\n",
       "    </tr>\n",
       "    <tr>\n",
       "      <th>4</th>\n",
       "      <td>1000_380</td>\n",
       "      <td>1000</td>\n",
       "      <td>2018-12-30</td>\n",
       "      <td>4.22</td>\n",
       "    </tr>\n",
       "    <tr>\n",
       "      <th>5</th>\n",
       "      <td>1000_388</td>\n",
       "      <td>1000</td>\n",
       "      <td>2018-12-31</td>\n",
       "      <td>2.20</td>\n",
       "    </tr>\n",
       "    <tr>\n",
       "      <th>6</th>\n",
       "      <td>1000_510</td>\n",
       "      <td>1000</td>\n",
       "      <td>2018-12-27</td>\n",
       "      <td>5.75</td>\n",
       "    </tr>\n",
       "    <tr>\n",
       "      <th>7</th>\n",
       "      <td>1000_521</td>\n",
       "      <td>1000</td>\n",
       "      <td>2018-12-28</td>\n",
       "      <td>14.18</td>\n",
       "    </tr>\n",
       "    <tr>\n",
       "      <th>8</th>\n",
       "      <td>1000_530</td>\n",
       "      <td>1000</td>\n",
       "      <td>2018-12-28</td>\n",
       "      <td>5.77</td>\n",
       "    </tr>\n",
       "    <tr>\n",
       "      <th>9</th>\n",
       "      <td>1000_544</td>\n",
       "      <td>1000</td>\n",
       "      <td>2018-12-26</td>\n",
       "      <td>4.40</td>\n",
       "    </tr>\n",
       "  </tbody>\n",
       "</table>\n",
       "</div>"
      ],
      "text/plain": [
       "         id  user_id   call_date  duration\n",
       "0   1000_93     1000  2018-12-27      8.52\n",
       "1  1000_145     1000  2018-12-27     13.66\n",
       "2  1000_247     1000  2018-12-27     14.48\n",
       "3  1000_309     1000  2018-12-28      5.76\n",
       "4  1000_380     1000  2018-12-30      4.22\n",
       "5  1000_388     1000  2018-12-31      2.20\n",
       "6  1000_510     1000  2018-12-27      5.75\n",
       "7  1000_521     1000  2018-12-28     14.18\n",
       "8  1000_530     1000  2018-12-28      5.77\n",
       "9  1000_544     1000  2018-12-26      4.40"
      ]
     },
     "execution_count": 13,
     "metadata": {},
     "output_type": "execute_result"
    }
   ],
   "source": [
    "# Print a sample of data for calls\n",
    "data_calls.head(10)"
   ]
  },
  {
   "cell_type": "markdown",
   "metadata": {},
   "source": [
    "[Describe what you see and notice in the general information and the printed data sample for the above price of data. Are there any issues (inappropriate data types, missing data etc) that may need further investigation and changes? How that can be fixed?]"
   ]
  },
  {
   "cell_type": "markdown",
   "metadata": {},
   "source": [
    " "
   ]
  },
  {
   "cell_type": "markdown",
   "metadata": {},
   "source": [
    "### Fix data"
   ]
  },
  {
   "cell_type": "markdown",
   "metadata": {},
   "source": [
    "[Fix obvious issues with the data given the initial observations.]"
   ]
  },
  {
   "cell_type": "markdown",
   "metadata": {},
   "source": [
    "<div class=\"alert alert-info\"; style=\"border-left: 7px solid blue\">\n",
    "<b>Student's comment</b>\n",
    "    As was detailed in the project description, each individual call is rounded up. Therefore, we will round up all the values in the duration column, and change the type of the column from float64 to int64."
   ]
  },
  {
   "cell_type": "code",
   "execution_count": 14,
   "metadata": {},
   "outputs": [
    {
     "name": "stdout",
     "output_type": "stream",
     "text": [
      "<class 'pandas.core.frame.DataFrame'>\n",
      "RangeIndex: 137735 entries, 0 to 137734\n",
      "Data columns (total 5 columns):\n",
      " #   Column     Non-Null Count   Dtype         \n",
      "---  ------     --------------   -----         \n",
      " 0   call_id    137735 non-null  object        \n",
      " 1   user_id    137735 non-null  int64         \n",
      " 2   call_date  137735 non-null  datetime64[ns]\n",
      " 3   duration   137735 non-null  int64         \n",
      " 4   month      137735 non-null  int64         \n",
      "dtypes: datetime64[ns](1), int64(3), object(1)\n",
      "memory usage: 5.3+ MB\n",
      "         call_id  user_id  call_date  duration  month\n",
      "0        1000_93     1000 2018-12-27         9     12\n",
      "1       1000_145     1000 2018-12-27        14     12\n",
      "2       1000_247     1000 2018-12-27        15     12\n",
      "3       1000_309     1000 2018-12-28         6     12\n",
      "4       1000_380     1000 2018-12-30         5     12\n",
      "...          ...      ...        ...       ...    ...\n",
      "137730  1499_199     1499 2018-11-21         9     11\n",
      "137731  1499_200     1499 2018-10-20        11     10\n",
      "137732  1499_201     1499 2018-09-21         9      9\n",
      "137733  1499_202     1499 2018-10-10         1     10\n",
      "137734  1499_203     1499 2018-12-29        14     12\n",
      "\n",
      "[137735 rows x 5 columns]\n"
     ]
    }
   ],
   "source": [
    "data_calls['call_date'] = pd.to_datetime(data_calls['call_date'], format='%Y-%m-%d')\n",
    "replace_calls = {'id' : 'call_id'}\n",
    "data_calls = data_calls.rename(columns=replace_calls)\n",
    "data_calls['duration'] = data_calls['duration'].apply(np.ceil)\n",
    "data_calls['duration'] = data_calls['duration'].astype('int')\n",
    "data_calls['month'] = data_calls['call_date'].dt.month\n",
    "data_calls.info()\n",
    "print(data_calls)\n",
    "#data_plans"
   ]
  },
  {
   "cell_type": "markdown",
   "metadata": {},
   "source": [
    "<div class=\"alert alert-block alert-success\">\n",
    "<b>Reviewer's comment v1:</b>\n",
    " \n",
    "Great job! This function by the way also works without `apply` which makes code shorter and faster.\n",
    "\n",
    "   ```\n",
    "calls['duration'] = np.ceil(calls['duration'])\n",
    "```"
   ]
  },
  {
   "cell_type": "markdown",
   "metadata": {},
   "source": [
    "### Enrich data"
   ]
  },
  {
   "cell_type": "markdown",
   "metadata": {},
   "source": [
    "[Add additional factors to the data if you believe they might be useful.]"
   ]
  },
  {
   "cell_type": "code",
   "execution_count": null,
   "metadata": {},
   "outputs": [],
   "source": []
  },
  {
   "cell_type": "markdown",
   "metadata": {},
   "source": [
    "## Messages"
   ]
  },
  {
   "cell_type": "code",
   "execution_count": 15,
   "metadata": {},
   "outputs": [
    {
     "name": "stdout",
     "output_type": "stream",
     "text": [
      "<class 'pandas.core.frame.DataFrame'>\n",
      "RangeIndex: 76051 entries, 0 to 76050\n",
      "Data columns (total 3 columns):\n",
      " #   Column        Non-Null Count  Dtype \n",
      "---  ------        --------------  ----- \n",
      " 0   id            76051 non-null  object\n",
      " 1   user_id       76051 non-null  int64 \n",
      " 2   message_date  76051 non-null  object\n",
      "dtypes: int64(1), object(2)\n",
      "memory usage: 1.7+ MB\n"
     ]
    }
   ],
   "source": [
    "# Print the general/summary information about the messages' DataFrame\n",
    "data_messages.info()"
   ]
  },
  {
   "cell_type": "code",
   "execution_count": 16,
   "metadata": {},
   "outputs": [
    {
     "name": "stdout",
     "output_type": "stream",
     "text": [
      "         id  user_id message_date\n",
      "0  1000_125     1000   2018-12-27\n",
      "1  1000_160     1000   2018-12-31\n",
      "2  1000_223     1000   2018-12-31\n",
      "3  1000_251     1000   2018-12-27\n",
      "4  1000_255     1000   2018-12-26\n",
      "5  1000_346     1000   2018-12-29\n",
      "6  1000_386     1000   2018-12-30\n",
      "7  1000_413     1000   2018-12-31\n",
      "8  1000_502     1000   2018-12-27\n",
      "9  1000_525     1000   2018-12-28\n"
     ]
    },
    {
     "data": {
      "text/html": [
       "<div>\n",
       "<style scoped>\n",
       "    .dataframe tbody tr th:only-of-type {\n",
       "        vertical-align: middle;\n",
       "    }\n",
       "\n",
       "    .dataframe tbody tr th {\n",
       "        vertical-align: top;\n",
       "    }\n",
       "\n",
       "    .dataframe thead th {\n",
       "        text-align: right;\n",
       "    }\n",
       "</style>\n",
       "<table border=\"1\" class=\"dataframe\">\n",
       "  <thead>\n",
       "    <tr style=\"text-align: right;\">\n",
       "      <th></th>\n",
       "      <th>id</th>\n",
       "      <th>user_id</th>\n",
       "      <th>message_date</th>\n",
       "    </tr>\n",
       "  </thead>\n",
       "  <tbody>\n",
       "    <tr>\n",
       "      <th>0</th>\n",
       "      <td>1000_125</td>\n",
       "      <td>1000</td>\n",
       "      <td>2018-12-27</td>\n",
       "    </tr>\n",
       "    <tr>\n",
       "      <th>1</th>\n",
       "      <td>1000_160</td>\n",
       "      <td>1000</td>\n",
       "      <td>2018-12-31</td>\n",
       "    </tr>\n",
       "    <tr>\n",
       "      <th>2</th>\n",
       "      <td>1000_223</td>\n",
       "      <td>1000</td>\n",
       "      <td>2018-12-31</td>\n",
       "    </tr>\n",
       "    <tr>\n",
       "      <th>3</th>\n",
       "      <td>1000_251</td>\n",
       "      <td>1000</td>\n",
       "      <td>2018-12-27</td>\n",
       "    </tr>\n",
       "    <tr>\n",
       "      <th>4</th>\n",
       "      <td>1000_255</td>\n",
       "      <td>1000</td>\n",
       "      <td>2018-12-26</td>\n",
       "    </tr>\n",
       "    <tr>\n",
       "      <th>...</th>\n",
       "      <td>...</td>\n",
       "      <td>...</td>\n",
       "      <td>...</td>\n",
       "    </tr>\n",
       "    <tr>\n",
       "      <th>76046</th>\n",
       "      <td>1497_526</td>\n",
       "      <td>1497</td>\n",
       "      <td>2018-12-24</td>\n",
       "    </tr>\n",
       "    <tr>\n",
       "      <th>76047</th>\n",
       "      <td>1497_536</td>\n",
       "      <td>1497</td>\n",
       "      <td>2018-12-24</td>\n",
       "    </tr>\n",
       "    <tr>\n",
       "      <th>76048</th>\n",
       "      <td>1497_547</td>\n",
       "      <td>1497</td>\n",
       "      <td>2018-12-31</td>\n",
       "    </tr>\n",
       "    <tr>\n",
       "      <th>76049</th>\n",
       "      <td>1497_558</td>\n",
       "      <td>1497</td>\n",
       "      <td>2018-12-24</td>\n",
       "    </tr>\n",
       "    <tr>\n",
       "      <th>76050</th>\n",
       "      <td>1497_613</td>\n",
       "      <td>1497</td>\n",
       "      <td>2018-12-23</td>\n",
       "    </tr>\n",
       "  </tbody>\n",
       "</table>\n",
       "<p>76051 rows × 3 columns</p>\n",
       "</div>"
      ],
      "text/plain": [
       "             id  user_id message_date\n",
       "0      1000_125     1000   2018-12-27\n",
       "1      1000_160     1000   2018-12-31\n",
       "2      1000_223     1000   2018-12-31\n",
       "3      1000_251     1000   2018-12-27\n",
       "4      1000_255     1000   2018-12-26\n",
       "...         ...      ...          ...\n",
       "76046  1497_526     1497   2018-12-24\n",
       "76047  1497_536     1497   2018-12-24\n",
       "76048  1497_547     1497   2018-12-31\n",
       "76049  1497_558     1497   2018-12-24\n",
       "76050  1497_613     1497   2018-12-23\n",
       "\n",
       "[76051 rows x 3 columns]"
      ]
     },
     "execution_count": 16,
     "metadata": {},
     "output_type": "execute_result"
    }
   ],
   "source": [
    "# Print a sample of data for messages\n",
    "print(data_messages.head(10))\n",
    "\n",
    "data_messages\n"
   ]
  },
  {
   "cell_type": "markdown",
   "metadata": {},
   "source": [
    "[Describe what you see and notice in the general information and the printed data sample for the above price of data. Are there any issues (inappropriate data types, missing data etc) that may need further investigation and changes? How that can be fixed?]"
   ]
  },
  {
   "cell_type": "markdown",
   "metadata": {},
   "source": [
    " "
   ]
  },
  {
   "cell_type": "markdown",
   "metadata": {},
   "source": [
    "### Fix data"
   ]
  },
  {
   "cell_type": "markdown",
   "metadata": {},
   "source": [
    "[Fix obvious issues with the data given the initial observations.]"
   ]
  },
  {
   "cell_type": "code",
   "execution_count": 17,
   "metadata": {},
   "outputs": [
    {
     "name": "stdout",
     "output_type": "stream",
     "text": [
      "<class 'pandas.core.frame.DataFrame'>\n",
      "RangeIndex: 76051 entries, 0 to 76050\n",
      "Data columns (total 4 columns):\n",
      " #   Column        Non-Null Count  Dtype         \n",
      "---  ------        --------------  -----         \n",
      " 0   message_id    76051 non-null  object        \n",
      " 1   user_id       76051 non-null  int64         \n",
      " 2   message_date  76051 non-null  datetime64[ns]\n",
      " 3   month         76051 non-null  int64         \n",
      "dtypes: datetime64[ns](1), int64(2), object(1)\n",
      "memory usage: 2.3+ MB\n"
     ]
    }
   ],
   "source": [
    "data_messages['message_date'] = pd.to_datetime(data_messages['message_date'], format='%Y-%m-%d')\n",
    "replace_messages = {'id' : 'message_id'}\n",
    "data_messages = data_messages.rename(columns=replace_messages)\n",
    "data_messages['month'] = data_messages['message_date'].dt.month\n",
    "data_messages.info()"
   ]
  },
  {
   "cell_type": "markdown",
   "metadata": {},
   "source": [
    "<div class=\"alert alert-block alert-warning\">\n",
    "<b>Reviewer's comment v1:</b>\n",
    "    \n",
    "Everything is correct here but usually, it is always helpful to double-check whether we indeed have data within one year/time period. If not then selecting and aggregating data by the month number will cause an issue. So here it is safer to use datetime64[M] which provides a complete date. "
   ]
  },
  {
   "cell_type": "markdown",
   "metadata": {},
   "source": [
    "### Enrich data"
   ]
  },
  {
   "cell_type": "markdown",
   "metadata": {},
   "source": [
    "[Add additional factors to the data if you believe they might be useful.]"
   ]
  },
  {
   "cell_type": "code",
   "execution_count": null,
   "metadata": {},
   "outputs": [],
   "source": []
  },
  {
   "cell_type": "markdown",
   "metadata": {},
   "source": [
    "## Internet"
   ]
  },
  {
   "cell_type": "code",
   "execution_count": 18,
   "metadata": {},
   "outputs": [
    {
     "name": "stdout",
     "output_type": "stream",
     "text": [
      "<class 'pandas.core.frame.DataFrame'>\n",
      "RangeIndex: 104825 entries, 0 to 104824\n",
      "Data columns (total 4 columns):\n",
      " #   Column        Non-Null Count   Dtype  \n",
      "---  ------        --------------   -----  \n",
      " 0   id            104825 non-null  object \n",
      " 1   user_id       104825 non-null  int64  \n",
      " 2   session_date  104825 non-null  object \n",
      " 3   mb_used       104825 non-null  float64\n",
      "dtypes: float64(1), int64(1), object(2)\n",
      "memory usage: 3.2+ MB\n"
     ]
    },
    {
     "data": {
      "text/html": [
       "<div>\n",
       "<style scoped>\n",
       "    .dataframe tbody tr th:only-of-type {\n",
       "        vertical-align: middle;\n",
       "    }\n",
       "\n",
       "    .dataframe tbody tr th {\n",
       "        vertical-align: top;\n",
       "    }\n",
       "\n",
       "    .dataframe thead th {\n",
       "        text-align: right;\n",
       "    }\n",
       "</style>\n",
       "<table border=\"1\" class=\"dataframe\">\n",
       "  <thead>\n",
       "    <tr style=\"text-align: right;\">\n",
       "      <th></th>\n",
       "      <th>id</th>\n",
       "      <th>user_id</th>\n",
       "      <th>session_date</th>\n",
       "      <th>mb_used</th>\n",
       "    </tr>\n",
       "  </thead>\n",
       "  <tbody>\n",
       "    <tr>\n",
       "      <th>0</th>\n",
       "      <td>1000_13</td>\n",
       "      <td>1000</td>\n",
       "      <td>2018-12-29</td>\n",
       "      <td>89.86</td>\n",
       "    </tr>\n",
       "    <tr>\n",
       "      <th>1</th>\n",
       "      <td>1000_204</td>\n",
       "      <td>1000</td>\n",
       "      <td>2018-12-31</td>\n",
       "      <td>0.00</td>\n",
       "    </tr>\n",
       "    <tr>\n",
       "      <th>2</th>\n",
       "      <td>1000_379</td>\n",
       "      <td>1000</td>\n",
       "      <td>2018-12-28</td>\n",
       "      <td>660.40</td>\n",
       "    </tr>\n",
       "    <tr>\n",
       "      <th>3</th>\n",
       "      <td>1000_413</td>\n",
       "      <td>1000</td>\n",
       "      <td>2018-12-26</td>\n",
       "      <td>270.99</td>\n",
       "    </tr>\n",
       "    <tr>\n",
       "      <th>4</th>\n",
       "      <td>1000_442</td>\n",
       "      <td>1000</td>\n",
       "      <td>2018-12-27</td>\n",
       "      <td>880.22</td>\n",
       "    </tr>\n",
       "    <tr>\n",
       "      <th>...</th>\n",
       "      <td>...</td>\n",
       "      <td>...</td>\n",
       "      <td>...</td>\n",
       "      <td>...</td>\n",
       "    </tr>\n",
       "    <tr>\n",
       "      <th>104820</th>\n",
       "      <td>1499_215</td>\n",
       "      <td>1499</td>\n",
       "      <td>2018-10-20</td>\n",
       "      <td>218.06</td>\n",
       "    </tr>\n",
       "    <tr>\n",
       "      <th>104821</th>\n",
       "      <td>1499_216</td>\n",
       "      <td>1499</td>\n",
       "      <td>2018-12-30</td>\n",
       "      <td>304.72</td>\n",
       "    </tr>\n",
       "    <tr>\n",
       "      <th>104822</th>\n",
       "      <td>1499_217</td>\n",
       "      <td>1499</td>\n",
       "      <td>2018-09-22</td>\n",
       "      <td>292.75</td>\n",
       "    </tr>\n",
       "    <tr>\n",
       "      <th>104823</th>\n",
       "      <td>1499_218</td>\n",
       "      <td>1499</td>\n",
       "      <td>2018-12-07</td>\n",
       "      <td>0.00</td>\n",
       "    </tr>\n",
       "    <tr>\n",
       "      <th>104824</th>\n",
       "      <td>1499_219</td>\n",
       "      <td>1499</td>\n",
       "      <td>2018-12-24</td>\n",
       "      <td>758.31</td>\n",
       "    </tr>\n",
       "  </tbody>\n",
       "</table>\n",
       "<p>104825 rows × 4 columns</p>\n",
       "</div>"
      ],
      "text/plain": [
       "              id  user_id session_date  mb_used\n",
       "0        1000_13     1000   2018-12-29    89.86\n",
       "1       1000_204     1000   2018-12-31     0.00\n",
       "2       1000_379     1000   2018-12-28   660.40\n",
       "3       1000_413     1000   2018-12-26   270.99\n",
       "4       1000_442     1000   2018-12-27   880.22\n",
       "...          ...      ...          ...      ...\n",
       "104820  1499_215     1499   2018-10-20   218.06\n",
       "104821  1499_216     1499   2018-12-30   304.72\n",
       "104822  1499_217     1499   2018-09-22   292.75\n",
       "104823  1499_218     1499   2018-12-07     0.00\n",
       "104824  1499_219     1499   2018-12-24   758.31\n",
       "\n",
       "[104825 rows x 4 columns]"
      ]
     },
     "execution_count": 18,
     "metadata": {},
     "output_type": "execute_result"
    }
   ],
   "source": [
    "# Print the general/summary information about the internet DataFrame\n",
    "data_internet.info()\n",
    "data_internet\n"
   ]
  },
  {
   "cell_type": "code",
   "execution_count": 19,
   "metadata": {},
   "outputs": [
    {
     "data": {
      "text/html": [
       "<div>\n",
       "<style scoped>\n",
       "    .dataframe tbody tr th:only-of-type {\n",
       "        vertical-align: middle;\n",
       "    }\n",
       "\n",
       "    .dataframe tbody tr th {\n",
       "        vertical-align: top;\n",
       "    }\n",
       "\n",
       "    .dataframe thead th {\n",
       "        text-align: right;\n",
       "    }\n",
       "</style>\n",
       "<table border=\"1\" class=\"dataframe\">\n",
       "  <thead>\n",
       "    <tr style=\"text-align: right;\">\n",
       "      <th></th>\n",
       "      <th>id</th>\n",
       "      <th>user_id</th>\n",
       "      <th>session_date</th>\n",
       "      <th>mb_used</th>\n",
       "    </tr>\n",
       "  </thead>\n",
       "  <tbody>\n",
       "    <tr>\n",
       "      <th>0</th>\n",
       "      <td>1000_13</td>\n",
       "      <td>1000</td>\n",
       "      <td>2018-12-29</td>\n",
       "      <td>89.86</td>\n",
       "    </tr>\n",
       "    <tr>\n",
       "      <th>1</th>\n",
       "      <td>1000_204</td>\n",
       "      <td>1000</td>\n",
       "      <td>2018-12-31</td>\n",
       "      <td>0.00</td>\n",
       "    </tr>\n",
       "    <tr>\n",
       "      <th>2</th>\n",
       "      <td>1000_379</td>\n",
       "      <td>1000</td>\n",
       "      <td>2018-12-28</td>\n",
       "      <td>660.40</td>\n",
       "    </tr>\n",
       "    <tr>\n",
       "      <th>3</th>\n",
       "      <td>1000_413</td>\n",
       "      <td>1000</td>\n",
       "      <td>2018-12-26</td>\n",
       "      <td>270.99</td>\n",
       "    </tr>\n",
       "    <tr>\n",
       "      <th>4</th>\n",
       "      <td>1000_442</td>\n",
       "      <td>1000</td>\n",
       "      <td>2018-12-27</td>\n",
       "      <td>880.22</td>\n",
       "    </tr>\n",
       "    <tr>\n",
       "      <th>5</th>\n",
       "      <td>1001_0</td>\n",
       "      <td>1001</td>\n",
       "      <td>2018-08-24</td>\n",
       "      <td>284.68</td>\n",
       "    </tr>\n",
       "    <tr>\n",
       "      <th>6</th>\n",
       "      <td>1001_3</td>\n",
       "      <td>1001</td>\n",
       "      <td>2018-12-09</td>\n",
       "      <td>656.04</td>\n",
       "    </tr>\n",
       "    <tr>\n",
       "      <th>7</th>\n",
       "      <td>1001_4</td>\n",
       "      <td>1001</td>\n",
       "      <td>2018-11-04</td>\n",
       "      <td>16.97</td>\n",
       "    </tr>\n",
       "    <tr>\n",
       "      <th>8</th>\n",
       "      <td>1001_10</td>\n",
       "      <td>1001</td>\n",
       "      <td>2018-11-27</td>\n",
       "      <td>135.18</td>\n",
       "    </tr>\n",
       "    <tr>\n",
       "      <th>9</th>\n",
       "      <td>1001_15</td>\n",
       "      <td>1001</td>\n",
       "      <td>2018-12-13</td>\n",
       "      <td>761.92</td>\n",
       "    </tr>\n",
       "  </tbody>\n",
       "</table>\n",
       "</div>"
      ],
      "text/plain": [
       "         id  user_id session_date  mb_used\n",
       "0   1000_13     1000   2018-12-29    89.86\n",
       "1  1000_204     1000   2018-12-31     0.00\n",
       "2  1000_379     1000   2018-12-28   660.40\n",
       "3  1000_413     1000   2018-12-26   270.99\n",
       "4  1000_442     1000   2018-12-27   880.22\n",
       "5    1001_0     1001   2018-08-24   284.68\n",
       "6    1001_3     1001   2018-12-09   656.04\n",
       "7    1001_4     1001   2018-11-04    16.97\n",
       "8   1001_10     1001   2018-11-27   135.18\n",
       "9   1001_15     1001   2018-12-13   761.92"
      ]
     },
     "execution_count": 19,
     "metadata": {},
     "output_type": "execute_result"
    }
   ],
   "source": [
    "# Print a sample of data for the internet traffic\n",
    "data_internet.head(10)\n"
   ]
  },
  {
   "cell_type": "markdown",
   "metadata": {},
   "source": [
    "[Describe what you see and notice in the general information and the printed data sample for the above price of data. Are there any issues (inappropriate data types, missing data etc) that may need further investigation and changes? How that can be fixed?]"
   ]
  },
  {
   "cell_type": "markdown",
   "metadata": {},
   "source": [
    " "
   ]
  },
  {
   "cell_type": "markdown",
   "metadata": {},
   "source": [
    "### Fix data"
   ]
  },
  {
   "cell_type": "markdown",
   "metadata": {},
   "source": [
    "[Fix obvious issues with the data given the initial observations.]"
   ]
  },
  {
   "cell_type": "code",
   "execution_count": 20,
   "metadata": {},
   "outputs": [
    {
     "name": "stdout",
     "output_type": "stream",
     "text": [
      "<class 'pandas.core.frame.DataFrame'>\n",
      "RangeIndex: 104825 entries, 0 to 104824\n",
      "Data columns (total 6 columns):\n",
      " #   Column        Non-Null Count   Dtype         \n",
      "---  ------        --------------   -----         \n",
      " 0   session_id    104825 non-null  object        \n",
      " 1   user_id       104825 non-null  int64         \n",
      " 2   session_date  104825 non-null  datetime64[ns]\n",
      " 3   mb_used       104825 non-null  float64       \n",
      " 4   gb_used       104825 non-null  float64       \n",
      " 5   month         104825 non-null  int64         \n",
      "dtypes: datetime64[ns](1), float64(2), int64(2), object(1)\n",
      "memory usage: 4.8+ MB\n"
     ]
    }
   ],
   "source": [
    "data_internet['session_date'] = pd.to_datetime(data_internet['session_date'], format='%Y-%m-%d')\n",
    "replace_sessions = {'id' : 'session_id'}\n",
    "data_internet = data_internet.rename(columns=replace_sessions)\n",
    "data_internet['gb_used'] = data_internet['mb_used']/1000\n",
    "data_internet['month'] = data_internet['session_date'].dt.month\n",
    "data_internet.info()"
   ]
  },
  {
   "cell_type": "markdown",
   "metadata": {},
   "source": [
    "### Enrich data"
   ]
  },
  {
   "cell_type": "markdown",
   "metadata": {},
   "source": [
    "[Add additional factors to the data if you believe they might be useful.]"
   ]
  },
  {
   "cell_type": "markdown",
   "metadata": {},
   "source": [
    "## Study plan conditions"
   ]
  },
  {
   "cell_type": "markdown",
   "metadata": {},
   "source": [
    "[It is critical to understand how the plans work, how users are charged based on their plan subscription. So, we suggest printing out the plan information to view their conditions once again.]"
   ]
  },
  {
   "cell_type": "code",
   "execution_count": 21,
   "metadata": {},
   "outputs": [
    {
     "name": "stdout",
     "output_type": "stream",
     "text": [
      "<class 'pandas.core.frame.DataFrame'>\n",
      "RangeIndex: 2 entries, 0 to 1\n",
      "Data columns (total 8 columns):\n",
      " #   Column             Non-Null Count  Dtype  \n",
      "---  ------             --------------  -----  \n",
      " 0   messages           2 non-null      int64  \n",
      " 1   gb_per_month       2 non-null      int64  \n",
      " 2   minutes            2 non-null      int64  \n",
      " 3   monthly_cost       2 non-null      int64  \n",
      " 4   extra_per_gb       2 non-null      int64  \n",
      " 5   extra_per_message  2 non-null      float64\n",
      " 6   extra_per_minute   2 non-null      float64\n",
      " 7   plan_name          2 non-null      object \n",
      "dtypes: float64(2), int64(5), object(1)\n",
      "memory usage: 256.0+ bytes\n"
     ]
    },
    {
     "data": {
      "text/html": [
       "<div>\n",
       "<style scoped>\n",
       "    .dataframe tbody tr th:only-of-type {\n",
       "        vertical-align: middle;\n",
       "    }\n",
       "\n",
       "    .dataframe tbody tr th {\n",
       "        vertical-align: top;\n",
       "    }\n",
       "\n",
       "    .dataframe thead th {\n",
       "        text-align: right;\n",
       "    }\n",
       "</style>\n",
       "<table border=\"1\" class=\"dataframe\">\n",
       "  <thead>\n",
       "    <tr style=\"text-align: right;\">\n",
       "      <th></th>\n",
       "      <th>messages</th>\n",
       "      <th>gb_per_month</th>\n",
       "      <th>minutes</th>\n",
       "      <th>monthly_cost</th>\n",
       "      <th>extra_per_gb</th>\n",
       "      <th>extra_per_message</th>\n",
       "      <th>extra_per_minute</th>\n",
       "      <th>plan_name</th>\n",
       "    </tr>\n",
       "  </thead>\n",
       "  <tbody>\n",
       "    <tr>\n",
       "      <th>0</th>\n",
       "      <td>50</td>\n",
       "      <td>15</td>\n",
       "      <td>500</td>\n",
       "      <td>20</td>\n",
       "      <td>10</td>\n",
       "      <td>0.03</td>\n",
       "      <td>0.03</td>\n",
       "      <td>surf</td>\n",
       "    </tr>\n",
       "    <tr>\n",
       "      <th>1</th>\n",
       "      <td>1000</td>\n",
       "      <td>30</td>\n",
       "      <td>3000</td>\n",
       "      <td>70</td>\n",
       "      <td>7</td>\n",
       "      <td>0.01</td>\n",
       "      <td>0.01</td>\n",
       "      <td>ultimate</td>\n",
       "    </tr>\n",
       "  </tbody>\n",
       "</table>\n",
       "</div>"
      ],
      "text/plain": [
       "   messages  gb_per_month  minutes  monthly_cost  extra_per_gb  \\\n",
       "0        50            15      500            20            10   \n",
       "1      1000            30     3000            70             7   \n",
       "\n",
       "   extra_per_message  extra_per_minute plan_name  \n",
       "0               0.03              0.03      surf  \n",
       "1               0.01              0.01  ultimate  "
      ]
     },
     "execution_count": 21,
     "metadata": {},
     "output_type": "execute_result"
    }
   ],
   "source": [
    "# Print out the plan conditions and make sure they are clear for you\n",
    "data_plans.info()\n",
    "data_plans"
   ]
  },
  {
   "cell_type": "markdown",
   "metadata": {},
   "source": [
    "<div class=\"alert alert-success\">\n",
    "<b>Reviewer's comment v1:</b>\n",
    "    \n",
    "Good start and first view on data! "
   ]
  },
  {
   "cell_type": "markdown",
   "metadata": {},
   "source": [
    "## Aggregate data per user\n",
    "\n",
    "[Now, as the data is clean, aggregate data per user per period in order to have just one record per user per period. It should ease the further analysis a lot.]"
   ]
  },
  {
   "cell_type": "markdown",
   "metadata": {},
   "source": [
    "<div class=\"alert alert-info\"; style=\"border-left: 7px solid blue\">\n",
    "<b>Student's comment</b>\n",
    "    For each calculation, we will save the result as a DataFrame, to make our merging process easier."
   ]
  },
  {
   "cell_type": "code",
   "execution_count": 22,
   "metadata": {},
   "outputs": [
    {
     "name": "stdout",
     "output_type": "stream",
     "text": [
      "<class 'pandas.core.frame.DataFrame'>\n",
      "MultiIndex: 2258 entries, (1000, 12) to (1499, 12)\n",
      "Data columns (total 1 columns):\n",
      " #   Column       Non-Null Count  Dtype\n",
      "---  ------       --------------  -----\n",
      " 0   total_calls  2258 non-null   int64\n",
      "dtypes: int64(1)\n",
      "memory usage: 28.2 KB\n"
     ]
    }
   ],
   "source": [
    "# Calculate the number of calls made by each user per month. Save the result.\n",
    "calls_per_user = data_calls.groupby(['user_id', 'month'])['call_id'].count()\n",
    "\n",
    "calls_per_user_df = pd.DataFrame(data=calls_per_user)\n",
    "calls_per_user_df.rename(columns = {'call_id':'total_calls'}, inplace=True)\n",
    "calls_per_user_df.info()"
   ]
  },
  {
   "cell_type": "code",
   "execution_count": 23,
   "metadata": {},
   "outputs": [
    {
     "data": {
      "text/html": [
       "<div>\n",
       "<style scoped>\n",
       "    .dataframe tbody tr th:only-of-type {\n",
       "        vertical-align: middle;\n",
       "    }\n",
       "\n",
       "    .dataframe tbody tr th {\n",
       "        vertical-align: top;\n",
       "    }\n",
       "\n",
       "    .dataframe thead th {\n",
       "        text-align: right;\n",
       "    }\n",
       "</style>\n",
       "<table border=\"1\" class=\"dataframe\">\n",
       "  <thead>\n",
       "    <tr style=\"text-align: right;\">\n",
       "      <th></th>\n",
       "      <th></th>\n",
       "      <th>duration</th>\n",
       "    </tr>\n",
       "    <tr>\n",
       "      <th>user_id</th>\n",
       "      <th>month</th>\n",
       "      <th></th>\n",
       "    </tr>\n",
       "  </thead>\n",
       "  <tbody>\n",
       "    <tr>\n",
       "      <th>1000</th>\n",
       "      <th>12</th>\n",
       "      <td>124</td>\n",
       "    </tr>\n",
       "    <tr>\n",
       "      <th rowspan=\"4\" valign=\"top\">1001</th>\n",
       "      <th>8</th>\n",
       "      <td>182</td>\n",
       "    </tr>\n",
       "    <tr>\n",
       "      <th>9</th>\n",
       "      <td>315</td>\n",
       "    </tr>\n",
       "    <tr>\n",
       "      <th>10</th>\n",
       "      <td>393</td>\n",
       "    </tr>\n",
       "    <tr>\n",
       "      <th>11</th>\n",
       "      <td>426</td>\n",
       "    </tr>\n",
       "    <tr>\n",
       "      <th>...</th>\n",
       "      <th>...</th>\n",
       "      <td>...</td>\n",
       "    </tr>\n",
       "    <tr>\n",
       "      <th>1498</th>\n",
       "      <th>12</th>\n",
       "      <td>339</td>\n",
       "    </tr>\n",
       "    <tr>\n",
       "      <th rowspan=\"4\" valign=\"top\">1499</th>\n",
       "      <th>9</th>\n",
       "      <td>346</td>\n",
       "    </tr>\n",
       "    <tr>\n",
       "      <th>10</th>\n",
       "      <td>385</td>\n",
       "    </tr>\n",
       "    <tr>\n",
       "      <th>11</th>\n",
       "      <td>308</td>\n",
       "    </tr>\n",
       "    <tr>\n",
       "      <th>12</th>\n",
       "      <td>496</td>\n",
       "    </tr>\n",
       "  </tbody>\n",
       "</table>\n",
       "<p>2258 rows × 1 columns</p>\n",
       "</div>"
      ],
      "text/plain": [
       "               duration\n",
       "user_id month          \n",
       "1000    12          124\n",
       "1001    8           182\n",
       "        9           315\n",
       "        10          393\n",
       "        11          426\n",
       "...                 ...\n",
       "1498    12          339\n",
       "1499    9           346\n",
       "        10          385\n",
       "        11          308\n",
       "        12          496\n",
       "\n",
       "[2258 rows x 1 columns]"
      ]
     },
     "execution_count": 23,
     "metadata": {},
     "output_type": "execute_result"
    }
   ],
   "source": [
    "# Calculate the amount of minutes spent by each user per month. Save the result.\n",
    "duration_per_user = data_calls.groupby(['user_id', 'month'])['duration'].sum()\n",
    "\n",
    "duration_per_user_df = duration_per_user.to_frame()\n",
    "duration_per_user_df"
   ]
  },
  {
   "cell_type": "code",
   "execution_count": 24,
   "metadata": {},
   "outputs": [
    {
     "data": {
      "text/html": [
       "<div>\n",
       "<style scoped>\n",
       "    .dataframe tbody tr th:only-of-type {\n",
       "        vertical-align: middle;\n",
       "    }\n",
       "\n",
       "    .dataframe tbody tr th {\n",
       "        vertical-align: top;\n",
       "    }\n",
       "\n",
       "    .dataframe thead th {\n",
       "        text-align: right;\n",
       "    }\n",
       "</style>\n",
       "<table border=\"1\" class=\"dataframe\">\n",
       "  <thead>\n",
       "    <tr style=\"text-align: right;\">\n",
       "      <th></th>\n",
       "      <th></th>\n",
       "      <th>total_messages</th>\n",
       "    </tr>\n",
       "    <tr>\n",
       "      <th>user_id</th>\n",
       "      <th>month</th>\n",
       "      <th></th>\n",
       "    </tr>\n",
       "  </thead>\n",
       "  <tbody>\n",
       "    <tr>\n",
       "      <th>1000</th>\n",
       "      <th>12</th>\n",
       "      <td>11</td>\n",
       "    </tr>\n",
       "    <tr>\n",
       "      <th rowspan=\"4\" valign=\"top\">1001</th>\n",
       "      <th>8</th>\n",
       "      <td>30</td>\n",
       "    </tr>\n",
       "    <tr>\n",
       "      <th>9</th>\n",
       "      <td>44</td>\n",
       "    </tr>\n",
       "    <tr>\n",
       "      <th>10</th>\n",
       "      <td>53</td>\n",
       "    </tr>\n",
       "    <tr>\n",
       "      <th>11</th>\n",
       "      <td>36</td>\n",
       "    </tr>\n",
       "    <tr>\n",
       "      <th>...</th>\n",
       "      <th>...</th>\n",
       "      <td>...</td>\n",
       "    </tr>\n",
       "    <tr>\n",
       "      <th rowspan=\"4\" valign=\"top\">1496</th>\n",
       "      <th>9</th>\n",
       "      <td>21</td>\n",
       "    </tr>\n",
       "    <tr>\n",
       "      <th>10</th>\n",
       "      <td>18</td>\n",
       "    </tr>\n",
       "    <tr>\n",
       "      <th>11</th>\n",
       "      <td>13</td>\n",
       "    </tr>\n",
       "    <tr>\n",
       "      <th>12</th>\n",
       "      <td>11</td>\n",
       "    </tr>\n",
       "    <tr>\n",
       "      <th>1497</th>\n",
       "      <th>12</th>\n",
       "      <td>50</td>\n",
       "    </tr>\n",
       "  </tbody>\n",
       "</table>\n",
       "<p>1806 rows × 1 columns</p>\n",
       "</div>"
      ],
      "text/plain": [
       "               total_messages\n",
       "user_id month                \n",
       "1000    12                 11\n",
       "1001    8                  30\n",
       "        9                  44\n",
       "        10                 53\n",
       "        11                 36\n",
       "...                       ...\n",
       "1496    9                  21\n",
       "        10                 18\n",
       "        11                 13\n",
       "        12                 11\n",
       "1497    12                 50\n",
       "\n",
       "[1806 rows x 1 columns]"
      ]
     },
     "execution_count": 24,
     "metadata": {},
     "output_type": "execute_result"
    }
   ],
   "source": [
    "# Calculate the number of messages sent by each user per month. Save the result.\n",
    "messages_per_user = data_messages.groupby(['user_id', 'month'])['message_id'].count()\n",
    "messages_per_user_df = pd.DataFrame(data=messages_per_user)\n",
    "messages_per_user_df.rename(columns = {'message_id':'total_messages'},  inplace=True)\n",
    "messages_per_user_df"
   ]
  },
  {
   "cell_type": "markdown",
   "metadata": {},
   "source": [
    "<div class=\"alert alert-block alert-warning\">\n",
    "<b>Reviewer's comment v1:</b>\n",
    "    \n",
    "In pivot_table or groupby it is possible to pass multiple arguments, so here, you can create an aggregated table in one go like this:\n",
    "    \n",
    "    \n",
    "    data_calls.groupby(['user_id','month']).agg({'duration' : ('count','sum')}).reset_index()\n",
    "    \n",
    "or\n",
    "    \n",
    "    data_calls.pivot_table(index = ('user_id','month'), values = 'duration', aggfunc = ('count','sum')).reset_index()"
   ]
  },
  {
   "cell_type": "code",
   "execution_count": 25,
   "metadata": {},
   "outputs": [],
   "source": [
    "# Calculate the volume of internet traffic used by each user per month. Save the result.\n",
    "traffic_per_user = data_internet.groupby(['user_id', 'month'])['gb_used'].sum()\n",
    "traffic_per_user_df = pd.DataFrame(data=traffic_per_user)"
   ]
  },
  {
   "cell_type": "markdown",
   "metadata": {},
   "source": [
    "[Put the aggregate data together into one DataFrame so that one record in it would represent what an unique user consumed in a given month.]"
   ]
  },
  {
   "cell_type": "markdown",
   "metadata": {},
   "source": [
    "<div class=\"alert alert-info\"; style=\"border-left: 7px solid blue\">\n",
    "<b>Student's comment</b>\n",
    "    To ensure our merges are successfull, we will merge each DataFrame separatley."
   ]
  },
  {
   "cell_type": "code",
   "execution_count": 26,
   "metadata": {},
   "outputs": [
    {
     "name": "stdout",
     "output_type": "stream",
     "text": [
      "               total_calls  duration  total_messages   gb_used\n",
      "user_id month                                                 \n",
      "1000    12            16.0     124.0            11.0   1.90147\n",
      "1001    8             27.0     182.0            30.0   6.91915\n",
      "        9             49.0     315.0            44.0  13.31482\n",
      "        10            65.0     393.0            53.0  22.33049\n",
      "        11            64.0     426.0            36.0  18.50430\n",
      "...                    ...       ...             ...       ...\n",
      "1349    12             NaN       NaN            61.0  13.03991\n",
      "1361    5              NaN       NaN             2.0   1.51969\n",
      "1482    10             NaN       NaN             2.0       NaN\n",
      "1108    12             NaN       NaN             NaN   0.23317\n",
      "1311    6              NaN       NaN             NaN   1.49883\n",
      "\n",
      "[2293 rows x 4 columns]\n"
     ]
    }
   ],
   "source": [
    "# Merge the data for calls, minutes, messages, internet based on user_id and month\n",
    "new_data = calls_per_user_df.merge(duration_per_user_df, on=['user_id', 'month'], how='outer')\n",
    "new_data = new_data.merge(messages_per_user_df, on=['user_id', 'month'], how='outer')\n",
    "new_data = new_data.merge(traffic_per_user_df, on=['user_id', 'month'], how='outer')\n",
    "print(new_data)\n",
    "\n"
   ]
  },
  {
   "cell_type": "markdown",
   "metadata": {},
   "source": [
    "<div class=\"alert alert-danger\">\n",
    "<b>Reviewer's comment v1:</b>\n",
    "    \n",
    "Here you need to use another way of joining tables (change the how parameter). Now, if users made calls, but did not send messages, it will not be tracked in the new table (the same with the Internet). This will happen because with the left method we take all the keys from the left table and look for their matches in the right table. If there are unique values in the right table, we will ignore them. For this task, we need to take all the records from the right and left tables. You can see about connections here https://medium.com/@Lexx01/sql-inner--outer-join-64f3862d8540"
   ]
  },
  {
   "cell_type": "markdown",
   "metadata": {},
   "source": [
    "<div class=\"alert alert-info\"; style=\"border-left: 7px solid blue\">\n",
    "<b>Student's comment</b>\n",
    "    To add the plan information, we will merge one of the original data sets, and drop the columns that are irrelevant.\n",
    "    NaN values will be replaced with 0, as we assume that the reason that we have missing values is because the feature/column was not used (for example: the user did not send any messages during that month, etc.)"
   ]
  },
  {
   "cell_type": "markdown",
   "metadata": {},
   "source": [
    "<div class=\"alert alert-block alert-success\">\n",
    "<b>Reviewer's comment v2:</b>\n",
    "    \n",
    "Indeed `how = 'outer'` can be used here to prevent data loss.\n",
    "    "
   ]
  },
  {
   "cell_type": "code",
   "execution_count": 27,
   "metadata": {},
   "outputs": [
    {
     "name": "stdout",
     "output_type": "stream",
     "text": [
      "Int64Index([1000, 1001, 1002, 1003, 1004, 1005, 1006, 1007, 1008, 1009,\n",
      "            ...\n",
      "            1490, 1491, 1492, 1493, 1494, 1495, 1496, 1497, 1498, 1499],\n",
      "           dtype='int64', name='user_id', length=500)\n"
     ]
    },
    {
     "data": {
      "text/html": [
       "<div>\n",
       "<style scoped>\n",
       "    .dataframe tbody tr th:only-of-type {\n",
       "        vertical-align: middle;\n",
       "    }\n",
       "\n",
       "    .dataframe tbody tr th {\n",
       "        vertical-align: top;\n",
       "    }\n",
       "\n",
       "    .dataframe thead th {\n",
       "        text-align: right;\n",
       "    }\n",
       "</style>\n",
       "<table border=\"1\" class=\"dataframe\">\n",
       "  <thead>\n",
       "    <tr style=\"text-align: right;\">\n",
       "      <th></th>\n",
       "      <th></th>\n",
       "      <th>total_calls</th>\n",
       "      <th>duration</th>\n",
       "      <th>total_messages</th>\n",
       "      <th>gb_used</th>\n",
       "      <th>city</th>\n",
       "      <th>reg_date</th>\n",
       "      <th>plan</th>\n",
       "      <th>churn_date</th>\n",
       "    </tr>\n",
       "    <tr>\n",
       "      <th>user_id</th>\n",
       "      <th>month</th>\n",
       "      <th></th>\n",
       "      <th></th>\n",
       "      <th></th>\n",
       "      <th></th>\n",
       "      <th></th>\n",
       "      <th></th>\n",
       "      <th></th>\n",
       "      <th></th>\n",
       "    </tr>\n",
       "  </thead>\n",
       "  <tbody>\n",
       "    <tr>\n",
       "      <th>1000</th>\n",
       "      <th>12</th>\n",
       "      <td>16.0</td>\n",
       "      <td>124.0</td>\n",
       "      <td>11.0</td>\n",
       "      <td>2.0</td>\n",
       "      <td>Atlanta-Sandy Springs-Roswell, GA MSA</td>\n",
       "      <td>2018-12-24</td>\n",
       "      <td>ultimate</td>\n",
       "      <td>NaT</td>\n",
       "    </tr>\n",
       "    <tr>\n",
       "      <th rowspan=\"4\" valign=\"top\">1001</th>\n",
       "      <th>8</th>\n",
       "      <td>27.0</td>\n",
       "      <td>182.0</td>\n",
       "      <td>30.0</td>\n",
       "      <td>7.0</td>\n",
       "      <td>Seattle-Tacoma-Bellevue, WA MSA</td>\n",
       "      <td>2018-08-13</td>\n",
       "      <td>surf</td>\n",
       "      <td>NaT</td>\n",
       "    </tr>\n",
       "    <tr>\n",
       "      <th>9</th>\n",
       "      <td>49.0</td>\n",
       "      <td>315.0</td>\n",
       "      <td>44.0</td>\n",
       "      <td>14.0</td>\n",
       "      <td>Seattle-Tacoma-Bellevue, WA MSA</td>\n",
       "      <td>2018-08-13</td>\n",
       "      <td>surf</td>\n",
       "      <td>NaT</td>\n",
       "    </tr>\n",
       "    <tr>\n",
       "      <th>10</th>\n",
       "      <td>65.0</td>\n",
       "      <td>393.0</td>\n",
       "      <td>53.0</td>\n",
       "      <td>23.0</td>\n",
       "      <td>Seattle-Tacoma-Bellevue, WA MSA</td>\n",
       "      <td>2018-08-13</td>\n",
       "      <td>surf</td>\n",
       "      <td>NaT</td>\n",
       "    </tr>\n",
       "    <tr>\n",
       "      <th>11</th>\n",
       "      <td>64.0</td>\n",
       "      <td>426.0</td>\n",
       "      <td>36.0</td>\n",
       "      <td>19.0</td>\n",
       "      <td>Seattle-Tacoma-Bellevue, WA MSA</td>\n",
       "      <td>2018-08-13</td>\n",
       "      <td>surf</td>\n",
       "      <td>NaT</td>\n",
       "    </tr>\n",
       "    <tr>\n",
       "      <th>...</th>\n",
       "      <th>...</th>\n",
       "      <td>...</td>\n",
       "      <td>...</td>\n",
       "      <td>...</td>\n",
       "      <td>...</td>\n",
       "      <td>...</td>\n",
       "      <td>...</td>\n",
       "      <td>...</td>\n",
       "      <td>...</td>\n",
       "    </tr>\n",
       "    <tr>\n",
       "      <th>1349</th>\n",
       "      <th>12</th>\n",
       "      <td>0.0</td>\n",
       "      <td>0.0</td>\n",
       "      <td>61.0</td>\n",
       "      <td>14.0</td>\n",
       "      <td>Boston-Cambridge-Newton, MA-NH MSA</td>\n",
       "      <td>2018-10-01</td>\n",
       "      <td>surf</td>\n",
       "      <td>NaT</td>\n",
       "    </tr>\n",
       "    <tr>\n",
       "      <th>1361</th>\n",
       "      <th>5</th>\n",
       "      <td>0.0</td>\n",
       "      <td>0.0</td>\n",
       "      <td>2.0</td>\n",
       "      <td>2.0</td>\n",
       "      <td>Birmingham-Hoover, AL MSA</td>\n",
       "      <td>2018-04-14</td>\n",
       "      <td>surf</td>\n",
       "      <td>NaT</td>\n",
       "    </tr>\n",
       "    <tr>\n",
       "      <th>1482</th>\n",
       "      <th>10</th>\n",
       "      <td>0.0</td>\n",
       "      <td>0.0</td>\n",
       "      <td>2.0</td>\n",
       "      <td>0.0</td>\n",
       "      <td>New York-Newark-Jersey City, NY-NJ-PA MSA</td>\n",
       "      <td>2018-01-01</td>\n",
       "      <td>ultimate</td>\n",
       "      <td>NaT</td>\n",
       "    </tr>\n",
       "    <tr>\n",
       "      <th>1108</th>\n",
       "      <th>12</th>\n",
       "      <td>0.0</td>\n",
       "      <td>0.0</td>\n",
       "      <td>0.0</td>\n",
       "      <td>1.0</td>\n",
       "      <td>Salt Lake City, UT MSA</td>\n",
       "      <td>2018-12-30</td>\n",
       "      <td>ultimate</td>\n",
       "      <td>NaT</td>\n",
       "    </tr>\n",
       "    <tr>\n",
       "      <th>1311</th>\n",
       "      <th>6</th>\n",
       "      <td>0.0</td>\n",
       "      <td>0.0</td>\n",
       "      <td>0.0</td>\n",
       "      <td>2.0</td>\n",
       "      <td>Memphis, TN-MS-AR MSA</td>\n",
       "      <td>2018-06-27</td>\n",
       "      <td>ultimate</td>\n",
       "      <td>NaT</td>\n",
       "    </tr>\n",
       "  </tbody>\n",
       "</table>\n",
       "<p>2293 rows × 8 columns</p>\n",
       "</div>"
      ],
      "text/plain": [
       "               total_calls  duration  total_messages  gb_used  \\\n",
       "user_id month                                                   \n",
       "1000    12            16.0     124.0            11.0      2.0   \n",
       "1001    8             27.0     182.0            30.0      7.0   \n",
       "        9             49.0     315.0            44.0     14.0   \n",
       "        10            65.0     393.0            53.0     23.0   \n",
       "        11            64.0     426.0            36.0     19.0   \n",
       "...                    ...       ...             ...      ...   \n",
       "1349    12             0.0       0.0            61.0     14.0   \n",
       "1361    5              0.0       0.0             2.0      2.0   \n",
       "1482    10             0.0       0.0             2.0      0.0   \n",
       "1108    12             0.0       0.0             0.0      1.0   \n",
       "1311    6              0.0       0.0             0.0      2.0   \n",
       "\n",
       "                                                    city   reg_date      plan  \\\n",
       "user_id month                                                                   \n",
       "1000    12         Atlanta-Sandy Springs-Roswell, GA MSA 2018-12-24  ultimate   \n",
       "1001    8                Seattle-Tacoma-Bellevue, WA MSA 2018-08-13      surf   \n",
       "        9                Seattle-Tacoma-Bellevue, WA MSA 2018-08-13      surf   \n",
       "        10               Seattle-Tacoma-Bellevue, WA MSA 2018-08-13      surf   \n",
       "        11               Seattle-Tacoma-Bellevue, WA MSA 2018-08-13      surf   \n",
       "...                                                  ...        ...       ...   \n",
       "1349    12            Boston-Cambridge-Newton, MA-NH MSA 2018-10-01      surf   \n",
       "1361    5                      Birmingham-Hoover, AL MSA 2018-04-14      surf   \n",
       "1482    10     New York-Newark-Jersey City, NY-NJ-PA MSA 2018-01-01  ultimate   \n",
       "1108    12                        Salt Lake City, UT MSA 2018-12-30  ultimate   \n",
       "1311    6                          Memphis, TN-MS-AR MSA 2018-06-27  ultimate   \n",
       "\n",
       "              churn_date  \n",
       "user_id month             \n",
       "1000    12           NaT  \n",
       "1001    8            NaT  \n",
       "        9            NaT  \n",
       "        10           NaT  \n",
       "        11           NaT  \n",
       "...                  ...  \n",
       "1349    12           NaT  \n",
       "1361    5            NaT  \n",
       "1482    10           NaT  \n",
       "1108    12           NaT  \n",
       "1311    6            NaT  \n",
       "\n",
       "[2293 rows x 8 columns]"
      ]
     },
     "execution_count": 27,
     "metadata": {},
     "output_type": "execute_result"
    }
   ],
   "source": [
    "# Add the plan information\n",
    "data_users.set_index('user_id', inplace=True)\n",
    "print(data_users.index)\n",
    "data_users\n",
    "new_data = new_data.join(data_users, how='left', on='user_id')\n",
    "columns_to_drop = ['first_name', 'last_name', 'age']\n",
    "new_data = new_data.drop(columns_to_drop, axis=1)\n",
    "new_data['gb_used'] = np.ceil(new_data['gb_used'])\n",
    "new_data['duration'] = np.ceil(new_data['duration'])\n",
    "new_data['duration'] = new_data['duration'].fillna(value=0)\n",
    "new_data['total_calls'] = new_data['total_calls'].fillna(value=0)\n",
    "new_data['total_messages'] = new_data['total_messages'].fillna(value=0)\n",
    "new_data['gb_used'] = new_data['gb_used'].fillna(value=0)\n",
    "\n",
    "new_data\n",
    "\n",
    "\n"
   ]
  },
  {
   "cell_type": "markdown",
   "metadata": {},
   "source": [
    "[Calculate the monthly revenue from each user (subtract the free package limit from the total number of calls, text messages, and data; multiply the result by the calling plan value; add the monthly charge depending on the calling plan). N.B. This might not be as trivial as just a couple of lines given the plan conditions! So, it's okay to spend some time on it.]"
   ]
  },
  {
   "cell_type": "markdown",
   "metadata": {},
   "source": [
    "<div class=\"alert alert-info\"; style=\"border-left: 7px solid blue\">\n",
    "<b>Student's comment</b>\n",
    "    For calculating the revenue, we will set the index of the data_plans data set, making the plan name as the index. This will allow us easier calculation."
   ]
  },
  {
   "cell_type": "code",
   "execution_count": 28,
   "metadata": {},
   "outputs": [
    {
     "name": "stdout",
     "output_type": "stream",
     "text": [
      "Index(['surf', 'ultimate'], dtype='object', name='plan_name')\n"
     ]
    }
   ],
   "source": [
    "data_plans.set_index('plan_name', inplace=True)\n",
    "print(data_plans.index)"
   ]
  },
  {
   "cell_type": "markdown",
   "metadata": {},
   "source": [
    "<div class=\"alert alert-info\"; style=\"border-left: 7px solid blue\">\n",
    "<b>Student's comment</b>\n",
    "    For each plan component, we will define a function that will calculate the extra charges by each user, and add the results into our merged table.\n",
    "    Then we will calculate the total revenue (base cost + excess fees) using a function, and add the result to the merged table.\n",
    "    We will make sure we round up the relevant data, as we did for each separate dataset."
   ]
  },
  {
   "cell_type": "code",
   "execution_count": 29,
   "metadata": {},
   "outputs": [],
   "source": [
    "def excess_duration_cost(row):\n",
    "    excess = row['duration'] - data_plans.loc[row['plan']]['minutes']\n",
    "    if excess<0:\n",
    "        excess=0\n",
    "    return excess*data_plans.loc[row['plan']]['extra_per_minute']\n",
    "\n",
    "def excess_messages_cost(row):\n",
    "    excess = row['total_messages'] - data_plans.loc[row['plan']]['messages']\n",
    "    if excess<0:\n",
    "        excess=0\n",
    "    return excess*data_plans.loc[row['plan']]['extra_per_message']\n",
    "\n",
    "def excess_gb_cost(row):\n",
    "    excess = row['gb_used'] - data_plans.loc[row['plan']]['gb_per_month']\n",
    "    if excess<0:\n",
    "        excess=0\n",
    "    return excess*data_plans.loc[row['plan']]['extra_per_gb']\n",
    "\n",
    "\n",
    "\n",
    "\n",
    "new_data['excess_duration_cost'] = new_data.apply(excess_duration_cost, axis=1)\n",
    "new_data['excess_messages_cost'] = new_data.apply(excess_messages_cost, axis=1)\n",
    "new_data['excess_gb_cost'] = new_data.apply(excess_gb_cost, axis=1)\n",
    "\n",
    "\n",
    "\n",
    "\n"
   ]
  },
  {
   "cell_type": "code",
   "execution_count": 30,
   "metadata": {},
   "outputs": [
    {
     "name": "stdout",
     "output_type": "stream",
     "text": [
      "               total_calls  duration  total_messages  gb_used  \\\n",
      "user_id month                                                   \n",
      "1000    12            16.0     124.0            11.0      2.0   \n",
      "1001    8             27.0     182.0            30.0      7.0   \n",
      "        9             49.0     315.0            44.0     14.0   \n",
      "        10            65.0     393.0            53.0     23.0   \n",
      "        11            64.0     426.0            36.0     19.0   \n",
      "...                    ...       ...             ...      ...   \n",
      "1349    12             0.0       0.0            61.0     14.0   \n",
      "1361    5              0.0       0.0             2.0      2.0   \n",
      "1482    10             0.0       0.0             2.0      0.0   \n",
      "1108    12             0.0       0.0             0.0      1.0   \n",
      "1311    6              0.0       0.0             0.0      2.0   \n",
      "\n",
      "                                                    city   reg_date      plan  \\\n",
      "user_id month                                                                   \n",
      "1000    12         Atlanta-Sandy Springs-Roswell, GA MSA 2018-12-24  ultimate   \n",
      "1001    8                Seattle-Tacoma-Bellevue, WA MSA 2018-08-13      surf   \n",
      "        9                Seattle-Tacoma-Bellevue, WA MSA 2018-08-13      surf   \n",
      "        10               Seattle-Tacoma-Bellevue, WA MSA 2018-08-13      surf   \n",
      "        11               Seattle-Tacoma-Bellevue, WA MSA 2018-08-13      surf   \n",
      "...                                                  ...        ...       ...   \n",
      "1349    12            Boston-Cambridge-Newton, MA-NH MSA 2018-10-01      surf   \n",
      "1361    5                      Birmingham-Hoover, AL MSA 2018-04-14      surf   \n",
      "1482    10     New York-Newark-Jersey City, NY-NJ-PA MSA 2018-01-01  ultimate   \n",
      "1108    12                        Salt Lake City, UT MSA 2018-12-30  ultimate   \n",
      "1311    6                          Memphis, TN-MS-AR MSA 2018-06-27  ultimate   \n",
      "\n",
      "              churn_date  excess_duration_cost  excess_messages_cost  \\\n",
      "user_id month                                                          \n",
      "1000    12           NaT                   0.0                  0.00   \n",
      "1001    8            NaT                   0.0                  0.00   \n",
      "        9            NaT                   0.0                  0.00   \n",
      "        10           NaT                   0.0                  0.09   \n",
      "        11           NaT                   0.0                  0.00   \n",
      "...                  ...                   ...                   ...   \n",
      "1349    12           NaT                   0.0                  0.33   \n",
      "1361    5            NaT                   0.0                  0.00   \n",
      "1482    10           NaT                   0.0                  0.00   \n",
      "1108    12           NaT                   0.0                  0.00   \n",
      "1311    6            NaT                   0.0                  0.00   \n",
      "\n",
      "               excess_gb_cost  monthly_revenue  \n",
      "user_id month                                   \n",
      "1000    12                0.0            70.00  \n",
      "1001    8                 0.0            20.00  \n",
      "        9                 0.0            20.00  \n",
      "        10               80.0           100.09  \n",
      "        11               40.0            60.00  \n",
      "...                       ...              ...  \n",
      "1349    12                0.0            20.33  \n",
      "1361    5                 0.0            20.00  \n",
      "1482    10                0.0            70.00  \n",
      "1108    12                0.0            70.00  \n",
      "1311    6                 0.0            70.00  \n",
      "\n",
      "[2293 rows x 12 columns]\n"
     ]
    }
   ],
   "source": [
    "# Calculate the monthly revenue for each user\n",
    "def total_cost(row):\n",
    "    total = row['excess_duration_cost'] + row['excess_messages_cost'] + row['excess_gb_cost'] + data_plans.loc[row['plan']]['monthly_cost']\n",
    "    return total\n",
    "\n",
    "new_data['monthly_revenue'] = new_data.apply(total_cost, axis=1)\n",
    "print(new_data)\n"
   ]
  },
  {
   "cell_type": "markdown",
   "metadata": {},
   "source": [
    "<div class=\"alert alert-danger\">\n",
    "<b>Reviewer's comment v1:</b>\n",
    "  \n",
    "- Please note that the telecom operator rounds up all minutes and traffic values.\n",
    "\n",
    "`Note: For web traffic, individual web sessions are not rounded up. Instead, the total for the month is rounded up. If someone uses 1025 megabytes this month, they will be charged for 2 gigabytes.`\n",
    "\n",
    "Can you please update data rounding?"
   ]
  },
  {
   "cell_type": "markdown",
   "metadata": {},
   "source": [
    "<div class=\"alert alert-success\">\n",
    "<b>Reviewer's comment v2:</b>\n",
    "    \n",
    "Everything is correct here, and great that you created a function to calculate costs.\n",
    "\n",
    "It it possible to make the calculation of revenue a little bit differently using np.where - [https://numpy.org/doc/stable/reference/generated/numpy.where.html](https://numpy.org/doc/stable/reference/generated/numpy.where.html)\n",
    "\n",
    "```\n",
    "  np.where ('condition: if exceeding the package limit', 'multiply the difference by the price of additional services', '0')\n",
    "```\n",
    "\n",
    "Great thing about python is that there are so many libraries and ready-to-use functions. For example, this task can also be solved using `.clip()` (a useful method in many tasks). You can read about it here: [https://www.pythonpool.com/numpy-clip/](https://www.pythonpool.com/numpy-clip/)\n",
    "\n",
    "    total5['gb_surcharge'] = (total5['gb_used'] - total5['gb_per_month_included']).clip(0) * total5['usd_per_gb']\n",
    "    \n",
    "Also, it is better to avoid hard-coding in your functions of all values from the data plans. These values could be frequently updated and it will be annoyingly inconvenient to update them once again in the function. I would recommend using an actual table with values or create a separate data dictionary - https://towardsdatascience.com/12-examples-to-master-python-dictionaries-5a8bcd688c6d"
   ]
  },
  {
   "cell_type": "markdown",
   "metadata": {},
   "source": [
    "## Study user behaviour"
   ]
  },
  {
   "cell_type": "markdown",
   "metadata": {},
   "source": [
    "[Calculate some useful descriptive statistics for the aggregated and merged data, which typically reveal an overall picture captured by the data. Draw useful plots to help the understanding. Given that the main task is to compare the plans and decide on which one is more profitable, the statistics and the plots should be calculated on a per-plan basis.]\n",
    "\n",
    "[There are relevant hints in the comments for Calls but they are not provided for Messages and Internet though the principle of statistical study is the same for them as for Calls.]"
   ]
  },
  {
   "cell_type": "markdown",
   "metadata": {},
   "source": [
    "### Calls"
   ]
  },
  {
   "cell_type": "code",
   "execution_count": 31,
   "metadata": {},
   "outputs": [
    {
     "data": {
      "text/plain": [
       "<AxesSubplot:title={'center':'Average Duration by Plan & Month'}, xlabel='plan,month'>"
      ]
     },
     "execution_count": 31,
     "metadata": {},
     "output_type": "execute_result"
    },
    {
     "data": {
      "image/png": "[encoded data removed]",
      "text/plain": [
       "<Figure size 432x288 with 1 Axes>"
      ]
     },
     "metadata": {
      "needs_background": "light"
     },
     "output_type": "display_data"
    }
   ],
   "source": [
    "# Compare average duration of calls per each plan per each distinct month. Plot a bar plat to visualize it.\n",
    "calls_pivot = new_data.pivot_table(index=['plan', 'month'], values='duration', aggfunc='mean')\n",
    "calls_pivot.plot.bar(title='Average Duration by Plan & Month')\n"
   ]
  },
  {
   "cell_type": "code",
   "execution_count": 32,
   "metadata": {},
   "outputs": [
    {
     "name": "stdout",
     "output_type": "stream",
     "text": [
      "plan       surf  ultimate\n",
      "month                    \n",
      "1         406.0     774.0\n",
      "2        2673.0    2822.0\n",
      "3        7590.0    3651.0\n",
      "4       17577.0    7074.0\n",
      "5       30768.0   11781.0\n",
      "6       41836.0   17435.0\n",
      "7       54448.0   25197.0\n",
      "8       66438.0   29922.0\n",
      "9       80360.0   37626.0\n",
      "10     101846.0   47778.0\n",
      "11     119801.0   56540.0\n",
      "12     150680.0   69324.0\n"
     ]
    },
    {
     "data": {
      "text/plain": [
       "array([[<AxesSubplot:title={'center':'surf'}>,\n",
       "        <AxesSubplot:title={'center':'ultimate'}>]], dtype=object)"
      ]
     },
     "execution_count": 32,
     "metadata": {},
     "output_type": "execute_result"
    },
    {
     "data": {
      "image/png": "[encoded data removed]",
      "text/plain": [
       "<Figure size 720x720 with 2 Axes>"
      ]
     },
     "metadata": {
      "needs_background": "light"
     },
     "output_type": "display_data"
    }
   ],
   "source": [
    "# Compare the number of minutes users of each plan require each month. Plot a histogram.\n",
    "minutes_pivot = new_data.pivot_table(index='month', columns='plan', values='duration', aggfunc='sum')\n",
    "print(minutes_pivot)\n",
    "minutes_pivot.hist(bins=12, figsize=(10,10), rwidth=0.7)\n",
    "\n"
   ]
  },
  {
   "cell_type": "markdown",
   "metadata": {},
   "source": [
    "[Calculate the mean and the variable of the call duration to reason on whether users on the different plans have different behaviours for their calls.]"
   ]
  },
  {
   "cell_type": "code",
   "execution_count": 33,
   "metadata": {},
   "outputs": [
    {
     "data": {
      "text/html": [
       "<div>\n",
       "<style scoped>\n",
       "    .dataframe tbody tr th:only-of-type {\n",
       "        vertical-align: middle;\n",
       "    }\n",
       "\n",
       "    .dataframe tbody tr th {\n",
       "        vertical-align: top;\n",
       "    }\n",
       "\n",
       "    .dataframe thead tr th {\n",
       "        text-align: left;\n",
       "    }\n",
       "\n",
       "    .dataframe thead tr:last-of-type th {\n",
       "        text-align: right;\n",
       "    }\n",
       "</style>\n",
       "<table border=\"1\" class=\"dataframe\">\n",
       "  <thead>\n",
       "    <tr>\n",
       "      <th></th>\n",
       "      <th></th>\n",
       "      <th>mean</th>\n",
       "      <th>var</th>\n",
       "    </tr>\n",
       "    <tr>\n",
       "      <th></th>\n",
       "      <th></th>\n",
       "      <th>duration</th>\n",
       "      <th>duration</th>\n",
       "    </tr>\n",
       "    <tr>\n",
       "      <th>month</th>\n",
       "      <th>plan</th>\n",
       "      <th></th>\n",
       "      <th></th>\n",
       "    </tr>\n",
       "  </thead>\n",
       "  <tbody>\n",
       "    <tr>\n",
       "      <th rowspan=\"2\" valign=\"top\">1</th>\n",
       "      <th>surf</th>\n",
       "      <td>203.000000</td>\n",
       "      <td>15842.000000</td>\n",
       "    </tr>\n",
       "    <tr>\n",
       "      <th>ultimate</th>\n",
       "      <td>193.500000</td>\n",
       "      <td>16572.333333</td>\n",
       "    </tr>\n",
       "    <tr>\n",
       "      <th rowspan=\"2\" valign=\"top\">2</th>\n",
       "      <th>surf</th>\n",
       "      <td>297.000000</td>\n",
       "      <td>52226.500000</td>\n",
       "    </tr>\n",
       "    <tr>\n",
       "      <th>ultimate</th>\n",
       "      <td>403.142857</td>\n",
       "      <td>76889.476190</td>\n",
       "    </tr>\n",
       "    <tr>\n",
       "      <th rowspan=\"2\" valign=\"top\">3</th>\n",
       "      <th>surf</th>\n",
       "      <td>330.000000</td>\n",
       "      <td>35809.363636</td>\n",
       "    </tr>\n",
       "    <tr>\n",
       "      <th>ultimate</th>\n",
       "      <td>304.250000</td>\n",
       "      <td>61984.931818</td>\n",
       "    </tr>\n",
       "    <tr>\n",
       "      <th rowspan=\"2\" valign=\"top\">4</th>\n",
       "      <th>surf</th>\n",
       "      <td>351.540000</td>\n",
       "      <td>50866.743265</td>\n",
       "    </tr>\n",
       "    <tr>\n",
       "      <th>ultimate</th>\n",
       "      <td>336.857143</td>\n",
       "      <td>34888.928571</td>\n",
       "    </tr>\n",
       "    <tr>\n",
       "      <th rowspan=\"2\" valign=\"top\">5</th>\n",
       "      <th>surf</th>\n",
       "      <td>399.584416</td>\n",
       "      <td>59754.219754</td>\n",
       "    </tr>\n",
       "    <tr>\n",
       "      <th>ultimate</th>\n",
       "      <td>406.241379</td>\n",
       "      <td>43841.046798</td>\n",
       "    </tr>\n",
       "    <tr>\n",
       "      <th rowspan=\"2\" valign=\"top\">6</th>\n",
       "      <th>surf</th>\n",
       "      <td>431.298969</td>\n",
       "      <td>45592.628436</td>\n",
       "    </tr>\n",
       "    <tr>\n",
       "      <th>ultimate</th>\n",
       "      <td>370.957447</td>\n",
       "      <td>42503.563367</td>\n",
       "    </tr>\n",
       "    <tr>\n",
       "      <th rowspan=\"2\" valign=\"top\">7</th>\n",
       "      <th>surf</th>\n",
       "      <td>449.983471</td>\n",
       "      <td>61005.099725</td>\n",
       "    </tr>\n",
       "    <tr>\n",
       "      <th>ultimate</th>\n",
       "      <td>427.067797</td>\n",
       "      <td>72563.374635</td>\n",
       "    </tr>\n",
       "    <tr>\n",
       "      <th rowspan=\"2\" valign=\"top\">8</th>\n",
       "      <th>surf</th>\n",
       "      <td>410.111111</td>\n",
       "      <td>54344.645963</td>\n",
       "    </tr>\n",
       "    <tr>\n",
       "      <th>ultimate</th>\n",
       "      <td>421.436620</td>\n",
       "      <td>53645.506640</td>\n",
       "    </tr>\n",
       "    <tr>\n",
       "      <th rowspan=\"2\" valign=\"top\">9</th>\n",
       "      <th>surf</th>\n",
       "      <td>414.226804</td>\n",
       "      <td>46595.958656</td>\n",
       "    </tr>\n",
       "    <tr>\n",
       "      <th>ultimate</th>\n",
       "      <td>437.511628</td>\n",
       "      <td>57070.464569</td>\n",
       "    </tr>\n",
       "    <tr>\n",
       "      <th rowspan=\"2\" valign=\"top\">10</th>\n",
       "      <th>surf</th>\n",
       "      <td>429.729958</td>\n",
       "      <td>52278.664056</td>\n",
       "    </tr>\n",
       "    <tr>\n",
       "      <th>ultimate</th>\n",
       "      <td>450.735849</td>\n",
       "      <td>54261.910512</td>\n",
       "    </tr>\n",
       "    <tr>\n",
       "      <th rowspan=\"2\" valign=\"top\">11</th>\n",
       "      <th>surf</th>\n",
       "      <td>423.325088</td>\n",
       "      <td>51607.021602</td>\n",
       "    </tr>\n",
       "    <tr>\n",
       "      <th>ultimate</th>\n",
       "      <td>445.196850</td>\n",
       "      <td>60593.222847</td>\n",
       "    </tr>\n",
       "    <tr>\n",
       "      <th rowspan=\"2\" valign=\"top\">12</th>\n",
       "      <th>surf</th>\n",
       "      <td>473.836478</td>\n",
       "      <td>63629.518918</td>\n",
       "    </tr>\n",
       "    <tr>\n",
       "      <th>ultimate</th>\n",
       "      <td>459.099338</td>\n",
       "      <td>62503.783400</td>\n",
       "    </tr>\n",
       "  </tbody>\n",
       "</table>\n",
       "</div>"
      ],
      "text/plain": [
       "                      mean           var\n",
       "                  duration      duration\n",
       "month plan                              \n",
       "1     surf      203.000000  15842.000000\n",
       "      ultimate  193.500000  16572.333333\n",
       "2     surf      297.000000  52226.500000\n",
       "      ultimate  403.142857  76889.476190\n",
       "3     surf      330.000000  35809.363636\n",
       "      ultimate  304.250000  61984.931818\n",
       "4     surf      351.540000  50866.743265\n",
       "      ultimate  336.857143  34888.928571\n",
       "5     surf      399.584416  59754.219754\n",
       "      ultimate  406.241379  43841.046798\n",
       "6     surf      431.298969  45592.628436\n",
       "      ultimate  370.957447  42503.563367\n",
       "7     surf      449.983471  61005.099725\n",
       "      ultimate  427.067797  72563.374635\n",
       "8     surf      410.111111  54344.645963\n",
       "      ultimate  421.436620  53645.506640\n",
       "9     surf      414.226804  46595.958656\n",
       "      ultimate  437.511628  57070.464569\n",
       "10    surf      429.729958  52278.664056\n",
       "      ultimate  450.735849  54261.910512\n",
       "11    surf      423.325088  51607.021602\n",
       "      ultimate  445.196850  60593.222847\n",
       "12    surf      473.836478  63629.518918\n",
       "      ultimate  459.099338  62503.783400"
      ]
     },
     "execution_count": 33,
     "metadata": {},
     "output_type": "execute_result"
    }
   ],
   "source": [
    "# Calculate the mean and the variance of the monthly call duration\n",
    "\n",
    "month_duration_pivot = new_data.pivot_table(index=['month', 'plan'], values='duration',\n",
    "                                            aggfunc=['mean', np.var])\n",
    "\n",
    "month_duration_pivot"
   ]
  },
  {
   "cell_type": "markdown",
   "metadata": {},
   "source": [
    "<div class=\"alert alert-warning\">\n",
    "<b>Reviewer's comment v1:</b>\n",
    "    \n",
    "It's great that you managed to calculate all the necessary metrics and display them.\n",
    "\n",
    "There is also a way to display all statistical metrics in one table (you can pass all metrics to aggfunc at once.), using, for example, pivot_table:\n",
    "\n",
    "`data.pivot_table(index= 'plan', values= '...', aggfunc= ['mean', 'var','std', 'median'])`"
   ]
  },
  {
   "cell_type": "markdown",
   "metadata": {},
   "source": [
    "<div class=\"alert alert-info\"; style=\"border-left: 7px solid blue\">\n",
    "<b>Student's comment</b>\n",
    "    We see that the value of the variance for each plan is rather large, indicating that the sample size might be too small to draw any significance regarding the duration."
   ]
  },
  {
   "cell_type": "code",
   "execution_count": 34,
   "metadata": {},
   "outputs": [
    {
     "data": {
      "image/png": "[encoded data removed]",
      "text/plain": [
       "<Figure size 720x720 with 1 Axes>"
      ]
     },
     "metadata": {
      "needs_background": "light"
     },
     "output_type": "display_data"
    }
   ],
   "source": [
    "# Plot a boxplot to visualize the distribution of the monthly call duration\n",
    "\n",
    "\n",
    "x1 = minutes_pivot.boxplot(figsize =(10,10))\n",
    "\n",
    "\n",
    "\n"
   ]
  },
  {
   "cell_type": "markdown",
   "metadata": {},
   "source": [
    "[Formulate conclusions on how the users behave in terms of calling. Is their behaviour different between the plans?]"
   ]
  },
  {
   "cell_type": "markdown",
   "metadata": {},
   "source": [
    "<div class=\"alert alert-info\"; style=\"border-left: 7px solid blue\">\n",
    "<b>Student's comment</b>\n",
    "    If we exclude the first month from our analysis (considering the small number of subscribers to both plans), we can see that those who use the surf package utilize their minutes more than those of the ultimate package. The mean duration for the surf package is closer to the plan's allowed limit.\n",
    "    This could be due to the user profile - older people are more likely to use calls rather than text or internet on their phones."
   ]
  },
  {
   "cell_type": "markdown",
   "metadata": {},
   "source": [
    " "
   ]
  },
  {
   "cell_type": "markdown",
   "metadata": {},
   "source": [
    "### Messages"
   ]
  },
  {
   "cell_type": "code",
   "execution_count": 35,
   "metadata": {},
   "outputs": [
    {
     "data": {
      "text/plain": [
       "<AxesSubplot:title={'center':'Messages by Plan & Month'}, xlabel='plan,month'>"
      ]
     },
     "execution_count": 35,
     "metadata": {},
     "output_type": "execute_result"
    },
    {
     "data": {
      "image/png": "[encoded data removed]",
      "text/plain": [
       "<Figure size 432x288 with 1 Axes>"
      ]
     },
     "metadata": {
      "needs_background": "light"
     },
     "output_type": "display_data"
    }
   ],
   "source": [
    "# Compare the number of messages users of each plan tend to send each month\n",
    "messages_pivot = new_data.pivot_table(index=['plan', 'month'], values='total_messages', aggfunc='sum')\n",
    "messages_pivot.plot.bar(title='Messages by Plan & Month')\n"
   ]
  },
  {
   "cell_type": "markdown",
   "metadata": {},
   "source": [
    "[Formulate conclusions on how the users behave in terms of messaging. Is their behaviour different between the plans?]"
   ]
  },
  {
   "cell_type": "markdown",
   "metadata": {},
   "source": [
    "<div class=\"alert alert-info\"; style=\"border-left: 7px solid blue\">\n",
    "<b>Student's comment</b>\n",
    "    Due to almost double the subscriptions, this helps explain the difference between the plans. It could mean that the surf plan users nearly maximize their messages."
   ]
  },
  {
   "cell_type": "markdown",
   "metadata": {},
   "source": [
    " "
   ]
  },
  {
   "cell_type": "markdown",
   "metadata": {},
   "source": [
    "### Internet"
   ]
  },
  {
   "cell_type": "code",
   "execution_count": 36,
   "metadata": {},
   "outputs": [
    {
     "data": {
      "text/plain": [
       "<AxesSubplot:title={'center':'GB Used by Plan & Month'}, xlabel='plan,month'>"
      ]
     },
     "execution_count": 36,
     "metadata": {},
     "output_type": "execute_result"
    },
    {
     "data": {
      "image/png": "[encoded data removed]",
      "text/plain": [
       "<Figure size 432x288 with 1 Axes>"
      ]
     },
     "metadata": {
      "needs_background": "light"
     },
     "output_type": "display_data"
    }
   ],
   "source": [
    "# Compare the amount of internet traffic consumed by users per plan\n",
    "gb_used_pivot = new_data.pivot_table(index=['plan', 'month'], values='gb_used', aggfunc='sum')\n",
    "gb_used_pivot.plot.bar(title='GB Used by Plan & Month')"
   ]
  },
  {
   "cell_type": "markdown",
   "metadata": {},
   "source": [
    "[Formulate conclusions on how the users tend to consume the internet traffic? Is their behaviour different between the plans?]"
   ]
  },
  {
   "cell_type": "markdown",
   "metadata": {},
   "source": [
    "<div class=\"alert alert-info\"; style=\"border-left: 7px solid blue\">\n",
    "<b>Student's comment</b>\n",
    "    Due to almost double the subscriptions, this helps explain the difference between the plans. It could mean that the surf plan users nearly maximize their gb_used."
   ]
  },
  {
   "cell_type": "markdown",
   "metadata": {},
   "source": [
    " "
   ]
  },
  {
   "cell_type": "markdown",
   "metadata": {},
   "source": [
    "## Revenue"
   ]
  },
  {
   "cell_type": "markdown",
   "metadata": {},
   "source": [
    "[Likewise you have studied the user behaviour, statistically describe the revenue between the plans.]"
   ]
  },
  {
   "cell_type": "code",
   "execution_count": 37,
   "metadata": {},
   "outputs": [
    {
     "name": "stdout",
     "output_type": "stream",
     "text": [
      "surf        1573\n",
      "ultimate     720\n",
      "Name: plan, dtype: int64\n",
      "                monthly_revenue\n",
      "plan     month                 \n",
      "surf     1                40.00\n",
      "         2               339.57\n",
      "         3              1106.65\n",
      "         4              2105.53\n",
      "         5              3857.37\n",
      "ultimate 1               280.00\n",
      "         2               490.00\n",
      "         3               910.00\n",
      "         4              1547.00\n",
      "         5              2058.00\n"
     ]
    },
    {
     "data": {
      "text/plain": [
       "plan\n",
       "surf        AxesSubplot(0.1,0.15;0.8x0.75)\n",
       "ultimate    AxesSubplot(0.1,0.15;0.8x0.75)\n",
       "dtype: object"
      ]
     },
     "execution_count": 37,
     "metadata": {},
     "output_type": "execute_result"
    },
    {
     "data": {
      "image/png": "[encoded data removed]",
      "text/plain": [
       "<Figure size 432x288 with 1 Axes>"
      ]
     },
     "metadata": {
      "needs_background": "light"
     },
     "output_type": "display_data"
    },
    {
     "data": {
      "image/png": "[encoded data removed]",
      "text/plain": [
       "<Figure size 432x288 with 1 Axes>"
      ]
     },
     "metadata": {
      "needs_background": "light"
     },
     "output_type": "display_data"
    },
    {
     "data": {
      "image/png": "[encoded data removed]",
      "text/plain": [
       "<Figure size 432x288 with 1 Axes>"
      ]
     },
     "metadata": {
      "needs_background": "light"
     },
     "output_type": "display_data"
    }
   ],
   "source": [
    "import matplotlib.pyplot as plt\n",
    "\n",
    "gb_used_pivot = new_data.pivot_table(index=['plan', 'month'], values='monthly_revenue', aggfunc='sum')\n",
    "gb_used_pivot.plot.bar(title='Monthly Revenue by Plan & Month')\n",
    "print(new_data['plan'].value_counts())\n",
    "\n",
    "plan_grouped = gb_used_pivot.groupby('plan')\n",
    "print(plan_grouped.head())\n",
    "plan_grouped.hist(by='plan')"
   ]
  },
  {
   "cell_type": "markdown",
   "metadata": {},
   "source": [
    "[Formulate conclusions about how the revenue differs between the plans.]"
   ]
  },
  {
   "cell_type": "markdown",
   "metadata": {},
   "source": [
    "<div class=\"alert alert-info\"; style=\"border-left: 7px solid blue\">\n",
    "<b>Student's comment</b>\n",
    "    As we saw throughout our tests, the explanation to the data is because we have nearly twice as many subscriptions to the surf plan. This doesn't skew the data, but helps explain its difference."
   ]
  },
  {
   "cell_type": "markdown",
   "metadata": {},
   "source": [
    "<div class=\"alert alert-danger\">\n",
    "<b>Reviewer's comment v1:</b>\n",
    "    \n",
    "Can you please additionally plot histograms and describe the distributions."
   ]
  },
  {
   "cell_type": "markdown",
   "metadata": {},
   "source": [
    "<div class=\"alert alert-success\">\n",
    "<b>Reviewer's comment v2:</b>\n",
    "    \n",
    "- I will write overall thoughts about the data analysis section:\n",
    "- Very nice visualization of the data. Nice that you used different types of graphs.  \n",
    "- Additionally would be nice to add both plans on one graph. \n",
    "- If you have time and willing to practice, you can display two charts (histogram and a box plot) using a two-column subplot.\n",
    "\n",
    "```\n",
    "    # Create one row with 2 columns\n",
    "\t  fig, axes = plt.subplots(1, 2, figsize=(16, 5))\n",
    "\n",
    "\t  # Create a histogram for the surf plan\n",
    "\t  sns.distplot(... ax=axes[0])\n",
    "\t  # Create a histogram for the second plan\n",
    "\t  sns.distplot(... ax=axes[0])\n",
    "\t\n",
    "\t  # Create a boxplot for both plans\n",
    "\t  sns.boxplot(... ax=axes[1])\n",
    "```"
   ]
  },
  {
   "cell_type": "markdown",
   "metadata": {},
   "source": [
    " "
   ]
  },
  {
   "cell_type": "markdown",
   "metadata": {},
   "source": [
    "## Test statistical hypotheses"
   ]
  },
  {
   "cell_type": "markdown",
   "metadata": {},
   "source": [
    "[Test the hypothesis that the average revenue from users of the Ultimate and Surf calling plans differs.]"
   ]
  },
  {
   "cell_type": "markdown",
   "metadata": {},
   "source": [
    "[Formulate the null and the alternative hypotheses, choose the statistical test, decide on the alpha value.]"
   ]
  },
  {
   "cell_type": "markdown",
   "metadata": {},
   "source": [
    "<div class=\"alert alert-info\"; style=\"border-left: 7px solid blue\">\n",
    "<b>Student's comment</b>\n",
    "    Our null hypothesis will be that the average revenue from the 'ultimate' plan is equal to the average revenue from the 'surf' plan.\n",
    "    The alternative hypothesis would be that the average revenues differ between both plans."
   ]
  },
  {
   "cell_type": "markdown",
   "metadata": {},
   "source": [
    "<div class=\"alert alert-danger\">\n",
    "<b>Reviewer's comment v1:</b>\n",
    "    \n",
    "Unfortunately, there is an issue in formulating null and alternative hypotheses.\n",
    "A null hypothesis is a type of hypothesis used in statistics that proposes that there is no difference between certain characteristics of a population. An alternative hypothesis always contradicts the null one.\n",
    "Can you please update that?"
   ]
  },
  {
   "cell_type": "markdown",
   "metadata": {},
   "source": [
    "<div class=\"alert alert-danger\">\n",
    "<b>Reviewer's comment v2:</b>\n",
    "    \n",
    "Unfortunately, I did not notice changes in the hypotheses. Example of what we are trying to test for the first question would be: \n",
    "    \n",
    "    The null hypothesis H₀ will be:\n",
    "\n",
    "    The average revenue from users of the \"ultimate\" plan is equal to the average revenue from users of the \"surf\" plan.\n",
    "\n",
    "    And the alternative hypothesis, H₁ based on H₀:\n",
    "\n",
    "    The average revenue from users of the \"ultimate\" plan is different from the average revenue from users of the \"surf\" plan.\n",
    "\n",
    "Can you please update it for both questions and add short interim conclusions with explanation of results in business terms?"
   ]
  },
  {
   "cell_type": "code",
   "execution_count": 38,
   "metadata": {},
   "outputs": [
    {
     "name": "stdout",
     "output_type": "stream",
     "text": [
      "63.6116846789574\n",
      "72.70277777777778\n",
      "Ttest_indResult(statistic=-4.2022012614900675, pvalue=2.744649278514165e-05)\n",
      "p-value:  2.744649278514165e-05\n",
      "We reject the null hypothesis\n"
     ]
    }
   ],
   "source": [
    "# Test the hypotheses\n",
    "from scipy import stats as st\n",
    "alpha = 0.05\n",
    "#optimal_surf_revenue = 20\n",
    "#optimal_ultimate_revenue = 70\n",
    "\n",
    "surf_revenue = new_data[new_data['plan']=='surf']\n",
    "surf_monthly_revenue = surf_revenue['monthly_revenue'].tolist()   #array1\n",
    "ultimate_revenue = new_data[new_data['plan']=='ultimate']\n",
    "ultimate_monthly_revenue = ultimate_revenue['monthly_revenue'].tolist()  #array2\n",
    "print(surf_revenue['monthly_revenue'].mean())\n",
    "print(ultimate_revenue['monthly_revenue'].mean())\n",
    "\n",
    "null_results = st.ttest_ind(surf_revenue['monthly_revenue'], ultimate_revenue['monthly_revenue'])\n",
    "print(null_results)\n",
    "print('p-value: ', null_results.pvalue)\n",
    "if null_results.pvalue < alpha:\n",
    "    print('We reject the null hypothesis')\n",
    "else:\n",
    "    print(\"We can't reject the null hypothesis\")    \n",
    "\n",
    "\n",
    "\n",
    "#surf_results = st.ttest_1samp(surf_monthly_revenue, optimal_surf_revenue)\n",
    "#print('p-value: ', surf_results.pvalue)\n",
    "#if surf_results.pvalue < alpha:\n",
    "    #print('We reject the null hypothesis for surf plan')\n",
    "#else:\n",
    "    #print(\"We can't reject the null hypothesis for surf plan\")\n",
    "\n",
    "\n",
    "\n",
    "\n",
    "#ultimate_results = st.ttest_1samp(ultimate_monthly_revenue, optimal_ultimate_revenue)\n",
    "#print('p-value: ', ultimate_results.pvalue)\n",
    "#if ultimate_results.pvalue < alpha:\n",
    "    #print('We reject the null hypothesis for ultimate plan')\n",
    "#else:\n",
    "    #print(\"We can't reject the null hypothesis for ultimate plan\")"
   ]
  },
  {
   "cell_type": "markdown",
   "metadata": {},
   "source": [
    "<div class=\"alert alert-info\"; style=\"border-left: 7px solid blue\">\n",
    "<b>Student's comment</b>\n",
    "    From our tests, we see that we can reject the null hypothesis. This matches the mean monthly revenues for each plan, which means we cannot reject the alternative hypothesis, and that avergae revenue differs between plans."
   ]
  },
  {
   "cell_type": "markdown",
   "metadata": {},
   "source": [
    "[Test the hypothesis that the average revenue from users in the NY-NJ area is different from that of the users from the other regions.]"
   ]
  },
  {
   "cell_type": "markdown",
   "metadata": {},
   "source": [
    "[Formulate the null and the alternative hypotheses, choose the statistical test, decide on the alpha value.]"
   ]
  },
  {
   "cell_type": "markdown",
   "metadata": {},
   "source": [
    "<div class=\"alert alert-info\"; style=\"border-left: 7px solid blue\">\n",
    "<b>Student's comment</b>\n",
    "    Our null hypothesis is that the data of NY-NJ and other states should be equal.\n",
    "    The alternative hypothesis is that there is a difference between the revenues."
   ]
  },
  {
   "cell_type": "code",
   "execution_count": 39,
   "metadata": {},
   "outputs": [
    {
     "name": "stdout",
     "output_type": "stream",
     "text": [
      "62.72506631299734\n",
      "67.20241649269312\n",
      "p-value:  0.08381531697981728\n",
      "We can't reject the alternative hypothesis\n",
      "Ttest_indResult(statistic=-1.7320407743750164, pvalue=0.08381531697981728)\n"
     ]
    }
   ],
   "source": [
    "# Test the hypotheses\n",
    "from scipy import stats as st\n",
    "alpha = 0.05\n",
    "optimal_revenue = new_data['monthly_revenue'].mean()\n",
    "\n",
    "\n",
    "\n",
    "ny_nj_data = new_data[new_data['city'].str.contains('NY-NJ')]\n",
    "ny_nj_data\n",
    "other_states_data = new_data[~new_data['city'].str.contains('NY-NJ')]\n",
    "other_states_data\n",
    "\n",
    "ny_nj_revenue = ny_nj_data['monthly_revenue'].tolist()\n",
    "other_states_revenue = other_states_data['monthly_revenue'].tolist()\n",
    "\n",
    "\n",
    "print(ny_nj_data['monthly_revenue'].mean())\n",
    "print(other_states_data['monthly_revenue'].mean())\n",
    "\n",
    "\n",
    "\n",
    "#ny_nj_results = st.ttest_1samp(ny_nj_revenue, optimal_revenue)\n",
    "#print('p-value: ', ny_nj_results.pvalue)\n",
    "#if ny_nj_results.pvalue < alpha:\n",
    "    #print('We reject the null hypothesis for NY-NJ')\n",
    "#else:\n",
    "    #print(\"We can't reject the null hypothesis for NY-NJ\")\n",
    "    \n",
    "#other_states_results = st.ttest_1samp(other_states_revenue, optimal_revenue)\n",
    "#print('p-value: ', other_states_results.pvalue)\n",
    "#if other_states_results.pvalue < alpha:\n",
    "    #print('We reject the null hypothesis for Other States')\n",
    "#else:\n",
    "    #print(\"We can't reject the null hypothesis for Other States\")\n",
    "\n",
    "relative_results = st.ttest_ind(ny_nj_revenue, other_states_revenue, equal_var=False)    \n",
    "print('p-value: ', relative_results.pvalue)  \n",
    "if relative_results.pvalue < alpha:\n",
    "    print('We reject the alternative hypothesis')\n",
    "else:\n",
    "    print(\"We can't reject the alternative hypothesis\")\n",
    "    \n",
    "    \n",
    "print(relative_results)"
   ]
  },
  {
   "cell_type": "markdown",
   "metadata": {},
   "source": [
    "<div class=\"alert alert-warning\" role=\"alert\">\n",
    "<b>Reviewer's comment v2:</b>\n",
    "    \n",
    "It is sufficient to import python packages only once. \n",
    "\n",
    "Also there is a typo in the code as the correct if/else output should be: \n",
    "    \n",
    "    if relative_results.pvalue < alpha:\n",
    "        print('We reject the null hypothesis)\n",
    "    else:\n",
    "        print(\"We can't reject the null hypothesis\")"
   ]
  },
  {
   "cell_type": "markdown",
   "metadata": {},
   "source": [
    "<div class=\"alert alert-info\"; style=\"border-left: 7px solid blue\">\n",
    "<b>Student's comment</b>\n",
    "    By our results, we see that we cannot reject the null hypothesis of eqaul average revenue between NY-NJ and other states. The mean values are close to one another, which means that there is no significant difference between NY-NJ and other states. "
   ]
  },
  {
   "cell_type": "markdown",
   "metadata": {},
   "source": [
    "<div class=\"alert alert-success\">\n",
    "<b>Reviewer's comment v3:</b>\n",
    "    \n",
    "- Well done! You got correct results for both questions. \n",
    "- Your conclusions based on the results are also correct. \n",
    "- You can also additionally compare the variances of the samples before testing hypotheses in order to understand with which equal_var parameter to use the ttest_ind test method (by default, True). Here you can manually calculate variances, or use Levene's statistic test (https://docs.scipy.org/doc/scipy/reference/generated/scipy.stats.levene.html) or Barlett's test (https: //docs.scipy .org / doc / scipy / reference / generated / scipy.stats.bartlett.html # scipy.stats.bartlett)"
   ]
  },
  {
   "cell_type": "markdown",
   "metadata": {},
   "source": [
    "## General conclusion\n",
    "\n",
    "[List your important conclusions in this final section, make sure they cover all those important decisions (assumptions) that you've made and that led you to the way you processed and analyzed the data.]"
   ]
  },
  {
   "cell_type": "markdown",
   "metadata": {},
   "source": [
    "<div class=\"alert alert-warning\">\n",
    "<b>Reviewer's comment v1:</b>\n",
    "    \n",
    " You did great research with clean code, cool graphs, and correct intermediate conclusions. However, general conclusions in this case are a mini-presentation of the entire work in front of a business stakeholder. In a real project, this is probably the only thing that a business stakeholder will read. Therefore, it is necessary to indicate detailed comments in a structured way for all the conclusions that you received on each item of the work. It is also worth considering what will be interesting from the business stakeholder's perspective, such as a detailed description of the user for each tariff,  who brings more additional revenue, and who brings more in total."
   ]
  }
 ],
 "metadata": {
  "ExecuteTimeLog": [
   {
    "duration": 828,
    "start_time": "2021-11-16T09:21:11.304Z"
   },
   {
    "duration": 893,
    "start_time": "2021-11-16T09:21:17.728Z"
   },
   {
    "duration": 1150,
    "start_time": "2021-11-16T09:21:29.568Z"
   },
   {
    "duration": 3,
    "start_time": "2021-11-16T09:24:14.495Z"
   },
   {
    "duration": 120,
    "start_time": "2021-11-16T09:24:46.630Z"
   },
   {
    "duration": 3,
    "start_time": "2021-11-16T09:28:27.882Z"
   },
   {
    "duration": 4,
    "start_time": "2021-11-16T09:29:54.281Z"
   },
   {
    "duration": 3,
    "start_time": "2021-11-16T09:30:45.936Z"
   },
   {
    "duration": 4,
    "start_time": "2021-11-16T09:31:06.300Z"
   },
   {
    "duration": 113,
    "start_time": "2021-11-16T09:31:37.208Z"
   },
   {
    "duration": 143,
    "start_time": "2021-11-16T09:31:48.656Z"
   },
   {
    "duration": 98,
    "start_time": "2021-11-16T09:31:55.678Z"
   },
   {
    "duration": 3,
    "start_time": "2021-11-16T09:32:08.535Z"
   },
   {
    "duration": 111,
    "start_time": "2021-11-16T09:32:10.120Z"
   },
   {
    "duration": 3,
    "start_time": "2021-11-16T09:32:15.732Z"
   },
   {
    "duration": 4,
    "start_time": "2021-11-16T09:32:29.423Z"
   },
   {
    "duration": 3,
    "start_time": "2021-11-16T10:03:03.074Z"
   },
   {
    "duration": 3,
    "start_time": "2021-11-16T10:10:01.288Z"
   },
   {
    "duration": 3,
    "start_time": "2021-11-16T10:10:46.923Z"
   },
   {
    "duration": 121,
    "start_time": "2021-11-16T10:37:46.494Z"
   },
   {
    "duration": 125,
    "start_time": "2021-11-16T10:38:20.632Z"
   },
   {
    "duration": 112,
    "start_time": "2021-11-16T10:46:53.001Z"
   },
   {
    "duration": 110,
    "start_time": "2021-11-16T10:48:25.775Z"
   },
   {
    "duration": 3,
    "start_time": "2021-11-16T10:50:18.720Z"
   },
   {
    "duration": 4,
    "start_time": "2021-11-16T10:50:37.649Z"
   },
   {
    "duration": 2,
    "start_time": "2021-11-16T10:50:51.884Z"
   },
   {
    "duration": 3,
    "start_time": "2021-11-16T10:51:56.237Z"
   },
   {
    "duration": 101,
    "start_time": "2021-11-16T10:53:13.791Z"
   },
   {
    "duration": 3,
    "start_time": "2021-11-16T10:55:59.186Z"
   },
   {
    "duration": 3,
    "start_time": "2021-11-16T10:56:10.751Z"
   },
   {
    "duration": 3,
    "start_time": "2021-11-16T10:56:49.038Z"
   },
   {
    "duration": 3,
    "start_time": "2021-11-16T10:56:49.174Z"
   },
   {
    "duration": 4,
    "start_time": "2021-11-16T10:56:49.414Z"
   },
   {
    "duration": 3,
    "start_time": "2021-11-16T10:56:49.680Z"
   },
   {
    "duration": 3,
    "start_time": "2021-11-16T10:56:50.370Z"
   },
   {
    "duration": 114,
    "start_time": "2021-11-16T10:59:34.518Z"
   },
   {
    "duration": 3,
    "start_time": "2021-11-16T11:01:41.201Z"
   },
   {
    "duration": 116,
    "start_time": "2021-11-16T11:01:48.754Z"
   },
   {
    "duration": 3,
    "start_time": "2021-11-16T11:02:16.685Z"
   },
   {
    "duration": 3,
    "start_time": "2021-11-16T11:02:19.479Z"
   },
   {
    "duration": 3,
    "start_time": "2021-11-16T11:02:47.067Z"
   },
   {
    "duration": 3,
    "start_time": "2021-11-16T11:02:49.353Z"
   },
   {
    "duration": 3,
    "start_time": "2021-11-16T11:03:07.835Z"
   },
   {
    "duration": 3,
    "start_time": "2021-11-16T11:03:07.953Z"
   },
   {
    "duration": 112,
    "start_time": "2021-11-16T11:07:52.072Z"
   },
   {
    "duration": 187,
    "start_time": "2021-11-16T11:09:23.468Z"
   },
   {
    "duration": 4,
    "start_time": "2021-11-16T11:10:01.455Z"
   },
   {
    "duration": 3,
    "start_time": "2021-11-16T11:10:05.069Z"
   },
   {
    "duration": 4,
    "start_time": "2021-11-16T11:10:13.376Z"
   },
   {
    "duration": 3,
    "start_time": "2021-11-16T11:10:14.434Z"
   },
   {
    "duration": 3,
    "start_time": "2021-11-16T11:10:22.853Z"
   },
   {
    "duration": 4,
    "start_time": "2021-11-16T11:27:29.279Z"
   },
   {
    "duration": 4,
    "start_time": "2021-11-16T11:29:08.919Z"
   },
   {
    "duration": 118,
    "start_time": "2021-11-16T11:29:46.703Z"
   },
   {
    "duration": 437,
    "start_time": "2021-11-16T11:36:02.181Z"
   },
   {
    "duration": 157,
    "start_time": "2021-11-16T11:36:14.388Z"
   },
   {
    "duration": 207,
    "start_time": "2021-11-16T11:47:15.898Z"
   },
   {
    "duration": 3,
    "start_time": "2021-11-16T11:53:52.092Z"
   },
   {
    "duration": 3,
    "start_time": "2021-11-16T11:53:52.236Z"
   },
   {
    "duration": 3,
    "start_time": "2021-11-16T11:59:12.005Z"
   },
   {
    "duration": 112,
    "start_time": "2021-11-16T12:00:33.446Z"
   },
   {
    "duration": 3,
    "start_time": "2021-11-16T12:02:14.453Z"
   },
   {
    "duration": 3,
    "start_time": "2021-11-16T12:02:39.512Z"
   },
   {
    "duration": 106,
    "start_time": "2021-11-16T12:03:03.460Z"
   },
   {
    "duration": 3,
    "start_time": "2021-11-17T20:37:21.139Z"
   },
   {
    "duration": 3,
    "start_time": "2021-11-17T20:37:22.229Z"
   },
   {
    "duration": 3,
    "start_time": "2021-11-17T20:38:38.806Z"
   },
   {
    "duration": 3,
    "start_time": "2021-11-17T20:38:41.958Z"
   },
   {
    "duration": 3,
    "start_time": "2021-11-17T20:43:46.551Z"
   },
   {
    "duration": 4,
    "start_time": "2021-11-17T20:58:21.835Z"
   },
   {
    "duration": 3,
    "start_time": "2021-11-17T20:59:21.872Z"
   },
   {
    "duration": 4,
    "start_time": "2021-11-17T20:59:45.352Z"
   },
   {
    "duration": 4,
    "start_time": "2021-11-17T20:59:49.646Z"
   },
   {
    "duration": 159,
    "start_time": "2021-11-17T21:02:26.949Z"
   },
   {
    "duration": 3,
    "start_time": "2021-11-17T21:03:53.461Z"
   },
   {
    "duration": 3,
    "start_time": "2021-11-17T21:03:53.694Z"
   },
   {
    "duration": 3,
    "start_time": "2021-11-17T21:05:28.145Z"
   },
   {
    "duration": 116,
    "start_time": "2021-11-17T21:05:57.787Z"
   },
   {
    "duration": 3,
    "start_time": "2021-11-17T21:06:37.993Z"
   },
   {
    "duration": 3,
    "start_time": "2021-11-17T21:06:38.261Z"
   },
   {
    "duration": 3,
    "start_time": "2021-11-17T21:11:54.358Z"
   },
   {
    "duration": 3,
    "start_time": "2021-11-17T21:12:43.846Z"
   },
   {
    "duration": 4,
    "start_time": "2021-11-17T21:13:08.773Z"
   },
   {
    "duration": 3,
    "start_time": "2021-11-17T21:14:44.441Z"
   },
   {
    "duration": 3,
    "start_time": "2021-11-17T21:15:42.059Z"
   },
   {
    "duration": 4,
    "start_time": "2021-11-17T21:15:51.995Z"
   },
   {
    "duration": 3,
    "start_time": "2021-11-17T21:15:53.923Z"
   },
   {
    "duration": 3,
    "start_time": "2021-11-17T21:15:55.282Z"
   },
   {
    "duration": 3,
    "start_time": "2021-11-17T21:16:28.492Z"
   },
   {
    "duration": 3,
    "start_time": "2021-11-17T21:16:32.603Z"
   },
   {
    "duration": 3,
    "start_time": "2021-11-17T21:17:06.941Z"
   },
   {
    "duration": 98,
    "start_time": "2021-11-17T21:18:05.733Z"
   },
   {
    "duration": 4,
    "start_time": "2021-11-17T21:21:35.255Z"
   },
   {
    "duration": 3,
    "start_time": "2021-11-17T21:21:37.804Z"
   },
   {
    "duration": 4,
    "start_time": "2021-11-17T21:23:06.071Z"
   },
   {
    "duration": 3,
    "start_time": "2021-11-17T21:23:24.799Z"
   },
   {
    "duration": 3,
    "start_time": "2021-11-17T21:23:32.591Z"
   },
   {
    "duration": 98,
    "start_time": "2021-11-17T21:28:31.559Z"
   },
   {
    "duration": 3,
    "start_time": "2021-11-17T21:28:45.448Z"
   },
   {
    "duration": 3,
    "start_time": "2021-11-17T21:29:17.303Z"
   },
   {
    "duration": 3,
    "start_time": "2021-11-17T21:29:29.617Z"
   },
   {
    "duration": 3,
    "start_time": "2021-11-17T21:29:32.681Z"
   },
   {
    "duration": 3,
    "start_time": "2021-11-17T21:36:11.474Z"
   },
   {
    "duration": 3,
    "start_time": "2021-11-17T21:36:14.791Z"
   },
   {
    "duration": 3,
    "start_time": "2021-11-17T21:36:53.943Z"
   },
   {
    "duration": 3,
    "start_time": "2021-11-17T21:36:56.165Z"
   },
   {
    "duration": 4,
    "start_time": "2021-11-17T21:37:16.590Z"
   },
   {
    "duration": 3,
    "start_time": "2021-11-17T21:37:22.702Z"
   },
   {
    "duration": 4,
    "start_time": "2021-11-17T21:38:03.479Z"
   },
   {
    "duration": 3,
    "start_time": "2021-11-17T21:38:08.601Z"
   },
   {
    "duration": 3,
    "start_time": "2021-11-17T21:38:12.928Z"
   },
   {
    "duration": 3,
    "start_time": "2021-11-17T21:38:48.896Z"
   },
   {
    "duration": 2,
    "start_time": "2021-11-17T21:38:49.171Z"
   },
   {
    "duration": 4,
    "start_time": "2021-11-17T21:39:57.889Z"
   },
   {
    "duration": 3,
    "start_time": "2021-11-17T21:39:58.057Z"
   },
   {
    "duration": 3,
    "start_time": "2021-11-17T21:41:20.108Z"
   },
   {
    "duration": 3,
    "start_time": "2021-11-17T21:41:20.629Z"
   },
   {
    "duration": 3,
    "start_time": "2021-11-17T21:42:49.136Z"
   },
   {
    "duration": 3,
    "start_time": "2021-11-17T21:43:15.137Z"
   },
   {
    "duration": 4,
    "start_time": "2021-11-17T21:43:16.766Z"
   },
   {
    "duration": 4,
    "start_time": "2021-11-17T21:43:31.711Z"
   },
   {
    "duration": 3,
    "start_time": "2021-11-17T21:43:36.312Z"
   },
   {
    "duration": 4,
    "start_time": "2021-11-17T21:45:08.825Z"
   },
   {
    "duration": 4,
    "start_time": "2021-11-17T21:45:10.119Z"
   },
   {
    "duration": 4,
    "start_time": "2021-11-17T21:45:13.748Z"
   },
   {
    "duration": 3,
    "start_time": "2021-11-17T21:45:22.219Z"
   },
   {
    "duration": 3,
    "start_time": "2021-11-17T21:45:33.412Z"
   },
   {
    "duration": 2,
    "start_time": "2021-11-17T21:46:01.885Z"
   },
   {
    "duration": 3,
    "start_time": "2021-11-17T21:46:03.628Z"
   },
   {
    "duration": 107,
    "start_time": "2021-11-17T21:47:32.512Z"
   },
   {
    "duration": 103,
    "start_time": "2021-11-17T21:50:36.243Z"
   },
   {
    "duration": 3,
    "start_time": "2021-11-18T06:28:31.440Z"
   },
   {
    "duration": 3,
    "start_time": "2021-11-18T06:29:00.168Z"
   },
   {
    "duration": 3,
    "start_time": "2021-11-18T06:31:27.008Z"
   },
   {
    "duration": 2,
    "start_time": "2021-11-18T06:35:34.288Z"
   },
   {
    "duration": 2,
    "start_time": "2021-11-18T06:38:04.527Z"
   }
  ],
  "kernelspec": {
   "display_name": "Python 3 (ipykernel)",
   "language": "python",
   "name": "python3"
  },
  "language_info": {
   "codemirror_mode": {
    "name": "ipython",
    "version": 3
   },
   "file_extension": ".py",
   "mimetype": "text/x-python",
   "name": "python",
   "nbconvert_exporter": "python",
   "pygments_lexer": "ipython3",
   "version": "3.9.5"
  },
  "toc": {
   "base_numbering": 1,
   "nav_menu": {},
   "number_sections": true,
   "sideBar": true,
   "skip_h1_title": false,
   "title_cell": "Table of Contents",
   "title_sidebar": "Contents",
   "toc_cell": false,
   "toc_position": {
    "height": "calc(100% - 180px)",
    "left": "10px",
    "top": "150px",
    "width": "256px"
   },
   "toc_section_display": true,
   "toc_window_display": false
  }
 },
 "nbformat": 4,
 "nbformat_minor": 2
}
